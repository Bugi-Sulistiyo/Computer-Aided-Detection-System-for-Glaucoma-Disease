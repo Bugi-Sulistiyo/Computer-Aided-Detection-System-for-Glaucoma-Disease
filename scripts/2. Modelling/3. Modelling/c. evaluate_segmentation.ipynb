{
 "cells": [
  {
   "cell_type": "markdown",
   "metadata": {},
   "source": [
    "### Import the needed package"
   ]
  },
  {
   "cell_type": "code",
   "execution_count": 11,
   "metadata": {},
   "outputs": [],
   "source": [
    "# package to get the custom modules\n",
    "import sys\n",
    "# package for handling the environment variables\n",
    "from dotenv import load_dotenv\n",
    "\n",
    "# add the path to the custom modules\n",
    "sys.path.insert(0, './../')\n",
    "# load the environment variables\n",
    "load_dotenv()\n",
    "\n",
    "# package for handling the files\n",
    "import os\n",
    "# package for handling random numbers\n",
    "from random import randint\n",
    "# package for handling array\n",
    "import numpy as np\n",
    "# package for handling the metadata and tabular data\n",
    "import pandas as pd\n",
    "from itertools import chain\n",
    "# the custom module for handling the data\n",
    "import utilities as utils\n",
    "# package for handling the machine learning model\n",
    "import tensorflow as tf"
   ]
  },
  {
   "cell_type": "markdown",
   "metadata": {},
   "source": [
    "### Global variables"
   ]
  },
  {
   "cell_type": "code",
   "execution_count": 34,
   "metadata": {},
   "outputs": [],
   "source": [
    "path_full = os.environ.get(\"ORI_PATH\")\n",
    "path_dataset_ori = os.path.join(path_full, \"datasets\", \"splitted\", \"original\", \"test\")\n",
    "path_dataset_aug = os.path.join(path_full, \"datasets\", \"splitted\", \"augmented\", \"test\")\n",
    "path_cdr_data = os.path.join(path_full, \"data\", \"cdr_dataset.csv\")\n",
    "models_name = [\"unet_model_ori\", \"unet_model_aug\", \"mnet_model_ori\", \"mnet_model_aug\", \"efnet_model_ori\", \"efnet_model_aug\"]"
   ]
  },
  {
   "cell_type": "markdown",
   "metadata": {},
   "source": [
    "### Get CDR value from the dataset"
   ]
  },
  {
   "cell_type": "code",
   "execution_count": 9,
   "metadata": {},
   "outputs": [
    {
     "data": {
      "text/html": [
       "<div>\n",
       "<style scoped>\n",
       "    .dataframe tbody tr th:only-of-type {\n",
       "        vertical-align: middle;\n",
       "    }\n",
       "\n",
       "    .dataframe tbody tr th {\n",
       "        vertical-align: top;\n",
       "    }\n",
       "\n",
       "    .dataframe thead th {\n",
       "        text-align: right;\n",
       "    }\n",
       "</style>\n",
       "<table border=\"1\" class=\"dataframe\">\n",
       "  <thead>\n",
       "    <tr style=\"text-align: right;\">\n",
       "      <th></th>\n",
       "      <th>id</th>\n",
       "      <th>label</th>\n",
       "      <th>eye_side</th>\n",
       "      <th>a_cdr</th>\n",
       "      <th>v_cdr</th>\n",
       "      <th>h_cdr</th>\n",
       "    </tr>\n",
       "  </thead>\n",
       "  <tbody>\n",
       "    <tr>\n",
       "      <th>0</th>\n",
       "      <td>fff_0_111784_l_y_mask</td>\n",
       "      <td>0</td>\n",
       "      <td>l</td>\n",
       "      <td>0.340206</td>\n",
       "      <td>0.633803</td>\n",
       "      <td>0.560606</td>\n",
       "    </tr>\n",
       "    <tr>\n",
       "      <th>1</th>\n",
       "      <td>fff_0_111784_r_y_mask</td>\n",
       "      <td>0</td>\n",
       "      <td>r</td>\n",
       "      <td>0.300445</td>\n",
       "      <td>0.541667</td>\n",
       "      <td>0.538462</td>\n",
       "    </tr>\n",
       "    <tr>\n",
       "      <th>2</th>\n",
       "      <td>fff_0_113060_l_1_mask</td>\n",
       "      <td>0</td>\n",
       "      <td>l</td>\n",
       "      <td>0.473950</td>\n",
       "      <td>0.686275</td>\n",
       "      <td>0.670000</td>\n",
       "    </tr>\n",
       "    <tr>\n",
       "      <th>3</th>\n",
       "      <td>fff_0_113060_l_2_mask</td>\n",
       "      <td>0</td>\n",
       "      <td>l</td>\n",
       "      <td>0.516781</td>\n",
       "      <td>0.777778</td>\n",
       "      <td>0.680000</td>\n",
       "    </tr>\n",
       "    <tr>\n",
       "      <th>4</th>\n",
       "      <td>fff_0_113060_l_3_mask</td>\n",
       "      <td>0</td>\n",
       "      <td>l</td>\n",
       "      <td>0.491304</td>\n",
       "      <td>0.721154</td>\n",
       "      <td>0.697917</td>\n",
       "    </tr>\n",
       "  </tbody>\n",
       "</table>\n",
       "</div>"
      ],
      "text/plain": [
       "                      id  label eye_side     a_cdr     v_cdr     h_cdr\n",
       "0  fff_0_111784_l_y_mask      0        l  0.340206  0.633803  0.560606\n",
       "1  fff_0_111784_r_y_mask      0        r  0.300445  0.541667  0.538462\n",
       "2  fff_0_113060_l_1_mask      0        l  0.473950  0.686275  0.670000\n",
       "3  fff_0_113060_l_2_mask      0        l  0.516781  0.777778  0.680000\n",
       "4  fff_0_113060_l_3_mask      0        l  0.491304  0.721154  0.697917"
      ]
     },
     "execution_count": 9,
     "metadata": {},
     "output_type": "execute_result"
    }
   ],
   "source": [
    "cdr_data = pd.read_csv(path_cdr_data)\n",
    "cdr_data.head(5)"
   ]
  },
  {
   "cell_type": "markdown",
   "metadata": {},
   "source": [
    "### Get the existing test image"
   ]
  },
  {
   "cell_type": "code",
   "execution_count": 50,
   "metadata": {},
   "outputs": [
    {
     "name": "stdout",
     "output_type": "stream",
     "text": [
      "Data length: 142\n"
     ]
    }
   ],
   "source": [
    "# get the fundus images list from the testset\n",
    "f_images_ori = [img for img in os.listdir(path_dataset_ori) if img.endswith(\".jpg\")]\n",
    "f_images_aug = [img for img in os.listdir(path_dataset_aug) if img.endswith(\".jpg\")]\n",
    "# merge the list\n",
    "f_images = list(chain(f_images_ori, f_images_aug))\n",
    "# convert the list to a dataframe\n",
    "test_img = pd.DataFrame(f_images, columns=[\"image\"])\n",
    "\n",
    "# extract the information\n",
    "test_img[\"id\"] = test_img[\"image\"].apply(lambda x: x.split(\".\")[0])         # get the id of the image\n",
    "test_img = test_img[['id', 'image']]                                        # rearrange the columns order\n",
    "test_img[\"label\"] = test_img[\"id\"].apply(lambda x: x.split(\"_\")[1])         # get the label of the image\n",
    "test_img[\"eye_side\"] = test_img[\"id\"].apply(lambda x: x.split(\"_\")[3])      # get the eye side of the image\n",
    "test_img.loc[~test_img.id.str.contains(\"aug\"),\"image\"] = test_img.loc[~test_img.id.str.contains(\"aug\"),\n",
    "                                                                        \"image\"].apply(lambda x: os.path.join(path_dataset_ori, x)) # get the full path of image for original dataset\n",
    "test_img.loc[test_img.id.str.contains(\"aug\"), \"image\"] = test_img.loc[test_img.id.str.contains(\"aug\"),\n",
    "                                                                        \"image\"].apply(lambda x: os.path.join(path_dataset_aug, x)) # get the full path of image for augmented dataset\n",
    "test_img.rename(columns={\"image\": \"path\"}, inplace=True)                    # rename the column image to path\n",
    "\n",
    "# show the data information\n",
    "print(f\"Data length: {len(test_img)}\")"
   ]
  },
  {
   "cell_type": "code",
   "execution_count": 51,
   "metadata": {},
   "outputs": [
    {
     "name": "stdout",
     "output_type": "stream",
     "text": [
      "Data length: 71\n"
     ]
    },
    {
     "data": {
      "text/html": [
       "<div>\n",
       "<style scoped>\n",
       "    .dataframe tbody tr th:only-of-type {\n",
       "        vertical-align: middle;\n",
       "    }\n",
       "\n",
       "    .dataframe tbody tr th {\n",
       "        vertical-align: top;\n",
       "    }\n",
       "\n",
       "    .dataframe thead th {\n",
       "        text-align: right;\n",
       "    }\n",
       "</style>\n",
       "<table border=\"1\" class=\"dataframe\">\n",
       "  <thead>\n",
       "    <tr style=\"text-align: right;\">\n",
       "      <th></th>\n",
       "      <th>id</th>\n",
       "      <th>label</th>\n",
       "      <th>eye_side</th>\n",
       "    </tr>\n",
       "  </thead>\n",
       "  <tbody>\n",
       "    <tr>\n",
       "      <th>0</th>\n",
       "      <td>fff_0_115058_l_1</td>\n",
       "      <td>0</td>\n",
       "      <td>l</td>\n",
       "    </tr>\n",
       "    <tr>\n",
       "      <th>1</th>\n",
       "      <td>fff_0_115058_r_3</td>\n",
       "      <td>0</td>\n",
       "      <td>r</td>\n",
       "    </tr>\n",
       "    <tr>\n",
       "      <th>2</th>\n",
       "      <td>fff_0_121076_r_1</td>\n",
       "      <td>0</td>\n",
       "      <td>r</td>\n",
       "    </tr>\n",
       "  </tbody>\n",
       "</table>\n",
       "</div>"
      ],
      "text/plain": [
       "                 id label eye_side\n",
       "0  fff_0_115058_l_1     0        l\n",
       "1  fff_0_115058_r_3     0        r\n",
       "2  fff_0_121076_r_1     0        r"
      ]
     },
     "execution_count": 51,
     "metadata": {},
     "output_type": "execute_result"
    }
   ],
   "source": [
    "# filter the original images\n",
    "test_img_ori = test_img.loc[~test_img.id.str.contains(\"aug\")]\n",
    "\n",
    "# reset the index\n",
    "test_img_ori.reset_index(drop=True, inplace=True)\n",
    "\n",
    "# show the data information\n",
    "print(f\"Data length: {len(test_img_ori)}\")\n",
    "# show data content\n",
    "test_img_ori.drop(columns=[\"path\"]).head(3)"
   ]
  },
  {
   "cell_type": "code",
   "execution_count": 52,
   "metadata": {},
   "outputs": [
    {
     "name": "stdout",
     "output_type": "stream",
     "text": [
      "Data length: 71\n"
     ]
    },
    {
     "data": {
      "text/html": [
       "<div>\n",
       "<style scoped>\n",
       "    .dataframe tbody tr th:only-of-type {\n",
       "        vertical-align: middle;\n",
       "    }\n",
       "\n",
       "    .dataframe tbody tr th {\n",
       "        vertical-align: top;\n",
       "    }\n",
       "\n",
       "    .dataframe thead th {\n",
       "        text-align: right;\n",
       "    }\n",
       "</style>\n",
       "<table border=\"1\" class=\"dataframe\">\n",
       "  <thead>\n",
       "    <tr style=\"text-align: right;\">\n",
       "      <th></th>\n",
       "      <th>id</th>\n",
       "      <th>label</th>\n",
       "      <th>eye_side</th>\n",
       "    </tr>\n",
       "  </thead>\n",
       "  <tbody>\n",
       "    <tr>\n",
       "      <th>0</th>\n",
       "      <td>fff_0_115058_l_1_aug</td>\n",
       "      <td>0</td>\n",
       "      <td>l</td>\n",
       "    </tr>\n",
       "    <tr>\n",
       "      <th>1</th>\n",
       "      <td>fff_0_115058_r_3_aug</td>\n",
       "      <td>0</td>\n",
       "      <td>r</td>\n",
       "    </tr>\n",
       "    <tr>\n",
       "      <th>2</th>\n",
       "      <td>fff_0_121076_r_1_aug</td>\n",
       "      <td>0</td>\n",
       "      <td>r</td>\n",
       "    </tr>\n",
       "  </tbody>\n",
       "</table>\n",
       "</div>"
      ],
      "text/plain": [
       "                     id label eye_side\n",
       "0  fff_0_115058_l_1_aug     0        l\n",
       "1  fff_0_115058_r_3_aug     0        r\n",
       "2  fff_0_121076_r_1_aug     0        r"
      ]
     },
     "execution_count": 52,
     "metadata": {},
     "output_type": "execute_result"
    }
   ],
   "source": [
    "# filter the augmented images\n",
    "test_img_aug = test_img.loc[test_img.id.str.contains(\"aug\")]\n",
    "\n",
    "# reset the index\n",
    "test_img_aug.reset_index(drop=True, inplace=True)\n",
    "\n",
    "# show the data information\n",
    "print(f\"Data length: {len(test_img_aug)}\")\n",
    "# show data content\n",
    "test_img_aug.drop(columns=[\"path\"]).head(3)"
   ]
  },
  {
   "cell_type": "markdown",
   "metadata": {},
   "source": [
    "### Get the model"
   ]
  },
  {
   "cell_type": "code",
   "execution_count": 53,
   "metadata": {},
   "outputs": [],
   "source": [
    "threshold = .64\n",
    "rand_idx = randint(0, len(test_img_ori))"
   ]
  },
  {
   "cell_type": "code",
   "execution_count": 21,
   "metadata": {},
   "outputs": [],
   "source": [
    "model = {}\n",
    "for model_name in models_name:\n",
    "    model[model_name] = utils.custom_load_model(os.path.join(path_full,\n",
    "                                                                \"data\",\n",
    "                                                                \"model\",\n",
    "                                                                f\"{model_name}.h5\"))"
   ]
  },
  {
   "cell_type": "markdown",
   "metadata": {},
   "source": [
    "### Visualize the extracted image"
   ]
  },
  {
   "cell_type": "markdown",
   "metadata": {},
   "source": [
    "#### Unet"
   ]
  },
  {
   "cell_type": "code",
   "execution_count": 54,
   "metadata": {},
   "outputs": [
    {
     "data": {
      "image/png": "[encoded data removed]",
      "text/plain": [
       "<Figure size 1000x1000 with 4 Axes>"
      ]
     },
     "metadata": {},
     "output_type": "display_data"
    },
    {
     "name": "stdout",
     "output_type": "stream",
     "text": [
      "The ID of the image is fff_0_87588_r_1\n",
      "Here is the CDR from ORIGINAL IMAGE values:\n",
      "area_cdr: 0.22911051212938005\n",
      "horizontal_cdr: 0.43478260869565216\n",
      "vertical_cdr: 0.4583333333333333\n"
     ]
    },
    {
     "data": {
      "image/png": "[encoded data removed]",
      "text/plain": [
       "<Figure size 1000x1000 with 4 Axes>"
      ]
     },
     "metadata": {},
     "output_type": "display_data"
    },
    {
     "name": "stdout",
     "output_type": "stream",
     "text": [
      "The ID of the image is fff_0_87588_r_1_aug\n",
      "Here is the CDR from AUGMENTED IMAGE values:\n",
      "area_cdr: 0.20588235294117646\n",
      "horizontal_cdr: 0.4\n",
      "vertical_cdr: 0.4166666666666667\n"
     ]
    }
   ],
   "source": [
    "# original image\n",
    "## visualize the mask image and calculate the CDR\n",
    "result = utils.ev_cdr(model=model[\"unet_model_ori\"],\n",
    "                        img_path=test_img_ori.path[rand_idx],\n",
    "                        mask_path=os.path.join(path_dataset_ori,\n",
    "                                                f\"{test_img_ori.id[rand_idx]}_mask.png\"),\n",
    "                        threshold=threshold,\n",
    "                        visualize=True)\n",
    "## show cdr result\n",
    "print(f\"The ID of the image is {test_img_ori.id[rand_idx]}\", \"Here is the CDR from ORIGINAL IMAGE values:\", sep=\"\\n\")\n",
    "for key, value in result.items():\n",
    "    print(f\"{key}: {value}\")\n",
    "\n",
    "# augmented image\n",
    "## visualize the mask image and calculate the CDR\n",
    "result = utils.ev_cdr(model=model[\"unet_model_aug\"],\n",
    "                        img_path=test_img_aug.path[rand_idx],\n",
    "                        mask_path=os.path.join(path_dataset_aug,\n",
    "                                                f\"{test_img_aug.id[rand_idx].replace('aug', 'mask')}.png\"),\n",
    "                        threshold=threshold,\n",
    "                        visualize=True)\n",
    "## show cdr result\n",
    "print(f\"The ID of the image is {test_img_aug.id[rand_idx]}\", \"Here is the CDR from AUGMENTED IMAGE values:\", sep=\"\\n\")\n",
    "for key, value in result.items():\n",
    "    print(f\"{key}: {value}\")"
   ]
  },
  {
   "cell_type": "markdown",
   "metadata": {},
   "source": [
    "#### MobileNet"
   ]
  },
  {
   "cell_type": "code",
   "execution_count": 55,
   "metadata": {},
   "outputs": [
    {
     "data": {
      "image/png": "[encoded data removed]",
      "text/plain": [
       "<Figure size 1000x1000 with 4 Axes>"
      ]
     },
     "metadata": {},
     "output_type": "display_data"
    },
    {
     "name": "stdout",
     "output_type": "stream",
     "text": [
      "The ID of the image is fff_0_87588_r_1\n",
      "Here is the CDR from ORIGINAL IMAGE values:\n",
      "area_cdr: 0.2\n",
      "horizontal_cdr: 0.42857142857142855\n",
      "vertical_cdr: 0.42857142857142855\n"
     ]
    },
    {
     "data": {
      "image/png": "[encoded data removed]",
      "text/plain": [
       "<Figure size 1000x1000 with 4 Axes>"
      ]
     },
     "metadata": {},
     "output_type": "display_data"
    },
    {
     "name": "stdout",
     "output_type": "stream",
     "text": [
      "The ID of the image is fff_0_87588_r_1_aug\n",
      "Here is the CDR from AUGMENTED IMAGE values:\n",
      "area_cdr: 0.2\n",
      "horizontal_cdr: 0.5\n",
      "vertical_cdr: 0.42857142857142855\n"
     ]
    }
   ],
   "source": [
    "# original image\n",
    "## visualize the mask image and calculate the CDR\n",
    "result = utils.ev_cdr(model=model[\"mnet_model_ori\"],\n",
    "                        img_path=test_img_ori.path[rand_idx],\n",
    "                        mask_path=os.path.join(path_dataset_ori,\n",
    "                                                f\"{test_img_ori.id[rand_idx]}_mask.png\"),\n",
    "                        threshold=threshold,\n",
    "                        visualize=True)\n",
    "## show cdr result\n",
    "print(f\"The ID of the image is {test_img_ori.id[rand_idx]}\", \"Here is the CDR from ORIGINAL IMAGE values:\", sep=\"\\n\")\n",
    "for key, value in result.items():\n",
    "    print(f\"{key}: {value}\")\n",
    "\n",
    "# augmented image\n",
    "## visualize the mask image and calculate the CDR\n",
    "result = utils.ev_cdr(model=model[\"mnet_model_aug\"],\n",
    "                        img_path=test_img_aug.path[rand_idx],\n",
    "                        mask_path=os.path.join(path_dataset_aug,\n",
    "                                                f\"{test_img_aug.id[rand_idx].replace('aug', 'mask')}.png\"),\n",
    "                        threshold=threshold,\n",
    "                        visualize=True)\n",
    "## show cdr result\n",
    "print(f\"The ID of the image is {test_img_aug.id[rand_idx]}\", \"Here is the CDR from AUGMENTED IMAGE values:\", sep=\"\\n\")\n",
    "for key, value in result.items():\n",
    "    print(f\"{key}: {value}\")"
   ]
  },
  {
   "cell_type": "markdown",
   "metadata": {},
   "source": [
    "#### EfficientNet"
   ]
  },
  {
   "cell_type": "code",
   "execution_count": 56,
   "metadata": {},
   "outputs": [
    {
     "name": "stdout",
     "output_type": "stream",
     "text": [
      "WARNING:tensorflow:5 out of the last 12 calls to <function Model.make_predict_function.<locals>.predict_function at 0x0000025C18DD5700> triggered tf.function retracing. Tracing is expensive and the excessive number of tracings could be due to (1) creating @tf.function repeatedly in a loop, (2) passing tensors with different shapes, (3) passing Python objects instead of tensors. For (1), please define your @tf.function outside of the loop. For (2), @tf.function has reduce_retracing=True option that can avoid unnecessary retracing. For (3), please refer to https://www.tensorflow.org/guide/function#controlling_retracing and https://www.tensorflow.org/api_docs/python/tf/function for  more details.\n"
     ]
    },
    {
     "data": {
      "image/png": "[encoded data removed]",
      "text/plain": [
       "<Figure size 1000x1000 with 4 Axes>"
      ]
     },
     "metadata": {},
     "output_type": "display_data"
    },
    {
     "name": "stdout",
     "output_type": "stream",
     "text": [
      "The ID of the image is fff_0_87588_r_1\n",
      "Here is the CDR from ORIGINAL IMAGE values:\n",
      "area_cdr: 0.13793103448275862\n",
      "horizontal_cdr: 0.3333333333333333\n",
      "vertical_cdr: 0.3333333333333333\n",
      "WARNING:tensorflow:6 out of the last 13 calls to <function Model.make_predict_function.<locals>.predict_function at 0x0000025C1BBBB310> triggered tf.function retracing. Tracing is expensive and the excessive number of tracings could be due to (1) creating @tf.function repeatedly in a loop, (2) passing tensors with different shapes, (3) passing Python objects instead of tensors. For (1), please define your @tf.function outside of the loop. For (2), @tf.function has reduce_retracing=True option that can avoid unnecessary retracing. For (3), please refer to https://www.tensorflow.org/guide/function#controlling_retracing and https://www.tensorflow.org/api_docs/python/tf/function for  more details.\n"
     ]
    },
    {
     "data": {
      "image/png": "[encoded data removed]",
      "text/plain": [
       "<Figure size 1000x1000 with 4 Axes>"
      ]
     },
     "metadata": {},
     "output_type": "display_data"
    },
    {
     "name": "stdout",
     "output_type": "stream",
     "text": [
      "The ID of the image is fff_0_87588_r_1_aug\n",
      "Here is the CDR from AUGMENTED IMAGE values:\n",
      "area_cdr: 0.15384615384615385\n",
      "horizontal_cdr: 0.3333333333333333\n",
      "vertical_cdr: 0.3333333333333333\n"
     ]
    }
   ],
   "source": [
    "# original image\n",
    "## visualize the mask image and calculate the CDR\n",
    "result = utils.ev_cdr(model=model[\"efnet_model_ori\"],\n",
    "                        img_path=test_img_ori.path[rand_idx],\n",
    "                        mask_path=os.path.join(path_dataset_ori,\n",
    "                                                f\"{test_img_ori.id[rand_idx]}_mask.png\"),\n",
    "                        threshold=threshold,\n",
    "                        visualize=True)\n",
    "## show cdr result\n",
    "print(f\"The ID of the image is {test_img_ori.id[rand_idx]}\", \"Here is the CDR from ORIGINAL IMAGE values:\", sep=\"\\n\")\n",
    "for key, value in result.items():\n",
    "    print(f\"{key}: {value}\")\n",
    "\n",
    "# augmented image\n",
    "## visualize the mask image and calculate the CDR\n",
    "result = utils.ev_cdr(model=model[\"efnet_model_aug\"],\n",
    "                        img_path=test_img_aug.path[rand_idx],\n",
    "                        mask_path=os.path.join(path_dataset_aug,\n",
    "                                                f\"{test_img_aug.id[rand_idx].replace('aug', 'mask')}.png\"),\n",
    "                        threshold=threshold,\n",
    "                        visualize=True)\n",
    "## show cdr result\n",
    "print(f\"The ID of the image is {test_img_aug.id[rand_idx]}\", \"Here is the CDR from AUGMENTED IMAGE values:\", sep=\"\\n\")\n",
    "for key, value in result.items():\n",
    "    print(f\"{key}: {value}\")"
   ]
  },
  {
   "cell_type": "markdown",
   "metadata": {},
   "source": [
    "### Get the CDR value from the predicted mask"
   ]
  },
  {
   "cell_type": "markdown",
   "metadata": {},
   "source": [
    "#### Unet"
   ]
  },
  {
   "cell_type": "code",
   "execution_count": null,
   "metadata": {},
   "outputs": [],
   "source": [
    "# create an empty dataframe to store the results\n",
    "ev_cdr_unet = {\n",
    "    \"ori\": pd.DataFrame(columns=[\"id\", \"a_cdr\", \"v_cdr\", \"h_cdr\"]),\n",
    "    \"aug\": pd.DataFrame(columns=[\"id\", \"a_cdr\", \"v_cdr\", \"h_cdr\"])\n",
    "}\n",
    "\n",
    "### last update baru sampe sini ko, lanjuting\n",
    "\n",
    "# get the CDR value for each image\n",
    "for i, row in test_img.iterrows():\n",
    "    # get the cdr value\n",
    "    cdr_value = utils.ev_cdr(model,\n",
    "                            row.path,\n",
    "                            os.path.join(path_dataset,\n",
    "                                        f\"{row.id.replace('aug', 'mask')}.png\"),\n",
    "                            .2,)\n",
    "    # populate the dataframe with the given cdr values\n",
    "    ev_cdr.loc[i] = [row.id,\n",
    "                    cdr_value[\"area_cdr\"],\n",
    "                    cdr_value[\"vertical_cdr\"],\n",
    "                    cdr_value[\"horizontal_cdr\"]]\n",
    "\n",
    "# show the data\n",
    "ev_cdr.head(5)"
   ]
  },
  {
   "cell_type": "markdown",
   "metadata": {},
   "source": [
    "#### MobileNet"
   ]
  },
  {
   "cell_type": "code",
   "execution_count": null,
   "metadata": {},
   "outputs": [],
   "source": [
    "# create an empty dataframe to store the results\n",
    "ev_cdr = pd.DataFrame(columns=[\"id\", \"a_cdr\", \"v_cdr\", \"h_cdr\"])\n",
    "\n",
    "# get the CDR value for each image\n",
    "for i, row in test_img.iterrows():\n",
    "    # get the cdr value\n",
    "    cdr_value = utils.ev_cdr(mobileNet_model,\n",
    "                            row.path,\n",
    "                            os.path.join(path_dataset,\n",
    "                                        f\"{row.id.replace('aug', 'mask')}.png\"),\n",
    "                            .2,)\n",
    "    # populate the dataframe with the given cdr values\n",
    "    ev_cdr.loc[i] = [row.id,\n",
    "                    cdr_value[\"area_cdr\"],\n",
    "                    cdr_value[\"vertical_cdr\"],\n",
    "                    cdr_value[\"horizontal_cdr\"]]\n",
    "\n",
    "# show the data\n",
    "ev_cdr.head(5)"
   ]
  },
  {
   "cell_type": "markdown",
   "metadata": {},
   "source": [
    "#### EfficientNet"
   ]
  },
  {
   "cell_type": "code",
   "execution_count": null,
   "metadata": {},
   "outputs": [],
   "source": [
    "# create an empty dataframe to store the results\n",
    "ev_cdr = pd.DataFrame(columns=[\"id\", \"a_cdr\", \"v_cdr\", \"h_cdr\"])\n",
    "\n",
    "# get the CDR value for each image\n",
    "for i, row in test_img.iterrows():\n",
    "    # get the cdr value\n",
    "    cdr_value = utils.ev_cdr(EfficientNet_model,\n",
    "                            row.path,\n",
    "                            os.path.join(path_dataset,\n",
    "                                        f\"{row.id.replace('aug', 'mask')}.png\"),\n",
    "                            .2,)\n",
    "    # populate the dataframe with the given cdr values\n",
    "    ev_cdr.loc[i] = [row.id,\n",
    "                    cdr_value[\"area_cdr\"],\n",
    "                    cdr_value[\"vertical_cdr\"],\n",
    "                    cdr_value[\"horizontal_cdr\"]]\n",
    "\n",
    "# show the data\n",
    "ev_cdr.head(5)"
   ]
  },
  {
   "cell_type": "markdown",
   "metadata": {},
   "source": [
    "### Get the Loss of predicted CDR with the dataset CDR"
   ]
  },
  {
   "cell_type": "markdown",
   "metadata": {},
   "source": [
    "#### Unet"
   ]
  },
  {
   "cell_type": "code",
   "execution_count": null,
   "metadata": {},
   "outputs": [],
   "source": [
    "########## count the loss value ##########\n",
    "# initialize an empty dictionary to store the results\n",
    "data = {}\n",
    "# iterate over the threshold values\n",
    "for i in np.linspace(.15, .8, 25):\n",
    "    # round the threshold value to two decimal places\n",
    "    threshold = round(i, 2)\n",
    "    print(f\"Threshold: {threshold}\")\n",
    "    # create an empty dataframe to store the results\n",
    "    ev_cdr = pd.DataFrame(columns=[\"id\", \"a_cdr\", \"v_cdr\", \"h_cdr\"])\n",
    "    # get the CDR value for each image\n",
    "    for idx, row in test_img.iterrows():\n",
    "        # get the cdr value\n",
    "        cdr_value = utils.ev_cdr(model,\n",
    "                                row.path,\n",
    "                                os.path.join(path_dataset,\n",
    "                                            f\"{row.id.replace('aug', 'mask')}.png\"),\n",
    "                                threshold,)\n",
    "        # populate the dataframe with the given cdr values\n",
    "        ev_cdr.loc[idx] = [row.id,\n",
    "                        cdr_value[\"area_cdr\"],\n",
    "                        cdr_value[\"vertical_cdr\"],\n",
    "                        cdr_value[\"horizontal_cdr\"]]\n",
    "    # get the loss value\n",
    "    loss = utils.count_loss_cdr(cdr_data.drop(columns=[\"label\", \"eye_side\"]),\n",
    "                                ev_cdr)\n",
    "    # populate the dictionary with the given threshold and loss value\n",
    "    data[threshold] = loss"
   ]
  },
  {
   "cell_type": "code",
   "execution_count": null,
   "metadata": {},
   "outputs": [],
   "source": [
    "########## populate the loss dataframe ##########\n",
    "# create an empty dataframe to store the results\n",
    "loss_df = pd.DataFrame(columns=['threshold', 'a_mse', 'a_mae', 'a_huber', 'h_mse', 'h_mae', 'h_huber', 'v_mse', 'v_mae', 'v_huber'])\n",
    "# populate the dataframe with the given loss values\n",
    "for item, value in data.items():\n",
    "    loss_df.loc[len(loss_df)] = [item,\n",
    "                                value['a_mse'],\n",
    "                                value['a_mae'],\n",
    "                                value['a_huber'],\n",
    "                                value['h_mse'],\n",
    "                                value['h_mae'],\n",
    "                                value['h_huber'],\n",
    "                                value['v_mse'],\n",
    "                                value['v_mae'],\n",
    "                                value['v_huber']]\n",
    "\n",
    "# sort the dataframe by the loss value\n",
    "loss_df.sort_values(by=\"v_huber\", ascending=True, inplace=True)\n",
    "# loss_df.sort_values(by=\"a_huber\", ascending=True, inplace=True)\n",
    "\n",
    "# show the data\n",
    "loss_df"
   ]
  },
  {
   "cell_type": "markdown",
   "metadata": {},
   "source": [
    "#### mobileNet"
   ]
  },
  {
   "cell_type": "code",
   "execution_count": null,
   "metadata": {},
   "outputs": [],
   "source": [
    "########## count the loss value ##########\n",
    "# initialize an empty dictionary to store the results\n",
    "data = {}\n",
    "# iterate over the threshold values\n",
    "for i in np.linspace(.15, .8, 25):\n",
    "    # round the threshold value to two decimal places\n",
    "    threshold = round(i, 2)\n",
    "    print(f\"Threshold: {threshold}\")\n",
    "    # create an empty dataframe to store the results\n",
    "    ev_cdr = pd.DataFrame(columns=[\"id\", \"a_cdr\", \"v_cdr\", \"h_cdr\"])\n",
    "    # get the CDR value for each image\n",
    "    for idx, row in test_img.iterrows():\n",
    "        # get the cdr value\n",
    "        cdr_value = utils.ev_cdr(mobileNet_model,\n",
    "                                row.path,\n",
    "                                os.path.join(path_dataset,\n",
    "                                            f\"{row.id.replace('aug', 'mask')}.png\"),\n",
    "                                threshold,)\n",
    "        # populate the dataframe with the given cdr values\n",
    "        ev_cdr.loc[idx] = [row.id,\n",
    "                        cdr_value[\"area_cdr\"],\n",
    "                        cdr_value[\"vertical_cdr\"],\n",
    "                        cdr_value[\"horizontal_cdr\"]]\n",
    "    # get the loss value\n",
    "    loss = utils.count_loss_cdr(cdr_data.drop(columns=[\"label\", \"eye_side\"]),\n",
    "                                ev_cdr)\n",
    "    # populate the dictionary with the given threshold and loss value\n",
    "    data[threshold] = loss"
   ]
  },
  {
   "cell_type": "code",
   "execution_count": null,
   "metadata": {},
   "outputs": [],
   "source": [
    "########## populate the loss dataframe ##########\n",
    "# create an empty dataframe to store the results\n",
    "loss_df = pd.DataFrame(columns=['threshold', 'a_mse', 'a_mae', 'a_huber', 'h_mse', 'h_mae', 'h_huber', 'v_mse', 'v_mae', 'v_huber'])\n",
    "# populate the dataframe with the given loss values\n",
    "for item, value in data.items():\n",
    "    loss_df.loc[len(loss_df)] = [item,\n",
    "                                value['a_mse'],\n",
    "                                value['a_mae'],\n",
    "                                value['a_huber'],\n",
    "                                value['h_mse'],\n",
    "                                value['h_mae'],\n",
    "                                value['h_huber'],\n",
    "                                value['v_mse'],\n",
    "                                value['v_mae'],\n",
    "                                value['v_huber']]\n",
    "\n",
    "# sort the dataframe by the loss value\n",
    "loss_df.sort_values(by=\"v_huber\", ascending=True, inplace=True)\n",
    "# loss_df.sort_values(by=\"a_huber\", ascending=True, inplace=True)\n",
    "\n",
    "# show the data\n",
    "loss_df"
   ]
  },
  {
   "cell_type": "markdown",
   "metadata": {},
   "source": [
    "#### EfficientNet"
   ]
  },
  {
   "cell_type": "code",
   "execution_count": null,
   "metadata": {},
   "outputs": [],
   "source": [
    "########## count the loss value ##########\n",
    "# initialize an empty dictionary to store the results\n",
    "data = {}\n",
    "# iterate over the threshold values\n",
    "for i in np.linspace(.15, .8, 25):\n",
    "    # round the threshold value to two decimal places\n",
    "    threshold = round(i, 2)\n",
    "    print(f\"Threshold: {threshold}\")\n",
    "    # create an empty dataframe to store the results\n",
    "    ev_cdr = pd.DataFrame(columns=[\"id\", \"a_cdr\", \"v_cdr\", \"h_cdr\"])\n",
    "    # get the CDR value for each image\n",
    "    for idx, row in test_img.iterrows():\n",
    "        # get the cdr value\n",
    "        cdr_value = utils.ev_cdr(EfficientNet_model,\n",
    "                                row.path,\n",
    "                                os.path.join(path_dataset,\n",
    "                                            f\"{row.id.replace('aug', 'mask')}.png\"),\n",
    "                                threshold,)\n",
    "        # populate the dataframe with the given cdr values\n",
    "        ev_cdr.loc[idx] = [row.id,\n",
    "                        cdr_value[\"area_cdr\"],\n",
    "                        cdr_value[\"vertical_cdr\"],\n",
    "                        cdr_value[\"horizontal_cdr\"]]\n",
    "    # get the loss value\n",
    "    loss = utils.count_loss_cdr(cdr_data.drop(columns=[\"label\", \"eye_side\"]),\n",
    "                                ev_cdr)\n",
    "    # populate the dictionary with the given threshold and loss value\n",
    "    data[threshold] = loss"
   ]
  },
  {
   "cell_type": "code",
   "execution_count": null,
   "metadata": {},
   "outputs": [],
   "source": [
    "########## populate the loss dataframe ##########\n",
    "# create an empty dataframe to store the results\n",
    "loss_df = pd.DataFrame(columns=['threshold', 'a_mse', 'a_mae', 'a_huber', 'h_mse', 'h_mae', 'h_huber', 'v_mse', 'v_mae', 'v_huber'])\n",
    "# populate the dataframe with the given loss values\n",
    "for item, value in data.items():\n",
    "    loss_df.loc[len(loss_df)] = [item,\n",
    "                                value['a_mse'],\n",
    "                                value['a_mae'],\n",
    "                                value['a_huber'],\n",
    "                                value['h_mse'],\n",
    "                                value['h_mae'],\n",
    "                                value['h_huber'],\n",
    "                                value['v_mse'],\n",
    "                                value['v_mae'],\n",
    "                                value['v_huber']]\n",
    "\n",
    "# sort the dataframe by the loss value\n",
    "loss_df.sort_values(by=\"v_huber\", ascending=True, inplace=True)\n",
    "# loss_df.sort_values(by=\"a_huber\", ascending=True, inplace=True)\n",
    "\n",
    "# show the data\n",
    "loss_df"
   ]
  },
  {
   "cell_type": "markdown",
   "metadata": {},
   "source": [
    "### Get the CDR value with the best treshold"
   ]
  },
  {
   "cell_type": "markdown",
   "metadata": {},
   "source": [
    "#### Unet"
   ]
  },
  {
   "cell_type": "code",
   "execution_count": null,
   "metadata": {},
   "outputs": [],
   "source": [
    "# create an empty dataframe\n",
    "ev_cdr = pd.DataFrame(columns=[\"id\", \"a_cdr\", \"v_cdr\", \"h_cdr\"])\n",
    "# get the CDR value for each image\n",
    "for idx, row in test_img.iterrows():\n",
    "    # get the cdr value\n",
    "    cdr_value = utils.ev_cdr(model,\n",
    "                            row.path,\n",
    "                            os.path.join(path_dataset,\n",
    "                                        f\"{row.id.replace('aug', 'mask')}.png\"),\n",
    "                            .64,)   # set the threshold value\n",
    "    # populate the dataframe with the given cdr values\n",
    "    ev_cdr.loc[idx] = [row.id,\n",
    "                    cdr_value[\"area_cdr\"],\n",
    "                    cdr_value[\"vertical_cdr\"],\n",
    "                    cdr_value[\"horizontal_cdr\"]]"
   ]
  },
  {
   "cell_type": "markdown",
   "metadata": {},
   "source": [
    "#### mobileNet"
   ]
  },
  {
   "cell_type": "code",
   "execution_count": null,
   "metadata": {},
   "outputs": [],
   "source": [
    "# create an empty dataframe\n",
    "ev_cdr = pd.DataFrame(columns=[\"id\", \"a_cdr\", \"v_cdr\", \"h_cdr\"])\n",
    "# get the CDR value for each image\n",
    "for idx, row in test_img.iterrows():\n",
    "    # get the cdr value\n",
    "    cdr_value = utils.ev_cdr(mobileNet_model,\n",
    "                            row.path,\n",
    "                            os.path.join(path_dataset,\n",
    "                                        f\"{row.id.replace('aug', 'mask')}.png\"),\n",
    "                            .64,)   # set the threshold value\n",
    "    # populate the dataframe with the given cdr values\n",
    "    ev_cdr.loc[idx] = [row.id,\n",
    "                    cdr_value[\"area_cdr\"],\n",
    "                    cdr_value[\"vertical_cdr\"],\n",
    "                    cdr_value[\"horizontal_cdr\"]]"
   ]
  },
  {
   "cell_type": "markdown",
   "metadata": {},
   "source": [
    "#### EfficientNet"
   ]
  },
  {
   "cell_type": "code",
   "execution_count": null,
   "metadata": {},
   "outputs": [],
   "source": [
    "# create an empty dataframe\n",
    "ev_cdr = pd.DataFrame(columns=[\"id\", \"a_cdr\", \"v_cdr\", \"h_cdr\"])\n",
    "# get the CDR value for each image\n",
    "for idx, row in test_img.iterrows():\n",
    "    # get the cdr value\n",
    "    cdr_value = utils.ev_cdr(EfficientNet_model,\n",
    "                            row.path,\n",
    "                            os.path.join(path_dataset,\n",
    "                                        f\"{row.id.replace('aug', 'mask')}.png\"),\n",
    "                            .64,)   # set the threshold value\n",
    "    # populate the dataframe with the given cdr values\n",
    "    ev_cdr.loc[idx] = [row.id,\n",
    "                    cdr_value[\"area_cdr\"],\n",
    "                    cdr_value[\"vertical_cdr\"],\n",
    "                    cdr_value[\"horizontal_cdr\"]]"
   ]
  },
  {
   "cell_type": "markdown",
   "metadata": {},
   "source": [
    "### Get the class from predicted CDR value and real class"
   ]
  },
  {
   "cell_type": "code",
   "execution_count": null,
   "metadata": {},
   "outputs": [],
   "source": [
    "# create an empty dataframe to store the results\n",
    "test_dataset = pd.DataFrame(columns=list(ev_cdr.columns) + [\"real\"])\n",
    "\n",
    "# rename the columns\n",
    "test_dataset.rename(columns={\"a_cdr\": \"a_class\", \"v_cdr\": \"v_class\", \"h_cdr\": \"h_class\"}, inplace=True)\n",
    "# get the class by the CDR value and real label\n",
    "for idx, row in ev_cdr.iterrows():\n",
    "    test_dataset.loc[idx] = [row.id,\n",
    "                            1 if row.a_cdr > .5 else 0,\n",
    "                            1 if row.v_cdr > .5 else 0,\n",
    "                            1 if row.h_cdr > .5 else 0,\n",
    "                            row.id.split(\"_\")[1]]\n",
    "\n",
    "# show the data\n",
    "test_dataset.head(5)"
   ]
  },
  {
   "cell_type": "markdown",
   "metadata": {},
   "source": [
    "### Count the accuracy of classification"
   ]
  },
  {
   "cell_type": "code",
   "execution_count": null,
   "metadata": {},
   "outputs": [],
   "source": [
    "# intiate the accuracy metric\n",
    "acc = tf.keras.metrics.Accuracy()\n",
    "# count the accuracy\n",
    "acc.update_state(test_dataset.real.astype(int).values,\n",
    "                test_dataset.v_class.astype(int).values)\n",
    "# show the accuracy\n",
    "print(\"Accuracy\", round(acc.result().numpy(), 2))"
   ]
  }
 ],
 "metadata": {
  "kernelspec": {
   "display_name": "modeling",
   "language": "python",
   "name": "python3"
  },
  "language_info": {
   "codemirror_mode": {
    "name": "ipython",
    "version": 3
   },
   "file_extension": ".py",
   "mimetype": "text/x-python",
   "name": "python",
   "nbconvert_exporter": "python",
   "pygments_lexer": "ipython3",
   "version": "3.9.20"
  }
 },
 "nbformat": 4,
 "nbformat_minor": 2
}
