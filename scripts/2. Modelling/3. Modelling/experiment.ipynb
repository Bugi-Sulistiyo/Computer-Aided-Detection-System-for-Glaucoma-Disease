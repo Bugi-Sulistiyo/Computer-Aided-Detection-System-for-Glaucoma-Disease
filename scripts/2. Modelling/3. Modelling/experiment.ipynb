{
 "cells": [
  {
   "cell_type": "code",
   "execution_count": null,
   "metadata": {},
   "outputs": [],
   "source": [
    "import sys\n",
    "sys.path.insert(0, '../')\n",
    "\n",
    "import os\n",
    "import utilities as utils\n",
    "import tensorflow as tf\n",
    "import matplotlib.pyplot as plt\n",
    "import numpy as np"
   ]
  },
  {
   "cell_type": "code",
   "execution_count": 19,
   "metadata": {},
   "outputs": [],
   "source": [
    "path_dataset_train = \"./../../../dataset_used_split_ori/train\""
   ]
  },
  {
   "cell_type": "code",
   "execution_count": 20,
   "metadata": {},
   "outputs": [],
   "source": [
    "train_img, train_mask = utils.load_img_mask(path_dataset_train)"
   ]
  },
  {
   "cell_type": "code",
   "execution_count": 21,
   "metadata": {},
   "outputs": [],
   "source": [
    "trainset = utils.create_dataset(train_img, train_mask)"
   ]
  },
  {
   "cell_type": "code",
   "execution_count": 33,
   "metadata": {},
   "outputs": [
    {
     "name": "stdout",
     "output_type": "stream",
     "text": [
      "background px: 16131\n",
      "disc px: 170\n",
      "cup px: 83\n"
     ]
    },
    {
     "data": {
      "image/png": "[encoded data removed]",
      "text/plain": [
       "<Figure size 640x480 with 3 Axes>"
      ]
     },
     "metadata": {},
     "output_type": "display_data"
    }
   ],
   "source": [
    "for imgs, masks in trainset.take(1):\n",
    "    for mask in masks:\n",
    "        print(f\"background px: {np.sum(mask[:,:,0])}\",\n",
    "            f\"disc px: {np.sum(mask[:,:,2])}\",\n",
    "            f\"cup px: {np.sum(mask[:,:,1])}\",\n",
    "            sep='\\n')\n",
    "        plt.subplot(1,3,1)\n",
    "        plt.title(\"mask - background\")\n",
    "        plt.imshow(mask[:,:,0], cmap='gray')\n",
    "        plt.subplot(1,3,2)\n",
    "        plt.title(\"mask - disc\")\n",
    "        plt.imshow(mask[:,:,2], cmap='gray')\n",
    "        plt.subplot(1,3,3)\n",
    "        plt.title(\"mask - cup\")\n",
    "        plt.imshow(mask[:,:,1], cmap='gray')\n",
    "        plt.show()\n",
    "        break"
   ]
  }
 ],
 "metadata": {
  "kernelspec": {
   "display_name": "modeling",
   "language": "python",
   "name": "python3"
  },
  "language_info": {
   "codemirror_mode": {
    "name": "ipython",
    "version": 3
   },
   "file_extension": ".py",
   "mimetype": "text/x-python",
   "name": "python",
   "nbconvert_exporter": "python",
   "pygments_lexer": "ipython3",
   "version": "3.9.20"
  }
 },
 "nbformat": 4,
 "nbformat_minor": 2
}
