{
 "cells": [
  {
   "cell_type": "markdown",
   "metadata": {},
   "source": [
    "### Import the needed package"
   ]
  },
  {
   "cell_type": "code",
   "execution_count": 1,
   "metadata": {},
   "outputs": [
    {
     "name": "stderr",
     "output_type": "stream",
     "text": [
      "c:\\Users\\Bugi\\miniconda3\\envs\\modeling\\lib\\site-packages\\tensorflow_addons\\utils\\tfa_eol_msg.py:23: UserWarning: \n",
      "\n",
      "TensorFlow Addons (TFA) has ended development and introduction of new features.\n",
      "TFA has entered a minimal maintenance and release mode until a planned end of life in May 2024.\n",
      "Please modify downstream libraries to take dependencies from other repositories in our TensorFlow community (e.g. Keras, Keras-CV, and Keras-NLP). \n",
      "\n",
      "For more information see: https://github.com/tensorflow/addons/issues/2807 \n",
      "\n",
      "  warnings.warn(\n",
      "c:\\Users\\Bugi\\miniconda3\\envs\\modeling\\lib\\site-packages\\tensorflow_addons\\utils\\ensure_tf_install.py:53: UserWarning: Tensorflow Addons supports using Python ops for all Tensorflow versions above or equal to 2.12.0 and strictly below 2.15.0 (nightly versions are not supported). \n",
      " The versions of TensorFlow you are currently using is 2.10.1 and is not supported. \n",
      "Some things might work, some things might not.\n",
      "If you were to encounter a bug, do not file an issue.\n",
      "If you want to make sure you're using a tested and supported configuration, either change the TensorFlow version or the TensorFlow Addons's version. \n",
      "You can find the compatibility matrix in TensorFlow Addon's readme:\n",
      "https://github.com/tensorflow/addons\n",
      "  warnings.warn(\n"
     ]
    },
    {
     "data": {
      "text/plain": [
       "True"
      ]
     },
     "execution_count": 1,
     "metadata": {},
     "output_type": "execute_result"
    }
   ],
   "source": [
    "import sys\n",
    "sys.path.insert(0, '../')\n",
    "\n",
    "import os\n",
    "import utilities as utils\n",
    "import tensorflow as tf\n",
    "import matplotlib.pyplot as plt\n",
    "import numpy as np\n",
    "from dotenv import load_dotenv\n",
    "\n",
    "load_dotenv()"
   ]
  },
  {
   "cell_type": "markdown",
   "metadata": {},
   "source": [
    "### Global variables"
   ]
  },
  {
   "cell_type": "code",
   "execution_count": 2,
   "metadata": {},
   "outputs": [],
   "source": [
    "path_full = os.environ.get(\"ORI_PATH\")\n",
    "path_dataset_train = os.path.join(path_full, \"datasets\", \"splitted\", \"original\", \"train\")\n",
    "batch_size = 16"
   ]
  },
  {
   "cell_type": "markdown",
   "metadata": {},
   "source": [
    "### Get the batched dataset"
   ]
  },
  {
   "cell_type": "code",
   "execution_count": 3,
   "metadata": {},
   "outputs": [],
   "source": [
    "train_img, train_mask = utils.load_img_mask(path_dataset_train)"
   ]
  },
  {
   "cell_type": "code",
   "execution_count": 4,
   "metadata": {},
   "outputs": [],
   "source": [
    "trainset = utils.create_dataset(train_img, train_mask, batch_size=batch_size)"
   ]
  },
  {
   "cell_type": "markdown",
   "metadata": {},
   "source": [
    "### Visualized the image"
   ]
  },
  {
   "cell_type": "code",
   "execution_count": 5,
   "metadata": {},
   "outputs": [
    {
     "name": "stdout",
     "output_type": "stream",
     "text": [
      "background px: 16046\n",
      "disc px: 228\n",
      "cup px: 110\n"
     ]
    },
    {
     "data": {
      "image/png": "[encoded data removed]",
      "text/plain": [
       "<Figure size 640x480 with 3 Axes>"
      ]
     },
     "metadata": {},
     "output_type": "display_data"
    }
   ],
   "source": [
    "for imgs, masks in trainset.take(1):\n",
    "    for mask in masks:\n",
    "        print(f\"background px: {np.sum(mask[:,:,0])}\",\n",
    "            f\"disc px: {np.sum(mask[:,:,2])}\",\n",
    "            f\"cup px: {np.sum(mask[:,:,1])}\",\n",
    "            sep='\\n')\n",
    "        plt.subplot(1,3,1)\n",
    "        plt.title(\"mask - background (0)\")\n",
    "        plt.imshow(mask[:,:,0], cmap='gray')\n",
    "        plt.subplot(1,3,2)\n",
    "        plt.title(\"mask - disc (2)\")\n",
    "        plt.imshow(mask[:,:,2], cmap='gray')\n",
    "        plt.subplot(1,3,3)\n",
    "        plt.title(\"mask - cup (1)\")\n",
    "        plt.imshow(mask[:,:,1], cmap='gray')\n",
    "        plt.show()\n",
    "        break"
   ]
  },
  {
   "cell_type": "markdown",
   "metadata": {},
   "source": [
    "### Calculate the weights - method 1"
   ]
  },
  {
   "cell_type": "code",
   "execution_count": 6,
   "metadata": {},
   "outputs": [],
   "source": [
    "px_count = {0: [], 1: [], 2: []}\n",
    "for imgs, masks in trainset.take(batch_size):\n",
    "    for mask in masks:\n",
    "        for i in range(3):\n",
    "            px_count[i].append(np.sum(mask[:,:,i]))"
   ]
  },
  {
   "cell_type": "code",
   "execution_count": 7,
   "metadata": {},
   "outputs": [],
   "source": [
    "weights = {0: [], 1: [], 2: []}\n",
    "for label, pxs in px_count.items():\n",
    "    for index in range(len(pxs)):\n",
    "        weights[label].append((1 / pxs[index]) * (np.sum([px_count[0][index],\n",
    "                                                            px_count[1][index],\n",
    "                                                            px_count[2][index]]) / 3))"
   ]
  },
  {
   "cell_type": "code",
   "execution_count": 8,
   "metadata": {},
   "outputs": [
    {
     "name": "stdout",
     "output_type": "stream",
     "text": [
      "{0: 0.3392, 1: 90.8128, 2: 32.1602}\n"
     ]
    }
   ],
   "source": [
    "avg_weights = {}\n",
    "for label, w in weights.items():\n",
    "    avg_weights[label] = round(np.mean(w), 4)\n",
    "\n",
    "print(avg_weights)"
   ]
  },
  {
   "cell_type": "markdown",
   "metadata": {},
   "source": [
    "### Calculate the weights - methods 2"
   ]
  },
  {
   "cell_type": "code",
   "execution_count": 9,
   "metadata": {},
   "outputs": [],
   "source": [
    "final = {0: [], 1: [], 2: []}\n",
    "for imgs, masks in trainset.take(batch_size):\n",
    "    for mask in masks:\n",
    "        count_px = {}\n",
    "        for i in range(3):\n",
    "            count_px[i] = np.sum(mask[:,:,i])\n",
    "        for i in range(3):\n",
    "            final[i].append((1 / count_px[i]) * (np.sum([count_px[0], count_px[1], count_px[2]]) / 3))"
   ]
  },
  {
   "cell_type": "code",
   "execution_count": 10,
   "metadata": {},
   "outputs": [
    {
     "name": "stdout",
     "output_type": "stream",
     "text": [
      "{0: 0.3392, 1: 90.8128, 2: 32.1602}\n"
     ]
    }
   ],
   "source": [
    "for label, pxs in final.items():\n",
    "    final[label] = round(np.mean(pxs), 4)\n",
    "print(final)"
   ]
  },
  {
   "cell_type": "markdown",
   "metadata": {},
   "source": [
    "### Calculate weight - method 3 (for image segmentation)"
   ]
  },
  {
   "cell_type": "code",
   "execution_count": null,
   "metadata": {},
   "outputs": [
    {
     "data": {
      "text/plain": [
       "array([  0.46400849, 102.89714668,  39.87321488])"
      ]
     },
     "execution_count": 14,
     "metadata": {},
     "output_type": "execute_result"
    }
   ],
   "source": [
    "label = np.array([0, 1, 2])\n",
    "prediction = np.array([[0.1, 0.2, 0.7],\n",
    "                        [0.3, 0.3, 0.4],\n",
    "                        [0.5, 0.3, 0.2]])\n",
    "sample_weight = np.array(list(final.values()))\n",
    "\n",
    "loss = tf.keras.losses.SparseCategoricalCrossentropy(\n",
    "    from_logits=True,\n",
    "    reduction=tf.keras.losses.Reduction.NONE\n",
    ")\n",
    "loss(label, prediction, sample_weight).numpy()"
   ]
  },
  {
   "cell_type": "code",
   "execution_count": 18,
   "metadata": {},
   "outputs": [
    {
     "data": {
      "text/plain": [
       "array([0.00275074, 0.73644619, 0.26080307])"
      ]
     },
     "execution_count": 18,
     "metadata": {},
     "output_type": "execute_result"
    }
   ],
   "source": [
    "class_weights = tf.constant(list(final.values()))\n",
    "class_weights = class_weights / tf.reduce_sum(class_weights)\n",
    "class_weights.numpy()"
   ]
  },
  {
   "cell_type": "code",
   "execution_count": null,
   "metadata": {},
   "outputs": [],
   "source": [
    "def add_sample_weights(img:tf.Tensor, mask:tf.Tensor, class_weights:dict):\n",
    "    class_weights = tf.constant(list(class_weights.values()))\n",
    "    class_weights = class_weights / tf.reduce_sum(class_weights)\n",
    "    sample_weights = tf.gather(class_weights, indices=tf.cast(mask, tf.int32))\n",
    "    print(sample_weights)\n",
    "    return img, mask, sample_weights"
   ]
  },
  {
   "cell_type": "code",
   "execution_count": 29,
   "metadata": {},
   "outputs": [
    {
     "name": "stdout",
     "output_type": "stream",
     "text": [
      "Tensor(\"GatherV2:0\", shape=(None, 128, 128, 3), dtype=float32)\n"
     ]
    },
    {
     "data": {
      "text/plain": [
       "<MapDataset element_spec=(TensorSpec(shape=(None, 128, 128, 3), dtype=tf.float32, name=None), TensorSpec(shape=(None, 128, 128, 3), dtype=tf.int32, name=None), TensorSpec(shape=(None, 128, 128, 3), dtype=tf.float32, name=None))>"
      ]
     },
     "execution_count": 29,
     "metadata": {},
     "output_type": "execute_result"
    }
   ],
   "source": [
    "trainset.map(lambda img, mask: add_sample_weights(img, mask, final))"
   ]
  }
 ],
 "metadata": {
  "kernelspec": {
   "display_name": "modeling",
   "language": "python",
   "name": "python3"
  },
  "language_info": {
   "codemirror_mode": {
    "name": "ipython",
    "version": 3
   },
   "file_extension": ".py",
   "mimetype": "text/x-python",
   "name": "python",
   "nbconvert_exporter": "python",
   "pygments_lexer": "ipython3",
   "version": "3.9.20"
  }
 },
 "nbformat": 4,
 "nbformat_minor": 2
}
