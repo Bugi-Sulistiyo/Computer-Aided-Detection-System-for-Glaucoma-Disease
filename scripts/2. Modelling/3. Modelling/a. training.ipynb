{
 "cells": [
  {
   "cell_type": "markdown",
   "metadata": {},
   "source": [
    "### Import the needed packages"
   ]
  },
  {
   "cell_type": "code",
   "execution_count": null,
   "metadata": {},
   "outputs": [],
   "source": [
    "# package for using the the custom scripts \n",
    "import sys\n",
    "sys.path.insert(0, \"./../\")\n",
    "# package for handling files and directories\n",
    "import os\n",
    "\n",
    "import wandb\n",
    "# a custom package for handling the data\n",
    "import utilities as utils\n",
    "\n",
    "from huggingface_hub import HfApi\n",
    "\n",
    "from dotenv import load_dotenv\n",
    "\n",
    "load_dotenv()"
   ]
  },
  {
   "cell_type": "markdown",
   "metadata": {},
   "source": [
    "### Global variable"
   ]
  },
  {
   "cell_type": "code",
   "execution_count": null,
   "metadata": {},
   "outputs": [],
   "source": [
    "path_full = os.environ.get(\"ORI_PATH\")\n",
    "path_dataset_ori = os.path.join(path_full, \"datasets\", \"splitted\", \"original\")\n",
    "path_dataset_aug = os.path.join(path_full, \"datasets\", \"splitted\", \"augmented\")\n",
    "path_model = os.path.join(path_full, \"data\", \"model\")\n",
    "wandb_init_name = \"implement weight training\"\n",
    "hf_commit_message = \"implement weight training\"\n",
    "hyperparam = {\n",
    "    \"batch_size\": 16,\n",
    "    \"img_size\": 128,\n",
    "    \"shuffle\": True,\n",
    "    \"model_type\": \"U-net\",\n",
    "    \"metrics\": [\"accuracy\", \"MeanIoU\", \"Precision\", \"Recall\"],\n",
    "    \"split_ratio\": [7,1,2],\n",
    "    \"dataset_balance\": True,\n",
    "    \"weighted_training\": True,\n",
    "}\n",
    "ori_path = {\n",
    "    \"train\": os.path.join(path_dataset_ori, \"train\"),\n",
    "    \"val\": os.path.join(path_dataset_ori, \"val\"),\n",
    "    \"test\": os.path.join(path_dataset_ori, \"test\"),\n",
    "}\n",
    "aug_path = {\n",
    "    \"train\": os.path.join(path_dataset_aug, \"train\"),\n",
    "    \"val\": os.path.join(path_dataset_aug, \"val\"),\n",
    "    \"test\": os.path.join(path_dataset_aug, \"test\"),\n",
    "}"
   ]
  },
  {
   "cell_type": "markdown",
   "metadata": {},
   "source": [
    "### Import the images and mask"
   ]
  },
  {
   "cell_type": "code",
   "execution_count": null,
   "metadata": {},
   "outputs": [],
   "source": [
    "# get the original dataset\n",
    "train_ori_img, train_ori_mask = utils.load_img_mask(ori_path[\"train\"])\n",
    "val_ori_img, val_ori_mask = utils.load_img_mask(ori_path[\"val\"])\n",
    "test_ori_img, test_ori_mask = utils.load_img_mask(ori_path[\"test\"])\n",
    "\n",
    "# get the augmented dataset\n",
    "train_aug_img, train_aug_mask = utils.load_img_mask(aug_path[\"train\"])\n",
    "val_aug_img, val_aug_mask = utils.load_img_mask(aug_path[\"val\"])\n",
    "test_aug_img, test_aug_mask = utils.load_img_mask(aug_path[\"test\"])"
   ]
  },
  {
   "cell_type": "markdown",
   "metadata": {},
   "source": [
    "### Create the batched dataset"
   ]
  },
  {
   "cell_type": "code",
   "execution_count": null,
   "metadata": {},
   "outputs": [],
   "source": [
    "# create the tensor dataset for original dataset\n",
    "trainset_ori = utils.create_dataset(train_ori_img, train_ori_mask, hyperparam[\"img_size\"], hyperparam[\"batch_size\"])\n",
    "valset_ori = utils.create_dataset(val_ori_img, val_ori_mask, hyperparam[\"img_size\"], hyperparam[\"batch_size\"])\n",
    "testset_ori = utils.create_dataset(test_ori_img, test_ori_mask, hyperparam[\"img_size\"], hyperparam[\"batch_size\"])\n",
    "\n",
    "# create the tensor dataset for augmented dataset\n",
    "trainset_aug = utils.create_dataset(train_aug_img, train_aug_mask, hyperparam[\"img_size\"], hyperparam[\"batch_size\"])\n",
    "valset_aug = utils.create_dataset(val_aug_img, val_aug_mask, hyperparam[\"img_size\"], hyperparam[\"batch_size\"])\n",
    "testset_aug = utils.create_dataset(test_aug_img, test_aug_mask, hyperparam[\"img_size\"], hyperparam[\"batch_size\"])"
   ]
  },
  {
   "cell_type": "markdown",
   "metadata": {},
   "source": [
    "### Calculate label weight"
   ]
  },
  {
   "cell_type": "markdown",
   "metadata": {},
   "source": [
    "### Train model"
   ]
  },
  {
   "cell_type": "code",
   "execution_count": null,
   "metadata": {},
   "outputs": [],
   "source": [
    "# create the unet model\n",
    "unet_custom = utils.custom_unet()\n",
    "file_model_name = \"unet_model_ori\"\n",
    "# train the model using original dataset\n",
    "unet_custom, history, ev_result = utils.train_model(unet_custom, trainset_ori, valset_ori, testset_ori, path_model, file_model_name)\n",
    "print(f\"test loss: {ev_result[0]}\", f\"test mean_px_acc: {ev_result[1]}\",\n",
    "        f\"test auc: {ev_result[2]}\", f\"test precision: {ev_result[3]}\",\n",
    "        f\"test recall: {ev_result[4]}\", sep=\"\\n\")"
   ]
  },
  {
   "cell_type": "code",
   "execution_count": 6,
   "metadata": {},
   "outputs": [],
   "source": [
    "api = HfApi()\n",
    "repo = api.create_repo(\"CAD-Glaucoma_Segmentation\", repo_type=\"model\", exist_ok=True)"
   ]
  },
  {
   "cell_type": "code",
   "execution_count": 7,
   "metadata": {},
   "outputs": [
    {
     "name": "stderr",
     "output_type": "stream",
     "text": [
      "Failed to detect the name of this notebook, you can set it manually with the WANDB_NOTEBOOK_NAME environment variable to enable code saving.\n",
      "\u001b[34m\u001b[1mwandb\u001b[0m: Currently logged in as: \u001b[33mbugi-sulistiyo\u001b[0m (\u001b[33mbugi-sulistiyo-universitas-mulawarman\u001b[0m). Use \u001b[1m`wandb login --relogin`\u001b[0m to force relogin\n"
     ]
    },
    {
     "data": {
      "text/html": [
       "wandb version 0.18.6 is available!  To upgrade, please run:\n",
       " $ pip install wandb --upgrade"
      ],
      "text/plain": [
       "<IPython.core.display.HTML object>"
      ]
     },
     "metadata": {},
     "output_type": "display_data"
    },
    {
     "data": {
      "text/html": [
       "Tracking run with wandb version 0.17.0"
      ],
      "text/plain": [
       "<IPython.core.display.HTML object>"
      ]
     },
     "metadata": {},
     "output_type": "display_data"
    },
    {
     "data": {
      "text/html": [
       "Run data is saved locally in <code>d:\\Programming\\Python\\Research Prof. Anindita\\scripts\\2. Modelling\\3. Modelling\\wandb\\run-20241111_214734-qacqiuhs</code>"
      ],
      "text/plain": [
       "<IPython.core.display.HTML object>"
      ]
     },
     "metadata": {},
     "output_type": "display_data"
    },
    {
     "data": {
      "text/html": [
       "Syncing run <strong><a href='https://wandb.ai/bugi-sulistiyo-universitas-mulawarman/CAD%20-%20Glaucoma%20Segmentation/runs/qacqiuhs' target=\"_blank\">ori - implement weight training</a></strong> to <a href='https://wandb.ai/bugi-sulistiyo-universitas-mulawarman/CAD%20-%20Glaucoma%20Segmentation' target=\"_blank\">Weights & Biases</a> (<a href='https://wandb.me/run' target=\"_blank\">docs</a>)<br/>"
      ],
      "text/plain": [
       "<IPython.core.display.HTML object>"
      ]
     },
     "metadata": {},
     "output_type": "display_data"
    },
    {
     "data": {
      "text/html": [
       " View project at <a href='https://wandb.ai/bugi-sulistiyo-universitas-mulawarman/CAD%20-%20Glaucoma%20Segmentation' target=\"_blank\">https://wandb.ai/bugi-sulistiyo-universitas-mulawarman/CAD%20-%20Glaucoma%20Segmentation</a>"
      ],
      "text/plain": [
       "<IPython.core.display.HTML object>"
      ]
     },
     "metadata": {},
     "output_type": "display_data"
    },
    {
     "data": {
      "text/html": [
       " View run at <a href='https://wandb.ai/bugi-sulistiyo-universitas-mulawarman/CAD%20-%20Glaucoma%20Segmentation/runs/qacqiuhs' target=\"_blank\">https://wandb.ai/bugi-sulistiyo-universitas-mulawarman/CAD%20-%20Glaucoma%20Segmentation/runs/qacqiuhs</a>"
      ],
      "text/plain": [
       "<IPython.core.display.HTML object>"
      ]
     },
     "metadata": {},
     "output_type": "display_data"
    },
    {
     "data": {
      "text/html": [
       "<style>\n",
       "    table.wandb td:nth-child(1) { padding: 0 10px; text-align: left ; width: auto;} td:nth-child(2) {text-align: left ; width: 100%}\n",
       "    .wandb-row { display: flex; flex-direction: row; flex-wrap: wrap; justify-content: flex-start; width: 100% }\n",
       "    .wandb-col { display: flex; flex-direction: column; flex-basis: 100%; flex: 1; padding: 10px; }\n",
       "    </style>\n",
       "<div class=\"wandb-row\"><div class=\"wandb-col\"><h3>Run history:</h3><br/><table class=\"wandb\"><tr><td>train_accuracy</td><td>▁▂▄▆▇▇████</td></tr><tr><td>train_auc</td><td>▁▄▆▆▇▇▇███</td></tr><tr><td>train_loss</td><td>█▅▄▄▃▃▂▂▂▁</td></tr><tr><td>train_precision</td><td>▁▄▅▆▇▇████</td></tr><tr><td>train_recall</td><td>▁▃▃▄▅▆▇███</td></tr><tr><td>val_accuracy</td><td>▁▇████████</td></tr><tr><td>val_auc</td><td>██▂▁▂▁▁▂▂▁</td></tr><tr><td>val_loss</td><td>▁▁▃▄▃▅▅▆▆█</td></tr><tr><td>val_precision</td><td>▁▁▁█▇▃▃▃▃▃</td></tr><tr><td>val_recall</td><td>▁▁▁▁▂█████</td></tr></table><br/></div><div class=\"wandb-col\"><h3>Run summary:</h3><br/><table class=\"wandb\"><tr><td>train_accuracy</td><td>0.97397</td></tr><tr><td>train_auc</td><td>0.96997</td></tr><tr><td>train_loss</td><td>0.00343</td></tr><tr><td>train_precision</td><td>0.90474</td></tr><tr><td>train_recall</td><td>0.89836</td></tr><tr><td>val_accuracy</td><td>0.98253</td></tr><tr><td>val_auc</td><td>0.50023</td></tr><tr><td>val_loss</td><td>0.01343</td></tr><tr><td>val_precision</td><td>0.27598</td></tr><tr><td>val_recall</td><td>0.27598</td></tr></table><br/></div></div>"
      ],
      "text/plain": [
       "<IPython.core.display.HTML object>"
      ]
     },
     "metadata": {},
     "output_type": "display_data"
    },
    {
     "data": {
      "text/html": [
       " View run <strong style=\"color:#cdcd00\">ori - implement weight training</strong> at: <a href='https://wandb.ai/bugi-sulistiyo-universitas-mulawarman/CAD%20-%20Glaucoma%20Segmentation/runs/qacqiuhs' target=\"_blank\">https://wandb.ai/bugi-sulistiyo-universitas-mulawarman/CAD%20-%20Glaucoma%20Segmentation/runs/qacqiuhs</a><br/> View project at: <a href='https://wandb.ai/bugi-sulistiyo-universitas-mulawarman/CAD%20-%20Glaucoma%20Segmentation' target=\"_blank\">https://wandb.ai/bugi-sulistiyo-universitas-mulawarman/CAD%20-%20Glaucoma%20Segmentation</a><br/>Synced 4 W&B file(s), 0 media file(s), 1 artifact file(s) and 0 other file(s)"
      ],
      "text/plain": [
       "<IPython.core.display.HTML object>"
      ]
     },
     "metadata": {},
     "output_type": "display_data"
    },
    {
     "data": {
      "text/html": [
       "Find logs at: <code>.\\wandb\\run-20241111_214734-qacqiuhs\\logs</code>"
      ],
      "text/plain": [
       "<IPython.core.display.HTML object>"
      ]
     },
     "metadata": {},
     "output_type": "display_data"
    }
   ],
   "source": [
    "hyperparam[\"aug\"] = False\n",
    "wandb.init(project=\"CAD - Glaucoma Segmentation\",\n",
    "            name=f\"ori - {wandb_init_name}\",\n",
    "            config=hyperparam)\n",
    "for epoch in range(len(history.history[\"loss\"])):\n",
    "    wandb.log({\n",
    "        \"train_loss\": history.history[\"loss\"][epoch],\n",
    "        \"train_accuracy\": history.history[\"mean_px_acc\"][epoch],\n",
    "        \"train_auc\": history.history[\"auc\"][epoch],\n",
    "        \"train_precision\": history.history[\"precision\"][epoch],\n",
    "        \"train_recall\": history.history[\"recall\"][epoch],\n",
    "        \"val_loss\": history.history[\"val_loss\"][epoch],\n",
    "        \"val_accuracy\": history.history[\"val_mean_px_acc\"][epoch],\n",
    "        \"val_auc\": history.history[\"val_auc\"][epoch],\n",
    "        \"val_precision\": history.history[\"val_precision\"][epoch],\n",
    "        \"val_recall\": history.history[\"val_recall\"][epoch],\n",
    "    })\n",
    "wandb.log_artifact(os.path.join(path_model, f\"{file_model_name}.h5\"))\n",
    "wandb.finish()"
   ]
  },
  {
   "cell_type": "code",
   "execution_count": 8,
   "metadata": {},
   "outputs": [
    {
     "name": "stderr",
     "output_type": "stream",
     "text": [
      "unet_model_ori.h5: 100%|██████████| 1.57M/1.57M [00:01<00:00, 814kB/s] \n"
     ]
    },
    {
     "data": {
      "text/plain": [
       "CommitInfo(commit_url='https://huggingface.co/bugi-sulistiyo/CAD-Glaucoma_Segmentation/commit/c3256adbd32033952cce414f3e0f6f4e554b56af', commit_message='implement weight training', commit_description='', oid='c3256adbd32033952cce414f3e0f6f4e554b56af', pr_url=None, repo_url=RepoUrl('https://huggingface.co/bugi-sulistiyo/CAD-Glaucoma_Segmentation', endpoint='https://huggingface.co', repo_type='model', repo_id='bugi-sulistiyo/CAD-Glaucoma_Segmentation'), pr_revision=None, pr_num=None)"
      ]
     },
     "execution_count": 8,
     "metadata": {},
     "output_type": "execute_result"
    }
   ],
   "source": [
    "api.upload_file(\n",
    "    repo_id=repo.repo_id,\n",
    "    path_or_fileobj=os.path.join(path_model, f\"{file_model_name}.h5\"),\n",
    "    path_in_repo=f\"model/{file_model_name}.h5\",\n",
    "    repo_type=repo.repo_type,\n",
    "    commit_message=hf_commit_message,\n",
    ")"
   ]
  },
  {
   "cell_type": "code",
   "execution_count": 9,
   "metadata": {},
   "outputs": [
    {
     "name": "stdout",
     "output_type": "stream",
     "text": [
      "Epoch 1/10\n",
      "16/16 [==============================] - 22s 482ms/step - loss: 0.0080 - mean_px_acc: 0.5325 - auc: 0.8262 - precision: 0.6938 - recall: 0.5863 - val_loss: 0.0095 - val_mean_px_acc: 0.4410 - val_auc: 0.7837 - val_precision: 0.0000e+00 - val_recall: 0.0000e+00\n",
      "Epoch 2/10\n",
      "16/16 [==============================] - 4s 90ms/step - loss: 0.0057 - mean_px_acc: 0.6357 - auc: 0.9106 - precision: 0.8086 - recall: 0.6938 - val_loss: 0.0092 - val_mean_px_acc: 0.9528 - val_auc: 0.9104 - val_precision: 0.0000e+00 - val_recall: 0.0000e+00\n",
      "Epoch 3/10\n",
      "16/16 [==============================] - 3s 94ms/step - loss: 0.0052 - mean_px_acc: 0.7624 - auc: 0.9280 - precision: 0.8311 - recall: 0.7060 - val_loss: 0.0104 - val_mean_px_acc: 0.9841 - val_auc: 0.6378 - val_precision: 1.0000 - val_recall: 3.1430e-05\n",
      "Epoch 4/10\n",
      "16/16 [==============================] - 4s 96ms/step - loss: 0.0048 - mean_px_acc: 0.8513 - auc: 0.9414 - precision: 0.8566 - recall: 0.7330 - val_loss: 0.0103 - val_mean_px_acc: 0.9852 - val_auc: 0.6400 - val_precision: 1.0000 - val_recall: 0.0219\n",
      "Epoch 5/10\n",
      "16/16 [==============================] - 4s 94ms/step - loss: 0.0046 - mean_px_acc: 0.8969 - auc: 0.9452 - precision: 0.8676 - recall: 0.7777 - val_loss: 0.0109 - val_mean_px_acc: 0.9833 - val_auc: 0.5773 - val_precision: 0.4943 - val_recall: 0.2041\n",
      "Epoch 6/10\n",
      "16/16 [==============================] - 4s 95ms/step - loss: 0.0042 - mean_px_acc: 0.9089 - auc: 0.9553 - precision: 0.8848 - recall: 0.8332 - val_loss: 0.0114 - val_mean_px_acc: 0.9824 - val_auc: 0.5849 - val_precision: 0.3739 - val_recall: 0.2758\n",
      "Epoch 7/10\n",
      "16/16 [==============================] - 4s 100ms/step - loss: 0.0039 - mean_px_acc: 0.9441 - auc: 0.9593 - precision: 0.8944 - recall: 0.8679 - val_loss: 0.0119 - val_mean_px_acc: 0.9825 - val_auc: 0.5651 - val_precision: 0.2955 - val_recall: 0.2760\n",
      "Epoch 8/10\n",
      "16/16 [==============================] - 4s 94ms/step - loss: 0.0037 - mean_px_acc: 0.9539 - auc: 0.9640 - precision: 0.9003 - recall: 0.8866 - val_loss: 0.0120 - val_mean_px_acc: 0.9826 - val_auc: 0.5554 - val_precision: 0.2974 - val_recall: 0.2760\n",
      "Epoch 9/10\n",
      "16/16 [==============================] - 4s 91ms/step - loss: 0.0035 - mean_px_acc: 0.9664 - auc: 0.9670 - precision: 0.9049 - recall: 0.8962 - val_loss: 0.0127 - val_mean_px_acc: 0.9825 - val_auc: 0.5615 - val_precision: 0.2773 - val_recall: 0.2760\n",
      "Epoch 10/10\n",
      "16/16 [==============================] - 4s 95ms/step - loss: 0.0035 - mean_px_acc: 0.9672 - auc: 0.9674 - precision: 0.9029 - recall: 0.8969 - val_loss: 0.0122 - val_mean_px_acc: 0.9834 - val_auc: 0.5400 - val_precision: 0.3339 - val_recall: 0.2894\n",
      "test loss: 0.4168853759765625\n",
      "test mean_px_acc: 0.9832783937454224\n",
      "test auc: 0.9897763729095459\n",
      "test precision: 0.9844380021095276\n",
      "test recall: 0.98222416639328\n"
     ]
    }
   ],
   "source": [
    "# create the unet model\n",
    "unet_custom = utils.custom_unet()\n",
    "file_model_name = \"unet_model_aug\"\n",
    "# train the model using augmented dataset\n",
    "unet_custom, history, ev_result = utils.train_model(unet_custom, trainset_aug, valset_aug, testset_aug, path_model, file_model_name)\n",
    "print(f\"test loss: {ev_result[0]}\", f\"test mean_px_acc: {ev_result[1]}\",\n",
    "        f\"test auc: {ev_result[2]}\", f\"test precision: {ev_result[3]}\",\n",
    "        f\"test recall: {ev_result[4]}\", sep=\"\\n\")"
   ]
  },
  {
   "cell_type": "code",
   "execution_count": 10,
   "metadata": {},
   "outputs": [
    {
     "data": {
      "text/html": [
       "wandb version 0.18.6 is available!  To upgrade, please run:\n",
       " $ pip install wandb --upgrade"
      ],
      "text/plain": [
       "<IPython.core.display.HTML object>"
      ]
     },
     "metadata": {},
     "output_type": "display_data"
    },
    {
     "data": {
      "text/html": [
       "Tracking run with wandb version 0.17.0"
      ],
      "text/plain": [
       "<IPython.core.display.HTML object>"
      ]
     },
     "metadata": {},
     "output_type": "display_data"
    },
    {
     "data": {
      "text/html": [
       "Run data is saved locally in <code>d:\\Programming\\Python\\Research Prof. Anindita\\scripts\\2. Modelling\\3. Modelling\\wandb\\run-20241111_214909-9rjiwbnq</code>"
      ],
      "text/plain": [
       "<IPython.core.display.HTML object>"
      ]
     },
     "metadata": {},
     "output_type": "display_data"
    },
    {
     "data": {
      "text/html": [
       "Syncing run <strong><a href='https://wandb.ai/bugi-sulistiyo-universitas-mulawarman/CAD%20-%20Glaucoma%20Segmentation/runs/9rjiwbnq' target=\"_blank\">aug - implement weight training</a></strong> to <a href='https://wandb.ai/bugi-sulistiyo-universitas-mulawarman/CAD%20-%20Glaucoma%20Segmentation' target=\"_blank\">Weights & Biases</a> (<a href='https://wandb.me/run' target=\"_blank\">docs</a>)<br/>"
      ],
      "text/plain": [
       "<IPython.core.display.HTML object>"
      ]
     },
     "metadata": {},
     "output_type": "display_data"
    },
    {
     "data": {
      "text/html": [
       " View project at <a href='https://wandb.ai/bugi-sulistiyo-universitas-mulawarman/CAD%20-%20Glaucoma%20Segmentation' target=\"_blank\">https://wandb.ai/bugi-sulistiyo-universitas-mulawarman/CAD%20-%20Glaucoma%20Segmentation</a>"
      ],
      "text/plain": [
       "<IPython.core.display.HTML object>"
      ]
     },
     "metadata": {},
     "output_type": "display_data"
    },
    {
     "data": {
      "text/html": [
       " View run at <a href='https://wandb.ai/bugi-sulistiyo-universitas-mulawarman/CAD%20-%20Glaucoma%20Segmentation/runs/9rjiwbnq' target=\"_blank\">https://wandb.ai/bugi-sulistiyo-universitas-mulawarman/CAD%20-%20Glaucoma%20Segmentation/runs/9rjiwbnq</a>"
      ],
      "text/plain": [
       "<IPython.core.display.HTML object>"
      ]
     },
     "metadata": {},
     "output_type": "display_data"
    },
    {
     "data": {
      "text/html": [
       "<style>\n",
       "    table.wandb td:nth-child(1) { padding: 0 10px; text-align: left ; width: auto;} td:nth-child(2) {text-align: left ; width: 100%}\n",
       "    .wandb-row { display: flex; flex-direction: row; flex-wrap: wrap; justify-content: flex-start; width: 100% }\n",
       "    .wandb-col { display: flex; flex-direction: column; flex-basis: 100%; flex: 1; padding: 10px; }\n",
       "    </style>\n",
       "<div class=\"wandb-row\"><div class=\"wandb-col\"><h3>Run history:</h3><br/><table class=\"wandb\"><tr><td>train_accuracy</td><td>▁▃▅▆▇▇████</td></tr><tr><td>train_auc</td><td>▁▅▆▇▇▇████</td></tr><tr><td>train_loss</td><td>█▄▄▃▃▂▂▁▁▁</td></tr><tr><td>train_precision</td><td>▁▅▆▆▇▇████</td></tr><tr><td>train_recall</td><td>▁▃▄▄▅▇▇███</td></tr><tr><td>val_accuracy</td><td>▁█████████</td></tr><tr><td>val_auc</td><td>▆█▃▃▂▂▁▁▁▁</td></tr><tr><td>val_loss</td><td>▂▁▃▃▄▅▆▇█▇</td></tr><tr><td>val_precision</td><td>▁▁██▄▄▃▃▃▃</td></tr><tr><td>val_recall</td><td>▁▁▁▂▆█████</td></tr></table><br/></div><div class=\"wandb-col\"><h3>Run summary:</h3><br/><table class=\"wandb\"><tr><td>train_accuracy</td><td>0.96723</td></tr><tr><td>train_auc</td><td>0.96736</td></tr><tr><td>train_loss</td><td>0.00345</td></tr><tr><td>train_precision</td><td>0.90292</td></tr><tr><td>train_recall</td><td>0.89694</td></tr><tr><td>val_accuracy</td><td>0.98338</td></tr><tr><td>val_auc</td><td>0.54001</td></tr><tr><td>val_loss</td><td>0.01221</td></tr><tr><td>val_precision</td><td>0.33389</td></tr><tr><td>val_recall</td><td>0.28937</td></tr></table><br/></div></div>"
      ],
      "text/plain": [
       "<IPython.core.display.HTML object>"
      ]
     },
     "metadata": {},
     "output_type": "display_data"
    },
    {
     "data": {
      "text/html": [
       " View run <strong style=\"color:#cdcd00\">aug - implement weight training</strong> at: <a href='https://wandb.ai/bugi-sulistiyo-universitas-mulawarman/CAD%20-%20Glaucoma%20Segmentation/runs/9rjiwbnq' target=\"_blank\">https://wandb.ai/bugi-sulistiyo-universitas-mulawarman/CAD%20-%20Glaucoma%20Segmentation/runs/9rjiwbnq</a><br/> View project at: <a href='https://wandb.ai/bugi-sulistiyo-universitas-mulawarman/CAD%20-%20Glaucoma%20Segmentation' target=\"_blank\">https://wandb.ai/bugi-sulistiyo-universitas-mulawarman/CAD%20-%20Glaucoma%20Segmentation</a><br/>Synced 4 W&B file(s), 0 media file(s), 1 artifact file(s) and 0 other file(s)"
      ],
      "text/plain": [
       "<IPython.core.display.HTML object>"
      ]
     },
     "metadata": {},
     "output_type": "display_data"
    },
    {
     "data": {
      "text/html": [
       "Find logs at: <code>.\\wandb\\run-20241111_214909-9rjiwbnq\\logs</code>"
      ],
      "text/plain": [
       "<IPython.core.display.HTML object>"
      ]
     },
     "metadata": {},
     "output_type": "display_data"
    }
   ],
   "source": [
    "hyperparam[\"aug\"] = True\n",
    "wandb.init(project=\"CAD - Glaucoma Segmentation\",\n",
    "            name=f\"aug - {wandb_init_name}\",\n",
    "            config=hyperparam)\n",
    "for epoch in range(len(history.history[\"loss\"])):\n",
    "    wandb.log({\n",
    "        \"train_loss\": history.history[\"loss\"][epoch],\n",
    "        \"train_accuracy\": history.history[\"mean_px_acc\"][epoch],\n",
    "        \"train_auc\": history.history[\"auc\"][epoch],\n",
    "        \"train_precision\": history.history[\"precision\"][epoch],\n",
    "        \"train_recall\": history.history[\"recall\"][epoch],\n",
    "        \"val_loss\": history.history[\"val_loss\"][epoch],\n",
    "        \"val_accuracy\": history.history[\"val_mean_px_acc\"][epoch],\n",
    "        \"val_auc\": history.history[\"val_auc\"][epoch],\n",
    "        \"val_precision\": history.history[\"val_precision\"][epoch],\n",
    "        \"val_recall\": history.history[\"val_recall\"][epoch],\n",
    "    })\n",
    "wandb.log_artifact(os.path.join(path_model, f\"{file_model_name}.h5\"))\n",
    "wandb.finish()"
   ]
  },
  {
   "cell_type": "code",
   "execution_count": 11,
   "metadata": {},
   "outputs": [
    {
     "name": "stderr",
     "output_type": "stream",
     "text": [
      "unet_model_aug.h5: 100%|██████████| 1.57M/1.57M [00:01<00:00, 971kB/s] \n"
     ]
    },
    {
     "data": {
      "text/plain": [
       "CommitInfo(commit_url='https://huggingface.co/bugi-sulistiyo/CAD-Glaucoma_Segmentation/commit/795935712506c87bcce6caaf200a8e052cfb4e3f', commit_message='aug - implement weight training', commit_description='', oid='795935712506c87bcce6caaf200a8e052cfb4e3f', pr_url=None, repo_url=RepoUrl('https://huggingface.co/bugi-sulistiyo/CAD-Glaucoma_Segmentation', endpoint='https://huggingface.co', repo_type='model', repo_id='bugi-sulistiyo/CAD-Glaucoma_Segmentation'), pr_revision=None, pr_num=None)"
      ]
     },
     "execution_count": 11,
     "metadata": {},
     "output_type": "execute_result"
    }
   ],
   "source": [
    "api.upload_file(\n",
    "    repo_id=repo.repo_id,\n",
    "    path_or_fileobj=os.path.join(path_model, f\"{file_model_name}.h5\"),\n",
    "    path_in_repo=f\"model/{file_model_name}.h5\",\n",
    "    repo_type=repo.repo_type,\n",
    "    commit_message=f\"aug - {hf_commit_message}\",\n",
    ")"
   ]
  }
 ],
 "metadata": {
  "kernelspec": {
   "display_name": "modeling",
   "language": "python",
   "name": "python3"
  },
  "language_info": {
   "codemirror_mode": {
    "name": "ipython",
    "version": 3
   },
   "file_extension": ".py",
   "mimetype": "text/x-python",
   "name": "python",
   "nbconvert_exporter": "python",
   "pygments_lexer": "ipython3",
   "version": "3.9.20"
  }
 },
 "nbformat": 4,
 "nbformat_minor": 2
}
