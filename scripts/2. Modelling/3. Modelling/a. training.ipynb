{
 "cells": [
  {
   "cell_type": "code",
   "execution_count": 1,
   "metadata": {},
   "outputs": [],
   "source": [
    "import sys\n",
    "sys.path.insert(0, \"./../\")\n",
    "\n",
    "import os\n",
    "import utils_modelling as utils"
   ]
  },
  {
   "cell_type": "code",
   "execution_count": 2,
   "metadata": {},
   "outputs": [],
   "source": [
    "path_dataset = \"./../../../dataset_used_split\"\n",
    "path_train = os.path.join(path_dataset, \"train\")\n",
    "path_val = os.path.join(path_dataset, \"val\")\n",
    "path_test = os.path.join(path_dataset, \"test\")"
   ]
  },
  {
   "cell_type": "code",
   "execution_count": 3,
   "metadata": {},
   "outputs": [],
   "source": [
    "train_img, train_mask = utils.load_img_mask(path_train)\n",
    "val_img, val_mask = utils.load_img_mask(path_val)\n",
    "test_img, test_mask = utils.load_img_mask(path_test)"
   ]
  },
  {
   "cell_type": "code",
   "execution_count": 4,
   "metadata": {},
   "outputs": [],
   "source": [
    "trainset = utils.create_dataset(train_img, train_mask)\n",
    "valset = utils.create_dataset(val_img, val_mask)\n",
    "testset = utils.create_dataset(test_img, test_mask)"
   ]
  },
  {
   "cell_type": "code",
   "execution_count": 5,
   "metadata": {},
   "outputs": [],
   "source": [
    "unet_custom = utils.custom_unet()"
   ]
  },
  {
   "cell_type": "code",
   "execution_count": 6,
   "metadata": {},
   "outputs": [],
   "source": [
    "unet_custom.compile(optimizer=\"adam\",\n",
    "                    loss=\"sparse_categorical_crossentropy\",\n",
    "                    metrics=[\"accuracy\"])"
   ]
  },
  {
   "cell_type": "code",
   "execution_count": 7,
   "metadata": {},
   "outputs": [
    {
     "name": "stdout",
     "output_type": "stream",
     "text": [
      "Epoch 1/10\n",
      "16/16 [==============================] - 35s 880ms/step - loss: nan - accuracy: 0.9202 - val_loss: nan - val_accuracy: 0.9824\n",
      "Epoch 2/10\n",
      "16/16 [==============================] - 7s 445ms/step - loss: nan - accuracy: 0.9825 - val_loss: nan - val_accuracy: 0.9824\n",
      "Epoch 3/10\n",
      "16/16 [==============================] - 7s 439ms/step - loss: nan - accuracy: 0.9825 - val_loss: nan - val_accuracy: 0.9824\n",
      "Epoch 4/10\n",
      "16/16 [==============================] - 7s 424ms/step - loss: nan - accuracy: 0.9825 - val_loss: nan - val_accuracy: 0.9824\n",
      "Epoch 5/10\n",
      "16/16 [==============================] - 7s 405ms/step - loss: nan - accuracy: 0.9825 - val_loss: nan - val_accuracy: 0.9824\n",
      "Epoch 6/10\n",
      "16/16 [==============================] - 7s 404ms/step - loss: nan - accuracy: 0.9825 - val_loss: nan - val_accuracy: 0.9824\n",
      "Epoch 7/10\n",
      "16/16 [==============================] - 7s 401ms/step - loss: nan - accuracy: 0.9825 - val_loss: nan - val_accuracy: 0.9824\n",
      "Epoch 8/10\n",
      "16/16 [==============================] - 7s 400ms/step - loss: nan - accuracy: 0.9825 - val_loss: nan - val_accuracy: 0.9824\n",
      "Epoch 9/10\n",
      "16/16 [==============================] - 8s 530ms/step - loss: nan - accuracy: 0.9825 - val_loss: nan - val_accuracy: 0.9824\n",
      "Epoch 10/10\n",
      "16/16 [==============================] - 5s 318ms/step - loss: nan - accuracy: 0.9825 - val_loss: nan - val_accuracy: 0.9824\n"
     ]
    },
    {
     "data": {
      "text/plain": [
       "<keras.callbacks.History at 0x20840386a70>"
      ]
     },
     "execution_count": 7,
     "metadata": {},
     "output_type": "execute_result"
    }
   ],
   "source": [
    "unet_custom.fit(trainset,\n",
    "                validation_data=valset,\n",
    "                epochs=10)"
   ]
  },
  {
   "cell_type": "code",
   "execution_count": 8,
   "metadata": {},
   "outputs": [
    {
     "name": "stdout",
     "output_type": "stream",
     "text": [
      "tf.Tensor(\n",
      "[[[0]\n",
      "  [0]\n",
      "  [0]\n",
      "  ...\n",
      "  [0]\n",
      "  [0]\n",
      "  [0]]\n",
      "\n",
      " [[0]\n",
      "  [0]\n",
      "  [0]\n",
      "  ...\n",
      "  [0]\n",
      "  [0]\n",
      "  [0]]\n",
      "\n",
      " [[0]\n",
      "  [0]\n",
      "  [0]\n",
      "  ...\n",
      "  [0]\n",
      "  [0]\n",
      "  [0]]\n",
      "\n",
      " ...\n",
      "\n",
      " [[0]\n",
      "  [0]\n",
      "  [0]\n",
      "  ...\n",
      "  [0]\n",
      "  [0]\n",
      "  [0]]\n",
      "\n",
      " [[0]\n",
      "  [0]\n",
      "  [0]\n",
      "  ...\n",
      "  [0]\n",
      "  [0]\n",
      "  [0]]\n",
      "\n",
      " [[0]\n",
      "  [0]\n",
      "  [0]\n",
      "  ...\n",
      "  [0]\n",
      "  [0]\n",
      "  [0]]], shape=(128, 128, 1), dtype=int32)\n",
      "16\n"
     ]
    }
   ],
   "source": [
    "import matplotlib.pyplot as plt\n",
    "\n",
    "for images, masks in trainset.take(9):\n",
    "    print(masks[0])\n",
    "    print(len(masks))\n",
    "    # for i in range(3):\n",
    "    #     plt.subplot(1, 3, i + 1)\n",
    "    #     plt.imshow(images[i])\n",
    "    #     plt.imshow(masks[i], alpha=0.5)\n",
    "    # plt.show()\n",
    "    break"
   ]
  }
 ],
 "metadata": {
  "kernelspec": {
   "display_name": "modeling",
   "language": "python",
   "name": "python3"
  },
  "language_info": {
   "codemirror_mode": {
    "name": "ipython",
    "version": 3
   },
   "file_extension": ".py",
   "mimetype": "text/x-python",
   "name": "python",
   "nbconvert_exporter": "python",
   "pygments_lexer": "ipython3",
   "version": "3.10.14"
  }
 },
 "nbformat": 4,
 "nbformat_minor": 2
}
