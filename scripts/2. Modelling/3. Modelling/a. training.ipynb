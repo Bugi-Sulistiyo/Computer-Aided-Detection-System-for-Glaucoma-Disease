{
 "cells": [
  {
   "cell_type": "markdown",
   "metadata": {},
   "source": [
    "### Import the needed packages"
   ]
  },
  {
   "cell_type": "code",
   "execution_count": 1,
   "metadata": {},
   "outputs": [
    {
     "name": "stdout",
     "output_type": "stream",
     "text": [
      "WARNING:tensorflow:From c:\\Users\\Bugi\\miniconda3\\envs\\modeling\\lib\\site-packages\\keras\\src\\losses.py:2976: The name tf.losses.sparse_softmax_cross_entropy is deprecated. Please use tf.compat.v1.losses.sparse_softmax_cross_entropy instead.\n",
      "\n",
      "WARNING:tensorflow:From c:\\Users\\Bugi\\miniconda3\\envs\\modeling\\lib\\site-packages\\keras\\src\\backend.py:277: The name tf.reset_default_graph is deprecated. Please use tf.compat.v1.reset_default_graph instead.\n",
      "\n"
     ]
    }
   ],
   "source": [
    "# package for using the the custom scripts \n",
    "import sys\n",
    "sys.path.insert(0, \"./../\")\n",
    "# package for handling files and directories\n",
    "import os\n",
    "# a custom package for handling the data\n",
    "import utils_modelling as utils"
   ]
  },
  {
   "cell_type": "markdown",
   "metadata": {},
   "source": [
    "### Global variable"
   ]
  },
  {
   "cell_type": "code",
   "execution_count": 2,
   "metadata": {},
   "outputs": [],
   "source": [
    "path_dataset_ori = \"./../../../dataset_used_split_ori\"\n",
    "path_dataset_aug = \"./../../../dataset_used_split_aug\"\n",
    "ori_path = {\n",
    "    \"train\": os.path.join(path_dataset_ori, \"train\"),\n",
    "    \"val\": os.path.join(path_dataset_ori, \"val\"),\n",
    "    \"test\": os.path.join(path_dataset_ori, \"test\")\n",
    "}\n",
    "aug_path = {\n",
    "    \"train\": os.path.join(path_dataset_aug, \"train\"),\n",
    "    \"val\": os.path.join(path_dataset_aug, \"val\"),\n",
    "    \"test\": os.path.join(path_dataset_aug, \"test\")\n",
    "}"
   ]
  },
  {
   "cell_type": "markdown",
   "metadata": {},
   "source": [
    "### Import the images and mask"
   ]
  },
  {
   "cell_type": "code",
   "execution_count": 3,
   "metadata": {},
   "outputs": [],
   "source": [
    "# get the original dataset\n",
    "train_ori_img, train_ori_mask = utils.load_img_mask(ori_path[\"train\"])\n",
    "val_ori_img, val_ori_mask = utils.load_img_mask(ori_path[\"val\"])\n",
    "test_ori_img, test_ori_mask = utils.load_img_mask(ori_path[\"test\"])\n",
    "\n",
    "# get the augmented dataset\n",
    "train_aug_img, train_aug_mask = utils.load_img_mask(aug_path[\"train\"])\n",
    "val_aug_img, val_aug_mask = utils.load_img_mask(aug_path[\"val\"])\n",
    "test_aug_img, test_aug_mask = utils.load_img_mask(aug_path[\"test\"])"
   ]
  },
  {
   "cell_type": "markdown",
   "metadata": {},
   "source": [
    "### Create the batched dataset"
   ]
  },
  {
   "cell_type": "code",
   "execution_count": 4,
   "metadata": {},
   "outputs": [],
   "source": [
    "# create the tensor dataset for original dataset\n",
    "trainset_ori = utils.create_dataset(train_ori_img, train_ori_mask)\n",
    "valset_ori = utils.create_dataset(val_ori_img, val_ori_mask)\n",
    "testset_ori = utils.create_dataset(test_ori_img, test_ori_mask)\n",
    "\n",
    "# create the tensor dataset for augmented dataset\n",
    "trainset_aug = utils.create_dataset(train_aug_img, train_aug_mask)\n",
    "valset_aug = utils.create_dataset(val_aug_img, val_aug_mask)\n",
    "testset_aug = utils.create_dataset(test_aug_img, test_aug_mask)"
   ]
  },
  {
   "cell_type": "markdown",
   "metadata": {},
   "source": [
    "### Train model"
   ]
  },
  {
   "cell_type": "code",
   "execution_count": 10,
   "metadata": {},
   "outputs": [
    {
     "name": "stdout",
     "output_type": "stream",
     "text": [
      "Epoch 1/10\n",
      "16/16 [==============================] - 31s 1s/step - loss: 1.1164 - accuracy: 0.0000e+00 - mean_io_u_4: 0.3333 - precision_4: 0.6146 - recall_4: 0.2220 - val_loss: 1.0109 - val_accuracy: 0.0000e+00 - val_mean_io_u_4: 0.3333 - val_precision_4: 0.0000e+00 - val_recall_4: 0.0000e+00\n",
      "Epoch 2/10\n",
      "16/16 [==============================] - 22s 1s/step - loss: 0.8773 - accuracy: 0.0000e+00 - mean_io_u_4: 0.3333 - precision_4: 0.8658 - recall_4: 0.1230 - val_loss: 0.9226 - val_accuracy: 0.0000e+00 - val_mean_io_u_4: 0.3333 - val_precision_4: 0.0000e+00 - val_recall_4: 0.0000e+00\n",
      "Epoch 3/10\n",
      "16/16 [==============================] - 20s 1s/step - loss: 0.7874 - accuracy: 5.7892e-07 - mean_io_u_4: 0.3333 - precision_4: 0.9521 - recall_4: 0.2547 - val_loss: 0.8296 - val_accuracy: 0.0000e+00 - val_mean_io_u_4: 0.3333 - val_precision_4: 1.0000 - val_recall_4: 0.0032\n",
      "Epoch 4/10\n",
      "16/16 [==============================] - 19s 1s/step - loss: 0.6916 - accuracy: 0.0000e+00 - mean_io_u_4: 0.3333 - precision_4: 0.9811 - recall_4: 0.6402 - val_loss: 0.7216 - val_accuracy: 0.0000e+00 - val_mean_io_u_4: 0.3333 - val_precision_4: 0.9413 - val_recall_4: 0.1407\n",
      "Epoch 5/10\n",
      "16/16 [==============================] - 20s 1s/step - loss: 0.6167 - accuracy: 0.0000e+00 - mean_io_u_4: 0.3333 - precision_4: 0.9874 - recall_4: 0.9319 - val_loss: 0.6266 - val_accuracy: 0.0000e+00 - val_mean_io_u_4: 0.3333 - val_precision_4: 0.9825 - val_recall_4: 0.9825\n",
      "Epoch 6/10\n",
      "16/16 [==============================] - 20s 1s/step - loss: 0.5322 - accuracy: 9.0974e-07 - mean_io_u_4: 0.3333 - precision_4: 0.9899 - recall_4: 0.9809 - val_loss: 0.4941 - val_accuracy: 0.0000e+00 - val_mean_io_u_4: 0.3333 - val_precision_4: 0.9825 - val_recall_4: 0.9825\n",
      "Epoch 7/10\n",
      "16/16 [==============================] - 22s 1s/step - loss: 0.4497 - accuracy: 1.9849e-06 - mean_io_u_4: 0.3333 - precision_4: 0.9909 - recall_4: 0.9881 - val_loss: 0.3781 - val_accuracy: 0.0000e+00 - val_mean_io_u_4: 0.3333 - val_precision_4: 0.9825 - val_recall_4: 0.9825\n",
      "Epoch 8/10\n",
      "16/16 [==============================] - 21s 1s/step - loss: 0.3798 - accuracy: 7.2779e-06 - mean_io_u_4: 0.3333 - precision_4: 0.9917 - recall_4: 0.9898 - val_loss: 0.2991 - val_accuracy: 0.0000e+00 - val_mean_io_u_4: 0.3333 - val_precision_4: 0.9825 - val_recall_4: 0.9825\n",
      "Epoch 9/10\n",
      "16/16 [==============================] - 22s 1s/step - loss: 0.3201 - accuracy: 9.7590e-06 - mean_io_u_4: 0.3333 - precision_4: 0.9918 - recall_4: 0.9903 - val_loss: 0.2550 - val_accuracy: 0.0000e+00 - val_mean_io_u_4: 0.3333 - val_precision_4: 0.9825 - val_recall_4: 0.9825\n",
      "Epoch 10/10\n",
      "16/16 [==============================] - 20s 1s/step - loss: 0.2702 - accuracy: 2.6548e-05 - mean_io_u_4: 0.3333 - precision_4: 0.9923 - recall_4: 0.9911 - val_loss: 0.2094 - val_accuracy: 0.0000e+00 - val_mean_io_u_4: 0.3333 - val_precision_4: 0.9825 - val_recall_4: 0.9825\n",
      "test loss: 0.20868414640426636\n",
      "test accuracy: 0.0\n",
      "test mean IoU: 0.3333333432674408\n",
      "test precision: 0.9829634428024292\n",
      "test recall: 0.9829634428024292\n"
     ]
    }
   ],
   "source": [
    "# create the unet model\n",
    "unet_custom = utils.custom_unet()\n",
    "# train the model using original dataset\n",
    "unet_custom, history, ev_result = utils.train_model(unet_custom, trainset_ori, valset_ori, testset_ori, \"unet_model_ori\")\n",
    "print(f\"test loss: {ev_result[0]}\", f\"test accuracy: {ev_result[1]}\",\n",
    "        f\"test mean IoU: {ev_result[2]}\", f\"test precision: {ev_result[3]}\",\n",
    "        f\"test recall: {ev_result[4]}\", sep=\"\\n\")"
   ]
  },
  {
   "cell_type": "code",
   "execution_count": 9,
   "metadata": {},
   "outputs": [
    {
     "name": "stdout",
     "output_type": "stream",
     "text": [
      "Epoch 1/10\n",
      "16/16 [==============================] - 42s 1s/step - loss: 1.1171 - accuracy: 0.0000e+00 - mean_io_u_3: 0.3333 - precision_3: 0.5427 - recall_3: 0.1686 - val_loss: 1.0524 - val_accuracy: 0.0000e+00 - val_mean_io_u_3: 0.3333 - val_precision_3: 0.0000e+00 - val_recall_3: 0.0000e+00\n",
      "Epoch 2/10\n",
      "16/16 [==============================] - 18s 1s/step - loss: 0.8684 - accuracy: 0.0000e+00 - mean_io_u_3: 0.3333 - precision_3: 0.8825 - recall_3: 0.1119 - val_loss: 1.0548 - val_accuracy: 0.0000e+00 - val_mean_io_u_3: 0.3333 - val_precision_3: 0.0000e+00 - val_recall_3: 0.0000e+00\n",
      "Epoch 3/10\n",
      "16/16 [==============================] - 19s 1s/step - loss: 0.7754 - accuracy: 0.0000e+00 - mean_io_u_3: 0.3333 - precision_3: 0.9437 - recall_3: 0.2040 - val_loss: 0.9215 - val_accuracy: 0.0000e+00 - val_mean_io_u_3: 0.3333 - val_precision_3: 0.0000e+00 - val_recall_3: 0.0000e+00\n",
      "Epoch 4/10\n",
      "16/16 [==============================] - 19s 1s/step - loss: 0.6908 - accuracy: 0.0000e+00 - mean_io_u_3: 0.3333 - precision_3: 0.9843 - recall_3: 0.7046 - val_loss: 0.7501 - val_accuracy: 0.0000e+00 - val_mean_io_u_3: 0.3333 - val_precision_3: 1.0000 - val_recall_3: 0.0566\n",
      "Epoch 5/10\n",
      "16/16 [==============================] - 17s 1s/step - loss: 0.6103 - accuracy: 0.0000e+00 - mean_io_u_3: 0.3333 - precision_3: 0.9886 - recall_3: 0.9241 - val_loss: 0.6533 - val_accuracy: 0.0000e+00 - val_mean_io_u_3: 0.3333 - val_precision_3: 0.9951 - val_recall_3: 0.9595\n",
      "Epoch 6/10\n",
      "16/16 [==============================] - 19s 1s/step - loss: 0.5310 - accuracy: 0.0000e+00 - mean_io_u_3: 0.3333 - precision_3: 0.9913 - recall_3: 0.9867 - val_loss: 0.5267 - val_accuracy: 0.0000e+00 - val_mean_io_u_3: 0.3333 - val_precision_3: 0.9825 - val_recall_3: 0.9825\n",
      "Epoch 7/10\n",
      "16/16 [==============================] - 19s 1s/step - loss: 0.4547 - accuracy: 0.0000e+00 - mean_io_u_3: 0.3333 - precision_3: 0.9919 - recall_3: 0.9896 - val_loss: 0.4077 - val_accuracy: 0.0000e+00 - val_mean_io_u_3: 0.3333 - val_precision_3: 0.9825 - val_recall_3: 0.9825\n",
      "Epoch 8/10\n",
      "16/16 [==============================] - 23s 1s/step - loss: 0.3848 - accuracy: 0.0000e+00 - mean_io_u_3: 0.3333 - precision_3: 0.9927 - recall_3: 0.9911 - val_loss: 0.3156 - val_accuracy: 0.0000e+00 - val_mean_io_u_3: 0.3333 - val_precision_3: 0.9825 - val_recall_3: 0.9825\n",
      "Epoch 9/10\n",
      "16/16 [==============================] - 23s 1s/step - loss: 0.3225 - accuracy: 0.0000e+00 - mean_io_u_3: 0.3333 - precision_3: 0.9930 - recall_3: 0.9918 - val_loss: 0.2453 - val_accuracy: 0.0000e+00 - val_mean_io_u_3: 0.3333 - val_precision_3: 0.9825 - val_recall_3: 0.9825\n",
      "Epoch 10/10\n",
      "16/16 [==============================] - 18s 1s/step - loss: 0.2676 - accuracy: 0.0000e+00 - mean_io_u_3: 0.3333 - precision_3: 0.9933 - recall_3: 0.9925 - val_loss: 0.2060 - val_accuracy: 0.0000e+00 - val_mean_io_u_3: 0.3333 - val_precision_3: 0.9825 - val_recall_3: 0.9825\n"
     ]
    },
    {
     "name": "stderr",
     "output_type": "stream",
     "text": [
      "c:\\Users\\Bugi\\miniconda3\\envs\\modeling\\lib\\site-packages\\keras\\src\\engine\\training.py:3103: UserWarning: You are saving your model as an HDF5 file via `model.save()`. This file format is considered legacy. We recommend using instead the native Keras format, e.g. `model.save('my_model.keras')`.\n",
      "  saving_api.save_model(\n"
     ]
    },
    {
     "name": "stdout",
     "output_type": "stream",
     "text": [
      "test loss: 0.20517206192016602\n",
      "test accuracy: 0.0\n",
      "test mean IoU: 0.3333333432674408\n",
      "test precision: 0.9829634428024292\n",
      "test recall: 0.9829634428024292\n"
     ]
    }
   ],
   "source": [
    "# create the unet model\n",
    "unet_custom = utils.custom_unet()\n",
    "# train the model using augmented dataset\n",
    "unet_custom, history, ev_result = utils.train_model(unet_custom, trainset_aug, valset_aug, testset_aug, \"unet_model_aug\")\n",
    "print(f\"test loss: {ev_result[0]}\", f\"test accuracy: {ev_result[1]}\",\n",
    "        f\"test mean IoU: {ev_result[2]}\", f\"test precision: {ev_result[3]}\",\n",
    "        f\"test recall: {ev_result[4]}\", sep=\"\\n\")"
   ]
  }
 ],
 "metadata": {
  "kernelspec": {
   "display_name": "modeling",
   "language": "python",
   "name": "python3"
  },
  "language_info": {
   "codemirror_mode": {
    "name": "ipython",
    "version": 3
   },
   "file_extension": ".py",
   "mimetype": "text/x-python",
   "name": "python",
   "nbconvert_exporter": "python",
   "pygments_lexer": "ipython3",
   "version": "3.10.14"
  }
 },
 "nbformat": 4,
 "nbformat_minor": 2
}
