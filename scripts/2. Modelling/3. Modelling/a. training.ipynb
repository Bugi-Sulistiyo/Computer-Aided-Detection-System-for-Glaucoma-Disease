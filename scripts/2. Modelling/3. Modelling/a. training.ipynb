{
 "cells": [
  {
   "cell_type": "markdown",
   "metadata": {},
   "source": [
    "### Import the needed packages"
   ]
  },
  {
   "cell_type": "code",
   "execution_count": 15,
   "metadata": {},
   "outputs": [],
   "source": [
    "# package for using the the custom scripts \n",
    "import sys\n",
    "sys.path.insert(0, \"./../\")\n",
    "# package for handling files and directories\n",
    "import os\n",
    "\n",
    "import wandb\n",
    "# a custom package for handling the data\n",
    "import utilities as utils\n",
    "\n",
    "from huggingface_hub import HfApi\n",
    "\n",
    "from dotenv import load_dotenv\n",
    "\n",
    "load_dotenv()\n",
    "os.environ[\"WANDB_SILENT\"] = \"true\""
   ]
  },
  {
   "cell_type": "markdown",
   "metadata": {},
   "source": [
    "### Global variable"
   ]
  },
  {
   "cell_type": "code",
   "execution_count": 3,
   "metadata": {},
   "outputs": [],
   "source": [
    "path_full = os.environ.get(\"ORI_PATH\")\n",
    "path_dataset_ori = os.path.join(path_full, \"datasets\", \"splitted\", \"original\")\n",
    "path_dataset_aug = os.path.join(path_full, \"datasets\", \"splitted\", \"augmented\")\n",
    "path_model = os.path.join(path_full, \"data\", \"model\")\n",
    "wandb_init_name = \"implement callbacks\"\n",
    "hf_commit_message = \"implement callbacks\"\n",
    "hyperparam = {\n",
    "    \"batch_size\": 16,\n",
    "    \"img_size\": 128,\n",
    "    \"shuffle\": True,\n",
    "    \"model_type\": \"U-net\",\n",
    "    \"metrics\": [\"accuracy\", \"MeanIoU\", \"Precision\", \"Recall\"],\n",
    "    \"split_ratio\": [7,1,2],\n",
    "    \"dataset_balance\": True,\n",
    "    \"weighted_training\": True,\n",
    "}\n",
    "ori_path = {\n",
    "    \"train\": os.path.join(path_dataset_ori, \"train\"),\n",
    "    \"val\": os.path.join(path_dataset_ori, \"val\"),\n",
    "    \"test\": os.path.join(path_dataset_ori, \"test\"),\n",
    "}\n",
    "aug_path = {\n",
    "    \"train\": os.path.join(path_dataset_aug, \"train\"),\n",
    "    \"val\": os.path.join(path_dataset_aug, \"val\"),\n",
    "    \"test\": os.path.join(path_dataset_aug, \"test\"),\n",
    "}"
   ]
  },
  {
   "cell_type": "markdown",
   "metadata": {},
   "source": [
    "### Import the images and mask"
   ]
  },
  {
   "cell_type": "code",
   "execution_count": 4,
   "metadata": {},
   "outputs": [],
   "source": [
    "# get the original dataset\n",
    "train_ori_img, train_ori_mask = utils.load_img_mask(ori_path[\"train\"])\n",
    "val_ori_img, val_ori_mask = utils.load_img_mask(ori_path[\"val\"])\n",
    "test_ori_img, test_ori_mask = utils.load_img_mask(ori_path[\"test\"])\n",
    "\n",
    "# get the augmented dataset\n",
    "train_aug_img, train_aug_mask = utils.load_img_mask(aug_path[\"train\"])\n",
    "val_aug_img, val_aug_mask = utils.load_img_mask(aug_path[\"val\"])\n",
    "test_aug_img, test_aug_mask = utils.load_img_mask(aug_path[\"test\"])"
   ]
  },
  {
   "cell_type": "markdown",
   "metadata": {},
   "source": [
    "### Create the batched dataset"
   ]
  },
  {
   "cell_type": "code",
   "execution_count": 5,
   "metadata": {},
   "outputs": [],
   "source": [
    "# create the tensor dataset for original dataset\n",
    "trainset_ori = utils.create_dataset(train_ori_img, train_ori_mask, hyperparam[\"img_size\"], hyperparam[\"batch_size\"])\n",
    "valset_ori = utils.create_dataset(val_ori_img, val_ori_mask, hyperparam[\"img_size\"], hyperparam[\"batch_size\"])\n",
    "testset_ori = utils.create_dataset(test_ori_img, test_ori_mask, hyperparam[\"img_size\"], hyperparam[\"batch_size\"])\n",
    "\n",
    "# create the tensor dataset for augmented dataset\n",
    "trainset_aug = utils.create_dataset(train_aug_img, train_aug_mask, hyperparam[\"img_size\"], hyperparam[\"batch_size\"])\n",
    "valset_aug = utils.create_dataset(val_aug_img, val_aug_mask, hyperparam[\"img_size\"], hyperparam[\"batch_size\"])\n",
    "testset_aug = utils.create_dataset(test_aug_img, test_aug_mask, hyperparam[\"img_size\"], hyperparam[\"batch_size\"])"
   ]
  },
  {
   "cell_type": "markdown",
   "metadata": {},
   "source": [
    "### Calculate label weight"
   ]
  },
  {
   "cell_type": "markdown",
   "metadata": {},
   "source": [
    "### Train model"
   ]
  },
  {
   "cell_type": "code",
   "execution_count": 6,
   "metadata": {},
   "outputs": [
    {
     "name": "stdout",
     "output_type": "stream",
     "text": [
      "Epoch 1/50\n",
      "16/16 [==============================] - 40s 547ms/step - loss: 0.0092 - mean_px_acc: 0.5571 - auc: 0.7676 - precision: 0.6040 - recall: 0.4748 - val_loss: 0.0098 - val_mean_px_acc: 0.8050 - val_auc: 0.7999 - val_precision: 0.0000e+00 - val_recall: 0.0000e+00\n",
      "Epoch 2/50\n",
      "16/16 [==============================] - 10s 152ms/step - loss: 0.0065 - mean_px_acc: 0.6298 - auc: 0.8828 - precision: 0.7595 - recall: 0.6281 - val_loss: 0.0106 - val_mean_px_acc: 0.9829 - val_auc: 0.5822 - val_precision: 0.0000e+00 - val_recall: 0.0000e+00\n",
      "Epoch 3/50\n",
      "16/16 [==============================] - 8s 142ms/step - loss: 0.0057 - mean_px_acc: 0.7164 - auc: 0.9123 - precision: 0.8053 - recall: 0.6565 - val_loss: 0.0112 - val_mean_px_acc: 0.9824 - val_auc: 0.5186 - val_precision: 0.0000e+00 - val_recall: 0.0000e+00\n",
      "Epoch 4/50\n",
      "16/16 [==============================] - 9s 215ms/step - loss: 0.0053 - mean_px_acc: 0.8219 - auc: 0.9251 - precision: 0.8243 - recall: 0.6775 - val_loss: 0.0114 - val_mean_px_acc: 0.9825 - val_auc: 0.5340 - val_precision: 0.4925 - val_recall: 0.2626\n",
      "Epoch 5/50\n",
      "16/16 [==============================] - 8s 136ms/step - loss: 0.0050 - mean_px_acc: 0.8752 - auc: 0.9333 - precision: 0.8424 - recall: 0.7511 - val_loss: 0.0120 - val_mean_px_acc: 0.9825 - val_auc: 0.4815 - val_precision: 0.2851 - val_recall: 0.2760\n",
      "Epoch 6/50\n",
      "16/16 [==============================] - 7s 134ms/step - loss: 0.0045 - mean_px_acc: 0.9108 - auc: 0.9491 - precision: 0.8698 - recall: 0.8162 - val_loss: 0.0126 - val_mean_px_acc: 0.9825 - val_auc: 0.4314 - val_precision: 0.2760 - val_recall: 0.2760\n",
      "Epoch 7/50\n",
      "16/16 [==============================] - 11s 231ms/step - loss: 0.0041 - mean_px_acc: 0.9336 - auc: 0.9562 - precision: 0.8836 - recall: 0.8547 - val_loss: 0.0130 - val_mean_px_acc: 0.9825 - val_auc: 0.4321 - val_precision: 0.2760 - val_recall: 0.2760\n",
      "Epoch 8/50\n",
      "16/16 [==============================] - 10s 148ms/step - loss: 0.0039 - mean_px_acc: 0.9464 - auc: 0.9598 - precision: 0.8878 - recall: 0.8729 - val_loss: 0.0135 - val_mean_px_acc: 0.9825 - val_auc: 0.4272 - val_precision: 0.2760 - val_recall: 0.2760\n",
      "Epoch 9/50\n",
      "16/16 [==============================] - 7s 138ms/step - loss: 0.0036 - mean_px_acc: 0.9645 - auc: 0.9670 - precision: 0.9005 - recall: 0.8923 - val_loss: 0.0137 - val_mean_px_acc: 0.9825 - val_auc: 0.4902 - val_precision: 0.2775 - val_recall: 0.2760\n",
      "Epoch 10/50\n",
      "16/16 [==============================] - 8s 183ms/step - loss: 0.0033 - mean_px_acc: 0.9702 - auc: 0.9701 - precision: 0.9045 - recall: 0.8990 - val_loss: 0.0135 - val_mean_px_acc: 0.9824 - val_auc: 0.5452 - val_precision: 0.2888 - val_recall: 0.2760\n",
      "Epoch 11/50\n",
      "16/16 [==============================] - 9s 140ms/step - loss: 0.0033 - mean_px_acc: 0.9677 - auc: 0.9704 - precision: 0.8996 - recall: 0.8941 - val_loss: 0.0137 - val_mean_px_acc: 0.9824 - val_auc: 0.5655 - val_precision: 0.2790 - val_recall: 0.2760\n",
      "Epoch 12/50\n",
      "16/16 [==============================] - 8s 152ms/step - loss: 0.0032 - mean_px_acc: 0.9713 - auc: 0.9712 - precision: 0.8981 - recall: 0.8935 - val_loss: 0.0130 - val_mean_px_acc: 0.9834 - val_auc: 0.5865 - val_precision: 0.3437 - val_recall: 0.3156\n",
      "Epoch 13/50\n",
      "16/16 [==============================] - 8s 148ms/step - loss: 0.0030 - mean_px_acc: 0.9749 - auc: 0.9741 - precision: 0.9012 - recall: 0.8978 - val_loss: 0.0154 - val_mean_px_acc: 0.9826 - val_auc: 0.5199 - val_precision: 0.2788 - val_recall: 0.2760\n",
      "Epoch 14/50\n",
      "16/16 [==============================] - 12s 219ms/step - loss: 0.0028 - mean_px_acc: 0.9798 - auc: 0.9777 - precision: 0.9085 - recall: 0.9060 - val_loss: 0.0125 - val_mean_px_acc: 0.9841 - val_auc: 0.6189 - val_precision: 0.3990 - val_recall: 0.3527\n",
      "Epoch 15/50\n",
      "16/16 [==============================] - 13s 179ms/step - loss: 0.0025 - mean_px_acc: 0.9827 - auc: 0.9819 - precision: 0.9166 - recall: 0.9147 - val_loss: 0.0109 - val_mean_px_acc: 0.9854 - val_auc: 0.6835 - val_precision: 0.5164 - val_recall: 0.4401\n",
      "Epoch 16/50\n",
      "16/16 [==============================] - 11s 167ms/step - loss: 0.0024 - mean_px_acc: 0.9831 - auc: 0.9827 - precision: 0.9185 - recall: 0.9170 - val_loss: 0.0115 - val_mean_px_acc: 0.9854 - val_auc: 0.6773 - val_precision: 0.4997 - val_recall: 0.4367\n",
      "Epoch 17/50\n",
      "16/16 [==============================] - 14s 400ms/step - loss: 0.0024 - mean_px_acc: 0.9853 - auc: 0.9833 - precision: 0.9214 - recall: 0.9196 - val_loss: 0.0114 - val_mean_px_acc: 0.9855 - val_auc: 0.6884 - val_precision: 0.5095 - val_recall: 0.4524\n",
      "Epoch 18/50\n",
      "16/16 [==============================] - 13s 150ms/step - loss: 0.0024 - mean_px_acc: 0.9848 - auc: 0.9837 - precision: 0.9147 - recall: 0.9135 - val_loss: 0.0093 - val_mean_px_acc: 0.9858 - val_auc: 0.7826 - val_precision: 0.6071 - val_recall: 0.5448\n",
      "Epoch 19/50\n",
      "16/16 [==============================] - 8s 145ms/step - loss: 0.0024 - mean_px_acc: 0.9811 - auc: 0.9824 - precision: 0.9124 - recall: 0.9110 - val_loss: 0.0103 - val_mean_px_acc: 0.9852 - val_auc: 0.7400 - val_precision: 0.5604 - val_recall: 0.4893\n",
      "Epoch 20/50\n",
      "16/16 [==============================] - 8s 147ms/step - loss: 0.0024 - mean_px_acc: 0.9805 - auc: 0.9825 - precision: 0.9111 - recall: 0.9097 - val_loss: 0.0073 - val_mean_px_acc: 0.9859 - val_auc: 0.8673 - val_precision: 0.6724 - val_recall: 0.6248\n",
      "Epoch 21/50\n",
      "16/16 [==============================] - 8s 168ms/step - loss: 0.0022 - mean_px_acc: 0.9855 - auc: 0.9861 - precision: 0.9181 - recall: 0.9166 - val_loss: 0.0077 - val_mean_px_acc: 0.9872 - val_auc: 0.8491 - val_precision: 0.6713 - val_recall: 0.6217\n",
      "Epoch 22/50\n",
      "16/16 [==============================] - 10s 141ms/step - loss: 0.0020 - mean_px_acc: 0.9865 - auc: 0.9879 - precision: 0.9267 - recall: 0.9261 - val_loss: 0.0069 - val_mean_px_acc: 0.9867 - val_auc: 0.8819 - val_precision: 0.6942 - val_recall: 0.6482\n",
      "Epoch 23/50\n",
      "16/16 [==============================] - 7s 143ms/step - loss: 0.0019 - mean_px_acc: 0.9866 - auc: 0.9886 - precision: 0.9277 - recall: 0.9271 - val_loss: 0.0065 - val_mean_px_acc: 0.9879 - val_auc: 0.8864 - val_precision: 0.7224 - val_recall: 0.6643\n",
      "Epoch 24/50\n",
      "16/16 [==============================] - 7s 136ms/step - loss: 0.0018 - mean_px_acc: 0.9885 - auc: 0.9893 - precision: 0.9324 - recall: 0.9316 - val_loss: 0.0066 - val_mean_px_acc: 0.9848 - val_auc: 0.8960 - val_precision: 0.7039 - val_recall: 0.6633\n",
      "Epoch 25/50\n",
      "16/16 [==============================] - 9s 196ms/step - loss: 0.0018 - mean_px_acc: 0.9870 - auc: 0.9895 - precision: 0.9330 - recall: 0.9322 - val_loss: 0.0039 - val_mean_px_acc: 0.9843 - val_auc: 0.9554 - val_precision: 0.8345 - val_recall: 0.8074\n",
      "Epoch 26/50\n",
      "16/16 [==============================] - 10s 185ms/step - loss: 0.0019 - mean_px_acc: 0.9869 - auc: 0.9887 - precision: 0.9255 - recall: 0.9248 - val_loss: 0.0048 - val_mean_px_acc: 0.9878 - val_auc: 0.9364 - val_precision: 0.7823 - val_recall: 0.7510\n",
      "Epoch 27/50\n",
      "16/16 [==============================] - 10s 153ms/step - loss: 0.0017 - mean_px_acc: 0.9866 - auc: 0.9909 - precision: 0.9364 - recall: 0.9358 - val_loss: 0.0045 - val_mean_px_acc: 0.9861 - val_auc: 0.9457 - val_precision: 0.7979 - val_recall: 0.7807\n",
      "Epoch 28/50\n",
      "16/16 [==============================] - 9s 144ms/step - loss: 0.0016 - mean_px_acc: 0.9885 - auc: 0.9917 - precision: 0.9393 - recall: 0.9390 - val_loss: 0.0046 - val_mean_px_acc: 0.9819 - val_auc: 0.9432 - val_precision: 0.7927 - val_recall: 0.7751\n",
      "Epoch 29/50\n",
      "16/16 [==============================] - 8s 135ms/step - loss: 0.0015 - mean_px_acc: 0.9893 - auc: 0.9927 - precision: 0.9437 - recall: 0.9432 - val_loss: 0.0038 - val_mean_px_acc: 0.9891 - val_auc: 0.9591 - val_precision: 0.8394 - val_recall: 0.8216\n",
      "Epoch 30/50\n",
      "16/16 [==============================] - 7s 143ms/step - loss: 0.0016 - mean_px_acc: 0.9879 - auc: 0.9918 - precision: 0.9390 - recall: 0.9386 - val_loss: 0.0046 - val_mean_px_acc: 0.9876 - val_auc: 0.9467 - val_precision: 0.8104 - val_recall: 0.7930\n",
      "Epoch 31/50\n",
      "16/16 [==============================] - 7s 143ms/step - loss: 0.0015 - mean_px_acc: 0.9895 - auc: 0.9927 - precision: 0.9449 - recall: 0.9445 - val_loss: 0.0033 - val_mean_px_acc: 0.9861 - val_auc: 0.9666 - val_precision: 0.8580 - val_recall: 0.8529\n",
      "Epoch 32/50\n",
      "16/16 [==============================] - 12s 158ms/step - loss: 0.0014 - mean_px_acc: 0.9898 - auc: 0.9938 - precision: 0.9490 - recall: 0.9487 - val_loss: 0.0049 - val_mean_px_acc: 0.9883 - val_auc: 0.9401 - val_precision: 0.7941 - val_recall: 0.7754\n",
      "Epoch 33/50\n",
      "16/16 [==============================] - 8s 181ms/step - loss: 0.0013 - mean_px_acc: 0.9898 - auc: 0.9943 - precision: 0.9514 - recall: 0.9511 - val_loss: 0.0034 - val_mean_px_acc: 0.9907 - val_auc: 0.9671 - val_precision: 0.8623 - val_recall: 0.8478\n",
      "Epoch 34/50\n",
      "16/16 [==============================] - 11s 190ms/step - loss: 0.0012 - mean_px_acc: 0.9902 - auc: 0.9949 - precision: 0.9543 - recall: 0.9539 - val_loss: 0.0046 - val_mean_px_acc: 0.9845 - val_auc: 0.9483 - val_precision: 0.8179 - val_recall: 0.8111\n",
      "Epoch 35/50\n",
      "16/16 [==============================] - 9s 153ms/step - loss: 0.0013 - mean_px_acc: 0.9903 - auc: 0.9944 - precision: 0.9533 - recall: 0.9531 - val_loss: 0.0028 - val_mean_px_acc: 0.9885 - val_auc: 0.9769 - val_precision: 0.8838 - val_recall: 0.8788\n",
      "Epoch 36/50\n",
      "16/16 [==============================] - 9s 143ms/step - loss: 0.0012 - mean_px_acc: 0.9896 - auc: 0.9945 - precision: 0.9531 - recall: 0.9529 - val_loss: 0.0030 - val_mean_px_acc: 0.9879 - val_auc: 0.9733 - val_precision: 0.8839 - val_recall: 0.8804\n",
      "Epoch 37/50\n",
      "16/16 [==============================] - 9s 146ms/step - loss: 0.0012 - mean_px_acc: 0.9905 - auc: 0.9952 - precision: 0.9548 - recall: 0.9546 - val_loss: 0.0030 - val_mean_px_acc: 0.9925 - val_auc: 0.9744 - val_precision: 0.8830 - val_recall: 0.8739\n",
      "Epoch 38/50\n",
      "16/16 [==============================] - 9s 151ms/step - loss: 0.0013 - mean_px_acc: 0.9903 - auc: 0.9943 - precision: 0.9514 - recall: 0.9511 - val_loss: 0.0029 - val_mean_px_acc: 0.9879 - val_auc: 0.9758 - val_precision: 0.8852 - val_recall: 0.8815\n",
      "Epoch 39/50\n",
      "15/16 [===========================>..] - ETA: 0s - loss: 0.0012 - mean_px_acc: 0.9901 - auc: 0.9954 - precision: 0.9562 - recall: 0.9560\n",
      "Reached 0.98 AUC value. Stopping the training\n",
      "16/16 [==============================] - 7s 137ms/step - loss: 0.0012 - mean_px_acc: 0.9902 - auc: 0.9954 - precision: 0.9563 - recall: 0.9561 - val_loss: 0.0021 - val_mean_px_acc: 0.9929 - val_auc: 0.9863 - val_precision: 0.9140 - val_recall: 0.9124\n",
      "test loss: 0.06170189008116722\n",
      "test mean_px_acc: 0.9914229512214661\n",
      "test auc: 0.997683584690094\n",
      "test precision: 0.9914097189903259\n",
      "test recall: 0.99113529920578\n"
     ]
    }
   ],
   "source": [
    "# create the unet model\n",
    "unet_custom = utils.custom_unet()\n",
    "file_model_name = \"unet_model_ori\"\n",
    "# train the model using original dataset\n",
    "unet_custom, history, ev_result = utils.train_model(unet_custom,\n",
    "                                                trainset_ori, valset_ori, testset_ori,\n",
    "                                                path_model, file_model_name,\n",
    "                                                50)\n",
    "print(f\"test loss: {ev_result[0]}\", f\"test mean_px_acc: {ev_result[1]}\",\n",
    "        f\"test auc: {ev_result[2]}\", f\"test precision: {ev_result[3]}\",\n",
    "        f\"test recall: {ev_result[4]}\", sep=\"\\n\")"
   ]
  },
  {
   "cell_type": "code",
   "execution_count": 7,
   "metadata": {},
   "outputs": [],
   "source": [
    "api = HfApi()\n",
    "repo = api.create_repo(\"CAD-Glaucoma_Segmentation\", repo_type=\"model\", exist_ok=True)"
   ]
  },
  {
   "cell_type": "code",
   "execution_count": 9,
   "metadata": {},
   "outputs": [],
   "source": [
    "hyperparam[\"aug\"] = False\n",
    "wandb.init(project=\"CAD - Glaucoma Segmentation\",\n",
    "            name=f\"ori - {wandb_init_name}\",\n",
    "            config=hyperparam)\n",
    "for epoch in range(len(history.history[\"loss\"])):\n",
    "    wandb.log({\n",
    "        \"train_loss\": history.history[\"loss\"][epoch],\n",
    "        \"train_accuracy\": history.history[\"mean_px_acc\"][epoch],\n",
    "        \"train_auc\": history.history[\"auc\"][epoch],\n",
    "        \"train_precision\": history.history[\"precision\"][epoch],\n",
    "        \"train_recall\": history.history[\"recall\"][epoch],\n",
    "        \"train_f1\": 2 * (history.history[\"precision\"][epoch] * history.history[\"recall\"][epoch]) / (history.history[\"precision\"][epoch] + history.history[\"recall\"][epoch] + 1e-7),\n",
    "        \"val_loss\": history.history[\"val_loss\"][epoch],\n",
    "        \"val_accuracy\": history.history[\"val_mean_px_acc\"][epoch],\n",
    "        \"val_auc\": history.history[\"val_auc\"][epoch],\n",
    "        \"val_precision\": history.history[\"val_precision\"][epoch],\n",
    "        \"val_recall\": history.history[\"val_recall\"][epoch],\n",
    "        \"val_f1\": 2 * (history.history[\"val_precision\"][epoch] * history.history[\"val_recall\"][epoch]) / (history.history[\"val_precision\"][epoch] + history.history[\"val_recall\"][epoch] + 1e-7),\n",
    "    })\n",
    "wandb.log_artifact(os.path.join(path_model, f\"{file_model_name}.h5\"))\n",
    "wandb.finish()"
   ]
  },
  {
   "cell_type": "code",
   "execution_count": 10,
   "metadata": {},
   "outputs": [
    {
     "name": "stderr",
     "output_type": "stream",
     "text": [
      "unet_model_ori.h5: 100%|██████████| 1.57M/1.57M [00:01<00:00, 856kB/s] \n"
     ]
    },
    {
     "data": {
      "text/plain": [
       "CommitInfo(commit_url='https://huggingface.co/bugi-sulistiyo/CAD-Glaucoma_Segmentation/commit/142f820abf9a0bb6822afd698c68f0e0e0e8b0bd', commit_message='implement callbacks', commit_description='', oid='142f820abf9a0bb6822afd698c68f0e0e0e8b0bd', pr_url=None, repo_url=RepoUrl('https://huggingface.co/bugi-sulistiyo/CAD-Glaucoma_Segmentation', endpoint='https://huggingface.co', repo_type='model', repo_id='bugi-sulistiyo/CAD-Glaucoma_Segmentation'), pr_revision=None, pr_num=None)"
      ]
     },
     "execution_count": 10,
     "metadata": {},
     "output_type": "execute_result"
    }
   ],
   "source": [
    "api.upload_file(\n",
    "    repo_id=repo.repo_id,\n",
    "    path_or_fileobj=os.path.join(path_model, f\"{file_model_name}.h5\"),\n",
    "    path_in_repo=f\"model/{file_model_name}.h5\",\n",
    "    repo_type=repo.repo_type,\n",
    "    commit_message=hf_commit_message,\n",
    ")"
   ]
  },
  {
   "cell_type": "code",
   "execution_count": 11,
   "metadata": {},
   "outputs": [
    {
     "name": "stdout",
     "output_type": "stream",
     "text": [
      "Epoch 1/50\n",
      "16/16 [==============================] - 17s 328ms/step - loss: 0.0080 - mean_px_acc: 0.5645 - auc: 0.8314 - precision: 0.6950 - recall: 0.5947 - val_loss: 0.0095 - val_mean_px_acc: 0.6282 - val_auc: 0.7633 - val_precision: 0.0000e+00 - val_recall: 0.0000e+00\n",
      "Epoch 2/50\n",
      "16/16 [==============================] - 5s 119ms/step - loss: 0.0058 - mean_px_acc: 0.6154 - auc: 0.9087 - precision: 0.8008 - recall: 0.6827 - val_loss: 0.0099 - val_mean_px_acc: 0.9840 - val_auc: 0.7393 - val_precision: 0.0000e+00 - val_recall: 0.0000e+00\n",
      "Epoch 3/50\n",
      "16/16 [==============================] - 5s 144ms/step - loss: 0.0053 - mean_px_acc: 0.7471 - auc: 0.9240 - precision: 0.8199 - recall: 0.6990 - val_loss: 0.0110 - val_mean_px_acc: 0.9827 - val_auc: 0.5228 - val_precision: 0.9330 - val_recall: 0.0773\n",
      "Epoch 4/50\n",
      "16/16 [==============================] - 6s 132ms/step - loss: 0.0049 - mean_px_acc: 0.8456 - auc: 0.9356 - precision: 0.8438 - recall: 0.7493 - val_loss: 0.0114 - val_mean_px_acc: 0.9824 - val_auc: 0.5192 - val_precision: 0.6411 - val_recall: 0.2711\n",
      "Epoch 5/50\n",
      "16/16 [==============================] - 7s 203ms/step - loss: 0.0047 - mean_px_acc: 0.8776 - auc: 0.9399 - precision: 0.8551 - recall: 0.7986 - val_loss: 0.0119 - val_mean_px_acc: 0.9825 - val_auc: 0.4965 - val_precision: 0.3338 - val_recall: 0.2759\n",
      "Epoch 6/50\n",
      "16/16 [==============================] - 6s 168ms/step - loss: 0.0042 - mean_px_acc: 0.9218 - auc: 0.9529 - precision: 0.8819 - recall: 0.8512 - val_loss: 0.0117 - val_mean_px_acc: 0.9825 - val_auc: 0.5584 - val_precision: 0.3448 - val_recall: 0.2760\n",
      "Epoch 7/50\n",
      "16/16 [==============================] - 6s 127ms/step - loss: 0.0040 - mean_px_acc: 0.9397 - auc: 0.9586 - precision: 0.8854 - recall: 0.8697 - val_loss: 0.0122 - val_mean_px_acc: 0.9825 - val_auc: 0.5618 - val_precision: 0.2771 - val_recall: 0.2760\n",
      "Epoch 8/50\n",
      "16/16 [==============================] - 5s 135ms/step - loss: 0.0036 - mean_px_acc: 0.9506 - auc: 0.9629 - precision: 0.8961 - recall: 0.8855 - val_loss: 0.0131 - val_mean_px_acc: 0.9825 - val_auc: 0.5512 - val_precision: 0.2760 - val_recall: 0.2760\n",
      "Epoch 9/50\n",
      "16/16 [==============================] - 6s 149ms/step - loss: 0.0035 - mean_px_acc: 0.9639 - auc: 0.9678 - precision: 0.8979 - recall: 0.8921 - val_loss: 0.0134 - val_mean_px_acc: 0.9825 - val_auc: 0.5700 - val_precision: 0.2760 - val_recall: 0.2760\n",
      "Epoch 10/50\n",
      "16/16 [==============================] - 6s 136ms/step - loss: 0.0035 - mean_px_acc: 0.9636 - auc: 0.9657 - precision: 0.8935 - recall: 0.8890 - val_loss: 0.0140 - val_mean_px_acc: 0.9825 - val_auc: 0.5190 - val_precision: 0.2779 - val_recall: 0.2760\n",
      "Epoch 11/50\n",
      "16/16 [==============================] - 5s 122ms/step - loss: 0.0030 - mean_px_acc: 0.9736 - auc: 0.9746 - precision: 0.9074 - recall: 0.9037 - val_loss: 0.0150 - val_mean_px_acc: 0.9825 - val_auc: 0.5651 - val_precision: 0.2760 - val_recall: 0.2760\n",
      "Epoch 12/50\n",
      "16/16 [==============================] - 6s 118ms/step - loss: 0.0028 - mean_px_acc: 0.9759 - auc: 0.9766 - precision: 0.9123 - recall: 0.9097 - val_loss: 0.0148 - val_mean_px_acc: 0.9826 - val_auc: 0.5785 - val_precision: 0.2760 - val_recall: 0.2760\n",
      "Epoch 13/50\n",
      "16/16 [==============================] - 4s 126ms/step - loss: 0.0027 - mean_px_acc: 0.9801 - auc: 0.9783 - precision: 0.9126 - recall: 0.9111 - val_loss: 0.0166 - val_mean_px_acc: 0.9824 - val_auc: 0.5568 - val_precision: 0.2760 - val_recall: 0.2760\n",
      "Epoch 14/50\n",
      "16/16 [==============================] - 4s 122ms/step - loss: 0.0024 - mean_px_acc: 0.9813 - auc: 0.9840 - precision: 0.9244 - recall: 0.9225 - val_loss: 0.0170 - val_mean_px_acc: 0.9824 - val_auc: 0.5710 - val_precision: 0.2760 - val_recall: 0.2760\n",
      "Epoch 15/50\n",
      "16/16 [==============================] - 4s 125ms/step - loss: 0.0023 - mean_px_acc: 0.9834 - auc: 0.9847 - precision: 0.9276 - recall: 0.9264 - val_loss: 0.0172 - val_mean_px_acc: 0.9824 - val_auc: 0.5941 - val_precision: 0.2760 - val_recall: 0.2760\n",
      "Epoch 16/50\n",
      "16/16 [==============================] - 5s 131ms/step - loss: 0.0021 - mean_px_acc: 0.9854 - auc: 0.9879 - precision: 0.9342 - recall: 0.9333 - val_loss: 0.0183 - val_mean_px_acc: 0.9825 - val_auc: 0.5830 - val_precision: 0.2760 - val_recall: 0.2760\n",
      "Epoch 17/50\n",
      "16/16 [==============================] - 4s 116ms/step - loss: 0.0021 - mean_px_acc: 0.9837 - auc: 0.9869 - precision: 0.9289 - recall: 0.9278 - val_loss: 0.0187 - val_mean_px_acc: 0.9825 - val_auc: 0.5747 - val_precision: 0.2760 - val_recall: 0.2760\n",
      "Epoch 18/50\n",
      "16/16 [==============================] - 4s 114ms/step - loss: 0.0021 - mean_px_acc: 0.9825 - auc: 0.9857 - precision: 0.9259 - recall: 0.9247 - val_loss: 0.0149 - val_mean_px_acc: 0.9834 - val_auc: 0.6210 - val_precision: 0.3330 - val_recall: 0.3128\n",
      "Epoch 19/50\n",
      "16/16 [==============================] - 4s 117ms/step - loss: 0.0019 - mean_px_acc: 0.9860 - auc: 0.9896 - precision: 0.9352 - recall: 0.9344 - val_loss: 0.0183 - val_mean_px_acc: 0.9825 - val_auc: 0.6013 - val_precision: 0.2762 - val_recall: 0.2760\n",
      "Epoch 20/50\n",
      "16/16 [==============================] - 4s 112ms/step - loss: 0.0018 - mean_px_acc: 0.9851 - auc: 0.9899 - precision: 0.9386 - recall: 0.9380 - val_loss: 0.0203 - val_mean_px_acc: 0.9824 - val_auc: 0.5580 - val_precision: 0.2760 - val_recall: 0.2760\n",
      "Epoch 21/50\n",
      "16/16 [==============================] - 4s 112ms/step - loss: 0.0017 - mean_px_acc: 0.9870 - auc: 0.9908 - precision: 0.9407 - recall: 0.9401 - val_loss: 0.0166 - val_mean_px_acc: 0.9830 - val_auc: 0.6123 - val_precision: 0.3054 - val_recall: 0.2954\n",
      "Epoch 22/50\n",
      "16/16 [==============================] - 4s 114ms/step - loss: 0.0016 - mean_px_acc: 0.9878 - auc: 0.9916 - precision: 0.9442 - recall: 0.9435 - val_loss: 0.0154 - val_mean_px_acc: 0.9836 - val_auc: 0.6494 - val_precision: 0.3558 - val_recall: 0.3424\n",
      "Epoch 23/50\n",
      "16/16 [==============================] - 4s 117ms/step - loss: 0.0016 - mean_px_acc: 0.9870 - auc: 0.9921 - precision: 0.9421 - recall: 0.9414 - val_loss: 0.0108 - val_mean_px_acc: 0.9871 - val_auc: 0.7561 - val_precision: 0.5420 - val_recall: 0.4997\n",
      "Epoch 24/50\n",
      "16/16 [==============================] - 4s 112ms/step - loss: 0.0015 - mean_px_acc: 0.9876 - auc: 0.9926 - precision: 0.9463 - recall: 0.9459 - val_loss: 0.0150 - val_mean_px_acc: 0.9838 - val_auc: 0.6632 - val_precision: 0.3663 - val_recall: 0.3514\n",
      "Epoch 25/50\n",
      "16/16 [==============================] - 4s 111ms/step - loss: 0.0016 - mean_px_acc: 0.9872 - auc: 0.9912 - precision: 0.9396 - recall: 0.9390 - val_loss: 0.0137 - val_mean_px_acc: 0.9846 - val_auc: 0.6983 - val_precision: 0.4152 - val_recall: 0.3965\n",
      "Epoch 26/50\n",
      "16/16 [==============================] - 4s 126ms/step - loss: 0.0016 - mean_px_acc: 0.9892 - auc: 0.9925 - precision: 0.9418 - recall: 0.9414 - val_loss: 0.0048 - val_mean_px_acc: 0.9910 - val_auc: 0.9380 - val_precision: 0.7997 - val_recall: 0.7625\n",
      "Epoch 27/50\n",
      "16/16 [==============================] - 4s 126ms/step - loss: 0.0014 - mean_px_acc: 0.9880 - auc: 0.9942 - precision: 0.9511 - recall: 0.9508 - val_loss: 0.0111 - val_mean_px_acc: 0.9870 - val_auc: 0.7729 - val_precision: 0.5356 - val_recall: 0.5072\n",
      "Epoch 28/50\n",
      "16/16 [==============================] - 5s 149ms/step - loss: 0.0013 - mean_px_acc: 0.9898 - auc: 0.9948 - precision: 0.9555 - recall: 0.9552 - val_loss: 0.0089 - val_mean_px_acc: 0.9886 - val_auc: 0.8354 - val_precision: 0.6282 - val_recall: 0.5933\n",
      "Epoch 29/50\n",
      "16/16 [==============================] - 5s 120ms/step - loss: 0.0012 - mean_px_acc: 0.9901 - auc: 0.9947 - precision: 0.9551 - recall: 0.9548 - val_loss: 0.0086 - val_mean_px_acc: 0.9890 - val_auc: 0.8475 - val_precision: 0.6482 - val_recall: 0.6154\n",
      "Epoch 30/50\n",
      "16/16 [==============================] - 4s 113ms/step - loss: 0.0012 - mean_px_acc: 0.9897 - auc: 0.9951 - precision: 0.9557 - recall: 0.9554 - val_loss: 0.0069 - val_mean_px_acc: 0.9899 - val_auc: 0.8878 - val_precision: 0.7094 - val_recall: 0.6739\n",
      "Epoch 31/50\n",
      "16/16 [==============================] - 4s 115ms/step - loss: 0.0013 - mean_px_acc: 0.9896 - auc: 0.9943 - precision: 0.9537 - recall: 0.9533 - val_loss: 0.0035 - val_mean_px_acc: 0.9930 - val_auc: 0.9646 - val_precision: 0.8597 - val_recall: 0.8438\n",
      "Epoch 32/50\n",
      "16/16 [==============================] - 4s 112ms/step - loss: 0.0012 - mean_px_acc: 0.9909 - auc: 0.9954 - precision: 0.9575 - recall: 0.9573 - val_loss: 0.0043 - val_mean_px_acc: 0.9924 - val_auc: 0.9509 - val_precision: 0.8301 - val_recall: 0.8032\n",
      "Epoch 33/50\n",
      "16/16 [==============================] - 4s 118ms/step - loss: 0.0010 - mean_px_acc: 0.9910 - auc: 0.9963 - precision: 0.9632 - recall: 0.9630 - val_loss: 0.0041 - val_mean_px_acc: 0.9938 - val_auc: 0.9546 - val_precision: 0.8364 - val_recall: 0.8175\n",
      "Epoch 34/50\n",
      "16/16 [==============================] - 4s 114ms/step - loss: 9.6273e-04 - mean_px_acc: 0.9920 - auc: 0.9967 - precision: 0.9654 - recall: 0.9651 - val_loss: 0.0041 - val_mean_px_acc: 0.9935 - val_auc: 0.9562 - val_precision: 0.8384 - val_recall: 0.8178\n",
      "Epoch 35/50\n",
      "16/16 [==============================] - 4s 120ms/step - loss: 9.3750e-04 - mean_px_acc: 0.9914 - auc: 0.9967 - precision: 0.9665 - recall: 0.9663 - val_loss: 0.0039 - val_mean_px_acc: 0.9925 - val_auc: 0.9606 - val_precision: 0.8442 - val_recall: 0.8317\n",
      "Epoch 36/50\n",
      "16/16 [==============================] - 4s 118ms/step - loss: 0.0010 - mean_px_acc: 0.9908 - auc: 0.9962 - precision: 0.9631 - recall: 0.9629 - val_loss: 0.0030 - val_mean_px_acc: 0.9931 - val_auc: 0.9733 - val_precision: 0.8851 - val_recall: 0.8806\n",
      "Epoch 37/50\n",
      "16/16 [==============================] - 4s 115ms/step - loss: 8.4669e-04 - mean_px_acc: 0.9921 - auc: 0.9972 - precision: 0.9695 - recall: 0.9693 - val_loss: 0.0029 - val_mean_px_acc: 0.9939 - val_auc: 0.9764 - val_precision: 0.8816 - val_recall: 0.8753\n",
      "Epoch 38/50\n",
      "16/16 [==============================] - 4s 112ms/step - loss: 9.2502e-04 - mean_px_acc: 0.9919 - auc: 0.9967 - precision: 0.9655 - recall: 0.9654 - val_loss: 0.0025 - val_mean_px_acc: 0.9922 - val_auc: 0.9792 - val_precision: 0.9093 - val_recall: 0.9078\n",
      "Epoch 39/50\n",
      "15/16 [===========================>..] - ETA: 0s - loss: 8.7030e-04 - mean_px_acc: 0.9921 - auc: 0.9971 - precision: 0.9682 - recall: 0.9680\n",
      "Reached 0.98 AUC value. Stopping the training\n",
      "16/16 [==============================] - 4s 116ms/step - loss: 8.8036e-04 - mean_px_acc: 0.9921 - auc: 0.9970 - precision: 0.9678 - recall: 0.9676 - val_loss: 0.0021 - val_mean_px_acc: 0.9924 - val_auc: 0.9849 - val_precision: 0.9167 - val_recall: 0.9142\n",
      "test loss: 0.050751738250255585\n",
      "test mean_px_acc: 0.9912530183792114\n",
      "test auc: 0.9980826377868652\n",
      "test precision: 0.9911040663719177\n",
      "test recall: 0.9906882643699646\n"
     ]
    }
   ],
   "source": [
    "# create the unet model\n",
    "unet_custom = utils.custom_unet()\n",
    "file_model_name = \"unet_model_aug\"\n",
    "# train the model using augmented dataset\n",
    "unet_custom, history, ev_result = utils.train_model(unet_custom,\n",
    "                                                trainset_aug, valset_aug, testset_aug,\n",
    "                                                path_model, file_model_name,\n",
    "                                                50)\n",
    "print(f\"test loss: {ev_result[0]}\", f\"test mean_px_acc: {ev_result[1]}\",\n",
    "        f\"test auc: {ev_result[2]}\", f\"test precision: {ev_result[3]}\",\n",
    "        f\"test recall: {ev_result[4]}\", sep=\"\\n\")"
   ]
  },
  {
   "cell_type": "code",
   "execution_count": 12,
   "metadata": {},
   "outputs": [],
   "source": [
    "hyperparam[\"aug\"] = True\n",
    "wandb.init(project=\"CAD - Glaucoma Segmentation\",\n",
    "            name=f\"aug - {wandb_init_name}\",\n",
    "            config=hyperparam)\n",
    "for epoch in range(len(history.history[\"loss\"])):\n",
    "    wandb.log({\n",
    "        \"train_loss\": history.history[\"loss\"][epoch],\n",
    "        \"train_accuracy\": history.history[\"mean_px_acc\"][epoch],\n",
    "        \"train_auc\": history.history[\"auc\"][epoch],\n",
    "        \"train_precision\": history.history[\"precision\"][epoch],\n",
    "        \"train_recall\": history.history[\"recall\"][epoch],\n",
    "        \"train_f1\": 2 * (history.history[\"precision\"][epoch] * history.history[\"recall\"][epoch]) / (history.history[\"precision\"][epoch] + history.history[\"recall\"][epoch] + 1e-7),\n",
    "        \"val_loss\": history.history[\"val_loss\"][epoch],\n",
    "        \"val_accuracy\": history.history[\"val_mean_px_acc\"][epoch],\n",
    "        \"val_auc\": history.history[\"val_auc\"][epoch],\n",
    "        \"val_precision\": history.history[\"val_precision\"][epoch],\n",
    "        \"val_recall\": history.history[\"val_recall\"][epoch],\n",
    "        \"val_f1\": 2 * (history.history[\"val_precision\"][epoch] * history.history[\"val_recall\"][epoch]) / (history.history[\"val_precision\"][epoch] + history.history[\"val_recall\"][epoch] + 1e-7),\n",
    "    })\n",
    "wandb.log_artifact(os.path.join(path_model, f\"{file_model_name}.h5\"))\n",
    "wandb.finish()"
   ]
  },
  {
   "cell_type": "code",
   "execution_count": 13,
   "metadata": {},
   "outputs": [
    {
     "name": "stderr",
     "output_type": "stream",
     "text": [
      "unet_model_aug.h5: 100%|██████████| 1.57M/1.57M [00:01<00:00, 1.22MB/s]\n"
     ]
    },
    {
     "data": {
      "text/plain": [
       "CommitInfo(commit_url='https://huggingface.co/bugi-sulistiyo/CAD-Glaucoma_Segmentation/commit/2b0ea3c3a02db024c9e4977bab7e2e45c6bbd9ba', commit_message='aug - implement callbacks', commit_description='', oid='2b0ea3c3a02db024c9e4977bab7e2e45c6bbd9ba', pr_url=None, repo_url=RepoUrl('https://huggingface.co/bugi-sulistiyo/CAD-Glaucoma_Segmentation', endpoint='https://huggingface.co', repo_type='model', repo_id='bugi-sulistiyo/CAD-Glaucoma_Segmentation'), pr_revision=None, pr_num=None)"
      ]
     },
     "execution_count": 13,
     "metadata": {},
     "output_type": "execute_result"
    }
   ],
   "source": [
    "api.upload_file(\n",
    "    repo_id=repo.repo_id,\n",
    "    path_or_fileobj=os.path.join(path_model, f\"{file_model_name}.h5\"),\n",
    "    path_in_repo=f\"model/{file_model_name}.h5\",\n",
    "    repo_type=repo.repo_type,\n",
    "    commit_message=f\"aug - {hf_commit_message}\",\n",
    ")"
   ]
  }
 ],
 "metadata": {
  "kernelspec": {
   "display_name": "modeling",
   "language": "python",
   "name": "python3"
  },
  "language_info": {
   "codemirror_mode": {
    "name": "ipython",
    "version": 3
   },
   "file_extension": ".py",
   "mimetype": "text/x-python",
   "name": "python",
   "nbconvert_exporter": "python",
   "pygments_lexer": "ipython3",
   "version": "3.9.20"
  }
 },
 "nbformat": 4,
 "nbformat_minor": 2
}
