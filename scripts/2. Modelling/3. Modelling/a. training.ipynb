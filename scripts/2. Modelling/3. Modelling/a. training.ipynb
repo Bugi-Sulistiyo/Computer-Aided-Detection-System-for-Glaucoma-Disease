{
 "cells": [
  {
   "cell_type": "markdown",
   "metadata": {},
   "source": [
    "## Preparation"
   ]
  },
  {
   "cell_type": "markdown",
   "metadata": {},
   "source": [
    "### Import the needed packages"
   ]
  },
  {
   "cell_type": "code",
   "execution_count": null,
   "metadata": {},
   "outputs": [
    {
     "name": "stderr",
     "output_type": "stream",
     "text": [
      "c:\\Users\\Bugi\\miniconda3\\envs\\modeling\\lib\\site-packages\\tensorflow_addons\\utils\\tfa_eol_msg.py:23: UserWarning: \n",
      "\n",
      "TensorFlow Addons (TFA) has ended development and introduction of new features.\n",
      "TFA has entered a minimal maintenance and release mode until a planned end of life in May 2024.\n",
      "Please modify downstream libraries to take dependencies from other repositories in our TensorFlow community (e.g. Keras, Keras-CV, and Keras-NLP). \n",
      "\n",
      "For more information see: https://github.com/tensorflow/addons/issues/2807 \n",
      "\n",
      "  warnings.warn(\n",
      "c:\\Users\\Bugi\\miniconda3\\envs\\modeling\\lib\\site-packages\\tensorflow_addons\\utils\\ensure_tf_install.py:53: UserWarning: Tensorflow Addons supports using Python ops for all Tensorflow versions above or equal to 2.12.0 and strictly below 2.15.0 (nightly versions are not supported). \n",
      " The versions of TensorFlow you are currently using is 2.10.1 and is not supported. \n",
      "Some things might work, some things might not.\n",
      "If you were to encounter a bug, do not file an issue.\n",
      "If you want to make sure you're using a tested and supported configuration, either change the TensorFlow version or the TensorFlow Addons's version. \n",
      "You can find the compatibility matrix in TensorFlow Addon's readme:\n",
      "https://github.com/tensorflow/addons\n",
      "  warnings.warn(\n",
      "c:\\Users\\Bugi\\miniconda3\\envs\\modeling\\lib\\site-packages\\tqdm\\auto.py:21: TqdmWarning: IProgress not found. Please update jupyter and ipywidgets. See https://ipywidgets.readthedocs.io/en/stable/user_install.html\n",
      "  from .autonotebook import tqdm as notebook_tqdm\n"
     ]
    }
   ],
   "source": [
    "# package for using the the custom scripts \n",
    "import sys\n",
    "# add path to utilities directory\n",
    "sys.path.insert(0, \"./../../utilities\")\n",
    "# package for handling files and directories\n",
    "import os\n",
    "# package for handling the training hyperparameter tracking\n",
    "import wandb\n",
    "# a custom package for handling the data\n",
    "import utilities as utils\n",
    "# package for handling path\n",
    "import paths\n",
    "# package for handling the versioning of the models\n",
    "from huggingface_hub import HfApi\n",
    "# package for handling the environment variables\n",
    "from dotenv import load_dotenv\n",
    "# get the environment variables\n",
    "load_dotenv()\n",
    "# set the wandb api to silent\n",
    "os.environ[\"WANDB_SILENT\"] = \"true\""
   ]
  },
  {
   "cell_type": "markdown",
   "metadata": {},
   "source": [
    "### Global variable"
   ]
  },
  {
   "cell_type": "code",
   "execution_count": null,
   "metadata": {},
   "outputs": [],
   "source": [
    "# store the path\n",
    "ori_path = {\n",
    "    \"train\": os.path.join(paths.path_split_origin, \"train\"),\n",
    "    \"val\": os.path.join(paths.path_split_origin, \"val\"),\n",
    "    \"test\": os.path.join(paths.path_split_origin, \"test\"),\n",
    "}\n",
    "aug_path = {\n",
    "    \"train\": os.path.join(paths.path_split_augment, \"train\"),\n",
    "    \"val\": os.path.join(paths.path_split_augment, \"val\"),\n",
    "    \"test\": os.path.join(paths.path_split_augment, \"test\"),\n",
    "}\n",
    "# the commit message\n",
    "wandb_init_name = \"retrain the model with new config\"\n",
    "hf_commit_message = \"retrain the model with new config\"\n",
    "# the hyperparameter for the training\n",
    "hyperparam = {\n",
    "    \"batch_size\": 16,\n",
    "    \"epochs\": 50,\n",
    "    \"img_size\": 128,\n",
    "    \"shuffle\": True,\n",
    "    \"model_type\": \"U-net\",\n",
    "    \"metrics\": [\"accuracy\", \"auc\", \"MeanIoU\", \"Precision\", \"Recall\"],\n",
    "    \"split_ratio\": [7,1,2],\n",
    "    \"dataset_balance\": True,\n",
    "    \"weighted_training\": True,\n",
    "    \"aug\": False,\n",
    "}"
   ]
  },
  {
   "cell_type": "markdown",
   "metadata": {},
   "source": [
    "### Create Tensorboard log dir"
   ]
  },
  {
   "cell_type": "code",
   "execution_count": null,
   "metadata": {},
   "outputs": [],
   "source": [
    "os.makedirs(paths.path_log_tensor, exist_ok=True)"
   ]
  },
  {
   "cell_type": "markdown",
   "metadata": {},
   "source": [
    "## Handle Dataset"
   ]
  },
  {
   "cell_type": "markdown",
   "metadata": {},
   "source": [
    "### Import the images and mask"
   ]
  },
  {
   "cell_type": "code",
   "execution_count": 4,
   "metadata": {},
   "outputs": [],
   "source": [
    "# get the original dataset\n",
    "train_ori_img, train_ori_mask = utils.load_img_mask(ori_path[\"train\"])\n",
    "val_ori_img, val_ori_mask = utils.load_img_mask(ori_path[\"val\"])\n",
    "test_ori_img, test_ori_mask = utils.load_img_mask(ori_path[\"test\"])\n",
    "\n",
    "# get the augmented dataset\n",
    "train_aug_img, train_aug_mask = utils.load_img_mask(aug_path[\"train\"])\n",
    "val_aug_img, val_aug_mask = utils.load_img_mask(aug_path[\"val\"])\n",
    "test_aug_img, test_aug_mask = utils.load_img_mask(aug_path[\"test\"])"
   ]
  },
  {
   "cell_type": "markdown",
   "metadata": {},
   "source": [
    "### Create the batched dataset"
   ]
  },
  {
   "cell_type": "code",
   "execution_count": 5,
   "metadata": {},
   "outputs": [],
   "source": [
    "# create the tensor dataset for original dataset\n",
    "trainset_ori = utils.create_dataset(train_ori_img, train_ori_mask, hyperparam[\"img_size\"], hyperparam[\"batch_size\"])\n",
    "valset_ori = utils.create_dataset(val_ori_img, val_ori_mask, hyperparam[\"img_size\"], hyperparam[\"batch_size\"])\n",
    "testset_ori = utils.create_dataset(test_ori_img, test_ori_mask, hyperparam[\"img_size\"], hyperparam[\"batch_size\"])\n",
    "\n",
    "# create the tensor dataset for augmented dataset\n",
    "trainset_aug = utils.create_dataset(train_aug_img, train_aug_mask, hyperparam[\"img_size\"], hyperparam[\"batch_size\"])\n",
    "valset_aug = utils.create_dataset(val_aug_img, val_aug_mask, hyperparam[\"img_size\"], hyperparam[\"batch_size\"])\n",
    "testset_aug = utils.create_dataset(test_aug_img, test_aug_mask, hyperparam[\"img_size\"], hyperparam[\"batch_size\"])"
   ]
  },
  {
   "cell_type": "markdown",
   "metadata": {},
   "source": [
    "## Train model"
   ]
  },
  {
   "cell_type": "markdown",
   "metadata": {},
   "source": [
    "### Unet"
   ]
  },
  {
   "cell_type": "code",
   "execution_count": null,
   "metadata": {},
   "outputs": [
    {
     "name": "stdout",
     "output_type": "stream",
     "text": [
      "Epoch 1/50\n",
      " 6/16 [==========>...................] - ETA: 0s - loss: 0.0118 - mean_px_acc: 0.2880 - auc: 0.6710 - precision: 0.4861 - recall: 0.3932WARNING:tensorflow:Callback method `on_train_batch_end` is slow compared to the batch time (batch time: 0.0396s vs `on_train_batch_end` time: 0.0402s). Check your callbacks.\n",
      "16/16 [==============================] - 11s 190ms/step - loss: 0.0096 - mean_px_acc: 0.3449 - auc: 0.7441 - precision: 0.5697 - recall: 0.4699 - val_loss: 0.0099 - val_mean_px_acc: 0.4055 - val_auc: 0.7765 - val_precision: 0.0000e+00 - val_recall: 0.0000e+00\n",
      "Epoch 2/50\n",
      "16/16 [==============================] - 7s 121ms/step - loss: 0.0070 - mean_px_acc: 0.5140 - auc: 0.8585 - precision: 0.7113 - recall: 0.6243 - val_loss: 0.0099 - val_mean_px_acc: 0.9264 - val_auc: 0.8784 - val_precision: 0.0000e+00 - val_recall: 0.0000e+00\n",
      "Epoch 3/50\n",
      "16/16 [==============================] - 7s 126ms/step - loss: 0.0058 - mean_px_acc: 0.5967 - auc: 0.9035 - precision: 0.7885 - recall: 0.6394 - val_loss: 0.0100 - val_mean_px_acc: 0.9873 - val_auc: 0.7562 - val_precision: 0.0000e+00 - val_recall: 0.0000e+00\n",
      "Epoch 4/50\n",
      "16/16 [==============================] - 7s 123ms/step - loss: 0.0055 - mean_px_acc: 0.7250 - auc: 0.9187 - precision: 0.8135 - recall: 0.6416 - val_loss: 0.0106 - val_mean_px_acc: 0.9834 - val_auc: 0.5956 - val_precision: 0.6810 - val_recall: 0.0348\n",
      "Epoch 5/50\n",
      "16/16 [==============================] - 7s 120ms/step - loss: 0.0052 - mean_px_acc: 0.7794 - auc: 0.9288 - precision: 0.8337 - recall: 0.6844 - val_loss: 0.0105 - val_mean_px_acc: 0.9841 - val_auc: 0.6243 - val_precision: 0.5529 - val_recall: 0.2697\n",
      "Epoch 6/50\n",
      "16/16 [==============================] - 7s 122ms/step - loss: 0.0049 - mean_px_acc: 0.8488 - auc: 0.9403 - precision: 0.8504 - recall: 0.7165 - val_loss: 0.0113 - val_mean_px_acc: 0.9829 - val_auc: 0.5685 - val_precision: 0.3665 - val_recall: 0.2718\n",
      "Epoch 7/50\n",
      "16/16 [==============================] - 7s 129ms/step - loss: 0.0047 - mean_px_acc: 0.8970 - auc: 0.9436 - precision: 0.8588 - recall: 0.7449 - val_loss: 0.0111 - val_mean_px_acc: 0.9831 - val_auc: 0.6009 - val_precision: 0.3777 - val_recall: 0.2789\n",
      "Epoch 8/50\n",
      "16/16 [==============================] - 7s 135ms/step - loss: 0.0043 - mean_px_acc: 0.9199 - auc: 0.9532 - precision: 0.8777 - recall: 0.7959 - val_loss: 0.0108 - val_mean_px_acc: 0.9836 - val_auc: 0.6266 - val_precision: 0.4263 - val_recall: 0.2902\n",
      "Epoch 9/50\n",
      "16/16 [==============================] - 7s 117ms/step - loss: 0.0043 - mean_px_acc: 0.9319 - auc: 0.9520 - precision: 0.8760 - recall: 0.8286 - val_loss: 0.0115 - val_mean_px_acc: 0.9833 - val_auc: 0.5855 - val_precision: 0.3479 - val_recall: 0.2858\n",
      "Epoch 10/50\n",
      "16/16 [==============================] - 6s 118ms/step - loss: 0.0040 - mean_px_acc: 0.9524 - auc: 0.9575 - precision: 0.8847 - recall: 0.8571 - val_loss: 0.0111 - val_mean_px_acc: 0.9832 - val_auc: 0.6254 - val_precision: 0.3519 - val_recall: 0.2873\n",
      "Epoch 11/50\n",
      "16/16 [==============================] - 6s 120ms/step - loss: 0.0039 - mean_px_acc: 0.9562 - auc: 0.9610 - precision: 0.8890 - recall: 0.8712 - val_loss: 0.0115 - val_mean_px_acc: 0.9832 - val_auc: 0.6268 - val_precision: 0.3438 - val_recall: 0.2946\n",
      "Epoch 12/50\n",
      "16/16 [==============================] - 7s 129ms/step - loss: 0.0036 - mean_px_acc: 0.9646 - auc: 0.9654 - precision: 0.8986 - recall: 0.8869 - val_loss: 0.0117 - val_mean_px_acc: 0.9835 - val_auc: 0.6235 - val_precision: 0.3582 - val_recall: 0.3073\n",
      "Epoch 13/50\n",
      "16/16 [==============================] - 7s 127ms/step - loss: 0.0034 - mean_px_acc: 0.9683 - auc: 0.9691 - precision: 0.9016 - recall: 0.8929 - val_loss: 0.0112 - val_mean_px_acc: 0.9838 - val_auc: 0.6504 - val_precision: 0.3940 - val_recall: 0.3249\n",
      "Epoch 14/50\n",
      "16/16 [==============================] - 7s 129ms/step - loss: 0.0032 - mean_px_acc: 0.9729 - auc: 0.9723 - precision: 0.9065 - recall: 0.9015 - val_loss: 0.0104 - val_mean_px_acc: 0.9850 - val_auc: 0.6938 - val_precision: 0.4999 - val_recall: 0.3949\n",
      "Epoch 15/50\n",
      "16/16 [==============================] - 7s 136ms/step - loss: 0.0030 - mean_px_acc: 0.9770 - auc: 0.9766 - precision: 0.9141 - recall: 0.9103 - val_loss: 0.0113 - val_mean_px_acc: 0.9838 - val_auc: 0.6626 - val_precision: 0.3876 - val_recall: 0.3364\n",
      "Epoch 16/50\n",
      "16/16 [==============================] - 7s 120ms/step - loss: 0.0028 - mean_px_acc: 0.9760 - auc: 0.9785 - precision: 0.9153 - recall: 0.9121 - val_loss: 0.0129 - val_mean_px_acc: 0.9833 - val_auc: 0.6104 - val_precision: 0.3365 - val_recall: 0.3188\n",
      "Epoch 17/50\n",
      "16/16 [==============================] - 7s 120ms/step - loss: 0.0029 - mean_px_acc: 0.9753 - auc: 0.9771 - precision: 0.9100 - recall: 0.9068 - val_loss: 0.0121 - val_mean_px_acc: 0.9840 - val_auc: 0.6478 - val_precision: 0.3922 - val_recall: 0.3668\n",
      "Epoch 18/50\n",
      "16/16 [==============================] - 6s 121ms/step - loss: 0.0027 - mean_px_acc: 0.9812 - auc: 0.9794 - precision: 0.9137 - recall: 0.9111 - val_loss: 0.0105 - val_mean_px_acc: 0.9852 - val_auc: 0.7289 - val_precision: 0.4978 - val_recall: 0.4417\n",
      "Epoch 19/50\n",
      "16/16 [==============================] - 6s 120ms/step - loss: 0.0026 - mean_px_acc: 0.9783 - auc: 0.9811 - precision: 0.9156 - recall: 0.9128 - val_loss: 0.0105 - val_mean_px_acc: 0.9857 - val_auc: 0.7414 - val_precision: 0.5378 - val_recall: 0.4953\n",
      "Epoch 20/50\n",
      "16/16 [==============================] - 7s 125ms/step - loss: 0.0025 - mean_px_acc: 0.9821 - auc: 0.9814 - precision: 0.9196 - recall: 0.9179 - val_loss: 0.0080 - val_mean_px_acc: 0.9868 - val_auc: 0.8459 - val_precision: 0.6555 - val_recall: 0.5993\n",
      "Epoch 21/50\n",
      "16/16 [==============================] - 7s 130ms/step - loss: 0.0024 - mean_px_acc: 0.9808 - auc: 0.9839 - precision: 0.9216 - recall: 0.9198 - val_loss: 0.0116 - val_mean_px_acc: 0.9848 - val_auc: 0.7128 - val_precision: 0.4584 - val_recall: 0.4300\n",
      "Epoch 22/50\n",
      "16/16 [==============================] - 7s 126ms/step - loss: 0.0023 - mean_px_acc: 0.9838 - auc: 0.9851 - precision: 0.9227 - recall: 0.9210 - val_loss: 0.0102 - val_mean_px_acc: 0.9861 - val_auc: 0.7699 - val_precision: 0.5561 - val_recall: 0.5167\n",
      "Epoch 23/50\n",
      "16/16 [==============================] - 6s 122ms/step - loss: 0.0023 - mean_px_acc: 0.9840 - auc: 0.9845 - precision: 0.9187 - recall: 0.9173 - val_loss: 0.0104 - val_mean_px_acc: 0.9859 - val_auc: 0.7700 - val_precision: 0.5487 - val_recall: 0.5192\n",
      "Epoch 24/50\n",
      "16/16 [==============================] - 7s 121ms/step - loss: 0.0021 - mean_px_acc: 0.9845 - auc: 0.9864 - precision: 0.9267 - recall: 0.9256 - val_loss: 0.0097 - val_mean_px_acc: 0.9866 - val_auc: 0.7940 - val_precision: 0.5815 - val_recall: 0.5398\n",
      "Epoch 25/50\n",
      "16/16 [==============================] - 6s 123ms/step - loss: 0.0020 - mean_px_acc: 0.9827 - auc: 0.9881 - precision: 0.9303 - recall: 0.9286 - val_loss: 0.0079 - val_mean_px_acc: 0.9872 - val_auc: 0.8614 - val_precision: 0.6744 - val_recall: 0.6375\n",
      "Epoch 26/50\n",
      "16/16 [==============================] - 7s 121ms/step - loss: 0.0020 - mean_px_acc: 0.9846 - auc: 0.9882 - precision: 0.9299 - recall: 0.9288 - val_loss: 0.0064 - val_mean_px_acc: 0.9876 - val_auc: 0.9018 - val_precision: 0.7268 - val_recall: 0.6876\n",
      "Epoch 27/50\n",
      "16/16 [==============================] - 6s 124ms/step - loss: 0.0019 - mean_px_acc: 0.9869 - auc: 0.9895 - precision: 0.9332 - recall: 0.9325 - val_loss: 0.0081 - val_mean_px_acc: 0.9874 - val_auc: 0.8631 - val_precision: 0.6687 - val_recall: 0.6261\n",
      "Epoch 28/50\n",
      "16/16 [==============================] - 7s 121ms/step - loss: 0.0018 - mean_px_acc: 0.9875 - auc: 0.9896 - precision: 0.9360 - recall: 0.9350 - val_loss: 0.0060 - val_mean_px_acc: 0.9879 - val_auc: 0.9118 - val_precision: 0.7432 - val_recall: 0.7084\n",
      "Epoch 29/50\n",
      "16/16 [==============================] - 7s 130ms/step - loss: 0.0018 - mean_px_acc: 0.9877 - auc: 0.9901 - precision: 0.9325 - recall: 0.9315 - val_loss: 0.0063 - val_mean_px_acc: 0.9874 - val_auc: 0.9069 - val_precision: 0.7265 - val_recall: 0.6889\n",
      "Epoch 30/50\n",
      "16/16 [==============================] - 6s 120ms/step - loss: 0.0017 - mean_px_acc: 0.9859 - auc: 0.9905 - precision: 0.9384 - recall: 0.9373 - val_loss: 0.0053 - val_mean_px_acc: 0.9898 - val_auc: 0.9261 - val_precision: 0.7813 - val_recall: 0.7501\n",
      "Epoch 31/50\n",
      "16/16 [==============================] - 7s 120ms/step - loss: 0.0017 - mean_px_acc: 0.9879 - auc: 0.9913 - precision: 0.9389 - recall: 0.9382 - val_loss: 0.0067 - val_mean_px_acc: 0.9901 - val_auc: 0.8842 - val_precision: 0.7275 - val_recall: 0.6824\n",
      "Epoch 32/50\n",
      "16/16 [==============================] - 6s 122ms/step - loss: 0.0019 - mean_px_acc: 0.9871 - auc: 0.9889 - precision: 0.9285 - recall: 0.9278 - val_loss: 0.0058 - val_mean_px_acc: 0.9907 - val_auc: 0.9126 - val_precision: 0.7835 - val_recall: 0.7512\n",
      "Epoch 33/50\n",
      "16/16 [==============================] - 7s 126ms/step - loss: 0.0016 - mean_px_acc: 0.9869 - auc: 0.9914 - precision: 0.9385 - recall: 0.9379 - val_loss: 0.0066 - val_mean_px_acc: 0.9887 - val_auc: 0.8988 - val_precision: 0.7511 - val_recall: 0.7198\n",
      "Epoch 34/50\n",
      "16/16 [==============================] - 7s 136ms/step - loss: 0.0017 - mean_px_acc: 0.9875 - auc: 0.9909 - precision: 0.9366 - recall: 0.9360 - val_loss: 0.0049 - val_mean_px_acc: 0.9889 - val_auc: 0.9388 - val_precision: 0.8039 - val_recall: 0.7797\n",
      "Epoch 35/50\n",
      "16/16 [==============================] - 7s 125ms/step - loss: 0.0015 - mean_px_acc: 0.9890 - auc: 0.9931 - precision: 0.9460 - recall: 0.9453 - val_loss: 0.0038 - val_mean_px_acc: 0.9878 - val_auc: 0.9603 - val_precision: 0.8387 - val_recall: 0.8214\n",
      "Epoch 36/50\n",
      "16/16 [==============================] - 7s 132ms/step - loss: 0.0014 - mean_px_acc: 0.9893 - auc: 0.9929 - precision: 0.9469 - recall: 0.9464 - val_loss: 0.0040 - val_mean_px_acc: 0.9863 - val_auc: 0.9581 - val_precision: 0.8283 - val_recall: 0.8160\n",
      "Epoch 37/50\n",
      "16/16 [==============================] - 6s 121ms/step - loss: 0.0013 - mean_px_acc: 0.9892 - auc: 0.9946 - precision: 0.9516 - recall: 0.9512 - val_loss: 0.0044 - val_mean_px_acc: 0.9921 - val_auc: 0.9473 - val_precision: 0.8428 - val_recall: 0.8284\n",
      "Epoch 38/50\n",
      "16/16 [==============================] - 7s 123ms/step - loss: 0.0013 - mean_px_acc: 0.9895 - auc: 0.9937 - precision: 0.9496 - recall: 0.9491 - val_loss: 0.0037 - val_mean_px_acc: 0.9917 - val_auc: 0.9628 - val_precision: 0.8573 - val_recall: 0.8432\n",
      "Epoch 39/50\n",
      "16/16 [==============================] - 7s 121ms/step - loss: 0.0014 - mean_px_acc: 0.9888 - auc: 0.9932 - precision: 0.9456 - recall: 0.9451 - val_loss: 0.0037 - val_mean_px_acc: 0.9911 - val_auc: 0.9620 - val_precision: 0.8592 - val_recall: 0.8467\n",
      "Epoch 40/50\n",
      "16/16 [==============================] - 6s 125ms/step - loss: 0.0012 - mean_px_acc: 0.9898 - auc: 0.9948 - precision: 0.9548 - recall: 0.9545 - val_loss: 0.0040 - val_mean_px_acc: 0.9915 - val_auc: 0.9576 - val_precision: 0.8508 - val_recall: 0.8395\n",
      "Epoch 41/50\n",
      "16/16 [==============================] - 7s 128ms/step - loss: 0.0012 - mean_px_acc: 0.9901 - auc: 0.9951 - precision: 0.9536 - recall: 0.9534 - val_loss: 0.0030 - val_mean_px_acc: 0.9918 - val_auc: 0.9738 - val_precision: 0.8861 - val_recall: 0.8758\n",
      "Epoch 42/50\n",
      "16/16 [==============================] - 7s 126ms/step - loss: 0.0012 - mean_px_acc: 0.9890 - auc: 0.9947 - precision: 0.9533 - recall: 0.9528 - val_loss: 0.0033 - val_mean_px_acc: 0.9929 - val_auc: 0.9691 - val_precision: 0.8822 - val_recall: 0.8732\n",
      "Epoch 43/50\n",
      "15/16 [===========================>..] - ETA: 0s - loss: 0.0012 - mean_px_acc: 0.9902 - auc: 0.9948 - precision: 0.9539 - recall: 0.9536\n",
      "Reached 0.98 AUC value. Stopping the training on epoch 42\n",
      "16/16 [==============================] - 7s 128ms/step - loss: 0.0012 - mean_px_acc: 0.9903 - auc: 0.9948 - precision: 0.9538 - recall: 0.9535 - val_loss: 0.0026 - val_mean_px_acc: 0.9923 - val_auc: 0.9803 - val_precision: 0.8984 - val_recall: 0.8880\n",
      "test loss: 0.05595308914780617\n",
      "test mean_px_acc: 0.9911962747573853\n",
      "test auc: 0.9984778761863708\n",
      "test precision: 0.9916126132011414\n",
      "test recall: 0.9910286664962769\n"
     ]
    }
   ],
   "source": [
    "# create the unet model\n",
    "unet_custom = utils.custom_unet()\n",
    "file_model_name = \"unet_model_ori\"\n",
    "# train the model using original dataset\n",
    "unet_custom, history, ev_result = utils.train_model(unet_custom,\n",
    "                                                trainset_ori, valset_ori, testset_ori,\n",
    "                                                paths.path_model, file_model_name, os.path.join(paths.path_log_tensor, \"unet_ori\"),\n",
    "                                                hyperparam[\"epochs\"])\n",
    "# show the evaluation result\n",
    "print(f\"test loss: {ev_result[0]}\", f\"test mean_px_acc: {ev_result[1]}\",\n",
    "        f\"test auc: {ev_result[2]}\", f\"test precision: {ev_result[3]}\",\n",
    "        f\"test recall: {ev_result[4]}\", sep=\"\\n\")"
   ]
  },
  {
   "cell_type": "code",
   "execution_count": 8,
   "metadata": {},
   "outputs": [],
   "source": [
    "# initiate the huggingface api \n",
    "api = HfApi()\n",
    "repo = api.create_repo(\"CAD-Glaucoma_Segmentation\", repo_type=\"model\", exist_ok=True)"
   ]
  },
  {
   "cell_type": "code",
   "execution_count": null,
   "metadata": {},
   "outputs": [],
   "source": [
    "# push the model artifact and hyperparameter to wandb\n",
    "## initiate the project\n",
    "wandb.init(project=\"CAD - Glaucoma Segmentation\",\n",
    "            name=f\"unet_ori - {wandb_init_name}\",\n",
    "            config=hyperparam)\n",
    "## write the training history and validation result to wandb log\n",
    "for epoch in range(len(history.history[\"loss\"])):\n",
    "    wandb.log({\n",
    "        \"train_loss\": history.history[\"loss\"][epoch],\n",
    "        \"train_accuracy\": history.history[\"mean_px_acc\"][epoch],\n",
    "        \"train_auc\": history.history[\"auc\"][epoch],\n",
    "        \"train_precision\": history.history[\"precision\"][epoch],\n",
    "        \"train_recall\": history.history[\"recall\"][epoch],\n",
    "        \"train_f1\": 2 * (history.history[\"precision\"][epoch] * history.history[\"recall\"][epoch]) / (history.history[\"precision\"][epoch] + history.history[\"recall\"][epoch] + 1e-7),\n",
    "        \"val_loss\": history.history[\"val_loss\"][epoch],\n",
    "        \"val_accuracy\": history.history[\"val_mean_px_acc\"][epoch],\n",
    "        \"val_auc\": history.history[\"val_auc\"][epoch],\n",
    "        \"val_precision\": history.history[\"val_precision\"][epoch],\n",
    "        \"val_recall\": history.history[\"val_recall\"][epoch],\n",
    "        \"val_f1\": 2 * (history.history[\"val_precision\"][epoch] * history.history[\"val_recall\"][epoch]) / (history.history[\"val_precision\"][epoch] + history.history[\"val_recall\"][epoch] + 1e-7),\n",
    "    })\n",
    "## store the model artifact\n",
    "wandb.log_artifact(os.path.join(paths.path_model, f\"{file_model_name}.h5\"))\n",
    "wandb.finish()"
   ]
  },
  {
   "cell_type": "code",
   "execution_count": null,
   "metadata": {},
   "outputs": [
    {
     "name": "stderr",
     "output_type": "stream",
     "text": [
      "unet_model_ori.h5: 100%|██████████| 1.57M/1.57M [00:02<00:00, 551kB/s] \n"
     ]
    },
    {
     "data": {
      "text/plain": [
       "CommitInfo(commit_url='https://huggingface.co/bugi-sulistiyo/CAD-Glaucoma_Segmentation/commit/1751a67641cdf4d829491f91ae6be3e838e72f57', commit_message='unet_ori - retrain the model with new config', commit_description='', oid='1751a67641cdf4d829491f91ae6be3e838e72f57', pr_url=None, repo_url=RepoUrl('https://huggingface.co/bugi-sulistiyo/CAD-Glaucoma_Segmentation', endpoint='https://huggingface.co', repo_type='model', repo_id='bugi-sulistiyo/CAD-Glaucoma_Segmentation'), pr_revision=None, pr_num=None)"
      ]
     },
     "execution_count": 10,
     "metadata": {},
     "output_type": "execute_result"
    }
   ],
   "source": [
    "# push the model to the huggingface hub\n",
    "api.upload_file(\n",
    "    repo_id=repo.repo_id,\n",
    "    path_or_fileobj=os.path.join(paths.path_model, f\"{file_model_name}.h5\"),\n",
    "    path_in_repo=f\"model/{file_model_name}.h5\",\n",
    "    repo_type=repo.repo_type,\n",
    "    commit_message=f\"unet_ori - {hf_commit_message}\",\n",
    ")"
   ]
  },
  {
   "cell_type": "code",
   "execution_count": null,
   "metadata": {},
   "outputs": [
    {
     "name": "stdout",
     "output_type": "stream",
     "text": [
      "Epoch 1/50\n",
      "16/16 [==============================] - 9s 194ms/step - loss: 0.0086 - mean_px_acc: 0.4517 - auc: 0.8009 - precision: 0.6559 - recall: 0.5496 - val_loss: 0.0100 - val_mean_px_acc: 0.9230 - val_auc: 0.8691 - val_precision: 0.0000e+00 - val_recall: 0.0000e+00\n",
      "Epoch 2/50\n",
      "16/16 [==============================] - 4s 114ms/step - loss: 0.0061 - mean_px_acc: 0.5141 - auc: 0.8967 - precision: 0.7699 - recall: 0.6581 - val_loss: 0.0101 - val_mean_px_acc: 0.9858 - val_auc: 0.7126 - val_precision: 0.0000e+00 - val_recall: 0.0000e+00\n",
      "Epoch 3/50\n",
      "16/16 [==============================] - 4s 118ms/step - loss: 0.0054 - mean_px_acc: 0.6401 - auc: 0.9197 - precision: 0.8137 - recall: 0.6915 - val_loss: 0.0103 - val_mean_px_acc: 0.9850 - val_auc: 0.6421 - val_precision: 1.0000 - val_recall: 0.0060\n",
      "Epoch 4/50\n",
      "16/16 [==============================] - 4s 116ms/step - loss: 0.0050 - mean_px_acc: 0.7742 - auc: 0.9332 - precision: 0.8389 - recall: 0.7138 - val_loss: 0.0107 - val_mean_px_acc: 0.9831 - val_auc: 0.5775 - val_precision: 0.9934 - val_recall: 0.1699\n",
      "Epoch 5/50\n",
      "16/16 [==============================] - 4s 113ms/step - loss: 0.0048 - mean_px_acc: 0.8418 - auc: 0.9401 - precision: 0.8511 - recall: 0.7382 - val_loss: 0.0111 - val_mean_px_acc: 0.9825 - val_auc: 0.5885 - val_precision: 0.6007 - val_recall: 0.2724\n",
      "Epoch 6/50\n",
      "16/16 [==============================] - 4s 116ms/step - loss: 0.0044 - mean_px_acc: 0.8869 - auc: 0.9487 - precision: 0.8711 - recall: 0.7901 - val_loss: 0.0115 - val_mean_px_acc: 0.9825 - val_auc: 0.5854 - val_precision: 0.2795 - val_recall: 0.2760\n",
      "Epoch 7/50\n",
      "16/16 [==============================] - 4s 109ms/step - loss: 0.0041 - mean_px_acc: 0.9226 - auc: 0.9568 - precision: 0.8842 - recall: 0.8279 - val_loss: 0.0122 - val_mean_px_acc: 0.9825 - val_auc: 0.5807 - val_precision: 0.2760 - val_recall: 0.2760\n",
      "Epoch 8/50\n",
      "16/16 [==============================] - 4s 112ms/step - loss: 0.0039 - mean_px_acc: 0.9389 - auc: 0.9618 - precision: 0.8945 - recall: 0.8669 - val_loss: 0.0131 - val_mean_px_acc: 0.9825 - val_auc: 0.5604 - val_precision: 0.2760 - val_recall: 0.2760\n",
      "Epoch 9/50\n",
      "16/16 [==============================] - 4s 112ms/step - loss: 0.0037 - mean_px_acc: 0.9465 - auc: 0.9631 - precision: 0.8944 - recall: 0.8793 - val_loss: 0.0137 - val_mean_px_acc: 0.9825 - val_auc: 0.5494 - val_precision: 0.2760 - val_recall: 0.2760\n",
      "Epoch 10/50\n",
      "16/16 [==============================] - 4s 109ms/step - loss: 0.0037 - mean_px_acc: 0.9497 - auc: 0.9638 - precision: 0.8936 - recall: 0.8819 - val_loss: 0.0143 - val_mean_px_acc: 0.9825 - val_auc: 0.4988 - val_precision: 0.2760 - val_recall: 0.2760\n",
      "Epoch 11/50\n",
      "16/16 [==============================] - 4s 99ms/step - loss: 0.0033 - mean_px_acc: 0.9590 - auc: 0.9689 - precision: 0.9055 - recall: 0.8968 - val_loss: 0.0147 - val_mean_px_acc: 0.9825 - val_auc: 0.5128 - val_precision: 0.2760 - val_recall: 0.2760\n",
      "Epoch 12/50\n",
      "16/16 [==============================] - 4s 116ms/step - loss: 0.0031 - mean_px_acc: 0.9670 - auc: 0.9742 - precision: 0.9106 - recall: 0.9052 - val_loss: 0.0159 - val_mean_px_acc: 0.9825 - val_auc: 0.5043 - val_precision: 0.2760 - val_recall: 0.2760\n",
      "Epoch 13/50\n",
      "16/16 [==============================] - 4s 102ms/step - loss: 0.0029 - mean_px_acc: 0.9727 - auc: 0.9760 - precision: 0.9114 - recall: 0.9079 - val_loss: 0.0164 - val_mean_px_acc: 0.9824 - val_auc: 0.4721 - val_precision: 0.2760 - val_recall: 0.2760\n",
      "Epoch 14/50\n",
      "16/16 [==============================] - 4s 103ms/step - loss: 0.0027 - mean_px_acc: 0.9783 - auc: 0.9786 - precision: 0.9176 - recall: 0.9148 - val_loss: 0.0171 - val_mean_px_acc: 0.9825 - val_auc: 0.4672 - val_precision: 0.2760 - val_recall: 0.2760\n",
      "Epoch 15/50\n",
      "16/16 [==============================] - 4s 107ms/step - loss: 0.0025 - mean_px_acc: 0.9781 - auc: 0.9832 - precision: 0.9262 - recall: 0.9233 - val_loss: 0.0181 - val_mean_px_acc: 0.9826 - val_auc: 0.4739 - val_precision: 0.2765 - val_recall: 0.2762\n",
      "Epoch 16/50\n",
      "16/16 [==============================] - 4s 112ms/step - loss: 0.0025 - mean_px_acc: 0.9778 - auc: 0.9817 - precision: 0.9217 - recall: 0.9192 - val_loss: 0.0188 - val_mean_px_acc: 0.9825 - val_auc: 0.4637 - val_precision: 0.2760 - val_recall: 0.2760\n",
      "Epoch 17/50\n",
      "16/16 [==============================] - 4s 123ms/step - loss: 0.0023 - mean_px_acc: 0.9816 - auc: 0.9843 - precision: 0.9235 - recall: 0.9214 - val_loss: 0.0192 - val_mean_px_acc: 0.9825 - val_auc: 0.4623 - val_precision: 0.2761 - val_recall: 0.2760\n",
      "Epoch 18/50\n",
      "16/16 [==============================] - 5s 120ms/step - loss: 0.0022 - mean_px_acc: 0.9801 - auc: 0.9864 - precision: 0.9310 - recall: 0.9294 - val_loss: 0.0204 - val_mean_px_acc: 0.9825 - val_auc: 0.4301 - val_precision: 0.2760 - val_recall: 0.2760\n",
      "Epoch 19/50\n",
      "16/16 [==============================] - 4s 112ms/step - loss: 0.0020 - mean_px_acc: 0.9830 - auc: 0.9875 - precision: 0.9338 - recall: 0.9321 - val_loss: 0.0196 - val_mean_px_acc: 0.9828 - val_auc: 0.4812 - val_precision: 0.2949 - val_recall: 0.2933\n",
      "Epoch 20/50\n",
      "16/16 [==============================] - 4s 109ms/step - loss: 0.0019 - mean_px_acc: 0.9842 - auc: 0.9890 - precision: 0.9369 - recall: 0.9355 - val_loss: 0.0191 - val_mean_px_acc: 0.9832 - val_auc: 0.4850 - val_precision: 0.3218 - val_recall: 0.3192\n",
      "Epoch 21/50\n",
      "16/16 [==============================] - 4s 112ms/step - loss: 0.0018 - mean_px_acc: 0.9853 - auc: 0.9898 - precision: 0.9396 - recall: 0.9388 - val_loss: 0.0180 - val_mean_px_acc: 0.9837 - val_auc: 0.5075 - val_precision: 0.3590 - val_recall: 0.3546\n",
      "Epoch 22/50\n",
      "16/16 [==============================] - 4s 112ms/step - loss: 0.0018 - mean_px_acc: 0.9855 - auc: 0.9903 - precision: 0.9387 - recall: 0.9376 - val_loss: 0.0120 - val_mean_px_acc: 0.9858 - val_auc: 0.6955 - val_precision: 0.5335 - val_recall: 0.5121\n",
      "Epoch 23/50\n",
      "16/16 [==============================] - 4s 111ms/step - loss: 0.0016 - mean_px_acc: 0.9865 - auc: 0.9916 - precision: 0.9433 - recall: 0.9424 - val_loss: 0.0151 - val_mean_px_acc: 0.9843 - val_auc: 0.6023 - val_precision: 0.4095 - val_recall: 0.3994\n",
      "Epoch 24/50\n",
      "16/16 [==============================] - 5s 120ms/step - loss: 0.0015 - mean_px_acc: 0.9870 - auc: 0.9926 - precision: 0.9471 - recall: 0.9465 - val_loss: 0.0121 - val_mean_px_acc: 0.9860 - val_auc: 0.7098 - val_precision: 0.5303 - val_recall: 0.5080\n",
      "Epoch 25/50\n",
      "16/16 [==============================] - 4s 102ms/step - loss: 0.0014 - mean_px_acc: 0.9880 - auc: 0.9937 - precision: 0.9509 - recall: 0.9503 - val_loss: 0.0116 - val_mean_px_acc: 0.9864 - val_auc: 0.7382 - val_precision: 0.5634 - val_recall: 0.5404\n",
      "Epoch 26/50\n",
      "16/16 [==============================] - 4s 114ms/step - loss: 0.0014 - mean_px_acc: 0.9884 - auc: 0.9932 - precision: 0.9517 - recall: 0.9511 - val_loss: 0.0095 - val_mean_px_acc: 0.9883 - val_auc: 0.7987 - val_precision: 0.6395 - val_recall: 0.6016\n",
      "Epoch 27/50\n",
      "16/16 [==============================] - 4s 119ms/step - loss: 0.0015 - mean_px_acc: 0.9874 - auc: 0.9927 - precision: 0.9459 - recall: 0.9453 - val_loss: 0.0095 - val_mean_px_acc: 0.9878 - val_auc: 0.8160 - val_precision: 0.6303 - val_recall: 0.6014\n",
      "Epoch 28/50\n",
      "16/16 [==============================] - 4s 119ms/step - loss: 0.0012 - mean_px_acc: 0.9890 - auc: 0.9954 - precision: 0.9571 - recall: 0.9567 - val_loss: 0.0084 - val_mean_px_acc: 0.9888 - val_auc: 0.8545 - val_precision: 0.6786 - val_recall: 0.6461\n",
      "Epoch 29/50\n",
      "16/16 [==============================] - 4s 113ms/step - loss: 0.0012 - mean_px_acc: 0.9891 - auc: 0.9949 - precision: 0.9580 - recall: 0.9575 - val_loss: 0.0048 - val_mean_px_acc: 0.9925 - val_auc: 0.9379 - val_precision: 0.8027 - val_recall: 0.7761\n",
      "Epoch 30/50\n",
      "16/16 [==============================] - 4s 106ms/step - loss: 0.0011 - mean_px_acc: 0.9897 - auc: 0.9959 - precision: 0.9608 - recall: 0.9604 - val_loss: 0.0058 - val_mean_px_acc: 0.9909 - val_auc: 0.9164 - val_precision: 0.7673 - val_recall: 0.7292\n",
      "Epoch 31/50\n",
      "16/16 [==============================] - 4s 100ms/step - loss: 0.0011 - mean_px_acc: 0.9896 - auc: 0.9959 - precision: 0.9631 - recall: 0.9627 - val_loss: 0.0046 - val_mean_px_acc: 0.9915 - val_auc: 0.9451 - val_precision: 0.8174 - val_recall: 0.7871\n",
      "Epoch 32/50\n",
      "16/16 [==============================] - 4s 109ms/step - loss: 0.0011 - mean_px_acc: 0.9895 - auc: 0.9957 - precision: 0.9599 - recall: 0.9596 - val_loss: 0.0049 - val_mean_px_acc: 0.9915 - val_auc: 0.9401 - val_precision: 0.8065 - val_recall: 0.7794\n",
      "Epoch 33/50\n",
      "16/16 [==============================] - 3s 95ms/step - loss: 9.4923e-04 - mean_px_acc: 0.9905 - auc: 0.9970 - precision: 0.9674 - recall: 0.9671 - val_loss: 0.0048 - val_mean_px_acc: 0.9922 - val_auc: 0.9391 - val_precision: 0.8034 - val_recall: 0.7749\n",
      "Epoch 34/50\n",
      "16/16 [==============================] - 4s 99ms/step - loss: 8.7761e-04 - mean_px_acc: 0.9918 - auc: 0.9974 - precision: 0.9691 - recall: 0.9689 - val_loss: 0.0052 - val_mean_px_acc: 0.9923 - val_auc: 0.9347 - val_precision: 0.7960 - val_recall: 0.7752\n",
      "Epoch 35/50\n",
      "16/16 [==============================] - 3s 108ms/step - loss: 0.0011 - mean_px_acc: 0.9892 - auc: 0.9953 - precision: 0.9598 - recall: 0.9595 - val_loss: 0.0034 - val_mean_px_acc: 0.9926 - val_auc: 0.9669 - val_precision: 0.8608 - val_recall: 0.8424\n",
      "Epoch 36/50\n",
      "16/16 [==============================] - 4s 104ms/step - loss: 9.1288e-04 - mean_px_acc: 0.9910 - auc: 0.9970 - precision: 0.9673 - recall: 0.9672 - val_loss: 0.0061 - val_mean_px_acc: 0.9893 - val_auc: 0.9281 - val_precision: 0.8018 - val_recall: 0.7874\n",
      "Epoch 37/50\n",
      "15/16 [===========================>..] - ETA: 0s - loss: 0.0011 - mean_px_acc: 0.9898 - auc: 0.9956 - precision: 0.9586 - recall: 0.9582\n",
      "Reached 0.98 AUC value. Stopping the training on epoch 36\n",
      "16/16 [==============================] - 3s 98ms/step - loss: 0.0011 - mean_px_acc: 0.9899 - auc: 0.9956 - precision: 0.9589 - recall: 0.9585 - val_loss: 0.0024 - val_mean_px_acc: 0.9914 - val_auc: 0.9819 - val_precision: 0.9033 - val_recall: 0.8978\n",
      "test loss: 0.07153978198766708\n",
      "test mean_px_acc: 0.9870282411575317\n",
      "test auc: 0.9968013167381287\n",
      "test precision: 0.9890429377555847\n",
      "test recall: 0.988270103931427\n"
     ]
    }
   ],
   "source": [
    "# create the unet model\n",
    "unet_custom = utils.custom_unet()\n",
    "file_model_name = \"unet_model_aug\"\n",
    "# train the model using augmented dataset\n",
    "unet_custom, history, ev_result = utils.train_model(unet_custom,\n",
    "                                                trainset_aug, valset_aug, testset_aug,\n",
    "                                                paths.path_model, file_model_name, os.path.join(paths.path_log_tensor, \"unet_aug\"),\n",
    "                                                hyperparam[\"epochs\"])\n",
    "# show the evaluation result \n",
    "print(f\"test loss: {ev_result[0]}\", f\"test mean_px_acc: {ev_result[1]}\",\n",
    "        f\"test auc: {ev_result[2]}\", f\"test precision: {ev_result[3]}\",\n",
    "        f\"test recall: {ev_result[4]}\", sep=\"\\n\")"
   ]
  },
  {
   "cell_type": "code",
   "execution_count": null,
   "metadata": {},
   "outputs": [],
   "source": [
    "# push the model artifact and hyperparameter to wandb\n",
    "## set the hyperparameter for the wandb\n",
    "hyperparam[\"aug\"] = True\n",
    "## initiate the project\n",
    "wandb.init(project=\"CAD - Glaucoma Segmentation\",\n",
    "            name=f\"unet_aug - {wandb_init_name}\",\n",
    "            config=hyperparam)\n",
    "## write the training history and validation result to wandb log\n",
    "for epoch in range(len(history.history[\"loss\"])):\n",
    "    wandb.log({\n",
    "        \"train_loss\": history.history[\"loss\"][epoch],\n",
    "        \"train_accuracy\": history.history[\"mean_px_acc\"][epoch],\n",
    "        \"train_auc\": history.history[\"auc\"][epoch],\n",
    "        \"train_precision\": history.history[\"precision\"][epoch],\n",
    "        \"train_recall\": history.history[\"recall\"][epoch],\n",
    "        \"train_f1\": 2 * (history.history[\"precision\"][epoch] * history.history[\"recall\"][epoch]) / (history.history[\"precision\"][epoch] + history.history[\"recall\"][epoch] + 1e-7),\n",
    "        \"val_loss\": history.history[\"val_loss\"][epoch],\n",
    "        \"val_accuracy\": history.history[\"val_mean_px_acc\"][epoch],\n",
    "        \"val_auc\": history.history[\"val_auc\"][epoch],\n",
    "        \"val_precision\": history.history[\"val_precision\"][epoch],\n",
    "        \"val_recall\": history.history[\"val_recall\"][epoch],\n",
    "        \"val_f1\": 2 * (history.history[\"val_precision\"][epoch] * history.history[\"val_recall\"][epoch]) / (history.history[\"val_precision\"][epoch] + history.history[\"val_recall\"][epoch] + 1e-7),\n",
    "    })\n",
    "## store the model artifact\n",
    "wandb.log_artifact(os.path.join(paths.path_model, f\"{file_model_name}.h5\"))\n",
    "wandb.finish()"
   ]
  },
  {
   "cell_type": "code",
   "execution_count": null,
   "metadata": {},
   "outputs": [
    {
     "name": "stderr",
     "output_type": "stream",
     "text": [
      "unet_model_aug.h5: 100%|██████████| 1.57M/1.57M [00:01<00:00, 1.03MB/s]\n"
     ]
    },
    {
     "data": {
      "text/plain": [
       "CommitInfo(commit_url='https://huggingface.co/bugi-sulistiyo/CAD-Glaucoma_Segmentation/commit/7c5b19577d38778e9f4989ddf70daf576a3a933f', commit_message='unet_aug - retrain the model with new config', commit_description='', oid='7c5b19577d38778e9f4989ddf70daf576a3a933f', pr_url=None, repo_url=RepoUrl('https://huggingface.co/bugi-sulistiyo/CAD-Glaucoma_Segmentation', endpoint='https://huggingface.co', repo_type='model', repo_id='bugi-sulistiyo/CAD-Glaucoma_Segmentation'), pr_revision=None, pr_num=None)"
      ]
     },
     "execution_count": 13,
     "metadata": {},
     "output_type": "execute_result"
    }
   ],
   "source": [
    "## push the model to the huggingface hub\n",
    "api.upload_file(\n",
    "    repo_id=repo.repo_id,\n",
    "    path_or_fileobj=os.path.join(paths.path_model, f\"{file_model_name}.h5\"),\n",
    "    path_in_repo=f\"model/{file_model_name}.h5\",\n",
    "    repo_type=repo.repo_type,\n",
    "    commit_message=f\"unet_aug - {hf_commit_message}\",\n",
    ")"
   ]
  },
  {
   "cell_type": "markdown",
   "metadata": {},
   "source": [
    "### MobileNet"
   ]
  },
  {
   "cell_type": "code",
   "execution_count": null,
   "metadata": {},
   "outputs": [
    {
     "name": "stdout",
     "output_type": "stream",
     "text": [
      "Epoch 1/50\n",
      " 6/16 [==========>...................] - ETA: 1s - loss: 0.0112 - mean_px_acc: 0.3785 - auc: 0.6766 - precision: 0.4945 - recall: 0.4257WARNING:tensorflow:Callback method `on_train_batch_end` is slow compared to the batch time (batch time: 0.0958s vs `on_train_batch_end` time: 0.1267s). Check your callbacks.\n",
      "16/16 [==============================] - 29s 552ms/step - loss: 0.0096 - mean_px_acc: 0.4348 - auc: 0.7340 - precision: 0.5608 - recall: 0.4728 - val_loss: 0.0147 - val_mean_px_acc: 0.3877 - val_auc: 0.6800 - val_precision: 0.4309 - val_recall: 0.4051\n",
      "Epoch 2/50\n",
      "16/16 [==============================] - 10s 169ms/step - loss: 0.0077 - mean_px_acc: 0.6055 - auc: 0.8231 - precision: 0.6625 - recall: 0.5550 - val_loss: 0.0150 - val_mean_px_acc: 0.4971 - val_auc: 0.6915 - val_precision: 0.4634 - val_recall: 0.4313\n",
      "Epoch 3/50\n",
      "16/16 [==============================] - 9s 172ms/step - loss: 0.0070 - mean_px_acc: 0.7107 - auc: 0.8579 - precision: 0.7158 - recall: 0.5897 - val_loss: 0.0109 - val_mean_px_acc: 0.6425 - val_auc: 0.7483 - val_precision: 0.5453 - val_recall: 0.5014\n",
      "Epoch 4/50\n",
      "16/16 [==============================] - 10s 185ms/step - loss: 0.0066 - mean_px_acc: 0.7893 - auc: 0.8795 - precision: 0.7371 - recall: 0.6327 - val_loss: 0.0080 - val_mean_px_acc: 0.6963 - val_auc: 0.8037 - val_precision: 0.5877 - val_recall: 0.5301\n",
      "Epoch 5/50\n",
      "16/16 [==============================] - 10s 179ms/step - loss: 0.0061 - mean_px_acc: 0.8326 - auc: 0.8981 - precision: 0.7677 - recall: 0.6748 - val_loss: 0.0080 - val_mean_px_acc: 0.7771 - val_auc: 0.8034 - val_precision: 0.5974 - val_recall: 0.5407\n",
      "Epoch 6/50\n",
      "16/16 [==============================] - 10s 200ms/step - loss: 0.0057 - mean_px_acc: 0.8782 - auc: 0.9150 - precision: 0.7959 - recall: 0.7233 - val_loss: 0.0080 - val_mean_px_acc: 0.8600 - val_auc: 0.8141 - val_precision: 0.6136 - val_recall: 0.5638\n",
      "Epoch 7/50\n",
      "16/16 [==============================] - 9s 174ms/step - loss: 0.0053 - mean_px_acc: 0.9097 - auc: 0.9279 - precision: 0.8187 - recall: 0.7610 - val_loss: 0.0055 - val_mean_px_acc: 0.9015 - val_auc: 0.9132 - val_precision: 0.7703 - val_recall: 0.7141\n",
      "Epoch 8/50\n",
      "16/16 [==============================] - 9s 159ms/step - loss: 0.0051 - mean_px_acc: 0.9241 - auc: 0.9283 - precision: 0.8192 - recall: 0.7841 - val_loss: 0.0049 - val_mean_px_acc: 0.9200 - val_auc: 0.9316 - val_precision: 0.8009 - val_recall: 0.7819\n",
      "Epoch 9/50\n",
      "16/16 [==============================] - 9s 161ms/step - loss: 0.0047 - mean_px_acc: 0.9336 - auc: 0.9409 - precision: 0.8356 - recall: 0.8165 - val_loss: 0.0066 - val_mean_px_acc: 0.9419 - val_auc: 0.8683 - val_precision: 0.7125 - val_recall: 0.6934\n",
      "Epoch 10/50\n",
      "16/16 [==============================] - 9s 173ms/step - loss: 0.0044 - mean_px_acc: 0.9467 - auc: 0.9508 - precision: 0.8506 - recall: 0.8374 - val_loss: 0.0048 - val_mean_px_acc: 0.9513 - val_auc: 0.9304 - val_precision: 0.8006 - val_recall: 0.7900\n",
      "Epoch 11/50\n",
      "16/16 [==============================] - 9s 165ms/step - loss: 0.0042 - mean_px_acc: 0.9504 - auc: 0.9519 - precision: 0.8504 - recall: 0.8432 - val_loss: 0.0042 - val_mean_px_acc: 0.9613 - val_auc: 0.9474 - val_precision: 0.8238 - val_recall: 0.8165\n",
      "Epoch 12/50\n",
      "16/16 [==============================] - 9s 170ms/step - loss: 0.0038 - mean_px_acc: 0.9610 - auc: 0.9633 - precision: 0.8720 - recall: 0.8663 - val_loss: 0.0043 - val_mean_px_acc: 0.9624 - val_auc: 0.9437 - val_precision: 0.8166 - val_recall: 0.8129\n",
      "Epoch 13/50\n",
      "16/16 [==============================] - 10s 199ms/step - loss: 0.0036 - mean_px_acc: 0.9640 - auc: 0.9652 - precision: 0.8745 - recall: 0.8714 - val_loss: 0.0037 - val_mean_px_acc: 0.9740 - val_auc: 0.9637 - val_precision: 0.8432 - val_recall: 0.8370\n",
      "Epoch 14/50\n",
      "16/16 [==============================] - 8s 145ms/step - loss: 0.0034 - mean_px_acc: 0.9653 - auc: 0.9689 - precision: 0.8803 - recall: 0.8775 - val_loss: 0.0036 - val_mean_px_acc: 0.9708 - val_auc: 0.9614 - val_precision: 0.8439 - val_recall: 0.8428\n",
      "Epoch 15/50\n",
      "16/16 [==============================] - 7s 136ms/step - loss: 0.0033 - mean_px_acc: 0.9693 - auc: 0.9690 - precision: 0.8790 - recall: 0.8769 - val_loss: 0.0037 - val_mean_px_acc: 0.9664 - val_auc: 0.9564 - val_precision: 0.8420 - val_recall: 0.8414\n",
      "Epoch 16/50\n",
      "16/16 [==============================] - 7s 122ms/step - loss: 0.0031 - mean_px_acc: 0.9703 - auc: 0.9727 - precision: 0.8838 - recall: 0.8824 - val_loss: 0.0034 - val_mean_px_acc: 0.9669 - val_auc: 0.9640 - val_precision: 0.8537 - val_recall: 0.8531\n",
      "Epoch 17/50\n",
      "16/16 [==============================] - 7s 120ms/step - loss: 0.0032 - mean_px_acc: 0.9695 - auc: 0.9700 - precision: 0.8780 - recall: 0.8771 - val_loss: 0.0035 - val_mean_px_acc: 0.9762 - val_auc: 0.9627 - val_precision: 0.8420 - val_recall: 0.8416\n",
      "Epoch 18/50\n",
      "16/16 [==============================] - 7s 122ms/step - loss: 0.0030 - mean_px_acc: 0.9705 - auc: 0.9732 - precision: 0.8843 - recall: 0.8830 - val_loss: 0.0034 - val_mean_px_acc: 0.9709 - val_auc: 0.9637 - val_precision: 0.8560 - val_recall: 0.8551\n",
      "Epoch 19/50\n",
      "16/16 [==============================] - 7s 127ms/step - loss: 0.0029 - mean_px_acc: 0.9743 - auc: 0.9757 - precision: 0.8892 - recall: 0.8883 - val_loss: 0.0033 - val_mean_px_acc: 0.9737 - val_auc: 0.9662 - val_precision: 0.8591 - val_recall: 0.8587\n",
      "Epoch 20/50\n",
      "16/16 [==============================] - 7s 120ms/step - loss: 0.0028 - mean_px_acc: 0.9751 - auc: 0.9771 - precision: 0.8906 - recall: 0.8895 - val_loss: 0.0032 - val_mean_px_acc: 0.9752 - val_auc: 0.9686 - val_precision: 0.8673 - val_recall: 0.8668\n",
      "Epoch 21/50\n",
      "16/16 [==============================] - 7s 132ms/step - loss: 0.0027 - mean_px_acc: 0.9763 - auc: 0.9792 - precision: 0.8948 - recall: 0.8940 - val_loss: 0.0033 - val_mean_px_acc: 0.9759 - val_auc: 0.9673 - val_precision: 0.8592 - val_recall: 0.8592\n",
      "Epoch 22/50\n",
      "16/16 [==============================] - 7s 124ms/step - loss: 0.0026 - mean_px_acc: 0.9764 - auc: 0.9797 - precision: 0.8968 - recall: 0.8963 - val_loss: 0.0034 - val_mean_px_acc: 0.9769 - val_auc: 0.9654 - val_precision: 0.8513 - val_recall: 0.8512\n",
      "Epoch 23/50\n",
      "16/16 [==============================] - 7s 122ms/step - loss: 0.0026 - mean_px_acc: 0.9768 - auc: 0.9802 - precision: 0.8957 - recall: 0.8954 - val_loss: 0.0035 - val_mean_px_acc: 0.9799 - val_auc: 0.9632 - val_precision: 0.8544 - val_recall: 0.8512\n",
      "Epoch 24/50\n",
      "16/16 [==============================] - 7s 118ms/step - loss: 0.0027 - mean_px_acc: 0.9776 - auc: 0.9790 - precision: 0.8933 - recall: 0.8921 - val_loss: 0.0040 - val_mean_px_acc: 0.9775 - val_auc: 0.9530 - val_precision: 0.8178 - val_recall: 0.8174\n",
      "Epoch 25/50\n",
      "16/16 [==============================] - 6s 117ms/step - loss: 0.0027 - mean_px_acc: 0.9776 - auc: 0.9791 - precision: 0.8926 - recall: 0.8921 - val_loss: 0.0032 - val_mean_px_acc: 0.9734 - val_auc: 0.9694 - val_precision: 0.8564 - val_recall: 0.8560\n",
      "Epoch 26/50\n",
      "16/16 [==============================] - 7s 131ms/step - loss: 0.0026 - mean_px_acc: 0.9785 - auc: 0.9808 - precision: 0.8969 - recall: 0.8965 - val_loss: 0.0034 - val_mean_px_acc: 0.9715 - val_auc: 0.9652 - val_precision: 0.8516 - val_recall: 0.8512\n",
      "Epoch 27/50\n",
      "16/16 [==============================] - 7s 126ms/step - loss: 0.0028 - mean_px_acc: 0.9766 - auc: 0.9766 - precision: 0.8853 - recall: 0.8849 - val_loss: 0.0031 - val_mean_px_acc: 0.9747 - val_auc: 0.9696 - val_precision: 0.8609 - val_recall: 0.8608\n",
      "Epoch 28/50\n",
      "16/16 [==============================] - 7s 125ms/step - loss: 0.0027 - mean_px_acc: 0.9782 - auc: 0.9777 - precision: 0.8860 - recall: 0.8854 - val_loss: 0.0033 - val_mean_px_acc: 0.9754 - val_auc: 0.9670 - val_precision: 0.8627 - val_recall: 0.8626\n",
      "Epoch 29/50\n",
      "16/16 [==============================] - 7s 122ms/step - loss: 0.0027 - mean_px_acc: 0.9777 - auc: 0.9783 - precision: 0.8885 - recall: 0.8879 - val_loss: 0.0033 - val_mean_px_acc: 0.9762 - val_auc: 0.9654 - val_precision: 0.8495 - val_recall: 0.8494\n",
      "Epoch 30/50\n",
      "16/16 [==============================] - 7s 119ms/step - loss: 0.0025 - mean_px_acc: 0.9787 - auc: 0.9815 - precision: 0.8970 - recall: 0.8963 - val_loss: 0.0031 - val_mean_px_acc: 0.9752 - val_auc: 0.9709 - val_precision: 0.8646 - val_recall: 0.8643\n",
      "Epoch 31/50\n",
      "16/16 [==============================] - 7s 119ms/step - loss: 0.0024 - mean_px_acc: 0.9793 - auc: 0.9829 - precision: 0.9013 - recall: 0.9007 - val_loss: 0.0030 - val_mean_px_acc: 0.9807 - val_auc: 0.9726 - val_precision: 0.8766 - val_recall: 0.8754\n",
      "Epoch 32/50\n",
      "16/16 [==============================] - 7s 122ms/step - loss: 0.0023 - mean_px_acc: 0.9805 - auc: 0.9835 - precision: 0.9025 - recall: 0.9021 - val_loss: 0.0030 - val_mean_px_acc: 0.9783 - val_auc: 0.9722 - val_precision: 0.8767 - val_recall: 0.8765\n",
      "Epoch 33/50\n",
      "16/16 [==============================] - 7s 128ms/step - loss: 0.0024 - mean_px_acc: 0.9807 - auc: 0.9834 - precision: 0.9009 - recall: 0.9001 - val_loss: 0.0029 - val_mean_px_acc: 0.9798 - val_auc: 0.9734 - val_precision: 0.8762 - val_recall: 0.8759\n",
      "Epoch 34/50\n",
      "16/16 [==============================] - 7s 122ms/step - loss: 0.0024 - mean_px_acc: 0.9811 - auc: 0.9829 - precision: 0.9008 - recall: 0.9006 - val_loss: 0.0032 - val_mean_px_acc: 0.9781 - val_auc: 0.9689 - val_precision: 0.8590 - val_recall: 0.8584\n",
      "Epoch 35/50\n",
      "16/16 [==============================] - 7s 127ms/step - loss: 0.0025 - mean_px_acc: 0.9809 - auc: 0.9816 - precision: 0.8969 - recall: 0.8962 - val_loss: 0.0030 - val_mean_px_acc: 0.9815 - val_auc: 0.9714 - val_precision: 0.8727 - val_recall: 0.8710\n",
      "Epoch 36/50\n",
      "16/16 [==============================] - 7s 123ms/step - loss: 0.0023 - mean_px_acc: 0.9805 - auc: 0.9839 - precision: 0.9029 - recall: 0.9027 - val_loss: 0.0035 - val_mean_px_acc: 0.9748 - val_auc: 0.9636 - val_precision: 0.8375 - val_recall: 0.8367\n",
      "Epoch 37/50\n",
      "16/16 [==============================] - 7s 121ms/step - loss: 0.0022 - mean_px_acc: 0.9797 - auc: 0.9849 - precision: 0.9047 - recall: 0.9046 - val_loss: 0.0030 - val_mean_px_acc: 0.9777 - val_auc: 0.9732 - val_precision: 0.8784 - val_recall: 0.8778\n",
      "Epoch 38/50\n",
      "16/16 [==============================] - 7s 129ms/step - loss: 0.0023 - mean_px_acc: 0.9811 - auc: 0.9841 - precision: 0.9020 - recall: 0.9017 - val_loss: 0.0034 - val_mean_px_acc: 0.9730 - val_auc: 0.9673 - val_precision: 0.8565 - val_recall: 0.8564\n",
      "Epoch 39/50\n",
      "16/16 [==============================] - 7s 126ms/step - loss: 0.0023 - mean_px_acc: 0.9818 - auc: 0.9845 - precision: 0.9036 - recall: 0.9033 - val_loss: 0.0030 - val_mean_px_acc: 0.9746 - val_auc: 0.9734 - val_precision: 0.8774 - val_recall: 0.8767\n",
      "Epoch 40/50\n",
      "16/16 [==============================] - 7s 131ms/step - loss: 0.0023 - mean_px_acc: 0.9812 - auc: 0.9837 - precision: 0.9021 - recall: 0.9017 - val_loss: 0.0031 - val_mean_px_acc: 0.9794 - val_auc: 0.9724 - val_precision: 0.8671 - val_recall: 0.8671\n",
      "Epoch 41/50\n",
      "16/16 [==============================] - 7s 133ms/step - loss: 0.0023 - mean_px_acc: 0.9818 - auc: 0.9845 - precision: 0.9035 - recall: 0.9032 - val_loss: 0.0031 - val_mean_px_acc: 0.9800 - val_auc: 0.9720 - val_precision: 0.8651 - val_recall: 0.8650\n",
      "Epoch 42/50\n",
      "16/16 [==============================] - 7s 131ms/step - loss: 0.0022 - mean_px_acc: 0.9819 - auc: 0.9850 - precision: 0.9027 - recall: 0.9026 - val_loss: 0.0031 - val_mean_px_acc: 0.9798 - val_auc: 0.9718 - val_precision: 0.8709 - val_recall: 0.8708\n",
      "Epoch 43/50\n",
      "16/16 [==============================] - 7s 131ms/step - loss: 0.0022 - mean_px_acc: 0.9828 - auc: 0.9848 - precision: 0.9047 - recall: 0.9045 - val_loss: 0.0031 - val_mean_px_acc: 0.9829 - val_auc: 0.9714 - val_precision: 0.8670 - val_recall: 0.8670\n",
      "Epoch 44/50\n",
      "16/16 [==============================] - 7s 121ms/step - loss: 0.0022 - mean_px_acc: 0.9821 - auc: 0.9848 - precision: 0.9023 - recall: 0.9022 - val_loss: 0.0032 - val_mean_px_acc: 0.9796 - val_auc: 0.9708 - val_precision: 0.8598 - val_recall: 0.8597\n",
      "Epoch 45/50\n",
      "16/16 [==============================] - 7s 122ms/step - loss: 0.0022 - mean_px_acc: 0.9829 - auc: 0.9847 - precision: 0.9033 - recall: 0.9032 - val_loss: 0.0031 - val_mean_px_acc: 0.9771 - val_auc: 0.9726 - val_precision: 0.8715 - val_recall: 0.8712\n",
      "Epoch 46/50\n",
      "16/16 [==============================] - 7s 119ms/step - loss: 0.0022 - mean_px_acc: 0.9821 - auc: 0.9853 - precision: 0.9042 - recall: 0.9040 - val_loss: 0.0031 - val_mean_px_acc: 0.9813 - val_auc: 0.9721 - val_precision: 0.8662 - val_recall: 0.8662\n",
      "Epoch 47/50\n",
      "16/16 [==============================] - 7s 130ms/step - loss: 0.0022 - mean_px_acc: 0.9826 - auc: 0.9857 - precision: 0.9056 - recall: 0.9054 - val_loss: 0.0031 - val_mean_px_acc: 0.9856 - val_auc: 0.9714 - val_precision: 0.8651 - val_recall: 0.8634\n",
      "Epoch 48/50\n",
      "16/16 [==============================] - 7s 126ms/step - loss: 0.0021 - mean_px_acc: 0.9839 - auc: 0.9866 - precision: 0.9092 - recall: 0.9090 - val_loss: 0.0030 - val_mean_px_acc: 0.9840 - val_auc: 0.9733 - val_precision: 0.8719 - val_recall: 0.8716\n",
      "Epoch 49/50\n",
      "16/16 [==============================] - 7s 128ms/step - loss: 0.0021 - mean_px_acc: 0.9836 - auc: 0.9865 - precision: 0.9060 - recall: 0.9058 - val_loss: 0.0033 - val_mean_px_acc: 0.9822 - val_auc: 0.9701 - val_precision: 0.8646 - val_recall: 0.8643\n",
      "Epoch 50/50\n",
      "16/16 [==============================] - 6s 122ms/step - loss: 0.0022 - mean_px_acc: 0.9829 - auc: 0.9852 - precision: 0.9044 - recall: 0.9043 - val_loss: 0.0029 - val_mean_px_acc: 0.9830 - val_auc: 0.9740 - val_precision: 0.8757 - val_recall: 0.8752\n",
      "test loss: 0.06543035805225372\n",
      "test mean_px_acc: 0.9830114245414734\n",
      "test auc: 0.9973807334899902\n",
      "test precision: 0.983086347579956\n",
      "test recall: 0.9827347993850708\n"
     ]
    }
   ],
   "source": [
    "# create the unet model\n",
    "mobilenet = utils.mobilenet_model()\n",
    "file_model_name = \"mnet_model_ori\"\n",
    "# train the model using original dataset\n",
    "mobilenet, history, ev_result = utils.train_model(mobilenet,\n",
    "                                                trainset_ori, valset_ori, testset_ori,\n",
    "                                                paths.path_model, file_model_name, os.path.join(paths.path_log_tensor, \"mnet_ori\"),\n",
    "                                                hyperparam[\"epochs\"])\n",
    "# show the evaluation result\n",
    "print(f\"test loss: {ev_result[0]}\", f\"test mean_px_acc: {ev_result[1]}\",\n",
    "        f\"test auc: {ev_result[2]}\", f\"test precision: {ev_result[3]}\",\n",
    "        f\"test recall: {ev_result[4]}\", sep=\"\\n\")"
   ]
  },
  {
   "cell_type": "code",
   "execution_count": 15,
   "metadata": {},
   "outputs": [],
   "source": [
    "# initiate the huggingface api \n",
    "api = HfApi()\n",
    "repo = api.create_repo(\"CAD-Glaucoma_Segmentation\", repo_type=\"model\", exist_ok=True)"
   ]
  },
  {
   "cell_type": "code",
   "execution_count": null,
   "metadata": {},
   "outputs": [],
   "source": [
    "# push the model artifact and hyperparameter to wandb\n",
    "## set the hyperparameter for the wandb\n",
    "hyperparam[\"aug\"] = False\n",
    "hyperparam[\"model_type\"] = \"MobileNet\"\n",
    "## initiate the project\n",
    "wandb.init(project=\"CAD - Glaucoma Segmentation\",\n",
    "            name=f\"mnet_ori - {wandb_init_name}\",\n",
    "            config=hyperparam)\n",
    "## write the training history and validation result to wandb log\n",
    "for epoch in range(len(history.history[\"loss\"])):\n",
    "    wandb.log({\n",
    "        \"train_loss\": history.history[\"loss\"][epoch],\n",
    "        \"train_accuracy\": history.history[\"mean_px_acc\"][epoch],\n",
    "        \"train_auc\": history.history[\"auc\"][epoch],\n",
    "        \"train_precision\": history.history[\"precision\"][epoch],\n",
    "        \"train_recall\": history.history[\"recall\"][epoch],\n",
    "        \"train_f1\": 2 * (history.history[\"precision\"][epoch] * history.history[\"recall\"][epoch]) / (history.history[\"precision\"][epoch] + history.history[\"recall\"][epoch] + 1e-7),\n",
    "        \"val_loss\": history.history[\"val_loss\"][epoch],\n",
    "        \"val_accuracy\": history.history[\"val_mean_px_acc\"][epoch],\n",
    "        \"val_auc\": history.history[\"val_auc\"][epoch],\n",
    "        \"val_precision\": history.history[\"val_precision\"][epoch],\n",
    "        \"val_recall\": history.history[\"val_recall\"][epoch],\n",
    "        \"val_f1\": 2 * (history.history[\"val_precision\"][epoch] * history.history[\"val_recall\"][epoch]) / (history.history[\"val_precision\"][epoch] + history.history[\"val_recall\"][epoch] + 1e-7),\n",
    "    })\n",
    "## store the model artifact\n",
    "wandb.log_artifact(os.path.join(paths.path_model, f\"{file_model_name}.h5\"))\n",
    "wandb.finish()"
   ]
  },
  {
   "cell_type": "code",
   "execution_count": null,
   "metadata": {},
   "outputs": [
    {
     "name": "stderr",
     "output_type": "stream",
     "text": [
      "mnet_model_ori.h5: 100%|██████████| 46.5M/46.5M [00:28<00:00, 1.60MB/s]\n"
     ]
    },
    {
     "data": {
      "text/plain": [
       "CommitInfo(commit_url='https://huggingface.co/bugi-sulistiyo/CAD-Glaucoma_Segmentation/commit/e6a89e6147972e2aa67a9abaf86e5317af7226fc', commit_message='mnet_ori - retrain the model with new config', commit_description='', oid='e6a89e6147972e2aa67a9abaf86e5317af7226fc', pr_url=None, repo_url=RepoUrl('https://huggingface.co/bugi-sulistiyo/CAD-Glaucoma_Segmentation', endpoint='https://huggingface.co', repo_type='model', repo_id='bugi-sulistiyo/CAD-Glaucoma_Segmentation'), pr_revision=None, pr_num=None)"
      ]
     },
     "execution_count": 17,
     "metadata": {},
     "output_type": "execute_result"
    }
   ],
   "source": [
    "## push the model to the huggingface hub\n",
    "api.upload_file(\n",
    "    repo_id=repo.repo_id,\n",
    "    path_or_fileobj=os.path.join(paths.path_model, f\"{file_model_name}.h5\"),\n",
    "    path_in_repo=f\"model/{file_model_name}.h5\",\n",
    "    repo_type=repo.repo_type,\n",
    "    commit_message=f\"mnet_ori - {hf_commit_message}\",\n",
    ")"
   ]
  },
  {
   "cell_type": "code",
   "execution_count": null,
   "metadata": {},
   "outputs": [
    {
     "name": "stdout",
     "output_type": "stream",
     "text": [
      "Epoch 1/50\n",
      " 6/16 [==========>...................] - ETA: 1s - loss: 0.0122 - mean_px_acc: 0.3699 - auc: 0.7003 - precision: 0.5029 - recall: 0.4460WARNING:tensorflow:Callback method `on_train_batch_end` is slow compared to the batch time (batch time: 0.1077s vs `on_train_batch_end` time: 0.1159s). Check your callbacks.\n",
      "16/16 [==============================] - 20s 515ms/step - loss: 0.0100 - mean_px_acc: 0.4492 - auc: 0.7391 - precision: 0.5444 - recall: 0.4752 - val_loss: 0.0152 - val_mean_px_acc: 0.5317 - val_auc: 0.7413 - val_precision: 0.5224 - val_recall: 0.5188\n",
      "Epoch 2/50\n",
      "16/16 [==============================] - 5s 153ms/step - loss: 0.0078 - mean_px_acc: 0.5790 - auc: 0.8172 - precision: 0.6536 - recall: 0.5378 - val_loss: 0.0106 - val_mean_px_acc: 0.5398 - val_auc: 0.7707 - val_precision: 0.5709 - val_recall: 0.5615\n",
      "Epoch 3/50\n",
      "16/16 [==============================] - 5s 165ms/step - loss: 0.0070 - mean_px_acc: 0.6994 - auc: 0.8587 - precision: 0.7078 - recall: 0.5887 - val_loss: 0.0089 - val_mean_px_acc: 0.5827 - val_auc: 0.7683 - val_precision: 0.5453 - val_recall: 0.5221\n",
      "Epoch 4/50\n",
      "16/16 [==============================] - 4s 117ms/step - loss: 0.0065 - mean_px_acc: 0.7799 - auc: 0.8840 - precision: 0.7424 - recall: 0.6345 - val_loss: 0.0081 - val_mean_px_acc: 0.5550 - val_auc: 0.7903 - val_precision: 0.5933 - val_recall: 0.5424\n",
      "Epoch 5/50\n",
      "16/16 [==============================] - 4s 104ms/step - loss: 0.0062 - mean_px_acc: 0.8292 - auc: 0.8929 - precision: 0.7631 - recall: 0.6677 - val_loss: 0.0077 - val_mean_px_acc: 0.5466 - val_auc: 0.7993 - val_precision: 0.6067 - val_recall: 0.5490\n",
      "Epoch 6/50\n",
      "16/16 [==============================] - 4s 115ms/step - loss: 0.0061 - mean_px_acc: 0.8791 - auc: 0.8992 - precision: 0.7705 - recall: 0.6976 - val_loss: 0.0074 - val_mean_px_acc: 0.6479 - val_auc: 0.8316 - val_precision: 0.6578 - val_recall: 0.6014\n",
      "Epoch 7/50\n",
      "16/16 [==============================] - 4s 108ms/step - loss: 0.0057 - mean_px_acc: 0.8955 - auc: 0.9107 - precision: 0.7879 - recall: 0.7370 - val_loss: 0.0066 - val_mean_px_acc: 0.7841 - val_auc: 0.8595 - val_precision: 0.6945 - val_recall: 0.6375\n",
      "Epoch 8/50\n",
      "16/16 [==============================] - 4s 107ms/step - loss: 0.0053 - mean_px_acc: 0.9094 - auc: 0.9234 - precision: 0.8143 - recall: 0.7841 - val_loss: 0.0062 - val_mean_px_acc: 0.7385 - val_auc: 0.8867 - val_precision: 0.7316 - val_recall: 0.6566\n",
      "Epoch 9/50\n",
      "16/16 [==============================] - 4s 104ms/step - loss: 0.0049 - mean_px_acc: 0.9231 - auc: 0.9366 - precision: 0.8352 - recall: 0.8125 - val_loss: 0.0060 - val_mean_px_acc: 0.8369 - val_auc: 0.8915 - val_precision: 0.7388 - val_recall: 0.6836\n",
      "Epoch 10/50\n",
      "16/16 [==============================] - 4s 102ms/step - loss: 0.0045 - mean_px_acc: 0.9346 - auc: 0.9459 - precision: 0.8488 - recall: 0.8338 - val_loss: 0.0060 - val_mean_px_acc: 0.8831 - val_auc: 0.8904 - val_precision: 0.7410 - val_recall: 0.6929\n",
      "Epoch 11/50\n",
      "16/16 [==============================] - 4s 119ms/step - loss: 0.0045 - mean_px_acc: 0.9439 - auc: 0.9447 - precision: 0.8483 - recall: 0.8381 - val_loss: 0.0053 - val_mean_px_acc: 0.9324 - val_auc: 0.9151 - val_precision: 0.7772 - val_recall: 0.7498\n",
      "Epoch 12/50\n",
      "16/16 [==============================] - 4s 114ms/step - loss: 0.0045 - mean_px_acc: 0.9487 - auc: 0.9422 - precision: 0.8352 - recall: 0.8282 - val_loss: 0.0055 - val_mean_px_acc: 0.9045 - val_auc: 0.9139 - val_precision: 0.7885 - val_recall: 0.7700\n",
      "Epoch 13/50\n",
      "16/16 [==============================] - 4s 105ms/step - loss: 0.0041 - mean_px_acc: 0.9535 - auc: 0.9550 - precision: 0.8571 - recall: 0.8503 - val_loss: 0.0049 - val_mean_px_acc: 0.9487 - val_auc: 0.9278 - val_precision: 0.7899 - val_recall: 0.7700\n",
      "Epoch 14/50\n",
      "16/16 [==============================] - 4s 111ms/step - loss: 0.0037 - mean_px_acc: 0.9597 - auc: 0.9610 - precision: 0.8702 - recall: 0.8650 - val_loss: 0.0047 - val_mean_px_acc: 0.9614 - val_auc: 0.9357 - val_precision: 0.8021 - val_recall: 0.7896\n",
      "Epoch 15/50\n",
      "16/16 [==============================] - 4s 117ms/step - loss: 0.0036 - mean_px_acc: 0.9654 - auc: 0.9647 - precision: 0.8742 - recall: 0.8715 - val_loss: 0.0048 - val_mean_px_acc: 0.9773 - val_auc: 0.9323 - val_precision: 0.8118 - val_recall: 0.7836\n",
      "Epoch 16/50\n",
      "16/16 [==============================] - 5s 150ms/step - loss: 0.0034 - mean_px_acc: 0.9662 - auc: 0.9680 - precision: 0.8840 - recall: 0.8821 - val_loss: 0.0042 - val_mean_px_acc: 0.9748 - val_auc: 0.9469 - val_precision: 0.8349 - val_recall: 0.8208\n",
      "Epoch 17/50\n",
      "16/16 [==============================] - 5s 118ms/step - loss: 0.0033 - mean_px_acc: 0.9686 - auc: 0.9682 - precision: 0.8802 - recall: 0.8786 - val_loss: 0.0046 - val_mean_px_acc: 0.9703 - val_auc: 0.9352 - val_precision: 0.8133 - val_recall: 0.8039\n",
      "Epoch 18/50\n",
      "16/16 [==============================] - 4s 117ms/step - loss: 0.0034 - mean_px_acc: 0.9667 - auc: 0.9657 - precision: 0.8735 - recall: 0.8707 - val_loss: 0.0043 - val_mean_px_acc: 0.9791 - val_auc: 0.9453 - val_precision: 0.8239 - val_recall: 0.8088\n",
      "Epoch 19/50\n",
      "16/16 [==============================] - 4s 110ms/step - loss: 0.0032 - mean_px_acc: 0.9684 - auc: 0.9712 - precision: 0.8832 - recall: 0.8805 - val_loss: 0.0041 - val_mean_px_acc: 0.9701 - val_auc: 0.9485 - val_precision: 0.8299 - val_recall: 0.8270\n",
      "Epoch 20/50\n",
      "16/16 [==============================] - 4s 113ms/step - loss: 0.0032 - mean_px_acc: 0.9714 - auc: 0.9696 - precision: 0.8819 - recall: 0.8803 - val_loss: 0.0041 - val_mean_px_acc: 0.9666 - val_auc: 0.9467 - val_precision: 0.8331 - val_recall: 0.8323\n",
      "Epoch 21/50\n",
      "16/16 [==============================] - 4s 101ms/step - loss: 0.0030 - mean_px_acc: 0.9726 - auc: 0.9720 - precision: 0.8848 - recall: 0.8831 - val_loss: 0.0038 - val_mean_px_acc: 0.9619 - val_auc: 0.9563 - val_precision: 0.8399 - val_recall: 0.8395\n",
      "Epoch 22/50\n",
      "16/16 [==============================] - 4s 131ms/step - loss: 0.0030 - mean_px_acc: 0.9725 - auc: 0.9732 - precision: 0.8855 - recall: 0.8847 - val_loss: 0.0040 - val_mean_px_acc: 0.9670 - val_auc: 0.9515 - val_precision: 0.8309 - val_recall: 0.8272\n",
      "Epoch 23/50\n",
      "16/16 [==============================] - 4s 124ms/step - loss: 0.0029 - mean_px_acc: 0.9738 - auc: 0.9757 - precision: 0.8916 - recall: 0.8893 - val_loss: 0.0036 - val_mean_px_acc: 0.9711 - val_auc: 0.9596 - val_precision: 0.8434 - val_recall: 0.8402\n",
      "Epoch 24/50\n",
      "16/16 [==============================] - 4s 118ms/step - loss: 0.0027 - mean_px_acc: 0.9756 - auc: 0.9780 - precision: 0.8951 - recall: 0.8932 - val_loss: 0.0036 - val_mean_px_acc: 0.9739 - val_auc: 0.9591 - val_precision: 0.8366 - val_recall: 0.8361\n",
      "Epoch 25/50\n",
      "16/16 [==============================] - 4s 133ms/step - loss: 0.0026 - mean_px_acc: 0.9772 - auc: 0.9796 - precision: 0.8973 - recall: 0.8960 - val_loss: 0.0035 - val_mean_px_acc: 0.9717 - val_auc: 0.9638 - val_precision: 0.8525 - val_recall: 0.8506\n",
      "Epoch 26/50\n",
      "16/16 [==============================] - 7s 202ms/step - loss: 0.0025 - mean_px_acc: 0.9787 - auc: 0.9808 - precision: 0.9002 - recall: 0.8990 - val_loss: 0.0034 - val_mean_px_acc: 0.9749 - val_auc: 0.9640 - val_precision: 0.8547 - val_recall: 0.8534\n",
      "Epoch 27/50\n",
      "16/16 [==============================] - 6s 179ms/step - loss: 0.0025 - mean_px_acc: 0.9783 - auc: 0.9805 - precision: 0.8974 - recall: 0.8965 - val_loss: 0.0035 - val_mean_px_acc: 0.9678 - val_auc: 0.9629 - val_precision: 0.8555 - val_recall: 0.8516\n",
      "Epoch 28/50\n",
      "16/16 [==============================] - 5s 136ms/step - loss: 0.0027 - mean_px_acc: 0.9795 - auc: 0.9784 - precision: 0.8927 - recall: 0.8914 - val_loss: 0.0035 - val_mean_px_acc: 0.9772 - val_auc: 0.9628 - val_precision: 0.8534 - val_recall: 0.8500\n",
      "Epoch 29/50\n",
      "16/16 [==============================] - 4s 115ms/step - loss: 0.0025 - mean_px_acc: 0.9768 - auc: 0.9811 - precision: 0.8999 - recall: 0.8993 - val_loss: 0.0037 - val_mean_px_acc: 0.9690 - val_auc: 0.9574 - val_precision: 0.8316 - val_recall: 0.8314\n",
      "Epoch 30/50\n",
      "16/16 [==============================] - 5s 153ms/step - loss: 0.0025 - mean_px_acc: 0.9783 - auc: 0.9809 - precision: 0.8999 - recall: 0.8988 - val_loss: 0.0042 - val_mean_px_acc: 0.9729 - val_auc: 0.9484 - val_precision: 0.8074 - val_recall: 0.8072\n",
      "Epoch 31/50\n",
      "16/16 [==============================] - 6s 238ms/step - loss: 0.0025 - mean_px_acc: 0.9801 - auc: 0.9820 - precision: 0.8993 - recall: 0.8988 - val_loss: 0.0036 - val_mean_px_acc: 0.9749 - val_auc: 0.9594 - val_precision: 0.8477 - val_recall: 0.8475\n",
      "Epoch 32/50\n",
      "16/16 [==============================] - 9s 236ms/step - loss: 0.0024 - mean_px_acc: 0.9797 - auc: 0.9827 - precision: 0.9027 - recall: 0.9019 - val_loss: 0.0033 - val_mean_px_acc: 0.9775 - val_auc: 0.9669 - val_precision: 0.8641 - val_recall: 0.8632\n",
      "Epoch 33/50\n",
      "16/16 [==============================] - 6s 164ms/step - loss: 0.0024 - mean_px_acc: 0.9816 - auc: 0.9833 - precision: 0.9051 - recall: 0.9042 - val_loss: 0.0033 - val_mean_px_acc: 0.9770 - val_auc: 0.9675 - val_precision: 0.8626 - val_recall: 0.8617\n",
      "Epoch 34/50\n",
      "16/16 [==============================] - 5s 132ms/step - loss: 0.0023 - mean_px_acc: 0.9813 - auc: 0.9838 - precision: 0.9040 - recall: 0.9037 - val_loss: 0.0034 - val_mean_px_acc: 0.9752 - val_auc: 0.9650 - val_precision: 0.8497 - val_recall: 0.8489\n",
      "Epoch 35/50\n",
      "16/16 [==============================] - 5s 180ms/step - loss: 0.0023 - mean_px_acc: 0.9798 - auc: 0.9842 - precision: 0.9055 - recall: 0.9049 - val_loss: 0.0036 - val_mean_px_acc: 0.9822 - val_auc: 0.9604 - val_precision: 0.8365 - val_recall: 0.8340\n",
      "Epoch 36/50\n",
      "16/16 [==============================] - 5s 143ms/step - loss: 0.0023 - mean_px_acc: 0.9819 - auc: 0.9843 - precision: 0.9066 - recall: 0.9058 - val_loss: 0.0032 - val_mean_px_acc: 0.9765 - val_auc: 0.9688 - val_precision: 0.8620 - val_recall: 0.8610\n",
      "Epoch 37/50\n",
      "16/16 [==============================] - 6s 220ms/step - loss: 0.0023 - mean_px_acc: 0.9820 - auc: 0.9840 - precision: 0.9052 - recall: 0.9044 - val_loss: 0.0034 - val_mean_px_acc: 0.9754 - val_auc: 0.9646 - val_precision: 0.8505 - val_recall: 0.8501\n",
      "Epoch 38/50\n",
      "16/16 [==============================] - 5s 156ms/step - loss: 0.0022 - mean_px_acc: 0.9823 - auc: 0.9851 - precision: 0.9074 - recall: 0.9070 - val_loss: 0.0033 - val_mean_px_acc: 0.9809 - val_auc: 0.9658 - val_precision: 0.8549 - val_recall: 0.8523\n",
      "Epoch 39/50\n",
      "16/16 [==============================] - 4s 114ms/step - loss: 0.0022 - mean_px_acc: 0.9828 - auc: 0.9853 - precision: 0.9078 - recall: 0.9072 - val_loss: 0.0033 - val_mean_px_acc: 0.9762 - val_auc: 0.9671 - val_precision: 0.8581 - val_recall: 0.8577\n",
      "Epoch 40/50\n",
      "16/16 [==============================] - 5s 127ms/step - loss: 0.0021 - mean_px_acc: 0.9837 - auc: 0.9861 - precision: 0.9104 - recall: 0.9098 - val_loss: 0.0033 - val_mean_px_acc: 0.9811 - val_auc: 0.9667 - val_precision: 0.8518 - val_recall: 0.8513\n",
      "Epoch 41/50\n",
      "16/16 [==============================] - 4s 103ms/step - loss: 0.0021 - mean_px_acc: 0.9833 - auc: 0.9860 - precision: 0.9089 - recall: 0.9087 - val_loss: 0.0032 - val_mean_px_acc: 0.9788 - val_auc: 0.9690 - val_precision: 0.8561 - val_recall: 0.8559\n",
      "Epoch 42/50\n",
      "16/16 [==============================] - 4s 108ms/step - loss: 0.0021 - mean_px_acc: 0.9840 - auc: 0.9863 - precision: 0.9112 - recall: 0.9104 - val_loss: 0.0036 - val_mean_px_acc: 0.9780 - val_auc: 0.9618 - val_precision: 0.8351 - val_recall: 0.8349\n",
      "Epoch 43/50\n",
      "16/16 [==============================] - 4s 111ms/step - loss: 0.0021 - mean_px_acc: 0.9839 - auc: 0.9864 - precision: 0.9099 - recall: 0.9090 - val_loss: 0.0035 - val_mean_px_acc: 0.9794 - val_auc: 0.9638 - val_precision: 0.8482 - val_recall: 0.8481\n",
      "Epoch 44/50\n",
      "16/16 [==============================] - 4s 117ms/step - loss: 0.0021 - mean_px_acc: 0.9840 - auc: 0.9864 - precision: 0.9102 - recall: 0.9096 - val_loss: 0.0033 - val_mean_px_acc: 0.9849 - val_auc: 0.9663 - val_precision: 0.8478 - val_recall: 0.8439\n",
      "Epoch 45/50\n",
      "16/16 [==============================] - 4s 108ms/step - loss: 0.0021 - mean_px_acc: 0.9839 - auc: 0.9863 - precision: 0.9094 - recall: 0.9090 - val_loss: 0.0034 - val_mean_px_acc: 0.9819 - val_auc: 0.9656 - val_precision: 0.8474 - val_recall: 0.8464\n",
      "Epoch 46/50\n",
      "16/16 [==============================] - 4s 108ms/step - loss: 0.0021 - mean_px_acc: 0.9835 - auc: 0.9863 - precision: 0.9077 - recall: 0.9075 - val_loss: 0.0032 - val_mean_px_acc: 0.9774 - val_auc: 0.9688 - val_precision: 0.8559 - val_recall: 0.8547\n",
      "Epoch 47/50\n",
      "16/16 [==============================] - 4s 117ms/step - loss: 0.0021 - mean_px_acc: 0.9838 - auc: 0.9864 - precision: 0.9101 - recall: 0.9097 - val_loss: 0.0034 - val_mean_px_acc: 0.9812 - val_auc: 0.9646 - val_precision: 0.8414 - val_recall: 0.8406\n",
      "Epoch 48/50\n",
      "16/16 [==============================] - 4s 105ms/step - loss: 0.0021 - mean_px_acc: 0.9840 - auc: 0.9863 - precision: 0.9093 - recall: 0.9089 - val_loss: 0.0037 - val_mean_px_acc: 0.9812 - val_auc: 0.9597 - val_precision: 0.8356 - val_recall: 0.8349\n",
      "Epoch 49/50\n",
      "16/16 [==============================] - 4s 107ms/step - loss: 0.0021 - mean_px_acc: 0.9844 - auc: 0.9866 - precision: 0.9101 - recall: 0.9097 - val_loss: 0.0031 - val_mean_px_acc: 0.9821 - val_auc: 0.9697 - val_precision: 0.8620 - val_recall: 0.8598\n",
      "Epoch 50/50\n",
      "16/16 [==============================] - 4s 124ms/step - loss: 0.0021 - mean_px_acc: 0.9850 - auc: 0.9871 - precision: 0.9107 - recall: 0.9103 - val_loss: 0.0032 - val_mean_px_acc: 0.9803 - val_auc: 0.9699 - val_precision: 0.8609 - val_recall: 0.8606\n",
      "test loss: 0.07927452772855759\n",
      "test mean_px_acc: 0.9811471104621887\n",
      "test auc: 0.9954233169555664\n",
      "test precision: 0.9813497066497803\n",
      "test recall: 0.9807962775230408\n"
     ]
    }
   ],
   "source": [
    "# create the unet model\n",
    "mobilenet = utils.mobilenet_model()\n",
    "file_model_name = \"mnet_model_aug\"\n",
    "# train the model using augmented dataset\n",
    "mobilenet, history, ev_result = utils.train_model(mobilenet,\n",
    "                                                trainset_aug, valset_aug, testset_aug,\n",
    "                                                paths.path_model, file_model_name, os.path.join(paths.path_log_tensor, \"mnet_aug\"),\n",
    "                                                hyperparam[\"epochs\"])\n",
    "# show the evaluation result\n",
    "print(f\"test loss: {ev_result[0]}\", f\"test mean_px_acc: {ev_result[1]}\",\n",
    "        f\"test auc: {ev_result[2]}\", f\"test precision: {ev_result[3]}\",\n",
    "        f\"test recall: {ev_result[4]}\", sep=\"\\n\")"
   ]
  },
  {
   "cell_type": "code",
   "execution_count": 19,
   "metadata": {},
   "outputs": [],
   "source": [
    "# initiate the huggingface api \n",
    "api = HfApi()\n",
    "repo = api.create_repo(\"CAD-Glaucoma_Segmentation\", repo_type=\"model\", exist_ok=True)"
   ]
  },
  {
   "cell_type": "code",
   "execution_count": null,
   "metadata": {},
   "outputs": [],
   "source": [
    "# push the model artifact and hyperparameter to wandb\n",
    "## set the hyperparameter for the wandb\n",
    "hyperparam[\"aug\"] = True\n",
    "hyperparam[\"model_type\"] = \"MobileNet\"\n",
    "## initiate the project\n",
    "wandb.init(project=\"CAD - Glaucoma Segmentation\",\n",
    "            name=f\"mnet_aug - {wandb_init_name}\",\n",
    "            config=hyperparam)\n",
    "## write the training history and validation result to wandb log\n",
    "for epoch in range(len(history.history[\"loss\"])):\n",
    "    wandb.log({\n",
    "        \"train_loss\": history.history[\"loss\"][epoch],\n",
    "        \"train_accuracy\": history.history[\"mean_px_acc\"][epoch],\n",
    "        \"train_auc\": history.history[\"auc\"][epoch],\n",
    "        \"train_precision\": history.history[\"precision\"][epoch],\n",
    "        \"train_recall\": history.history[\"recall\"][epoch],\n",
    "        \"train_f1\": 2 * (history.history[\"precision\"][epoch] * history.history[\"recall\"][epoch]) / (history.history[\"precision\"][epoch] + history.history[\"recall\"][epoch] + 1e-7),\n",
    "        \"val_loss\": history.history[\"val_loss\"][epoch],\n",
    "        \"val_accuracy\": history.history[\"val_mean_px_acc\"][epoch],\n",
    "        \"val_auc\": history.history[\"val_auc\"][epoch],\n",
    "        \"val_precision\": history.history[\"val_precision\"][epoch],\n",
    "        \"val_recall\": history.history[\"val_recall\"][epoch],\n",
    "        \"val_f1\": 2 * (history.history[\"val_precision\"][epoch] * history.history[\"val_recall\"][epoch]) / (history.history[\"val_precision\"][epoch] + history.history[\"val_recall\"][epoch] + 1e-7),\n",
    "    })\n",
    "## store the model artifact\n",
    "wandb.log_artifact(os.path.join(paths.path_model, f\"{file_model_name}.h5\"))\n",
    "wandb.finish()"
   ]
  },
  {
   "cell_type": "code",
   "execution_count": null,
   "metadata": {},
   "outputs": [
    {
     "name": "stderr",
     "output_type": "stream",
     "text": [
      "mnet_model_aug.h5: 100%|██████████| 46.5M/46.5M [00:29<00:00, 1.58MB/s]\n"
     ]
    },
    {
     "data": {
      "text/plain": [
       "CommitInfo(commit_url='https://huggingface.co/bugi-sulistiyo/CAD-Glaucoma_Segmentation/commit/fc7c69018aa9e5cea8fd3a932b97afbf639187c5', commit_message='mnet_aug - retrain the model with new config', commit_description='', oid='fc7c69018aa9e5cea8fd3a932b97afbf639187c5', pr_url=None, repo_url=RepoUrl('https://huggingface.co/bugi-sulistiyo/CAD-Glaucoma_Segmentation', endpoint='https://huggingface.co', repo_type='model', repo_id='bugi-sulistiyo/CAD-Glaucoma_Segmentation'), pr_revision=None, pr_num=None)"
      ]
     },
     "execution_count": 21,
     "metadata": {},
     "output_type": "execute_result"
    }
   ],
   "source": [
    "## push the model to the huggingface hub\n",
    "api.upload_file(\n",
    "    repo_id=repo.repo_id,\n",
    "    path_or_fileobj=os.path.join(paths.path_model, f\"{file_model_name}.h5\"),\n",
    "    path_in_repo=f\"model/{file_model_name}.h5\",\n",
    "    repo_type=repo.repo_type,\n",
    "    commit_message=f\"mnet_aug - {hf_commit_message}\",\n",
    ")"
   ]
  },
  {
   "cell_type": "markdown",
   "metadata": {},
   "source": [
    "### EfficientNet"
   ]
  },
  {
   "cell_type": "code",
   "execution_count": null,
   "metadata": {},
   "outputs": [
    {
     "name": "stdout",
     "output_type": "stream",
     "text": [
      "Epoch 1/50\n",
      " 6/16 [==========>...................] - ETA: 5s - loss: 0.0107 - mean_px_acc: 0.2871 - auc: 0.7176 - precision: 0.5648 - recall: 0.4036WARNING:tensorflow:Callback method `on_train_batch_end` is slow compared to the batch time (batch time: 0.5158s vs `on_train_batch_end` time: 0.5429s). Check your callbacks.\n",
      "16/16 [==============================] - 135s 3s/step - loss: 0.0084 - mean_px_acc: 0.3978 - auc: 0.8112 - precision: 0.6732 - recall: 0.5324 - val_loss: 0.0310 - val_mean_px_acc: 0.9685 - val_auc: 0.5561 - val_precision: 0.3173 - val_recall: 0.3171\n",
      "Epoch 2/50\n",
      "16/16 [==============================] - 23s 761ms/step - loss: 0.0060 - mean_px_acc: 0.6369 - auc: 0.9000 - precision: 0.7884 - recall: 0.6534 - val_loss: 0.0197 - val_mean_px_acc: 0.9224 - val_auc: 0.6799 - val_precision: 0.5894 - val_recall: 0.5856\n",
      "Epoch 3/50\n",
      "16/16 [==============================] - 27s 895ms/step - loss: 0.0054 - mean_px_acc: 0.7120 - auc: 0.9180 - precision: 0.8158 - recall: 0.6651 - val_loss: 0.0128 - val_mean_px_acc: 0.8766 - val_auc: 0.7666 - val_precision: 0.6435 - val_recall: 0.6336\n",
      "Epoch 4/50\n",
      "16/16 [==============================] - 21s 700ms/step - loss: 0.0049 - mean_px_acc: 0.7975 - auc: 0.9373 - precision: 0.8430 - recall: 0.6981 - val_loss: 0.0094 - val_mean_px_acc: 0.9090 - val_auc: 0.8399 - val_precision: 0.7023 - val_recall: 0.6798\n",
      "Epoch 5/50\n",
      "16/16 [==============================] - 21s 703ms/step - loss: 0.0046 - mean_px_acc: 0.8796 - auc: 0.9467 - precision: 0.8624 - recall: 0.7408 - val_loss: 0.0079 - val_mean_px_acc: 0.9212 - val_auc: 0.8816 - val_precision: 0.7724 - val_recall: 0.7632\n",
      "Epoch 6/50\n",
      "16/16 [==============================] - 21s 799ms/step - loss: 0.0044 - mean_px_acc: 0.9195 - auc: 0.9515 - precision: 0.8726 - recall: 0.7927 - val_loss: 0.0072 - val_mean_px_acc: 0.9637 - val_auc: 0.8830 - val_precision: 0.7588 - val_recall: 0.7318\n",
      "Epoch 7/50\n",
      "16/16 [==============================] - 21s 731ms/step - loss: 0.0041 - mean_px_acc: 0.9411 - auc: 0.9567 - precision: 0.8851 - recall: 0.8386 - val_loss: 0.0083 - val_mean_px_acc: 0.9627 - val_auc: 0.8579 - val_precision: 0.7269 - val_recall: 0.6930\n",
      "Epoch 8/50\n",
      "16/16 [==============================] - 23s 800ms/step - loss: 0.0039 - mean_px_acc: 0.9598 - auc: 0.9610 - precision: 0.8913 - recall: 0.8683 - val_loss: 0.0044 - val_mean_px_acc: 0.9803 - val_auc: 0.9419 - val_precision: 0.8534 - val_recall: 0.8433\n",
      "Epoch 9/50\n",
      "16/16 [==============================] - 23s 810ms/step - loss: 0.0036 - mean_px_acc: 0.9647 - auc: 0.9660 - precision: 0.8980 - recall: 0.8864 - val_loss: 0.0051 - val_mean_px_acc: 0.9808 - val_auc: 0.9286 - val_precision: 0.8488 - val_recall: 0.8436\n",
      "Epoch 10/50\n",
      "16/16 [==============================] - 18s 498ms/step - loss: 0.0034 - mean_px_acc: 0.9734 - auc: 0.9693 - precision: 0.9040 - recall: 0.8985 - val_loss: 0.0034 - val_mean_px_acc: 0.9857 - val_auc: 0.9621 - val_precision: 0.8869 - val_recall: 0.8816\n",
      "Epoch 11/50\n",
      "16/16 [==============================] - 21s 796ms/step - loss: 0.0033 - mean_px_acc: 0.9762 - auc: 0.9714 - precision: 0.9006 - recall: 0.8973 - val_loss: 0.0037 - val_mean_px_acc: 0.9792 - val_auc: 0.9538 - val_precision: 0.8766 - val_recall: 0.8739\n",
      "Epoch 12/50\n",
      "16/16 [==============================] - 20s 704ms/step - loss: 0.0031 - mean_px_acc: 0.9780 - auc: 0.9738 - precision: 0.9056 - recall: 0.9038 - val_loss: 0.0040 - val_mean_px_acc: 0.9828 - val_auc: 0.9502 - val_precision: 0.8702 - val_recall: 0.8622\n",
      "Epoch 13/50\n",
      "16/16 [==============================] - 18s 612ms/step - loss: 0.0029 - mean_px_acc: 0.9797 - auc: 0.9772 - precision: 0.9074 - recall: 0.9059 - val_loss: 0.0033 - val_mean_px_acc: 0.9885 - val_auc: 0.9685 - val_precision: 0.8857 - val_recall: 0.8720\n",
      "Epoch 14/50\n",
      "16/16 [==============================] - 22s 747ms/step - loss: 0.0028 - mean_px_acc: 0.9820 - auc: 0.9784 - precision: 0.9084 - recall: 0.9075 - val_loss: 0.0034 - val_mean_px_acc: 0.9864 - val_auc: 0.9630 - val_precision: 0.8805 - val_recall: 0.8783\n",
      "Epoch 15/50\n",
      "16/16 [==============================] - 23s 753ms/step - loss: 0.0027 - mean_px_acc: 0.9827 - auc: 0.9801 - precision: 0.9099 - recall: 0.9084 - val_loss: 0.0036 - val_mean_px_acc: 0.9881 - val_auc: 0.9614 - val_precision: 0.8633 - val_recall: 0.8477\n",
      "Epoch 16/50\n",
      "16/16 [==============================] - 26s 881ms/step - loss: 0.0026 - mean_px_acc: 0.9835 - auc: 0.9805 - precision: 0.9081 - recall: 0.9073 - val_loss: 0.0031 - val_mean_px_acc: 0.9876 - val_auc: 0.9682 - val_precision: 0.8908 - val_recall: 0.8889\n",
      "Epoch 17/50\n",
      "16/16 [==============================] - 22s 718ms/step - loss: 0.0025 - mean_px_acc: 0.9843 - auc: 0.9819 - precision: 0.9118 - recall: 0.9111 - val_loss: 0.0030 - val_mean_px_acc: 0.9870 - val_auc: 0.9693 - val_precision: 0.8872 - val_recall: 0.8852\n",
      "Epoch 18/50\n",
      "16/16 [==============================] - 21s 660ms/step - loss: 0.0025 - mean_px_acc: 0.9849 - auc: 0.9826 - precision: 0.9096 - recall: 0.9090 - val_loss: 0.0031 - val_mean_px_acc: 0.9859 - val_auc: 0.9666 - val_precision: 0.8855 - val_recall: 0.8840\n",
      "Epoch 19/50\n",
      "16/16 [==============================] - 22s 719ms/step - loss: 0.0024 - mean_px_acc: 0.9847 - auc: 0.9825 - precision: 0.9107 - recall: 0.9098 - val_loss: 0.0034 - val_mean_px_acc: 0.9841 - val_auc: 0.9611 - val_precision: 0.8760 - val_recall: 0.8720\n",
      "Epoch 20/50\n",
      "16/16 [==============================] - 24s 958ms/step - loss: 0.0024 - mean_px_acc: 0.9855 - auc: 0.9836 - precision: 0.9107 - recall: 0.9102 - val_loss: 0.0028 - val_mean_px_acc: 0.9863 - val_auc: 0.9748 - val_precision: 0.8973 - val_recall: 0.8951\n",
      "Epoch 21/50\n",
      "16/16 [==============================] - 21s 676ms/step - loss: 0.0023 - mean_px_acc: 0.9858 - auc: 0.9851 - precision: 0.9125 - recall: 0.9122 - val_loss: 0.0029 - val_mean_px_acc: 0.9885 - val_auc: 0.9728 - val_precision: 0.8842 - val_recall: 0.8823\n",
      "Epoch 22/50\n",
      "16/16 [==============================] - 25s 1s/step - loss: 0.0022 - mean_px_acc: 0.9862 - auc: 0.9859 - precision: 0.9147 - recall: 0.9144 - val_loss: 0.0027 - val_mean_px_acc: 0.9896 - val_auc: 0.9786 - val_precision: 0.8896 - val_recall: 0.8863\n",
      "Epoch 23/50\n",
      "16/16 [==============================] - 14s 498ms/step - loss: 0.0022 - mean_px_acc: 0.9866 - auc: 0.9854 - precision: 0.9111 - recall: 0.9107 - val_loss: 0.0027 - val_mean_px_acc: 0.9884 - val_auc: 0.9769 - val_precision: 0.8902 - val_recall: 0.8892\n",
      "Epoch 24/50\n",
      "16/16 [==============================] - 21s 824ms/step - loss: 0.0022 - mean_px_acc: 0.9870 - auc: 0.9864 - precision: 0.9132 - recall: 0.9127 - val_loss: 0.0027 - val_mean_px_acc: 0.9864 - val_auc: 0.9757 - val_precision: 0.8858 - val_recall: 0.8854\n",
      "Epoch 25/50\n",
      "16/16 [==============================] - 25s 930ms/step - loss: 0.0021 - mean_px_acc: 0.9869 - auc: 0.9871 - precision: 0.9159 - recall: 0.9157 - val_loss: 0.0026 - val_mean_px_acc: 0.9867 - val_auc: 0.9791 - val_precision: 0.8981 - val_recall: 0.8968\n",
      "Epoch 26/50\n",
      "16/16 [==============================] - 24s 841ms/step - loss: 0.0021 - mean_px_acc: 0.9872 - auc: 0.9874 - precision: 0.9154 - recall: 0.9152 - val_loss: 0.0026 - val_mean_px_acc: 0.9866 - val_auc: 0.9788 - val_precision: 0.8918 - val_recall: 0.8908\n",
      "Epoch 27/50\n",
      "16/16 [==============================] - 17s 432ms/step - loss: 0.0021 - mean_px_acc: 0.9872 - auc: 0.9871 - precision: 0.9142 - recall: 0.9139 - val_loss: 0.0029 - val_mean_px_acc: 0.9870 - val_auc: 0.9720 - val_precision: 0.8877 - val_recall: 0.8861\n",
      "Epoch 28/50\n",
      "16/16 [==============================] - ETA: 0s - loss: 0.0020 - mean_px_acc: 0.9870 - auc: 0.9875 - precision: 0.9150 - recall: 0.9148\n",
      "Reached 0.98 AUC value. Stopping the training on epoch 27\n",
      "16/16 [==============================] - 17s 550ms/step - loss: 0.0020 - mean_px_acc: 0.9870 - auc: 0.9875 - precision: 0.9150 - recall: 0.9148 - val_loss: 0.0025 - val_mean_px_acc: 0.9869 - val_auc: 0.9802 - val_precision: 0.8977 - val_recall: 0.8972\n",
      "test loss: 0.1094052642583847\n",
      "test mean_px_acc: 0.9865249395370483\n",
      "test auc: 0.9936184287071228\n",
      "test precision: 0.9866191148757935\n",
      "test recall: 0.9859541654586792\n"
     ]
    }
   ],
   "source": [
    "# create the unet model\n",
    "efficientnet = utils.efficientnet_model()\n",
    "file_model_name = \"efnet_model_ori\"\n",
    "# train the model using original dataset\n",
    "efficientnet, history, ev_result = utils.train_model(efficientnet,\n",
    "                                                trainset_ori, valset_ori, testset_ori,\n",
    "                                                paths.path_model, file_model_name, os.path.join(paths.path_log_tensor, \"efnet_ori\"),\n",
    "                                                hyperparam[\"epochs\"])\n",
    "# show the evaluation result\n",
    "print(f\"test loss: {ev_result[0]}\", f\"test mean_px_acc: {ev_result[1]}\",\n",
    "        f\"test auc: {ev_result[2]}\", f\"test precision: {ev_result[3]}\",\n",
    "        f\"test recall: {ev_result[4]}\", sep=\"\\n\")"
   ]
  },
  {
   "cell_type": "code",
   "execution_count": 23,
   "metadata": {},
   "outputs": [],
   "source": [
    "# initiate the huggingface api \n",
    "api = HfApi()\n",
    "repo = api.create_repo(\"CAD-Glaucoma_Segmentation\", repo_type=\"model\", exist_ok=True)"
   ]
  },
  {
   "cell_type": "code",
   "execution_count": null,
   "metadata": {},
   "outputs": [],
   "source": [
    "# push the model artifact and hyperparameter to wandb\n",
    "## set the hyperparameter for the wandb\n",
    "hyperparam[\"aug\"] = False\n",
    "hyperparam[\"model_type\"] = \"EfficientNet\"\n",
    "## initiate the project\n",
    "wandb.init(project=\"CAD - Glaucoma Segmentation\",\n",
    "            name=f\"efnet_ori - {wandb_init_name}\",\n",
    "            config=hyperparam)\n",
    "## write the training history and validation result to wandb log\n",
    "for epoch in range(len(history.history[\"loss\"])):\n",
    "    wandb.log({\n",
    "        \"train_loss\": history.history[\"loss\"][epoch],\n",
    "        \"train_accuracy\": history.history[\"mean_px_acc\"][epoch],\n",
    "        \"train_auc\": history.history[\"auc\"][epoch],\n",
    "        \"train_precision\": history.history[\"precision\"][epoch],\n",
    "        \"train_recall\": history.history[\"recall\"][epoch],\n",
    "        \"train_f1\": 2 * (history.history[\"precision\"][epoch] * history.history[\"recall\"][epoch]) / (history.history[\"precision\"][epoch] + history.history[\"recall\"][epoch] + 1e-7),\n",
    "        \"val_loss\": history.history[\"val_loss\"][epoch],\n",
    "        \"val_accuracy\": history.history[\"val_mean_px_acc\"][epoch],\n",
    "        \"val_auc\": history.history[\"val_auc\"][epoch],\n",
    "        \"val_precision\": history.history[\"val_precision\"][epoch],\n",
    "        \"val_recall\": history.history[\"val_recall\"][epoch],\n",
    "        \"val_f1\": 2 * (history.history[\"val_precision\"][epoch] * history.history[\"val_recall\"][epoch]) / (history.history[\"val_precision\"][epoch] + history.history[\"val_recall\"][epoch] + 1e-7),\n",
    "    })\n",
    "## store the model artifact\n",
    "wandb.log_artifact(os.path.join(paths.path_model, f\"{file_model_name}.h5\"))\n",
    "wandb.finish()"
   ]
  },
  {
   "cell_type": "code",
   "execution_count": null,
   "metadata": {},
   "outputs": [
    {
     "name": "stderr",
     "output_type": "stream",
     "text": [
      "efnet_model_ori.h5: 100%|██████████| 256M/256M [02:42<00:00, 1.57MB/s] \n"
     ]
    },
    {
     "data": {
      "text/plain": [
       "CommitInfo(commit_url='https://huggingface.co/bugi-sulistiyo/CAD-Glaucoma_Segmentation/commit/09d30db039a14d08f0479e032d9c7c016a4372b0', commit_message='efnet_ori - retrain the model with new config', commit_description='', oid='09d30db039a14d08f0479e032d9c7c016a4372b0', pr_url=None, repo_url=RepoUrl('https://huggingface.co/bugi-sulistiyo/CAD-Glaucoma_Segmentation', endpoint='https://huggingface.co', repo_type='model', repo_id='bugi-sulistiyo/CAD-Glaucoma_Segmentation'), pr_revision=None, pr_num=None)"
      ]
     },
     "execution_count": 25,
     "metadata": {},
     "output_type": "execute_result"
    }
   ],
   "source": [
    "## push the model to the huggingface hub\n",
    "api.upload_file(\n",
    "    repo_id=repo.repo_id,\n",
    "    path_or_fileobj=os.path.join(paths.path_model, f\"{file_model_name}.h5\"),\n",
    "    path_in_repo=f\"model/{file_model_name}.h5\",\n",
    "    repo_type=repo.repo_type,\n",
    "    commit_message=f\"efnet_ori - {hf_commit_message}\",\n",
    ")"
   ]
  },
  {
   "cell_type": "code",
   "execution_count": null,
   "metadata": {},
   "outputs": [
    {
     "name": "stdout",
     "output_type": "stream",
     "text": [
      "Epoch 1/50\n",
      " 6/16 [==========>...................] - ETA: 2s - loss: 0.0101 - mean_px_acc: 0.4058 - auc: 0.7442 - precision: 0.5969 - recall: 0.4927WARNING:tensorflow:Callback method `on_train_batch_end` is slow compared to the batch time (batch time: 0.2095s vs `on_train_batch_end` time: 0.2190s). Check your callbacks.\n",
      "16/16 [==============================] - 44s 645ms/step - loss: 0.0081 - mean_px_acc: 0.4563 - auc: 0.8255 - precision: 0.6870 - recall: 0.5948 - val_loss: 0.0702 - val_mean_px_acc: 0.9760 - val_auc: 0.4377 - val_precision: 0.2741 - val_recall: 0.2741\n",
      "Epoch 2/50\n",
      "16/16 [==============================] - 6s 298ms/step - loss: 0.0056 - mean_px_acc: 0.5999 - auc: 0.9103 - precision: 0.8054 - recall: 0.6799 - val_loss: 0.0350 - val_mean_px_acc: 0.9795 - val_auc: 0.5366 - val_precision: 0.2745 - val_recall: 0.2742\n",
      "Epoch 3/50\n",
      "16/16 [==============================] - 6s 305ms/step - loss: 0.0051 - mean_px_acc: 0.7374 - auc: 0.9304 - precision: 0.8350 - recall: 0.6848 - val_loss: 0.0205 - val_mean_px_acc: 0.9826 - val_auc: 0.5919 - val_precision: 0.2908 - val_recall: 0.2905\n",
      "Epoch 4/50\n",
      "16/16 [==============================] - 7s 304ms/step - loss: 0.0048 - mean_px_acc: 0.8631 - auc: 0.9421 - precision: 0.8530 - recall: 0.7157 - val_loss: 0.0078 - val_mean_px_acc: 0.9861 - val_auc: 0.8620 - val_precision: 0.6898 - val_recall: 0.6576\n",
      "Epoch 5/50\n",
      "16/16 [==============================] - 9s 430ms/step - loss: 0.0044 - mean_px_acc: 0.9186 - auc: 0.9510 - precision: 0.8692 - recall: 0.7674 - val_loss: 0.0033 - val_mean_px_acc: 0.9865 - val_auc: 0.9659 - val_precision: 0.8668 - val_recall: 0.8615\n",
      "Epoch 6/50\n",
      "16/16 [==============================] - 7s 330ms/step - loss: 0.0040 - mean_px_acc: 0.9413 - auc: 0.9594 - precision: 0.8893 - recall: 0.8342 - val_loss: 0.0029 - val_mean_px_acc: 0.9877 - val_auc: 0.9726 - val_precision: 0.8884 - val_recall: 0.8841\n",
      "Epoch 7/50\n",
      "16/16 [==============================] - 7s 317ms/step - loss: 0.0038 - mean_px_acc: 0.9568 - auc: 0.9634 - precision: 0.8967 - recall: 0.8694 - val_loss: 0.0030 - val_mean_px_acc: 0.9869 - val_auc: 0.9696 - val_precision: 0.8847 - val_recall: 0.8792\n",
      "Epoch 8/50\n",
      "16/16 [==============================] - 6s 304ms/step - loss: 0.0036 - mean_px_acc: 0.9649 - auc: 0.9673 - precision: 0.9015 - recall: 0.8881 - val_loss: 0.0033 - val_mean_px_acc: 0.9911 - val_auc: 0.9670 - val_precision: 0.8694 - val_recall: 0.8529\n",
      "Epoch 9/50\n",
      "16/16 [==============================] - 6s 298ms/step - loss: 0.0034 - mean_px_acc: 0.9717 - auc: 0.9695 - precision: 0.9024 - recall: 0.8954 - val_loss: 0.0028 - val_mean_px_acc: 0.9848 - val_auc: 0.9752 - val_precision: 0.8839 - val_recall: 0.8827\n",
      "Epoch 10/50\n",
      "16/16 [==============================] - 6s 304ms/step - loss: 0.0032 - mean_px_acc: 0.9755 - auc: 0.9728 - precision: 0.9053 - recall: 0.9021 - val_loss: 0.0030 - val_mean_px_acc: 0.9875 - val_auc: 0.9709 - val_precision: 0.8748 - val_recall: 0.8698\n",
      "Epoch 11/50\n",
      "16/16 [==============================] - 8s 383ms/step - loss: 0.0030 - mean_px_acc: 0.9774 - auc: 0.9754 - precision: 0.9068 - recall: 0.9049 - val_loss: 0.0028 - val_mean_px_acc: 0.9867 - val_auc: 0.9737 - val_precision: 0.8862 - val_recall: 0.8851\n",
      "Epoch 12/50\n",
      "16/16 [==============================] - 8s 376ms/step - loss: 0.0029 - mean_px_acc: 0.9799 - auc: 0.9769 - precision: 0.9092 - recall: 0.9079 - val_loss: 0.0058 - val_mean_px_acc: 0.9904 - val_auc: 0.9148 - val_precision: 0.7533 - val_recall: 0.7136\n",
      "Epoch 13/50\n",
      "16/16 [==============================] - 9s 379ms/step - loss: 0.0027 - mean_px_acc: 0.9811 - auc: 0.9798 - precision: 0.9112 - recall: 0.9099 - val_loss: 0.0029 - val_mean_px_acc: 0.9907 - val_auc: 0.9734 - val_precision: 0.8784 - val_recall: 0.8721\n",
      "Epoch 14/50\n",
      "16/16 [==============================] - 8s 351ms/step - loss: 0.0026 - mean_px_acc: 0.9821 - auc: 0.9813 - precision: 0.9126 - recall: 0.9119 - val_loss: 0.0027 - val_mean_px_acc: 0.9864 - val_auc: 0.9772 - val_precision: 0.8859 - val_recall: 0.8848\n",
      "Epoch 15/50\n",
      "16/16 [==============================] - 8s 355ms/step - loss: 0.0025 - mean_px_acc: 0.9829 - auc: 0.9823 - precision: 0.9111 - recall: 0.9103 - val_loss: 0.0028 - val_mean_px_acc: 0.9860 - val_auc: 0.9735 - val_precision: 0.8897 - val_recall: 0.8873\n",
      "Epoch 16/50\n",
      "16/16 [==============================] - 8s 359ms/step - loss: 0.0025 - mean_px_acc: 0.9831 - auc: 0.9820 - precision: 0.9113 - recall: 0.9109 - val_loss: 0.0028 - val_mean_px_acc: 0.9854 - val_auc: 0.9752 - val_precision: 0.8868 - val_recall: 0.8864\n",
      "Epoch 17/50\n",
      "16/16 [==============================] - 11s 527ms/step - loss: 0.0024 - mean_px_acc: 0.9845 - auc: 0.9845 - precision: 0.9131 - recall: 0.9125 - val_loss: 0.0028 - val_mean_px_acc: 0.9857 - val_auc: 0.9747 - val_precision: 0.8899 - val_recall: 0.8894\n",
      "Epoch 18/50\n",
      "16/16 [==============================] - 10s 410ms/step - loss: 0.0023 - mean_px_acc: 0.9845 - auc: 0.9852 - precision: 0.9148 - recall: 0.9141 - val_loss: 0.0027 - val_mean_px_acc: 0.9892 - val_auc: 0.9769 - val_precision: 0.8872 - val_recall: 0.8842\n",
      "Epoch 19/50\n",
      "16/16 [==============================] - 9s 354ms/step - loss: 0.0022 - mean_px_acc: 0.9856 - auc: 0.9853 - precision: 0.9128 - recall: 0.9119 - val_loss: 0.0027 - val_mean_px_acc: 0.9877 - val_auc: 0.9765 - val_precision: 0.8821 - val_recall: 0.8815\n",
      "Epoch 20/50\n",
      "16/16 [==============================] - 8s 408ms/step - loss: 0.0022 - mean_px_acc: 0.9856 - auc: 0.9860 - precision: 0.9142 - recall: 0.9140 - val_loss: 0.0027 - val_mean_px_acc: 0.9849 - val_auc: 0.9766 - val_precision: 0.8915 - val_recall: 0.8914\n",
      "Epoch 21/50\n",
      "16/16 [==============================] - 9s 391ms/step - loss: 0.0021 - mean_px_acc: 0.9858 - auc: 0.9867 - precision: 0.9145 - recall: 0.9142 - val_loss: 0.0027 - val_mean_px_acc: 0.9856 - val_auc: 0.9776 - val_precision: 0.8883 - val_recall: 0.8882\n",
      "Epoch 22/50\n",
      "16/16 [==============================] - 8s 376ms/step - loss: 0.0021 - mean_px_acc: 0.9863 - auc: 0.9866 - precision: 0.9132 - recall: 0.9127 - val_loss: 0.0028 - val_mean_px_acc: 0.9861 - val_auc: 0.9742 - val_precision: 0.8895 - val_recall: 0.8883\n",
      "Epoch 23/50\n",
      "16/16 [==============================] - 7s 348ms/step - loss: 0.0021 - mean_px_acc: 0.9865 - auc: 0.9872 - precision: 0.9145 - recall: 0.9142 - val_loss: 0.0027 - val_mean_px_acc: 0.9865 - val_auc: 0.9765 - val_precision: 0.8909 - val_recall: 0.8903\n",
      "Epoch 24/50\n",
      "16/16 [==============================] - 7s 346ms/step - loss: 0.0021 - mean_px_acc: 0.9867 - auc: 0.9874 - precision: 0.9144 - recall: 0.9138 - val_loss: 0.0027 - val_mean_px_acc: 0.9880 - val_auc: 0.9777 - val_precision: 0.8878 - val_recall: 0.8872\n",
      "Epoch 25/50\n",
      "16/16 [==============================] - 7s 351ms/step - loss: 0.0021 - mean_px_acc: 0.9869 - auc: 0.9875 - precision: 0.9149 - recall: 0.9147 - val_loss: 0.0027 - val_mean_px_acc: 0.9876 - val_auc: 0.9777 - val_precision: 0.8887 - val_recall: 0.8866\n",
      "Epoch 26/50\n",
      "16/16 [==============================] - 7s 345ms/step - loss: 0.0021 - mean_px_acc: 0.9868 - auc: 0.9875 - precision: 0.9136 - recall: 0.9132 - val_loss: 0.0026 - val_mean_px_acc: 0.9853 - val_auc: 0.9783 - val_precision: 0.8948 - val_recall: 0.8948\n",
      "Epoch 27/50\n",
      "16/16 [==============================] - 8s 356ms/step - loss: 0.0020 - mean_px_acc: 0.9872 - auc: 0.9876 - precision: 0.9135 - recall: 0.9132 - val_loss: 0.0026 - val_mean_px_acc: 0.9839 - val_auc: 0.9785 - val_precision: 0.8921 - val_recall: 0.8920\n",
      "Epoch 28/50\n",
      "16/16 [==============================] - 7s 348ms/step - loss: 0.0020 - mean_px_acc: 0.9873 - auc: 0.9880 - precision: 0.9151 - recall: 0.9147 - val_loss: 0.0027 - val_mean_px_acc: 0.9847 - val_auc: 0.9771 - val_precision: 0.8872 - val_recall: 0.8869\n",
      "Epoch 29/50\n",
      "16/16 [==============================] - 7s 350ms/step - loss: 0.0020 - mean_px_acc: 0.9875 - auc: 0.9885 - precision: 0.9164 - recall: 0.9161 - val_loss: 0.0027 - val_mean_px_acc: 0.9858 - val_auc: 0.9767 - val_precision: 0.8890 - val_recall: 0.8886\n",
      "Epoch 30/50\n",
      "16/16 [==============================] - 7s 343ms/step - loss: 0.0019 - mean_px_acc: 0.9877 - auc: 0.9885 - precision: 0.9163 - recall: 0.9162 - val_loss: 0.0026 - val_mean_px_acc: 0.9854 - val_auc: 0.9792 - val_precision: 0.8910 - val_recall: 0.8910\n",
      "Epoch 31/50\n",
      "16/16 [==============================] - 7s 345ms/step - loss: 0.0019 - mean_px_acc: 0.9877 - auc: 0.9884 - precision: 0.9158 - recall: 0.9155 - val_loss: 0.0026 - val_mean_px_acc: 0.9873 - val_auc: 0.9791 - val_precision: 0.8854 - val_recall: 0.8847\n",
      "Epoch 32/50\n",
      "16/16 [==============================] - 7s 361ms/step - loss: 0.0019 - mean_px_acc: 0.9877 - auc: 0.9884 - precision: 0.9159 - recall: 0.9156 - val_loss: 0.0032 - val_mean_px_acc: 0.9906 - val_auc: 0.9683 - val_precision: 0.8642 - val_recall: 0.8559\n",
      "Epoch 33/50\n",
      "16/16 [==============================] - 7s 342ms/step - loss: 0.0019 - mean_px_acc: 0.9878 - auc: 0.9885 - precision: 0.9164 - recall: 0.9163 - val_loss: 0.0028 - val_mean_px_acc: 0.9898 - val_auc: 0.9754 - val_precision: 0.8814 - val_recall: 0.8750\n",
      "Epoch 34/50\n",
      "16/16 [==============================] - 7s 346ms/step - loss: 0.0019 - mean_px_acc: 0.9879 - auc: 0.9886 - precision: 0.9160 - recall: 0.9157 - val_loss: 0.0026 - val_mean_px_acc: 0.9880 - val_auc: 0.9796 - val_precision: 0.8829 - val_recall: 0.8824\n",
      "Epoch 35/50\n",
      "16/16 [==============================] - ETA: 0s - loss: 0.0019 - mean_px_acc: 0.9884 - auc: 0.9890 - precision: 0.9175 - recall: 0.9172\n",
      "Reached 0.98 AUC value. Stopping the training on epoch 34\n",
      "16/16 [==============================] - 7s 343ms/step - loss: 0.0019 - mean_px_acc: 0.9884 - auc: 0.9890 - precision: 0.9175 - recall: 0.9172 - val_loss: 0.0025 - val_mean_px_acc: 0.9865 - val_auc: 0.9802 - val_precision: 0.8914 - val_recall: 0.8914\n",
      "test loss: 0.07052922248840332\n",
      "test mean_px_acc: 0.9866774678230286\n",
      "test auc: 0.9954925179481506\n",
      "test precision: 0.9866741299629211\n",
      "test recall: 0.98638916015625\n"
     ]
    }
   ],
   "source": [
    "# create the unet model\n",
    "efficientnet = utils.efficientnet_model()\n",
    "file_model_name = \"efnet_model_aug\"\n",
    "# train the model using original dataset\n",
    "efficientnet, history, ev_result = utils.train_model(efficientnet,\n",
    "                                                trainset_aug, valset_aug, testset_aug,\n",
    "                                                paths.path_model, file_model_name, os.path.join(paths.path_log_tensor, \"efnet_aug\"),\n",
    "                                                hyperparam[\"epochs\"])\n",
    "# show the evaluation result\n",
    "print(f\"test loss: {ev_result[0]}\", f\"test mean_px_acc: {ev_result[1]}\",\n",
    "        f\"test auc: {ev_result[2]}\", f\"test precision: {ev_result[3]}\",\n",
    "        f\"test recall: {ev_result[4]}\", sep=\"\\n\")"
   ]
  },
  {
   "cell_type": "code",
   "execution_count": 27,
   "metadata": {},
   "outputs": [],
   "source": [
    "# initiate the huggingface api \n",
    "api = HfApi()\n",
    "repo = api.create_repo(\"CAD-Glaucoma_Segmentation\", repo_type=\"model\", exist_ok=True)"
   ]
  },
  {
   "cell_type": "code",
   "execution_count": null,
   "metadata": {},
   "outputs": [],
   "source": [
    "# push the model artifact and hyperparameter to wandb\n",
    "## set the hyperparameter for the wandb\n",
    "hyperparam[\"aug\"] = True\n",
    "hyperparam[\"model_type\"] = \"EfficientNet\"\n",
    "## initiate the project\n",
    "wandb.init(project=\"CAD - Glaucoma Segmentation\",\n",
    "            name=f\"efnet_aug - {wandb_init_name}\",\n",
    "            config=hyperparam)\n",
    "## write the training history and validation result to wandb log\n",
    "for epoch in range(len(history.history[\"loss\"])):\n",
    "    wandb.log({\n",
    "        \"train_loss\": history.history[\"loss\"][epoch],\n",
    "        \"train_accuracy\": history.history[\"mean_px_acc\"][epoch],\n",
    "        \"train_auc\": history.history[\"auc\"][epoch],\n",
    "        \"train_precision\": history.history[\"precision\"][epoch],\n",
    "        \"train_recall\": history.history[\"recall\"][epoch],\n",
    "        \"train_f1\": 2 * (history.history[\"precision\"][epoch] * history.history[\"recall\"][epoch]) / (history.history[\"precision\"][epoch] + history.history[\"recall\"][epoch] + 1e-7),\n",
    "        \"val_loss\": history.history[\"val_loss\"][epoch],\n",
    "        \"val_accuracy\": history.history[\"val_mean_px_acc\"][epoch],\n",
    "        \"val_auc\": history.history[\"val_auc\"][epoch],\n",
    "        \"val_precision\": history.history[\"val_precision\"][epoch],\n",
    "        \"val_recall\": history.history[\"val_recall\"][epoch],\n",
    "        \"val_f1\": 2 * (history.history[\"val_precision\"][epoch] * history.history[\"val_recall\"][epoch]) / (history.history[\"val_precision\"][epoch] + history.history[\"val_recall\"][epoch] + 1e-7),\n",
    "    })\n",
    "## store the model artifact\n",
    "wandb.log_artifact(os.path.join(paths.path_model, f\"{file_model_name}.h5\"))\n",
    "wandb.finish()"
   ]
  },
  {
   "cell_type": "code",
   "execution_count": null,
   "metadata": {},
   "outputs": [
    {
     "name": "stderr",
     "output_type": "stream",
     "text": [
      "efnet_model_aug.h5: 100%|██████████| 256M/256M [02:40<00:00, 1.59MB/s]   \n"
     ]
    },
    {
     "data": {
      "text/plain": [
       "CommitInfo(commit_url='https://huggingface.co/bugi-sulistiyo/CAD-Glaucoma_Segmentation/commit/9cb7432c99fc3d2f28f588d287806252a0027206', commit_message='efnet_aug - retrain the model with new config', commit_description='', oid='9cb7432c99fc3d2f28f588d287806252a0027206', pr_url=None, repo_url=RepoUrl('https://huggingface.co/bugi-sulistiyo/CAD-Glaucoma_Segmentation', endpoint='https://huggingface.co', repo_type='model', repo_id='bugi-sulistiyo/CAD-Glaucoma_Segmentation'), pr_revision=None, pr_num=None)"
      ]
     },
     "execution_count": 29,
     "metadata": {},
     "output_type": "execute_result"
    }
   ],
   "source": [
    "## push the model to the huggingface hub\n",
    "api.upload_file(\n",
    "    repo_id=repo.repo_id,\n",
    "    path_or_fileobj=os.path.join(paths.path_model, f\"{file_model_name}.h5\"),\n",
    "    path_in_repo=f\"model/{file_model_name}.h5\",\n",
    "    repo_type=repo.repo_type,\n",
    "    commit_message=f\"efnet_aug - {hf_commit_message}\",\n",
    ")"
   ]
  },
  {
   "cell_type": "markdown",
   "metadata": {},
   "source": [
    "## Architecture Visualization"
   ]
  },
  {
   "cell_type": "code",
   "execution_count": null,
   "metadata": {},
   "outputs": [],
   "source": [
    "result = utils.visualize_model_architec([\"efnet_model_aug\", \"efnet_model_ori\",\n",
    "                                        \"mnet_model_aug\", \"mnet_model_ori\",\n",
    "                                        \"unet_model_aug\", \"unet_model_ori\"], paths.path_model, \"RL\")"
   ]
  }
 ],
 "metadata": {
  "kernelspec": {
   "display_name": "modeling",
   "language": "python",
   "name": "python3"
  },
  "language_info": {
   "codemirror_mode": {
    "name": "ipython",
    "version": 3
   },
   "file_extension": ".py",
   "mimetype": "text/x-python",
   "name": "python",
   "nbconvert_exporter": "python",
   "pygments_lexer": "ipython3",
   "version": "3.9.20"
  }
 },
 "nbformat": 4,
 "nbformat_minor": 2
}
