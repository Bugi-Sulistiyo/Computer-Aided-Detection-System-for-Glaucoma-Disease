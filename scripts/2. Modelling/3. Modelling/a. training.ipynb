{
 "cells": [
  {
   "cell_type": "markdown",
   "metadata": {},
   "source": [
    "### Import the needed packages"
   ]
  },
  {
   "cell_type": "code",
   "execution_count": 2,
   "metadata": {},
   "outputs": [
    {
     "data": {
      "text/plain": [
       "True"
      ]
     },
     "execution_count": 2,
     "metadata": {},
     "output_type": "execute_result"
    }
   ],
   "source": [
    "# package for using the the custom scripts \n",
    "import sys\n",
    "sys.path.insert(0, \"./../\")\n",
    "# package for handling files and directories\n",
    "import os\n",
    "\n",
    "import wandb\n",
    "# a custom package for handling the data\n",
    "import utilities as utils\n",
    "\n",
    "from huggingface_hub import HfApi\n",
    "\n",
    "from dotenv import load_dotenv\n",
    "\n",
    "load_dotenv()"
   ]
  },
  {
   "cell_type": "markdown",
   "metadata": {},
   "source": [
    "### Global variable"
   ]
  },
  {
   "cell_type": "code",
   "execution_count": null,
   "metadata": {},
   "outputs": [],
   "source": [
    "path_full = os.environ.get(\"ORI_PATH\")\n",
    "path_dataset_ori = os.path.join(path_full, \"datasets\", \"splitted\", \"original\")\n",
    "path_dataset_aug = os.path.join(path_full, \"datasets\", \"splitted\", \"augmented\")\n",
    "path_model = os.path.join(path_full, \"data\", \"model\")\n",
    "wandb_init_name = \"implement weight training\"\n",
    "hf_commit_message = \"implement weight training\"\n",
    "hyperparam = {\n",
    "    \"batch_size\": 16,\n",
    "    \"img_size\": 128,\n",
    "    \"shuffle\": True,\n",
    "    \"model_type\": \"U-net\",\n",
    "    \"metrics\": [\"accuracy\", \"MeanIoU\", \"Precision\", \"Recall\"],\n",
    "    \"split_ratio\": [7,1,2],\n",
    "    \"dataset_balance\": True,\n",
    "    \"weighted_training\": True,\n",
    "}\n",
    "ori_path = {\n",
    "    \"train\": os.path.join(path_dataset_ori, \"train\"),\n",
    "    \"val\": os.path.join(path_dataset_ori, \"val\"),\n",
    "    \"test\": os.path.join(path_dataset_ori, \"test\"),\n",
    "}\n",
    "aug_path = {\n",
    "    \"train\": os.path.join(path_dataset_aug, \"train\"),\n",
    "    \"val\": os.path.join(path_dataset_aug, \"val\"),\n",
    "    \"test\": os.path.join(path_dataset_aug, \"test\"),\n",
    "}"
   ]
  },
  {
   "cell_type": "markdown",
   "metadata": {},
   "source": [
    "### Import the images and mask"
   ]
  },
  {
   "cell_type": "code",
   "execution_count": 4,
   "metadata": {},
   "outputs": [],
   "source": [
    "# get the original dataset\n",
    "train_ori_img, train_ori_mask = utils.load_img_mask(ori_path[\"train\"])\n",
    "val_ori_img, val_ori_mask = utils.load_img_mask(ori_path[\"val\"])\n",
    "test_ori_img, test_ori_mask = utils.load_img_mask(ori_path[\"test\"])\n",
    "\n",
    "# get the augmented dataset\n",
    "train_aug_img, train_aug_mask = utils.load_img_mask(aug_path[\"train\"])\n",
    "val_aug_img, val_aug_mask = utils.load_img_mask(aug_path[\"val\"])\n",
    "test_aug_img, test_aug_mask = utils.load_img_mask(aug_path[\"test\"])"
   ]
  },
  {
   "cell_type": "markdown",
   "metadata": {},
   "source": [
    "### Create the batched dataset"
   ]
  },
  {
   "cell_type": "code",
   "execution_count": 5,
   "metadata": {},
   "outputs": [],
   "source": [
    "# create the tensor dataset for original dataset\n",
    "trainset_ori = utils.create_dataset(train_ori_img, train_ori_mask, hyperparam[\"img_size\"], hyperparam[\"batch_size\"])\n",
    "valset_ori = utils.create_dataset(val_ori_img, val_ori_mask, hyperparam[\"img_size\"], hyperparam[\"batch_size\"])\n",
    "testset_ori = utils.create_dataset(test_ori_img, test_ori_mask, hyperparam[\"img_size\"], hyperparam[\"batch_size\"])\n",
    "\n",
    "# create the tensor dataset for augmented dataset\n",
    "trainset_aug = utils.create_dataset(train_aug_img, train_aug_mask, hyperparam[\"img_size\"], hyperparam[\"batch_size\"])\n",
    "valset_aug = utils.create_dataset(val_aug_img, val_aug_mask, hyperparam[\"img_size\"], hyperparam[\"batch_size\"])\n",
    "testset_aug = utils.create_dataset(test_aug_img, test_aug_mask, hyperparam[\"img_size\"], hyperparam[\"batch_size\"])"
   ]
  },
  {
   "cell_type": "markdown",
   "metadata": {},
   "source": [
    "### Calculate label weight"
   ]
  },
  {
   "cell_type": "code",
   "execution_count": 6,
   "metadata": {},
   "outputs": [
    {
     "data": {
      "text/plain": [
       "{0: 0.3392, 1: 90.8128, 2: 32.1602}"
      ]
     },
     "execution_count": 6,
     "metadata": {},
     "output_type": "execute_result"
    }
   ],
   "source": [
    "train_weight = utils.calculate_weight(trainset_ori)\n",
    "train_weight"
   ]
  },
  {
   "cell_type": "markdown",
   "metadata": {},
   "source": [
    "### Train model"
   ]
  },
  {
   "cell_type": "code",
   "execution_count": null,
   "metadata": {},
   "outputs": [
    {
     "name": "stdout",
     "output_type": "stream",
     "text": [
      "Epoch 1/10\n",
      "16/16 [==============================] - 29s 452ms/step - loss: 1.1345 - accuracy: 5.4584e-06 - mean_iou: 0.3333 - precision: 0.6405 - recall: 0.1870 - val_loss: 0.9821 - val_accuracy: 0.0000e+00 - val_mean_iou: 0.3333 - val_precision: 0.0000e+00 - val_recall: 0.0000e+00\n",
      "Epoch 2/10\n",
      "16/16 [==============================] - 8s 121ms/step - loss: 0.9097 - accuracy: 0.0000e+00 - mean_iou: 0.3333 - precision: 0.7682 - recall: 0.0568 - val_loss: 0.8731 - val_accuracy: 0.0000e+00 - val_mean_iou: 0.3333 - val_precision: 0.0000e+00 - val_recall: 0.0000e+00\n",
      "Epoch 3/10\n",
      "16/16 [==============================] - 7s 148ms/step - loss: 0.7791 - accuracy: 0.0000e+00 - mean_iou: 0.3333 - precision: 0.9286 - recall: 0.1480 - val_loss: 0.7327 - val_accuracy: 0.0000e+00 - val_mean_iou: 0.3333 - val_precision: 0.0881 - val_recall: 2.3736e-05\n",
      "Epoch 4/10\n",
      "16/16 [==============================] - 8s 132ms/step - loss: 0.6836 - accuracy: 0.0000e+00 - mean_iou: 0.3333 - precision: 0.9883 - recall: 0.7364 - val_loss: 0.6148 - val_accuracy: 0.0000e+00 - val_mean_iou: 0.3333 - val_precision: 0.9827 - val_recall: 0.9825\n",
      "Epoch 5/10\n",
      "16/16 [==============================] - 7s 115ms/step - loss: 0.5780 - accuracy: 0.0000e+00 - mean_iou: 0.3333 - precision: 0.9916 - recall: 0.9462 - val_loss: 0.5185 - val_accuracy: 0.0000e+00 - val_mean_iou: 0.3333 - val_precision: 0.9829 - val_recall: 0.9825\n",
      "Epoch 6/10\n",
      "16/16 [==============================] - 7s 118ms/step - loss: 0.4828 - accuracy: 0.0000e+00 - mean_iou: 0.3333 - precision: 0.9929 - recall: 0.9814 - val_loss: 0.3994 - val_accuracy: 0.0000e+00 - val_mean_iou: 0.3333 - val_precision: 0.9825 - val_recall: 0.9825\n",
      "Epoch 7/10\n",
      "16/16 [==============================] - 7s 127ms/step - loss: 0.4085 - accuracy: 0.0000e+00 - mean_iou: 0.3333 - precision: 0.9936 - recall: 0.9909 - val_loss: 0.2930 - val_accuracy: 0.0000e+00 - val_mean_iou: 0.3333 - val_precision: 0.9827 - val_recall: 0.9825\n",
      "Epoch 8/10\n",
      "16/16 [==============================] - 9s 126ms/step - loss: 0.3412 - accuracy: 2.4811e-07 - mean_iou: 0.3333 - precision: 0.9941 - recall: 0.9919 - val_loss: 0.2198 - val_accuracy: 0.0000e+00 - val_mean_iou: 0.3333 - val_precision: 0.9826 - val_recall: 0.9825\n",
      "Epoch 9/10\n",
      "16/16 [==============================] - 11s 129ms/step - loss: 0.2853 - accuracy: 5.2930e-06 - mean_iou: 0.3333 - precision: 0.9944 - recall: 0.9925 - val_loss: 0.1807 - val_accuracy: 0.0000e+00 - val_mean_iou: 0.3333 - val_precision: 0.9828 - val_recall: 0.9826\n",
      "Epoch 10/10\n",
      "16/16 [==============================] - 9s 131ms/step - loss: 0.2367 - accuracy: 1.9353e-05 - mean_iou: 0.3333 - precision: 0.9947 - recall: 0.9929 - val_loss: 0.1538 - val_accuracy: 0.0000e+00 - val_mean_iou: 0.3333 - val_precision: 0.9826 - val_recall: 0.9826\n",
      "test loss: 0.15283045172691345\n",
      "test accuracy: 0.0\n",
      "test mean IoU: 0.3333333432674408\n",
      "test precision: 0.982883095741272\n",
      "test recall: 0.9825628399848938\n"
     ]
    }
   ],
   "source": [
    "# create the unet model\n",
    "unet_custom = utils.custom_unet()\n",
    "file_model_name = \"unet_model_ori\"\n",
    "# train the model using original dataset\n",
    "unet_custom, history, ev_result = utils.train_model(unet_custom, trainset_ori, valset_ori, testset_ori, path_model, file_model_name, train_weight)\n",
    "print(f\"test loss: {ev_result[0]}\", f\"test accuracy: {ev_result[1]}\",\n",
    "        f\"test mean IoU: {ev_result[2]}\", f\"test precision: {ev_result[3]}\",\n",
    "        f\"test recall: {ev_result[4]}\", sep=\"\\n\")"
   ]
  },
  {
   "cell_type": "code",
   "execution_count": null,
   "metadata": {},
   "outputs": [],
   "source": [
    "api = HfApi()\n",
    "repo = api.create_repo(\"CAD-Glaucoma_Segmentation\", repo_type=\"model\", exist_ok=True)\n",
    "api.upload_file(\n",
    "    repo_id=repo.repo_id,\n",
    "    path_or_fileobj=os.path.join(\"./../../../data/model\", f\"{file_model_name}.h5\"),\n",
    "    path_in_repo=f\"model/{file_model_name}.h5\",\n",
    "    repo_type=repo.repo_type,\n",
    "    commit_message=hf_commit_message,\n",
    ")"
   ]
  },
  {
   "cell_type": "code",
   "execution_count": null,
   "metadata": {},
   "outputs": [
    {
     "name": "stderr",
     "output_type": "stream",
     "text": [
      "Failed to detect the name of this notebook, you can set it manually with the WANDB_NOTEBOOK_NAME environment variable to enable code saving.\n",
      "\u001b[34m\u001b[1mwandb\u001b[0m: Currently logged in as: \u001b[33mbugi-sulistiyo\u001b[0m (\u001b[33mbugi-sulistiyo-universitas-mulawarman\u001b[0m). Use \u001b[1m`wandb login --relogin`\u001b[0m to force relogin\n"
     ]
    },
    {
     "data": {
      "text/html": [
       "wandb version 0.18.5 is available!  To upgrade, please run:\n",
       " $ pip install wandb --upgrade"
      ],
      "text/plain": [
       "<IPython.core.display.HTML object>"
      ]
     },
     "metadata": {},
     "output_type": "display_data"
    },
    {
     "data": {
      "text/html": [
       "Tracking run with wandb version 0.17.0"
      ],
      "text/plain": [
       "<IPython.core.display.HTML object>"
      ]
     },
     "metadata": {},
     "output_type": "display_data"
    },
    {
     "data": {
      "text/html": [
       "Run data is saved locally in <code>d:\\Programming\\Python\\Research Prof. Anindita\\scripts\\2. Modelling\\3. Modelling\\wandb\\run-20241101_233047-5p9g78zh</code>"
      ],
      "text/plain": [
       "<IPython.core.display.HTML object>"
      ]
     },
     "metadata": {},
     "output_type": "display_data"
    },
    {
     "data": {
      "text/html": [
       "Syncing run <strong><a href='https://wandb.ai/bugi-sulistiyo-universitas-mulawarman/CAD%20-%20Glaucoma%20Segmentation/runs/5p9g78zh' target=\"_blank\">ori - decrease batch size</a></strong> to <a href='https://wandb.ai/bugi-sulistiyo-universitas-mulawarman/CAD%20-%20Glaucoma%20Segmentation' target=\"_blank\">Weights & Biases</a> (<a href='https://wandb.me/run' target=\"_blank\">docs</a>)<br/>"
      ],
      "text/plain": [
       "<IPython.core.display.HTML object>"
      ]
     },
     "metadata": {},
     "output_type": "display_data"
    },
    {
     "data": {
      "text/html": [
       " View project at <a href='https://wandb.ai/bugi-sulistiyo-universitas-mulawarman/CAD%20-%20Glaucoma%20Segmentation' target=\"_blank\">https://wandb.ai/bugi-sulistiyo-universitas-mulawarman/CAD%20-%20Glaucoma%20Segmentation</a>"
      ],
      "text/plain": [
       "<IPython.core.display.HTML object>"
      ]
     },
     "metadata": {},
     "output_type": "display_data"
    },
    {
     "data": {
      "text/html": [
       " View run at <a href='https://wandb.ai/bugi-sulistiyo-universitas-mulawarman/CAD%20-%20Glaucoma%20Segmentation/runs/5p9g78zh' target=\"_blank\">https://wandb.ai/bugi-sulistiyo-universitas-mulawarman/CAD%20-%20Glaucoma%20Segmentation/runs/5p9g78zh</a>"
      ],
      "text/plain": [
       "<IPython.core.display.HTML object>"
      ]
     },
     "metadata": {},
     "output_type": "display_data"
    },
    {
     "data": {
      "text/html": [
       "<style>\n",
       "    table.wandb td:nth-child(1) { padding: 0 10px; text-align: left ; width: auto;} td:nth-child(2) {text-align: left ; width: 100%}\n",
       "    .wandb-row { display: flex; flex-direction: row; flex-wrap: wrap; justify-content: flex-start; width: 100% }\n",
       "    .wandb-col { display: flex; flex-direction: column; flex-basis: 100%; flex: 1; padding: 10px; }\n",
       "    </style>\n",
       "<div class=\"wandb-row\"><div class=\"wandb-col\"><h3>Run history:</h3><br/><table class=\"wandb\"><tr><td>train_accuracy</td><td>▃▁▁▁▁▁▁▁▃█</td></tr><tr><td>train_loss</td><td>█▆▅▄▄▃▂▂▁▁</td></tr><tr><td>train_meanIoU</td><td>█▁▁▁▁▁▁▁▁▁</td></tr><tr><td>train_precision</td><td>▁▄▇███████</td></tr><tr><td>train_recall</td><td>▂▁▂▆██████</td></tr><tr><td>val_accuracy</td><td>▁▁▁▁▁▁▁▁▁▁</td></tr><tr><td>val_loss</td><td>█▇▆▅▄▃▂▂▁▁</td></tr><tr><td>val_meanIoU</td><td>▁▁▁▁▁▁▁▁▁▁</td></tr><tr><td>val_precision</td><td>▁▁▂███████</td></tr><tr><td>val_recall</td><td>▁▁▁███████</td></tr></table><br/></div><div class=\"wandb-col\"><h3>Run summary:</h3><br/><table class=\"wandb\"><tr><td>train_accuracy</td><td>2e-05</td></tr><tr><td>train_loss</td><td>0.23673</td></tr><tr><td>train_meanIoU</td><td>0.33333</td></tr><tr><td>train_precision</td><td>0.99472</td></tr><tr><td>train_recall</td><td>0.99292</td></tr><tr><td>val_accuracy</td><td>0.0</td></tr><tr><td>val_loss</td><td>0.15384</td></tr><tr><td>val_meanIoU</td><td>0.33333</td></tr><tr><td>val_precision</td><td>0.98261</td></tr><tr><td>val_recall</td><td>0.98257</td></tr></table><br/></div></div>"
      ],
      "text/plain": [
       "<IPython.core.display.HTML object>"
      ]
     },
     "metadata": {},
     "output_type": "display_data"
    },
    {
     "data": {
      "text/html": [
       " View run <strong style=\"color:#cdcd00\">ori - decrease batch size</strong> at: <a href='https://wandb.ai/bugi-sulistiyo-universitas-mulawarman/CAD%20-%20Glaucoma%20Segmentation/runs/5p9g78zh' target=\"_blank\">https://wandb.ai/bugi-sulistiyo-universitas-mulawarman/CAD%20-%20Glaucoma%20Segmentation/runs/5p9g78zh</a><br/> View project at: <a href='https://wandb.ai/bugi-sulistiyo-universitas-mulawarman/CAD%20-%20Glaucoma%20Segmentation' target=\"_blank\">https://wandb.ai/bugi-sulistiyo-universitas-mulawarman/CAD%20-%20Glaucoma%20Segmentation</a><br/>Synced 4 W&B file(s), 0 media file(s), 1 artifact file(s) and 0 other file(s)"
      ],
      "text/plain": [
       "<IPython.core.display.HTML object>"
      ]
     },
     "metadata": {},
     "output_type": "display_data"
    },
    {
     "data": {
      "text/html": [
       "Find logs at: <code>.\\wandb\\run-20241101_233047-5p9g78zh\\logs</code>"
      ],
      "text/plain": [
       "<IPython.core.display.HTML object>"
      ]
     },
     "metadata": {},
     "output_type": "display_data"
    },
    {
     "name": "stderr",
     "output_type": "stream",
     "text": [
      "unet_model_ori.h5: 100%|██████████| 1.57M/1.57M [00:01<00:00, 831kB/s] \n"
     ]
    },
    {
     "data": {
      "text/plain": [
       "CommitInfo(commit_url='https://huggingface.co/bugi-sulistiyo/CAD-Glaucoma_Segmentation/commit/b777f22e311a5ad4b3fb2eaad6af65801d861f3b', commit_message='initial upload the original model', commit_description='', oid='b777f22e311a5ad4b3fb2eaad6af65801d861f3b', pr_url=None, repo_url=RepoUrl('https://huggingface.co/bugi-sulistiyo/CAD-Glaucoma_Segmentation', endpoint='https://huggingface.co', repo_type='model', repo_id='bugi-sulistiyo/CAD-Glaucoma_Segmentation'), pr_revision=None, pr_num=None)"
      ]
     },
     "execution_count": 7,
     "metadata": {},
     "output_type": "execute_result"
    }
   ],
   "source": [
    "hyperparam[\"aug\"] = False\n",
    "wandb.init(project=\"CAD - Glaucoma Segmentation\",\n",
    "            name=f\"ori - {wandb_init_name}\",\n",
    "            config=hyperparam)\n",
    "for epoch in range(len(history.history[\"loss\"])):\n",
    "    wandb.log({\n",
    "        \"train_loss\": history.history[\"loss\"][epoch],\n",
    "        \"train_accuracy\": history.history[\"accuracy\"][epoch],\n",
    "        \"train_meanIoU\": history.history[\"mean_iou\"][epoch],\n",
    "        \"train_precision\": history.history[\"precision\"][epoch],\n",
    "        \"train_recall\": history.history[\"recall\"][epoch],\n",
    "        \"val_loss\": history.history[\"val_loss\"][epoch],\n",
    "        \"val_accuracy\": history.history[\"val_accuracy\"][epoch],\n",
    "        \"val_meanIoU\": history.history[\"val_mean_iou\"][epoch],\n",
    "        \"val_precision\": history.history[\"val_precision\"][epoch],\n",
    "        \"val_recall\": history.history[\"val_recall\"][epoch],\n",
    "    })\n",
    "wandb.log_artifact(os.path.join(\"./../../../data/model\", f\"{file_model_name}.h5\"))\n",
    "wandb.finish()"
   ]
  },
  {
   "cell_type": "code",
   "execution_count": 8,
   "metadata": {},
   "outputs": [
    {
     "name": "stdout",
     "output_type": "stream",
     "text": [
      "Epoch 1/10\n",
      "16/16 [==============================] - 9s 158ms/step - loss: 1.1135 - accuracy: 0.0000e+00 - mean_iou: 0.3333 - precision: 0.6439 - recall: 0.2742 - val_loss: 1.0014 - val_accuracy: 0.0000e+00 - val_mean_iou: 0.3333 - val_precision: 0.0000e+00 - val_recall: 0.0000e+00\n",
      "Epoch 2/10\n",
      "16/16 [==============================] - 5s 122ms/step - loss: 0.7741 - accuracy: 2.6465e-06 - mean_iou: 0.3333 - precision: 0.9602 - recall: 0.5302 - val_loss: 0.8339 - val_accuracy: 0.0000e+00 - val_mean_iou: 0.3333 - val_precision: 1.0000 - val_recall: 6.1035e-05\n",
      "Epoch 3/10\n",
      "16/16 [==============================] - 4s 97ms/step - loss: 0.6475 - accuracy: 0.0000e+00 - mean_iou: 0.3333 - precision: 0.9858 - recall: 0.8852 - val_loss: 0.6746 - val_accuracy: 0.0000e+00 - val_mean_iou: 0.3333 - val_precision: 0.9826 - val_recall: 0.9808\n",
      "Epoch 4/10\n",
      "16/16 [==============================] - 4s 101ms/step - loss: 0.5624 - accuracy: 0.0000e+00 - mean_iou: 0.3333 - precision: 0.9905 - recall: 0.9835 - val_loss: 0.5436 - val_accuracy: 0.0000e+00 - val_mean_iou: 0.3333 - val_precision: 0.9826 - val_recall: 0.9825\n",
      "Epoch 5/10\n",
      "16/16 [==============================] - 4s 95ms/step - loss: 0.4828 - accuracy: 0.0000e+00 - mean_iou: 0.3333 - precision: 0.9922 - recall: 0.9887 - val_loss: 0.4387 - val_accuracy: 0.0000e+00 - val_mean_iou: 0.3333 - val_precision: 0.9825 - val_recall: 0.9825\n",
      "Epoch 6/10\n",
      "16/16 [==============================] - 5s 134ms/step - loss: 0.4185 - accuracy: 4.3833e-06 - mean_iou: 0.3333 - precision: 0.9927 - recall: 0.9896 - val_loss: 0.3671 - val_accuracy: 0.0000e+00 - val_mean_iou: 0.3333 - val_precision: 0.9825 - val_recall: 0.9825\n",
      "Epoch 7/10\n",
      "16/16 [==============================] - 7s 182ms/step - loss: 0.3464 - accuracy: 2.0097e-05 - mean_iou: 0.3333 - precision: 0.9937 - recall: 0.9912 - val_loss: 0.3110 - val_accuracy: 0.0000e+00 - val_mean_iou: 0.3333 - val_precision: 0.9825 - val_recall: 0.9825\n",
      "Epoch 8/10\n",
      "16/16 [==============================] - 5s 142ms/step - loss: 0.2842 - accuracy: 9.9575e-05 - mean_iou: 0.3333 - precision: 0.9935 - recall: 0.9915 - val_loss: 0.2526 - val_accuracy: 0.0000e+00 - val_mean_iou: 0.3333 - val_precision: 0.9825 - val_recall: 0.9825\n",
      "Epoch 9/10\n",
      "16/16 [==============================] - 4s 100ms/step - loss: 0.2359 - accuracy: 2.6788e-04 - mean_iou: 0.3333 - precision: 0.9940 - recall: 0.9925 - val_loss: 0.2082 - val_accuracy: 0.0000e+00 - val_mean_iou: 0.3333 - val_precision: 0.9825 - val_recall: 0.9825\n",
      "Epoch 10/10\n",
      "16/16 [==============================] - 4s 100ms/step - loss: 0.1947 - accuracy: 4.1029e-04 - mean_iou: 0.3333 - precision: 0.9944 - recall: 0.9933 - val_loss: 0.1741 - val_accuracy: 0.0000e+00 - val_mean_iou: 0.3333 - val_precision: 0.9825 - val_recall: 0.9825\n",
      "test loss: 0.17291194200515747\n",
      "test accuracy: 0.0\n",
      "test mean IoU: 0.3333333432674408\n",
      "test precision: 0.9829634428024292\n",
      "test recall: 0.9829634428024292\n"
     ]
    }
   ],
   "source": [
    "# create the unet model\n",
    "unet_custom = utils.custom_unet()\n",
    "file_model_name = \"unet_model_aug\"\n",
    "# train the model using augmented dataset\n",
    "unet_custom, history, ev_result = utils.train_model(unet_custom, trainset_aug, valset_aug, testset_aug, file_model_name)\n",
    "print(f\"test loss: {ev_result[0]}\", f\"test accuracy: {ev_result[1]}\",\n",
    "        f\"test mean IoU: {ev_result[2]}\", f\"test precision: {ev_result[3]}\",\n",
    "        f\"test recall: {ev_result[4]}\", sep=\"\\n\")"
   ]
  },
  {
   "cell_type": "code",
   "execution_count": 9,
   "metadata": {},
   "outputs": [
    {
     "data": {
      "text/html": [
       "wandb version 0.18.5 is available!  To upgrade, please run:\n",
       " $ pip install wandb --upgrade"
      ],
      "text/plain": [
       "<IPython.core.display.HTML object>"
      ]
     },
     "metadata": {},
     "output_type": "display_data"
    },
    {
     "data": {
      "text/html": [
       "Tracking run with wandb version 0.17.0"
      ],
      "text/plain": [
       "<IPython.core.display.HTML object>"
      ]
     },
     "metadata": {},
     "output_type": "display_data"
    },
    {
     "data": {
      "text/html": [
       "Run data is saved locally in <code>d:\\Programming\\Python\\Research Prof. Anindita\\scripts\\2. Modelling\\3. Modelling\\wandb\\run-20241101_233159-gyzawgl9</code>"
      ],
      "text/plain": [
       "<IPython.core.display.HTML object>"
      ]
     },
     "metadata": {},
     "output_type": "display_data"
    },
    {
     "data": {
      "text/html": [
       "Syncing run <strong><a href='https://wandb.ai/bugi-sulistiyo-universitas-mulawarman/CAD%20-%20Glaucoma%20Segmentation/runs/gyzawgl9' target=\"_blank\">aug - decrease batch size</a></strong> to <a href='https://wandb.ai/bugi-sulistiyo-universitas-mulawarman/CAD%20-%20Glaucoma%20Segmentation' target=\"_blank\">Weights & Biases</a> (<a href='https://wandb.me/run' target=\"_blank\">docs</a>)<br/>"
      ],
      "text/plain": [
       "<IPython.core.display.HTML object>"
      ]
     },
     "metadata": {},
     "output_type": "display_data"
    },
    {
     "data": {
      "text/html": [
       " View project at <a href='https://wandb.ai/bugi-sulistiyo-universitas-mulawarman/CAD%20-%20Glaucoma%20Segmentation' target=\"_blank\">https://wandb.ai/bugi-sulistiyo-universitas-mulawarman/CAD%20-%20Glaucoma%20Segmentation</a>"
      ],
      "text/plain": [
       "<IPython.core.display.HTML object>"
      ]
     },
     "metadata": {},
     "output_type": "display_data"
    },
    {
     "data": {
      "text/html": [
       " View run at <a href='https://wandb.ai/bugi-sulistiyo-universitas-mulawarman/CAD%20-%20Glaucoma%20Segmentation/runs/gyzawgl9' target=\"_blank\">https://wandb.ai/bugi-sulistiyo-universitas-mulawarman/CAD%20-%20Glaucoma%20Segmentation/runs/gyzawgl9</a>"
      ],
      "text/plain": [
       "<IPython.core.display.HTML object>"
      ]
     },
     "metadata": {},
     "output_type": "display_data"
    },
    {
     "data": {
      "text/html": [
       "<style>\n",
       "    table.wandb td:nth-child(1) { padding: 0 10px; text-align: left ; width: auto;} td:nth-child(2) {text-align: left ; width: 100%}\n",
       "    .wandb-row { display: flex; flex-direction: row; flex-wrap: wrap; justify-content: flex-start; width: 100% }\n",
       "    .wandb-col { display: flex; flex-direction: column; flex-basis: 100%; flex: 1; padding: 10px; }\n",
       "    </style>\n",
       "<div class=\"wandb-row\"><div class=\"wandb-col\"><h3>Run history:</h3><br/><table class=\"wandb\"><tr><td>train_accuracy</td><td>▁▁▁▁▁▁▁▃▆█</td></tr><tr><td>train_loss</td><td>█▅▄▄▃▃▂▂▁▁</td></tr><tr><td>train_meanIoU</td><td>▁█████████</td></tr><tr><td>train_precision</td><td>▁▇████████</td></tr><tr><td>train_recall</td><td>▁▃▇███████</td></tr><tr><td>val_accuracy</td><td>▁▁▁▁▁▁▁▁▁▁</td></tr><tr><td>val_loss</td><td>█▇▅▄▃▃▂▂▁▁</td></tr><tr><td>val_meanIoU</td><td>▁▁▁▁▁▁▁▁▁▁</td></tr><tr><td>val_precision</td><td>▁█████████</td></tr><tr><td>val_recall</td><td>▁▁████████</td></tr></table><br/></div><div class=\"wandb-col\"><h3>Run summary:</h3><br/><table class=\"wandb\"><tr><td>train_accuracy</td><td>0.00041</td></tr><tr><td>train_loss</td><td>0.19468</td></tr><tr><td>train_meanIoU</td><td>0.33333</td></tr><tr><td>train_precision</td><td>0.99444</td></tr><tr><td>train_recall</td><td>0.9933</td></tr><tr><td>val_accuracy</td><td>0.0</td></tr><tr><td>val_loss</td><td>0.1741</td></tr><tr><td>val_meanIoU</td><td>0.33333</td></tr><tr><td>val_precision</td><td>0.98254</td></tr><tr><td>val_recall</td><td>0.98254</td></tr></table><br/></div></div>"
      ],
      "text/plain": [
       "<IPython.core.display.HTML object>"
      ]
     },
     "metadata": {},
     "output_type": "display_data"
    },
    {
     "data": {
      "text/html": [
       " View run <strong style=\"color:#cdcd00\">aug - decrease batch size</strong> at: <a href='https://wandb.ai/bugi-sulistiyo-universitas-mulawarman/CAD%20-%20Glaucoma%20Segmentation/runs/gyzawgl9' target=\"_blank\">https://wandb.ai/bugi-sulistiyo-universitas-mulawarman/CAD%20-%20Glaucoma%20Segmentation/runs/gyzawgl9</a><br/> View project at: <a href='https://wandb.ai/bugi-sulistiyo-universitas-mulawarman/CAD%20-%20Glaucoma%20Segmentation' target=\"_blank\">https://wandb.ai/bugi-sulistiyo-universitas-mulawarman/CAD%20-%20Glaucoma%20Segmentation</a><br/>Synced 4 W&B file(s), 0 media file(s), 1 artifact file(s) and 0 other file(s)"
      ],
      "text/plain": [
       "<IPython.core.display.HTML object>"
      ]
     },
     "metadata": {},
     "output_type": "display_data"
    },
    {
     "data": {
      "text/html": [
       "Find logs at: <code>.\\wandb\\run-20241101_233159-gyzawgl9\\logs</code>"
      ],
      "text/plain": [
       "<IPython.core.display.HTML object>"
      ]
     },
     "metadata": {},
     "output_type": "display_data"
    },
    {
     "name": "stderr",
     "output_type": "stream",
     "text": [
      "unet_model_aug.h5: 100%|██████████| 1.57M/1.57M [00:01<00:00, 961kB/s] \n"
     ]
    },
    {
     "data": {
      "text/plain": [
       "CommitInfo(commit_url='https://huggingface.co/bugi-sulistiyo/CAD-Glaucoma_Segmentation/commit/7ee236598a20f859e7470f1a6af3c2d3138c07de', commit_message='initial upload the aug model', commit_description='', oid='7ee236598a20f859e7470f1a6af3c2d3138c07de', pr_url=None, repo_url=RepoUrl('https://huggingface.co/bugi-sulistiyo/CAD-Glaucoma_Segmentation', endpoint='https://huggingface.co', repo_type='model', repo_id='bugi-sulistiyo/CAD-Glaucoma_Segmentation'), pr_revision=None, pr_num=None)"
      ]
     },
     "execution_count": 9,
     "metadata": {},
     "output_type": "execute_result"
    }
   ],
   "source": [
    "hyperparam[\"aug\"] = True\n",
    "wandb.init(project=\"CAD - Glaucoma Segmentation\",\n",
    "            name=f\"aug - {wandb_init_name}\",\n",
    "            config=hyperparam)\n",
    "for epoch in range(len(history.history[\"loss\"])):\n",
    "    wandb.log({\n",
    "        \"train_loss\": history.history[\"loss\"][epoch],\n",
    "        \"train_accuracy\": history.history[\"accuracy\"][epoch],\n",
    "        \"train_meanIoU\": history.history[\"mean_iou\"][epoch],\n",
    "        \"train_precision\": history.history[\"precision\"][epoch],\n",
    "        \"train_recall\": history.history[\"recall\"][epoch],\n",
    "        \"val_loss\": history.history[\"val_loss\"][epoch],\n",
    "        \"val_accuracy\": history.history[\"val_accuracy\"][epoch],\n",
    "        \"val_meanIoU\": history.history[\"val_mean_iou\"][epoch],\n",
    "        \"val_precision\": history.history[\"val_precision\"][epoch],\n",
    "        \"val_recall\": history.history[\"val_recall\"][epoch],\n",
    "    })\n",
    "wandb.log_artifact(os.path.join(\"./../../../data/model\", f\"{file_model_name}.h5\"))\n",
    "wandb.finish()\n",
    "api.upload_file(\n",
    "    repo_id=repo.repo_id,\n",
    "    path_or_fileobj=os.path.join(\"./../../../data/model\", f\"{file_model_name}.h5\"),\n",
    "    path_in_repo=f\"model/{file_model_name}.h5\",\n",
    "    repo_type=repo.repo_type,\n",
    "    commit_message=\"initial upload the aug model\",\n",
    ")"
   ]
  }
 ],
 "metadata": {
  "kernelspec": {
   "display_name": "modeling",
   "language": "python",
   "name": "python3"
  },
  "language_info": {
   "codemirror_mode": {
    "name": "ipython",
    "version": 3
   },
   "file_extension": ".py",
   "mimetype": "text/x-python",
   "name": "python",
   "nbconvert_exporter": "python",
   "pygments_lexer": "ipython3",
   "version": "3.9.20"
  }
 },
 "nbformat": 4,
 "nbformat_minor": 2
}
