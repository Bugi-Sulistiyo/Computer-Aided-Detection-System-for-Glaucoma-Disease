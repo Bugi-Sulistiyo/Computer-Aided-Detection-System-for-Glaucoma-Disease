{
 "cells": [
  {
   "cell_type": "markdown",
   "metadata": {},
   "source": [
    "### Import the needed packages"
   ]
  },
  {
   "cell_type": "code",
   "execution_count": 1,
   "metadata": {},
   "outputs": [
    {
     "name": "stderr",
     "output_type": "stream",
     "text": [
      "c:\\Users\\Acer\\miniconda3\\envs\\tf-gpu\\lib\\site-packages\\tensorflow_addons\\utils\\tfa_eol_msg.py:23: UserWarning: \n",
      "\n",
      "TensorFlow Addons (TFA) has ended development and introduction of new features.\n",
      "TFA has entered a minimal maintenance and release mode until a planned end of life in May 2024.\n",
      "Please modify downstream libraries to take dependencies from other repositories in our TensorFlow community (e.g. Keras, Keras-CV, and Keras-NLP). \n",
      "\n",
      "For more information see: https://github.com/tensorflow/addons/issues/2807 \n",
      "\n",
      "  warnings.warn(\n",
      "c:\\Users\\Acer\\miniconda3\\envs\\tf-gpu\\lib\\site-packages\\tensorflow_addons\\utils\\ensure_tf_install.py:53: UserWarning: Tensorflow Addons supports using Python ops for all Tensorflow versions above or equal to 2.12.0 and strictly below 2.15.0 (nightly versions are not supported). \n",
      " The versions of TensorFlow you are currently using is 2.10.1 and is not supported. \n",
      "Some things might work, some things might not.\n",
      "If you were to encounter a bug, do not file an issue.\n",
      "If you want to make sure you're using a tested and supported configuration, either change the TensorFlow version or the TensorFlow Addons's version. \n",
      "You can find the compatibility matrix in TensorFlow Addon's readme:\n",
      "https://github.com/tensorflow/addons\n",
      "  warnings.warn(\n",
      "c:\\Users\\Acer\\miniconda3\\envs\\tf-gpu\\lib\\site-packages\\tqdm\\auto.py:21: TqdmWarning: IProgress not found. Please update jupyter and ipywidgets. See https://ipywidgets.readthedocs.io/en/stable/user_install.html\n",
      "  from .autonotebook import tqdm as notebook_tqdm\n"
     ]
    }
   ],
   "source": [
    "# package for using the the custom scripts \n",
    "import sys\n",
    "sys.path.insert(0, \"./../\")\n",
    "# package for handling files and directories\n",
    "import os\n",
    "# package for handling the training hyperparameter tracking\n",
    "import wandb\n",
    "# a custom package for handling the data\n",
    "import utilities as utils\n",
    "# package for handling the versioning of the models\n",
    "from huggingface_hub import HfApi\n",
    "# package for handling the environment variables\n",
    "from dotenv import load_dotenv\n",
    "# get the environment variables\n",
    "load_dotenv()\n",
    "# set the wandb api to silent\n",
    "os.environ[\"WANDB_SILENT\"] = \"true\""
   ]
  },
  {
   "cell_type": "markdown",
   "metadata": {},
   "source": [
    "### Global variable"
   ]
  },
  {
   "cell_type": "code",
   "execution_count": 2,
   "metadata": {},
   "outputs": [],
   "source": [
    "# store the path\n",
    "path_full = os.environ.get(\"ORI_PATH\")\n",
    "path_dataset_ori = os.path.join(path_full, \"datasets\", \"splitted\", \"original\")\n",
    "path_dataset_aug = os.path.join(path_full, \"datasets\", \"splitted\", \"augmented\")\n",
    "path_model = os.path.join(path_full, \"data\", \"model\")\n",
    "ori_path = {\n",
    "    \"train\": os.path.join(path_dataset_ori, \"train\"),\n",
    "    \"val\": os.path.join(path_dataset_ori, \"val\"),\n",
    "    \"test\": os.path.join(path_dataset_ori, \"test\"),\n",
    "}\n",
    "aug_path = {\n",
    "    \"train\": os.path.join(path_dataset_aug, \"train\"),\n",
    "    \"val\": os.path.join(path_dataset_aug, \"val\"),\n",
    "    \"test\": os.path.join(path_dataset_aug, \"test\"),\n",
    "}\n",
    "# the commit message\n",
    "wandb_init_name = \"retrain the model\"\n",
    "hf_commit_message = \"retrain the model\"\n",
    "# the hyperparameter for the training\n",
    "hyperparam = {\n",
    "    \"batch_size\": 16,\n",
    "    \"epochs\": 50,\n",
    "    \"img_size\": 128,\n",
    "    \"shuffle\": True,\n",
    "    \"model_type\": \"U-net\",\n",
    "    \"metrics\": [\"accuracy\", \"MeanIoU\", \"Precision\", \"Recall\"],\n",
    "    \"split_ratio\": [7,1,2],\n",
    "    \"dataset_balance\": True,\n",
    "    \"weighted_training\": True,\n",
    "}"
   ]
  },
  {
   "cell_type": "markdown",
   "metadata": {},
   "source": [
    "### Import the images and mask"
   ]
  },
  {
   "cell_type": "code",
   "execution_count": 3,
   "metadata": {},
   "outputs": [],
   "source": [
    "# get the original dataset\n",
    "train_ori_img, train_ori_mask = utils.load_img_mask(ori_path[\"train\"])\n",
    "val_ori_img, val_ori_mask = utils.load_img_mask(ori_path[\"val\"])\n",
    "test_ori_img, test_ori_mask = utils.load_img_mask(ori_path[\"test\"])\n",
    "\n",
    "# get the augmented dataset\n",
    "train_aug_img, train_aug_mask = utils.load_img_mask(aug_path[\"train\"])\n",
    "val_aug_img, val_aug_mask = utils.load_img_mask(aug_path[\"val\"])\n",
    "test_aug_img, test_aug_mask = utils.load_img_mask(aug_path[\"test\"])"
   ]
  },
  {
   "cell_type": "markdown",
   "metadata": {},
   "source": [
    "### Create the batched dataset"
   ]
  },
  {
   "cell_type": "code",
   "execution_count": 4,
   "metadata": {},
   "outputs": [],
   "source": [
    "# create the tensor dataset for original dataset\n",
    "trainset_ori = utils.create_dataset(train_ori_img, train_ori_mask, hyperparam[\"img_size\"], hyperparam[\"batch_size\"])\n",
    "valset_ori = utils.create_dataset(val_ori_img, val_ori_mask, hyperparam[\"img_size\"], hyperparam[\"batch_size\"])\n",
    "testset_ori = utils.create_dataset(test_ori_img, test_ori_mask, hyperparam[\"img_size\"], hyperparam[\"batch_size\"])\n",
    "\n",
    "# create the tensor dataset for augmented dataset\n",
    "trainset_aug = utils.create_dataset(train_aug_img, train_aug_mask, hyperparam[\"img_size\"], hyperparam[\"batch_size\"])\n",
    "valset_aug = utils.create_dataset(val_aug_img, val_aug_mask, hyperparam[\"img_size\"], hyperparam[\"batch_size\"])\n",
    "testset_aug = utils.create_dataset(test_aug_img, test_aug_mask, hyperparam[\"img_size\"], hyperparam[\"batch_size\"])"
   ]
  },
  {
   "cell_type": "markdown",
   "metadata": {},
   "source": [
    "### Train model"
   ]
  },
  {
   "cell_type": "markdown",
   "metadata": {},
   "source": [
    "### Unet"
   ]
  },
  {
   "cell_type": "code",
   "execution_count": null,
   "metadata": {},
   "outputs": [],
   "source": [
    "# create the unet model\n",
    "unet_custom = utils.custom_unet()\n",
    "file_model_name = \"unet_model_ori\"\n",
    "# train the model using original dataset\n",
    "unet_custom, history, ev_result = utils.train_model(unet_custom,\n",
    "                                                trainset_ori, valset_ori, testset_ori,\n",
    "                                                path_model, file_model_name,\n",
    "                                                hyperparam[\"epochs\"])\n",
    "# show the evaluation result\n",
    "print(f\"test loss: {ev_result[0]}\", f\"test mean_px_acc: {ev_result[1]}\",\n",
    "        f\"test auc: {ev_result[2]}\", f\"test precision: {ev_result[3]}\",\n",
    "        f\"test recall: {ev_result[4]}\", sep=\"\\n\")"
   ]
  },
  {
   "cell_type": "code",
   "execution_count": null,
   "metadata": {},
   "outputs": [],
   "source": [
    "# initiate the huggingface api \n",
    "api = HfApi()\n",
    "repo = api.create_repo(\"CAD-Glaucoma_Segmentation\", repo_type=\"model\", exist_ok=True)"
   ]
  },
  {
   "cell_type": "code",
   "execution_count": null,
   "metadata": {},
   "outputs": [],
   "source": [
    "# push the model artifact and hyperparameter to wandb\n",
    "## set the hyperparameter for the wandb\n",
    "hyperparam[\"aug\"] = False\n",
    "## initiate the project\n",
    "wandb.init(project=\"CAD - Glaucoma Segmentation\",\n",
    "            name=f\"ori - {wandb_init_name}\",\n",
    "            config=hyperparam)\n",
    "## write the training history and validation result to wandb log\n",
    "for epoch in range(len(history.history[\"loss\"])):\n",
    "    wandb.log({\n",
    "        \"train_loss\": history.history[\"loss\"][epoch],\n",
    "        \"train_accuracy\": history.history[\"mean_px_acc\"][epoch],\n",
    "        \"train_auc\": history.history[\"auc\"][epoch],\n",
    "        \"train_precision\": history.history[\"precision\"][epoch],\n",
    "        \"train_recall\": history.history[\"recall\"][epoch],\n",
    "        \"train_f1\": 2 * (history.history[\"precision\"][epoch] * history.history[\"recall\"][epoch]) / (history.history[\"precision\"][epoch] + history.history[\"recall\"][epoch] + 1e-7),\n",
    "        \"val_loss\": history.history[\"val_loss\"][epoch],\n",
    "        \"val_accuracy\": history.history[\"val_mean_px_acc\"][epoch],\n",
    "        \"val_auc\": history.history[\"val_auc\"][epoch],\n",
    "        \"val_precision\": history.history[\"val_precision\"][epoch],\n",
    "        \"val_recall\": history.history[\"val_recall\"][epoch],\n",
    "        \"val_f1\": 2 * (history.history[\"val_precision\"][epoch] * history.history[\"val_recall\"][epoch]) / (history.history[\"val_precision\"][epoch] + history.history[\"val_recall\"][epoch] + 1e-7),\n",
    "    })\n",
    "## store the model artifact\n",
    "wandb.log_artifact(os.path.join(path_model, f\"{file_model_name}.h5\"))\n",
    "wandb.finish()"
   ]
  },
  {
   "cell_type": "code",
   "execution_count": null,
   "metadata": {},
   "outputs": [],
   "source": [
    "# push the model to the huggingface hub\n",
    "api.upload_file(\n",
    "    repo_id=repo.repo_id,\n",
    "    path_or_fileobj=os.path.join(path_model, f\"{file_model_name}.h5\"),\n",
    "    path_in_repo=f\"model/{file_model_name}.h5\",\n",
    "    repo_type=repo.repo_type,\n",
    "    commit_message=hf_commit_message,\n",
    ")"
   ]
  },
  {
   "cell_type": "code",
   "execution_count": null,
   "metadata": {},
   "outputs": [],
   "source": [
    "# create the unet model\n",
    "unet_custom = utils.custom_unet()\n",
    "file_model_name = \"unet_model_aug\"\n",
    "# train the model using augmented dataset\n",
    "unet_custom, history, ev_result = utils.train_model(unet_custom,\n",
    "                                                trainset_aug, valset_aug, testset_aug,\n",
    "                                                path_model, file_model_name,\n",
    "                                                hyperparam[\"epochs\"])\n",
    "# show the evaluation result \n",
    "print(f\"test loss: {ev_result[0]}\", f\"test mean_px_acc: {ev_result[1]}\",\n",
    "        f\"test auc: {ev_result[2]}\", f\"test precision: {ev_result[3]}\",\n",
    "        f\"test recall: {ev_result[4]}\", sep=\"\\n\")"
   ]
  },
  {
   "cell_type": "code",
   "execution_count": null,
   "metadata": {},
   "outputs": [],
   "source": [
    "# push the model artifact and hyperparameter to wandb\n",
    "## set the hyperparameter for the wandb\n",
    "hyperparam[\"aug\"] = True\n",
    "## initiate the project\n",
    "wandb.init(project=\"CAD - Glaucoma Segmentation\",\n",
    "            name=f\"aug - {wandb_init_name}\",\n",
    "            config=hyperparam)\n",
    "## write the training history and validation result to wandb log\n",
    "for epoch in range(len(history.history[\"loss\"])):\n",
    "    wandb.log({\n",
    "        \"train_loss\": history.history[\"loss\"][epoch],\n",
    "        \"train_accuracy\": history.history[\"mean_px_acc\"][epoch],\n",
    "        \"train_auc\": history.history[\"auc\"][epoch],\n",
    "        \"train_precision\": history.history[\"precision\"][epoch],\n",
    "        \"train_recall\": history.history[\"recall\"][epoch],\n",
    "        \"train_f1\": 2 * (history.history[\"precision\"][epoch] * history.history[\"recall\"][epoch]) / (history.history[\"precision\"][epoch] + history.history[\"recall\"][epoch] + 1e-7),\n",
    "        \"val_loss\": history.history[\"val_loss\"][epoch],\n",
    "        \"val_accuracy\": history.history[\"val_mean_px_acc\"][epoch],\n",
    "        \"val_auc\": history.history[\"val_auc\"][epoch],\n",
    "        \"val_precision\": history.history[\"val_precision\"][epoch],\n",
    "        \"val_recall\": history.history[\"val_recall\"][epoch],\n",
    "        \"val_f1\": 2 * (history.history[\"val_precision\"][epoch] * history.history[\"val_recall\"][epoch]) / (history.history[\"val_precision\"][epoch] + history.history[\"val_recall\"][epoch] + 1e-7),\n",
    "    })\n",
    "## store the model artifact\n",
    "wandb.log_artifact(os.path.join(path_model, f\"{file_model_name}.h5\"))\n",
    "wandb.finish()"
   ]
  },
  {
   "cell_type": "code",
   "execution_count": null,
   "metadata": {},
   "outputs": [],
   "source": [
    "## push the model to the huggingface hub\n",
    "api.upload_file(\n",
    "    repo_id=repo.repo_id,\n",
    "    path_or_fileobj=os.path.join(path_model, f\"{file_model_name}.h5\"),\n",
    "    path_in_repo=f\"model/{file_model_name}.h5\",\n",
    "    repo_type=repo.repo_type,\n",
    "    commit_message=f\"aug - {hf_commit_message}\",\n",
    ")"
   ]
  },
  {
   "cell_type": "markdown",
   "metadata": {},
   "source": [
    "### MobileNet"
   ]
  },
  {
   "cell_type": "code",
   "execution_count": null,
   "metadata": {},
   "outputs": [],
   "source": [
    "# create the unet model\n",
    "mobileNet_ori = utils.mobilenet_model()\n",
    "file_model_name = \"mobileNet_model_ori\"\n",
    "# train the model using original dataset\n",
    "mobileNet_ori, history, ev_result = utils.train_model(mobileNet_ori,\n",
    "                                                trainset_ori, valset_ori, testset_ori,\n",
    "                                                path_model, file_model_name,\n",
    "                                                hyperparam[\"epochs\"])\n",
    "# show the evaluation result\n",
    "print(f\"test loss: {ev_result[0]}\", f\"test mean_px_acc: {ev_result[1]}\",\n",
    "        f\"test auc: {ev_result[2]}\", f\"test precision: {ev_result[3]}\",\n",
    "        f\"test recall: {ev_result[4]}\", sep=\"\\n\")"
   ]
  },
  {
   "cell_type": "code",
   "execution_count": null,
   "metadata": {},
   "outputs": [],
   "source": [
    "mobileNet_ori.save(f\"{file_model_name}.h5\")"
   ]
  },
  {
   "cell_type": "code",
   "execution_count": null,
   "metadata": {},
   "outputs": [],
   "source": [
    "# create the unet model\n",
    "mobileNet_aug = utils.mobilenet_model()\n",
    "file_model_name = \"mobileNet_model_aug\"\n",
    "# train the model using augmented dataset\n",
    "mobileNet_aug, history, ev_result = utils.train_model(mobileNet_aug,\n",
    "                                                trainset_aug, valset_aug, testset_aug,\n",
    "                                                path_model, file_model_name,\n",
    "                                                hyperparam[\"epochs\"])\n",
    "# show the evaluation result\n",
    "print(f\"test loss: {ev_result[0]}\", f\"test mean_px_acc: {ev_result[1]}\",\n",
    "        f\"test auc: {ev_result[2]}\", f\"test precision: {ev_result[3]}\",\n",
    "        f\"test recall: {ev_result[4]}\", sep=\"\\n\")"
   ]
  },
  {
   "cell_type": "code",
   "execution_count": null,
   "metadata": {},
   "outputs": [],
   "source": [
    "mobileNet_aug.save(f\"{file_model_name}.h5\")"
   ]
  },
  {
   "cell_type": "markdown",
   "metadata": {},
   "source": [
    "### EfficientNet"
   ]
  },
  {
   "cell_type": "code",
   "execution_count": 5,
   "metadata": {},
   "outputs": [
    {
     "name": "stdout",
     "output_type": "stream",
     "text": [
      "Epoch 1/50\n",
      "16/16 [==============================] - 34s 546ms/step - loss: 0.0136 - mean_px_acc: 0.3853 - auc: 0.6458 - precision: 0.4720 - recall: 0.3968 - val_loss: 0.0128 - val_mean_px_acc: 0.0659 - val_auc: 0.6374 - val_precision: 0.4446 - val_recall: 0.4158\n",
      "Epoch 2/50\n",
      "16/16 [==============================] - 6s 143ms/step - loss: 0.0097 - mean_px_acc: 0.5144 - auc: 0.7441 - precision: 0.5615 - recall: 0.4257 - val_loss: 0.0130 - val_mean_px_acc: 0.0857 - val_auc: 0.6475 - val_precision: 0.4645 - val_recall: 0.4012\n",
      "Epoch 3/50\n",
      "16/16 [==============================] - 5s 139ms/step - loss: 0.0087 - mean_px_acc: 0.6674 - auc: 0.7901 - precision: 0.6172 - recall: 0.4565 - val_loss: 0.0101 - val_mean_px_acc: 0.3040 - val_auc: 0.7039 - val_precision: 0.5319 - val_recall: 0.3604\n",
      "Epoch 4/50\n",
      "16/16 [==============================] - 5s 129ms/step - loss: 0.0082 - mean_px_acc: 0.7697 - auc: 0.8149 - precision: 0.6424 - recall: 0.4944 - val_loss: 0.0087 - val_mean_px_acc: 0.6288 - val_auc: 0.7591 - val_precision: 1.0000 - val_recall: 0.0324\n",
      "Epoch 5/50\n",
      "16/16 [==============================] - 5s 142ms/step - loss: 0.0078 - mean_px_acc: 0.8216 - auc: 0.8338 - precision: 0.6607 - recall: 0.5229 - val_loss: 0.0093 - val_mean_px_acc: 0.8588 - val_auc: 0.8024 - val_precision: 1.0000 - val_recall: 0.1699\n",
      "Epoch 6/50\n",
      "16/16 [==============================] - 5s 146ms/step - loss: 0.0075 - mean_px_acc: 0.8522 - auc: 0.8503 - precision: 0.6870 - recall: 0.5600 - val_loss: 0.0106 - val_mean_px_acc: 0.9825 - val_auc: 0.5659 - val_precision: 0.8902 - val_recall: 0.2221\n",
      "Epoch 7/50\n",
      "16/16 [==============================] - 5s 141ms/step - loss: 0.0072 - mean_px_acc: 0.8741 - auc: 0.8634 - precision: 0.6983 - recall: 0.5911 - val_loss: 0.0118 - val_mean_px_acc: 0.9824 - val_auc: 0.5353 - val_precision: 0.2760 - val_recall: 0.2760\n",
      "Epoch 8/50\n",
      "16/16 [==============================] - 5s 141ms/step - loss: 0.0070 - mean_px_acc: 0.8904 - auc: 0.8668 - precision: 0.7010 - recall: 0.6052 - val_loss: 0.0117 - val_mean_px_acc: 0.9825 - val_auc: 0.5471 - val_precision: 0.3292 - val_recall: 0.2680\n",
      "Epoch 9/50\n",
      "16/16 [==============================] - 5s 147ms/step - loss: 0.0068 - mean_px_acc: 0.9051 - auc: 0.8776 - precision: 0.7186 - recall: 0.6308 - val_loss: 0.0103 - val_mean_px_acc: 0.9817 - val_auc: 0.5672 - val_precision: 0.7723 - val_recall: 0.2303\n",
      "Epoch 10/50\n",
      "16/16 [==============================] - 5s 136ms/step - loss: 0.0066 - mean_px_acc: 0.9127 - auc: 0.8805 - precision: 0.7148 - recall: 0.6475 - val_loss: 0.0115 - val_mean_px_acc: 0.9826 - val_auc: 0.5643 - val_precision: 0.3758 - val_recall: 0.2708\n",
      "Epoch 11/50\n",
      "16/16 [==============================] - 5s 129ms/step - loss: 0.0063 - mean_px_acc: 0.9278 - auc: 0.8908 - precision: 0.7330 - recall: 0.6629 - val_loss: 0.0126 - val_mean_px_acc: 0.9825 - val_auc: 0.5536 - val_precision: 0.2760 - val_recall: 0.2760\n",
      "Epoch 12/50\n",
      "16/16 [==============================] - 5s 141ms/step - loss: 0.0061 - mean_px_acc: 0.9303 - auc: 0.8969 - precision: 0.7358 - recall: 0.6853 - val_loss: 0.0129 - val_mean_px_acc: 0.9825 - val_auc: 0.5481 - val_precision: 0.2760 - val_recall: 0.2760\n",
      "Epoch 13/50\n",
      "16/16 [==============================] - 5s 142ms/step - loss: 0.0059 - mean_px_acc: 0.9403 - auc: 0.9022 - precision: 0.7403 - recall: 0.6829 - val_loss: 0.0147 - val_mean_px_acc: 0.9825 - val_auc: 0.5464 - val_precision: 0.2795 - val_recall: 0.2759\n",
      "Epoch 14/50\n",
      "16/16 [==============================] - 5s 141ms/step - loss: 0.0058 - mean_px_acc: 0.9432 - auc: 0.9033 - precision: 0.7358 - recall: 0.6980 - val_loss: 0.0167 - val_mean_px_acc: 0.9825 - val_auc: 0.5094 - val_precision: 0.2782 - val_recall: 0.2760\n",
      "Epoch 15/50\n",
      "16/16 [==============================] - 5s 139ms/step - loss: 0.0057 - mean_px_acc: 0.9466 - auc: 0.9064 - precision: 0.7380 - recall: 0.6983 - val_loss: 0.0167 - val_mean_px_acc: 0.9823 - val_auc: 0.5187 - val_precision: 0.2815 - val_recall: 0.2758\n",
      "Epoch 16/50\n",
      "16/16 [==============================] - 5s 140ms/step - loss: 0.0055 - mean_px_acc: 0.9508 - auc: 0.9139 - precision: 0.7582 - recall: 0.7207 - val_loss: 0.0169 - val_mean_px_acc: 0.9825 - val_auc: 0.5263 - val_precision: 0.2965 - val_recall: 0.2755\n",
      "Epoch 17/50\n",
      "16/16 [==============================] - 5s 140ms/step - loss: 0.0055 - mean_px_acc: 0.9545 - auc: 0.9077 - precision: 0.7418 - recall: 0.7053 - val_loss: 0.0201 - val_mean_px_acc: 0.9825 - val_auc: 0.4961 - val_precision: 0.2760 - val_recall: 0.2760\n",
      "Epoch 18/50\n",
      "16/16 [==============================] - 5s 140ms/step - loss: 0.0053 - mean_px_acc: 0.9542 - auc: 0.9178 - precision: 0.7607 - recall: 0.7330 - val_loss: 0.0199 - val_mean_px_acc: 0.9825 - val_auc: 0.5026 - val_precision: 0.2760 - val_recall: 0.2760\n",
      "Epoch 19/50\n",
      "16/16 [==============================] - 5s 138ms/step - loss: 0.0051 - mean_px_acc: 0.9566 - auc: 0.9227 - precision: 0.7683 - recall: 0.7454 - val_loss: 0.0205 - val_mean_px_acc: 0.9825 - val_auc: 0.5025 - val_precision: 0.2760 - val_recall: 0.2760\n",
      "Epoch 20/50\n",
      "16/16 [==============================] - 4s 131ms/step - loss: 0.0051 - mean_px_acc: 0.9596 - auc: 0.9251 - precision: 0.7720 - recall: 0.7493 - val_loss: 0.0184 - val_mean_px_acc: 0.9818 - val_auc: 0.5377 - val_precision: 0.3068 - val_recall: 0.2836\n",
      "Epoch 21/50\n",
      "16/16 [==============================] - 4s 131ms/step - loss: 0.0050 - mean_px_acc: 0.9608 - auc: 0.9278 - precision: 0.7748 - recall: 0.7577 - val_loss: 0.0331 - val_mean_px_acc: 0.9808 - val_auc: 0.4682 - val_precision: 0.2810 - val_recall: 0.2762\n",
      "Epoch 22/50\n",
      "16/16 [==============================] - 4s 129ms/step - loss: 0.0049 - mean_px_acc: 0.9596 - auc: 0.9291 - precision: 0.7798 - recall: 0.7606 - val_loss: 0.0145 - val_mean_px_acc: 0.9734 - val_auc: 0.6391 - val_precision: 0.4071 - val_recall: 0.3762\n",
      "Epoch 23/50\n",
      "16/16 [==============================] - 4s 129ms/step - loss: 0.0049 - mean_px_acc: 0.9636 - auc: 0.9304 - precision: 0.7832 - recall: 0.7647 - val_loss: 0.0187 - val_mean_px_acc: 0.9825 - val_auc: 0.5614 - val_precision: 0.2894 - val_recall: 0.2758\n",
      "Epoch 24/50\n",
      "16/16 [==============================] - 4s 130ms/step - loss: 0.0047 - mean_px_acc: 0.9609 - auc: 0.9346 - precision: 0.7922 - recall: 0.7749 - val_loss: 0.0123 - val_mean_px_acc: 0.9812 - val_auc: 0.6521 - val_precision: 0.3774 - val_recall: 0.3353\n",
      "Epoch 25/50\n",
      "16/16 [==============================] - 4s 128ms/step - loss: 0.0046 - mean_px_acc: 0.9657 - auc: 0.9381 - precision: 0.7974 - recall: 0.7851 - val_loss: 0.0097 - val_mean_px_acc: 0.9779 - val_auc: 0.7701 - val_precision: 0.5841 - val_recall: 0.5259\n",
      "Epoch 26/50\n",
      "16/16 [==============================] - 4s 132ms/step - loss: 0.0045 - mean_px_acc: 0.9652 - auc: 0.9405 - precision: 0.8065 - recall: 0.7958 - val_loss: 0.0215 - val_mean_px_acc: 0.9804 - val_auc: 0.5482 - val_precision: 0.3095 - val_recall: 0.2918\n",
      "Epoch 27/50\n",
      "16/16 [==============================] - 4s 132ms/step - loss: 0.0045 - mean_px_acc: 0.9655 - auc: 0.9407 - precision: 0.7984 - recall: 0.7890 - val_loss: 0.0117 - val_mean_px_acc: 0.9740 - val_auc: 0.7114 - val_precision: 0.5186 - val_recall: 0.4436\n",
      "Epoch 28/50\n",
      "16/16 [==============================] - 5s 136ms/step - loss: 0.0045 - mean_px_acc: 0.9663 - auc: 0.9407 - precision: 0.8001 - recall: 0.7890 - val_loss: 0.0161 - val_mean_px_acc: 0.9812 - val_auc: 0.6404 - val_precision: 0.3924 - val_recall: 0.3658\n",
      "Epoch 29/50\n",
      "16/16 [==============================] - 4s 125ms/step - loss: 0.0044 - mean_px_acc: 0.9658 - auc: 0.9441 - precision: 0.8088 - recall: 0.7982 - val_loss: 0.0145 - val_mean_px_acc: 0.9801 - val_auc: 0.6471 - val_precision: 0.4120 - val_recall: 0.3544\n",
      "Epoch 30/50\n",
      "16/16 [==============================] - 4s 127ms/step - loss: 0.0044 - mean_px_acc: 0.9687 - auc: 0.9421 - precision: 0.8058 - recall: 0.7965 - val_loss: 0.0155 - val_mean_px_acc: 0.9813 - val_auc: 0.6456 - val_precision: 0.4312 - val_recall: 0.3750\n",
      "Epoch 31/50\n",
      "16/16 [==============================] - 4s 134ms/step - loss: 0.0043 - mean_px_acc: 0.9668 - auc: 0.9466 - precision: 0.8165 - recall: 0.8085 - val_loss: 0.0168 - val_mean_px_acc: 0.9800 - val_auc: 0.6386 - val_precision: 0.4168 - val_recall: 0.3851\n",
      "Epoch 32/50\n",
      "16/16 [==============================] - 4s 131ms/step - loss: 0.0042 - mean_px_acc: 0.9679 - auc: 0.9488 - precision: 0.8148 - recall: 0.8068 - val_loss: 0.0214 - val_mean_px_acc: 0.9814 - val_auc: 0.5792 - val_precision: 0.3496 - val_recall: 0.3213\n",
      "Epoch 33/50\n",
      "16/16 [==============================] - 4s 129ms/step - loss: 0.0041 - mean_px_acc: 0.9676 - auc: 0.9522 - precision: 0.8262 - recall: 0.8188 - val_loss: 0.0105 - val_mean_px_acc: 0.9752 - val_auc: 0.7663 - val_precision: 0.5938 - val_recall: 0.5218\n",
      "Epoch 34/50\n",
      "16/16 [==============================] - 4s 125ms/step - loss: 0.0041 - mean_px_acc: 0.9689 - auc: 0.9489 - precision: 0.8214 - recall: 0.8147 - val_loss: 0.0185 - val_mean_px_acc: 0.9828 - val_auc: 0.5896 - val_precision: 0.2917 - val_recall: 0.2759\n",
      "Epoch 35/50\n",
      "16/16 [==============================] - 4s 128ms/step - loss: 0.0042 - mean_px_acc: 0.9690 - auc: 0.9478 - precision: 0.8161 - recall: 0.8092 - val_loss: 0.0084 - val_mean_px_acc: 0.9783 - val_auc: 0.8146 - val_precision: 0.6819 - val_recall: 0.5012\n",
      "Epoch 36/50\n",
      "16/16 [==============================] - 4s 129ms/step - loss: 0.0041 - mean_px_acc: 0.9663 - auc: 0.9501 - precision: 0.8220 - recall: 0.8148 - val_loss: 0.0081 - val_mean_px_acc: 0.9757 - val_auc: 0.8340 - val_precision: 0.6778 - val_recall: 0.5742\n",
      "Epoch 37/50\n",
      "16/16 [==============================] - 5s 140ms/step - loss: 0.0040 - mean_px_acc: 0.9692 - auc: 0.9533 - precision: 0.8280 - recall: 0.8223 - val_loss: 0.0069 - val_mean_px_acc: 0.9707 - val_auc: 0.8668 - val_precision: 0.7311 - val_recall: 0.5987\n",
      "Epoch 38/50\n",
      "16/16 [==============================] - 4s 136ms/step - loss: 0.0039 - mean_px_acc: 0.9697 - auc: 0.9556 - precision: 0.8349 - recall: 0.8279 - val_loss: 0.0086 - val_mean_px_acc: 0.9754 - val_auc: 0.8225 - val_precision: 0.6367 - val_recall: 0.5804\n",
      "Epoch 39/50\n",
      "16/16 [==============================] - 4s 133ms/step - loss: 0.0038 - mean_px_acc: 0.9692 - auc: 0.9573 - precision: 0.8376 - recall: 0.8328 - val_loss: 0.0118 - val_mean_px_acc: 0.9758 - val_auc: 0.7462 - val_precision: 0.5651 - val_recall: 0.4685\n",
      "Epoch 40/50\n",
      "16/16 [==============================] - 4s 128ms/step - loss: 0.0038 - mean_px_acc: 0.9698 - auc: 0.9574 - precision: 0.8385 - recall: 0.8317 - val_loss: 0.0202 - val_mean_px_acc: 0.9823 - val_auc: 0.6247 - val_precision: 0.3932 - val_recall: 0.3516\n",
      "Epoch 41/50\n",
      "16/16 [==============================] - 4s 126ms/step - loss: 0.0039 - mean_px_acc: 0.9708 - auc: 0.9561 - precision: 0.8337 - recall: 0.8294 - val_loss: 0.0089 - val_mean_px_acc: 0.9787 - val_auc: 0.8340 - val_precision: 0.6768 - val_recall: 0.6250\n",
      "Epoch 42/50\n",
      "16/16 [==============================] - 5s 130ms/step - loss: 0.0038 - mean_px_acc: 0.9702 - auc: 0.9574 - precision: 0.8394 - recall: 0.8339 - val_loss: 0.0051 - val_mean_px_acc: 0.9712 - val_auc: 0.9296 - val_precision: 0.7860 - val_recall: 0.7853\n",
      "Epoch 43/50\n",
      "16/16 [==============================] - 4s 130ms/step - loss: 0.0037 - mean_px_acc: 0.9719 - auc: 0.9605 - precision: 0.8459 - recall: 0.8408 - val_loss: 0.0167 - val_mean_px_acc: 0.9794 - val_auc: 0.6683 - val_precision: 0.4612 - val_recall: 0.4205\n",
      "Epoch 44/50\n",
      "16/16 [==============================] - 4s 129ms/step - loss: 0.0036 - mean_px_acc: 0.9710 - auc: 0.9619 - precision: 0.8490 - recall: 0.8444 - val_loss: 0.0247 - val_mean_px_acc: 0.9815 - val_auc: 0.5697 - val_precision: 0.3613 - val_recall: 0.3461\n",
      "Epoch 45/50\n",
      "16/16 [==============================] - 4s 134ms/step - loss: 0.0037 - mean_px_acc: 0.9709 - auc: 0.9588 - precision: 0.8411 - recall: 0.8374 - val_loss: 0.0068 - val_mean_px_acc: 0.9720 - val_auc: 0.8966 - val_precision: 0.7497 - val_recall: 0.7318\n",
      "Epoch 46/50\n",
      "16/16 [==============================] - 4s 130ms/step - loss: 0.0037 - mean_px_acc: 0.9704 - auc: 0.9604 - precision: 0.8438 - recall: 0.8382 - val_loss: 0.0355 - val_mean_px_acc: 0.9825 - val_auc: 0.5003 - val_precision: 0.2760 - val_recall: 0.2760\n",
      "Epoch 47/50\n",
      "16/16 [==============================] - 4s 129ms/step - loss: 0.0037 - mean_px_acc: 0.9723 - auc: 0.9606 - precision: 0.8446 - recall: 0.8407 - val_loss: 0.0377 - val_mean_px_acc: 0.9825 - val_auc: 0.4594 - val_precision: 0.2760 - val_recall: 0.2760\n",
      "Epoch 48/50\n",
      "16/16 [==============================] - 4s 134ms/step - loss: 0.0037 - mean_px_acc: 0.9668 - auc: 0.9593 - precision: 0.8431 - recall: 0.8385 - val_loss: 3.1920 - val_mean_px_acc: 0.9159 - val_auc: 0.4630 - val_precision: 0.2865 - val_recall: 0.2865\n",
      "Epoch 49/50\n",
      "16/16 [==============================] - 4s 132ms/step - loss: 0.0037 - mean_px_acc: 0.9713 - auc: 0.9610 - precision: 0.8487 - recall: 0.8429 - val_loss: 0.0350 - val_mean_px_acc: 0.9806 - val_auc: 0.4688 - val_precision: 0.2766 - val_recall: 0.2750\n",
      "Epoch 50/50\n",
      "16/16 [==============================] - 4s 132ms/step - loss: 0.0036 - mean_px_acc: 0.9716 - auc: 0.9611 - precision: 0.8474 - recall: 0.8421 - val_loss: 0.0398 - val_mean_px_acc: 0.9825 - val_auc: 0.4410 - val_precision: 0.2760 - val_recall: 0.2760\n",
      "test loss: 0.1040273904800415\n",
      "test mean_px_acc: 0.9827583432197571\n",
      "test auc: 0.9859862327575684\n",
      "test precision: 0.9829634428024292\n",
      "test recall: 0.9829634428024292\n"
     ]
    }
   ],
   "source": [
    "# create the unet model\n",
    "efficientNet_ori = utils.efficientNet_model()\n",
    "file_model_name = \"efficientNet_model_ori\"\n",
    "# train the model using original dataset\n",
    "efficientNet_ori, history, ev_result = utils.train_model(efficientNet_ori,\n",
    "                                                trainset_ori, valset_ori, testset_ori,\n",
    "                                                path_model, file_model_name,\n",
    "                                                hyperparam[\"epochs\"])\n",
    "# show the evaluation result\n",
    "print(f\"test loss: {ev_result[0]}\", f\"test mean_px_acc: {ev_result[1]}\",\n",
    "        f\"test auc: {ev_result[2]}\", f\"test precision: {ev_result[3]}\",\n",
    "        f\"test recall: {ev_result[4]}\", sep=\"\\n\")"
   ]
  },
  {
   "cell_type": "code",
   "execution_count": 9,
   "metadata": {},
   "outputs": [
    {
     "name": "stdout",
     "output_type": "stream",
     "text": [
      "Serialization Error: Unable to serialize [2.0896919 2.1128857 2.1081853] to JSON. Unrecognized type <class 'tensorflow.python.framework.ops.EagerTensor'>.\n"
     ]
    },
    {
     "ename": "TypeError",
     "evalue": "Unable to serialize [2.0896919 2.1128857 2.1081853] to JSON. Unrecognized type <class 'tensorflow.python.framework.ops.EagerTensor'>.",
     "output_type": "error",
     "traceback": [
      "\u001b[1;31m---------------------------------------------------------------------------\u001b[0m",
      "\u001b[1;31mTypeError\u001b[0m                                 Traceback (most recent call last)",
      "Cell \u001b[1;32mIn[9], line 6\u001b[0m\n\u001b[0;32m      5\u001b[0m \u001b[38;5;28;01mtry\u001b[39;00m:\n\u001b[1;32m----> 6\u001b[0m     \u001b[43mefficientNet_ori\u001b[49m\u001b[38;5;241;43m.\u001b[39;49m\u001b[43msave\u001b[49m\u001b[43m(\u001b[49m\u001b[38;5;124;43m\"\u001b[39;49m\u001b[38;5;124;43mmy_model.h5\u001b[39;49m\u001b[38;5;124;43m\"\u001b[39;49m\u001b[43m,\u001b[49m\u001b[43m \u001b[49m\u001b[43msave_format\u001b[49m\u001b[38;5;241;43m=\u001b[39;49m\u001b[38;5;124;43m\"\u001b[39;49m\u001b[38;5;124;43mh5\u001b[39;49m\u001b[38;5;124;43m\"\u001b[39;49m\u001b[43m)\u001b[49m\n\u001b[0;32m      7\u001b[0m \u001b[38;5;28;01mexcept\u001b[39;00m \u001b[38;5;167;01mTypeError\u001b[39;00m \u001b[38;5;28;01mas\u001b[39;00m e:\n",
      "File \u001b[1;32mc:\\Users\\Acer\\miniconda3\\envs\\tf-gpu\\lib\\site-packages\\keras\\utils\\traceback_utils.py:70\u001b[0m, in \u001b[0;36mfilter_traceback.<locals>.error_handler\u001b[1;34m(*args, **kwargs)\u001b[0m\n\u001b[0;32m     68\u001b[0m     \u001b[38;5;66;03m# To get the full stack trace, call:\u001b[39;00m\n\u001b[0;32m     69\u001b[0m     \u001b[38;5;66;03m# `tf.debugging.disable_traceback_filtering()`\u001b[39;00m\n\u001b[1;32m---> 70\u001b[0m     \u001b[38;5;28;01mraise\u001b[39;00m e\u001b[38;5;241m.\u001b[39mwith_traceback(filtered_tb) \u001b[38;5;28;01mfrom\u001b[39;00m \u001b[38;5;28;01mNone\u001b[39;00m\n\u001b[0;32m     71\u001b[0m \u001b[38;5;28;01mfinally\u001b[39;00m:\n",
      "File \u001b[1;32mc:\\Users\\Acer\\miniconda3\\envs\\tf-gpu\\lib\\json\\__init__.py:234\u001b[0m, in \u001b[0;36mdumps\u001b[1;34m(obj, skipkeys, ensure_ascii, check_circular, allow_nan, cls, indent, separators, default, sort_keys, **kw)\u001b[0m\n\u001b[0;32m    233\u001b[0m     \u001b[38;5;28mcls\u001b[39m \u001b[38;5;241m=\u001b[39m JSONEncoder\n\u001b[1;32m--> 234\u001b[0m \u001b[38;5;28;01mreturn\u001b[39;00m \u001b[38;5;28;43mcls\u001b[39;49m\u001b[43m(\u001b[49m\n\u001b[0;32m    235\u001b[0m \u001b[43m    \u001b[49m\u001b[43mskipkeys\u001b[49m\u001b[38;5;241;43m=\u001b[39;49m\u001b[43mskipkeys\u001b[49m\u001b[43m,\u001b[49m\u001b[43m \u001b[49m\u001b[43mensure_ascii\u001b[49m\u001b[38;5;241;43m=\u001b[39;49m\u001b[43mensure_ascii\u001b[49m\u001b[43m,\u001b[49m\n\u001b[0;32m    236\u001b[0m \u001b[43m    \u001b[49m\u001b[43mcheck_circular\u001b[49m\u001b[38;5;241;43m=\u001b[39;49m\u001b[43mcheck_circular\u001b[49m\u001b[43m,\u001b[49m\u001b[43m \u001b[49m\u001b[43mallow_nan\u001b[49m\u001b[38;5;241;43m=\u001b[39;49m\u001b[43mallow_nan\u001b[49m\u001b[43m,\u001b[49m\u001b[43m \u001b[49m\u001b[43mindent\u001b[49m\u001b[38;5;241;43m=\u001b[39;49m\u001b[43mindent\u001b[49m\u001b[43m,\u001b[49m\n\u001b[0;32m    237\u001b[0m \u001b[43m    \u001b[49m\u001b[43mseparators\u001b[49m\u001b[38;5;241;43m=\u001b[39;49m\u001b[43mseparators\u001b[49m\u001b[43m,\u001b[49m\u001b[43m \u001b[49m\u001b[43mdefault\u001b[49m\u001b[38;5;241;43m=\u001b[39;49m\u001b[43mdefault\u001b[49m\u001b[43m,\u001b[49m\u001b[43m \u001b[49m\u001b[43msort_keys\u001b[49m\u001b[38;5;241;43m=\u001b[39;49m\u001b[43msort_keys\u001b[49m\u001b[43m,\u001b[49m\n\u001b[0;32m    238\u001b[0m \u001b[43m    \u001b[49m\u001b[38;5;241;43m*\u001b[39;49m\u001b[38;5;241;43m*\u001b[39;49m\u001b[43mkw\u001b[49m\u001b[43m)\u001b[49m\u001b[38;5;241;43m.\u001b[39;49m\u001b[43mencode\u001b[49m\u001b[43m(\u001b[49m\u001b[43mobj\u001b[49m\u001b[43m)\u001b[49m\n",
      "File \u001b[1;32mc:\\Users\\Acer\\miniconda3\\envs\\tf-gpu\\lib\\json\\encoder.py:199\u001b[0m, in \u001b[0;36mJSONEncoder.encode\u001b[1;34m(self, o)\u001b[0m\n\u001b[0;32m    196\u001b[0m \u001b[38;5;66;03m# This doesn't pass the iterator directly to ''.join() because the\u001b[39;00m\n\u001b[0;32m    197\u001b[0m \u001b[38;5;66;03m# exceptions aren't as detailed.  The list call should be roughly\u001b[39;00m\n\u001b[0;32m    198\u001b[0m \u001b[38;5;66;03m# equivalent to the PySequence_Fast that ''.join() would do.\u001b[39;00m\n\u001b[1;32m--> 199\u001b[0m chunks \u001b[38;5;241m=\u001b[39m \u001b[38;5;28;43mself\u001b[39;49m\u001b[38;5;241;43m.\u001b[39;49m\u001b[43miterencode\u001b[49m\u001b[43m(\u001b[49m\u001b[43mo\u001b[49m\u001b[43m,\u001b[49m\u001b[43m \u001b[49m\u001b[43m_one_shot\u001b[49m\u001b[38;5;241;43m=\u001b[39;49m\u001b[38;5;28;43;01mTrue\u001b[39;49;00m\u001b[43m)\u001b[49m\n\u001b[0;32m    200\u001b[0m \u001b[38;5;28;01mif\u001b[39;00m \u001b[38;5;129;01mnot\u001b[39;00m \u001b[38;5;28misinstance\u001b[39m(chunks, (\u001b[38;5;28mlist\u001b[39m, \u001b[38;5;28mtuple\u001b[39m)):\n",
      "File \u001b[1;32mc:\\Users\\Acer\\miniconda3\\envs\\tf-gpu\\lib\\json\\encoder.py:257\u001b[0m, in \u001b[0;36mJSONEncoder.iterencode\u001b[1;34m(self, o, _one_shot)\u001b[0m\n\u001b[0;32m    253\u001b[0m     _iterencode \u001b[38;5;241m=\u001b[39m _make_iterencode(\n\u001b[0;32m    254\u001b[0m         markers, \u001b[38;5;28mself\u001b[39m\u001b[38;5;241m.\u001b[39mdefault, _encoder, \u001b[38;5;28mself\u001b[39m\u001b[38;5;241m.\u001b[39mindent, floatstr,\n\u001b[0;32m    255\u001b[0m         \u001b[38;5;28mself\u001b[39m\u001b[38;5;241m.\u001b[39mkey_separator, \u001b[38;5;28mself\u001b[39m\u001b[38;5;241m.\u001b[39mitem_separator, \u001b[38;5;28mself\u001b[39m\u001b[38;5;241m.\u001b[39msort_keys,\n\u001b[0;32m    256\u001b[0m         \u001b[38;5;28mself\u001b[39m\u001b[38;5;241m.\u001b[39mskipkeys, _one_shot)\n\u001b[1;32m--> 257\u001b[0m \u001b[38;5;28;01mreturn\u001b[39;00m \u001b[43m_iterencode\u001b[49m\u001b[43m(\u001b[49m\u001b[43mo\u001b[49m\u001b[43m,\u001b[49m\u001b[43m \u001b[49m\u001b[38;5;241;43m0\u001b[39;49m\u001b[43m)\u001b[49m\n",
      "\u001b[1;31mTypeError\u001b[0m: Unable to serialize [2.0896919 2.1128857 2.1081853] to JSON. Unrecognized type <class 'tensorflow.python.framework.ops.EagerTensor'>.",
      "\nDuring handling of the above exception, another exception occurred:\n",
      "\u001b[1;31mTypeError\u001b[0m                                 Traceback (most recent call last)",
      "Cell \u001b[1;32mIn[9], line 11\u001b[0m\n\u001b[0;32m      9\u001b[0m \u001b[38;5;66;03m# Simpan struktur model untuk investigasi\u001b[39;00m\n\u001b[0;32m     10\u001b[0m \u001b[38;5;28;01mwith\u001b[39;00m \u001b[38;5;28mopen\u001b[39m(\u001b[38;5;124m\"\u001b[39m\u001b[38;5;124mmodel_structure.json\u001b[39m\u001b[38;5;124m\"\u001b[39m, \u001b[38;5;124m\"\u001b[39m\u001b[38;5;124mw\u001b[39m\u001b[38;5;124m\"\u001b[39m) \u001b[38;5;28;01mas\u001b[39;00m f:\n\u001b[1;32m---> 11\u001b[0m     f\u001b[38;5;241m.\u001b[39mwrite(\u001b[43mefficientNet_ori\u001b[49m\u001b[38;5;241;43m.\u001b[39;49m\u001b[43mto_json\u001b[49m\u001b[43m(\u001b[49m\u001b[43m)\u001b[49m)\n",
      "File \u001b[1;32mc:\\Users\\Acer\\miniconda3\\envs\\tf-gpu\\lib\\site-packages\\keras\\engine\\training.py:3087\u001b[0m, in \u001b[0;36mModel.to_json\u001b[1;34m(self, **kwargs)\u001b[0m\n\u001b[0;32m   3074\u001b[0m \u001b[38;5;250m\u001b[39m\u001b[38;5;124;03m\"\"\"Returns a JSON string containing the network configuration.\u001b[39;00m\n\u001b[0;32m   3075\u001b[0m \n\u001b[0;32m   3076\u001b[0m \u001b[38;5;124;03mTo load a network from a JSON save file, use\u001b[39;00m\n\u001b[1;32m   (...)\u001b[0m\n\u001b[0;32m   3084\u001b[0m \u001b[38;5;124;03m    A JSON string.\u001b[39;00m\n\u001b[0;32m   3085\u001b[0m \u001b[38;5;124;03m\"\"\"\u001b[39;00m\n\u001b[0;32m   3086\u001b[0m model_config \u001b[38;5;241m=\u001b[39m \u001b[38;5;28mself\u001b[39m\u001b[38;5;241m.\u001b[39m_updated_config()\n\u001b[1;32m-> 3087\u001b[0m \u001b[38;5;28;01mreturn\u001b[39;00m json\u001b[38;5;241m.\u001b[39mdumps(\n\u001b[0;32m   3088\u001b[0m     model_config, default\u001b[38;5;241m=\u001b[39mjson_utils\u001b[38;5;241m.\u001b[39mget_json_type, \u001b[38;5;241m*\u001b[39m\u001b[38;5;241m*\u001b[39mkwargs\n\u001b[0;32m   3089\u001b[0m )\n",
      "File \u001b[1;32mc:\\Users\\Acer\\miniconda3\\envs\\tf-gpu\\lib\\json\\__init__.py:234\u001b[0m, in \u001b[0;36mdumps\u001b[1;34m(obj, skipkeys, ensure_ascii, check_circular, allow_nan, cls, indent, separators, default, sort_keys, **kw)\u001b[0m\n\u001b[0;32m    232\u001b[0m \u001b[38;5;28;01mif\u001b[39;00m \u001b[38;5;28mcls\u001b[39m \u001b[38;5;129;01mis\u001b[39;00m \u001b[38;5;28;01mNone\u001b[39;00m:\n\u001b[0;32m    233\u001b[0m     \u001b[38;5;28mcls\u001b[39m \u001b[38;5;241m=\u001b[39m JSONEncoder\n\u001b[1;32m--> 234\u001b[0m \u001b[38;5;28;01mreturn\u001b[39;00m \u001b[38;5;28;43mcls\u001b[39;49m\u001b[43m(\u001b[49m\n\u001b[0;32m    235\u001b[0m \u001b[43m    \u001b[49m\u001b[43mskipkeys\u001b[49m\u001b[38;5;241;43m=\u001b[39;49m\u001b[43mskipkeys\u001b[49m\u001b[43m,\u001b[49m\u001b[43m \u001b[49m\u001b[43mensure_ascii\u001b[49m\u001b[38;5;241;43m=\u001b[39;49m\u001b[43mensure_ascii\u001b[49m\u001b[43m,\u001b[49m\n\u001b[0;32m    236\u001b[0m \u001b[43m    \u001b[49m\u001b[43mcheck_circular\u001b[49m\u001b[38;5;241;43m=\u001b[39;49m\u001b[43mcheck_circular\u001b[49m\u001b[43m,\u001b[49m\u001b[43m \u001b[49m\u001b[43mallow_nan\u001b[49m\u001b[38;5;241;43m=\u001b[39;49m\u001b[43mallow_nan\u001b[49m\u001b[43m,\u001b[49m\u001b[43m \u001b[49m\u001b[43mindent\u001b[49m\u001b[38;5;241;43m=\u001b[39;49m\u001b[43mindent\u001b[49m\u001b[43m,\u001b[49m\n\u001b[0;32m    237\u001b[0m \u001b[43m    \u001b[49m\u001b[43mseparators\u001b[49m\u001b[38;5;241;43m=\u001b[39;49m\u001b[43mseparators\u001b[49m\u001b[43m,\u001b[49m\u001b[43m \u001b[49m\u001b[43mdefault\u001b[49m\u001b[38;5;241;43m=\u001b[39;49m\u001b[43mdefault\u001b[49m\u001b[43m,\u001b[49m\u001b[43m \u001b[49m\u001b[43msort_keys\u001b[49m\u001b[38;5;241;43m=\u001b[39;49m\u001b[43msort_keys\u001b[49m\u001b[43m,\u001b[49m\n\u001b[0;32m    238\u001b[0m \u001b[43m    \u001b[49m\u001b[38;5;241;43m*\u001b[39;49m\u001b[38;5;241;43m*\u001b[39;49m\u001b[43mkw\u001b[49m\u001b[43m)\u001b[49m\u001b[38;5;241;43m.\u001b[39;49m\u001b[43mencode\u001b[49m\u001b[43m(\u001b[49m\u001b[43mobj\u001b[49m\u001b[43m)\u001b[49m\n",
      "File \u001b[1;32mc:\\Users\\Acer\\miniconda3\\envs\\tf-gpu\\lib\\json\\encoder.py:199\u001b[0m, in \u001b[0;36mJSONEncoder.encode\u001b[1;34m(self, o)\u001b[0m\n\u001b[0;32m    195\u001b[0m         \u001b[38;5;28;01mreturn\u001b[39;00m encode_basestring(o)\n\u001b[0;32m    196\u001b[0m \u001b[38;5;66;03m# This doesn't pass the iterator directly to ''.join() because the\u001b[39;00m\n\u001b[0;32m    197\u001b[0m \u001b[38;5;66;03m# exceptions aren't as detailed.  The list call should be roughly\u001b[39;00m\n\u001b[0;32m    198\u001b[0m \u001b[38;5;66;03m# equivalent to the PySequence_Fast that ''.join() would do.\u001b[39;00m\n\u001b[1;32m--> 199\u001b[0m chunks \u001b[38;5;241m=\u001b[39m \u001b[38;5;28;43mself\u001b[39;49m\u001b[38;5;241;43m.\u001b[39;49m\u001b[43miterencode\u001b[49m\u001b[43m(\u001b[49m\u001b[43mo\u001b[49m\u001b[43m,\u001b[49m\u001b[43m \u001b[49m\u001b[43m_one_shot\u001b[49m\u001b[38;5;241;43m=\u001b[39;49m\u001b[38;5;28;43;01mTrue\u001b[39;49;00m\u001b[43m)\u001b[49m\n\u001b[0;32m    200\u001b[0m \u001b[38;5;28;01mif\u001b[39;00m \u001b[38;5;129;01mnot\u001b[39;00m \u001b[38;5;28misinstance\u001b[39m(chunks, (\u001b[38;5;28mlist\u001b[39m, \u001b[38;5;28mtuple\u001b[39m)):\n\u001b[0;32m    201\u001b[0m     chunks \u001b[38;5;241m=\u001b[39m \u001b[38;5;28mlist\u001b[39m(chunks)\n",
      "File \u001b[1;32mc:\\Users\\Acer\\miniconda3\\envs\\tf-gpu\\lib\\json\\encoder.py:257\u001b[0m, in \u001b[0;36mJSONEncoder.iterencode\u001b[1;34m(self, o, _one_shot)\u001b[0m\n\u001b[0;32m    252\u001b[0m \u001b[38;5;28;01melse\u001b[39;00m:\n\u001b[0;32m    253\u001b[0m     _iterencode \u001b[38;5;241m=\u001b[39m _make_iterencode(\n\u001b[0;32m    254\u001b[0m         markers, \u001b[38;5;28mself\u001b[39m\u001b[38;5;241m.\u001b[39mdefault, _encoder, \u001b[38;5;28mself\u001b[39m\u001b[38;5;241m.\u001b[39mindent, floatstr,\n\u001b[0;32m    255\u001b[0m         \u001b[38;5;28mself\u001b[39m\u001b[38;5;241m.\u001b[39mkey_separator, \u001b[38;5;28mself\u001b[39m\u001b[38;5;241m.\u001b[39mitem_separator, \u001b[38;5;28mself\u001b[39m\u001b[38;5;241m.\u001b[39msort_keys,\n\u001b[0;32m    256\u001b[0m         \u001b[38;5;28mself\u001b[39m\u001b[38;5;241m.\u001b[39mskipkeys, _one_shot)\n\u001b[1;32m--> 257\u001b[0m \u001b[38;5;28;01mreturn\u001b[39;00m \u001b[43m_iterencode\u001b[49m\u001b[43m(\u001b[49m\u001b[43mo\u001b[49m\u001b[43m,\u001b[49m\u001b[43m \u001b[49m\u001b[38;5;241;43m0\u001b[39;49m\u001b[43m)\u001b[49m\n",
      "File \u001b[1;32mc:\\Users\\Acer\\miniconda3\\envs\\tf-gpu\\lib\\site-packages\\keras\\saving\\saved_model\\json_utils.py:221\u001b[0m, in \u001b[0;36mget_json_type\u001b[1;34m(obj)\u001b[0m\n\u001b[0;32m    218\u001b[0m \u001b[38;5;28;01mif\u001b[39;00m \u001b[38;5;28misinstance\u001b[39m(obj, enum\u001b[38;5;241m.\u001b[39mEnum):\n\u001b[0;32m    219\u001b[0m     \u001b[38;5;28;01mreturn\u001b[39;00m obj\u001b[38;5;241m.\u001b[39mvalue\n\u001b[1;32m--> 221\u001b[0m \u001b[38;5;28;01mraise\u001b[39;00m \u001b[38;5;167;01mTypeError\u001b[39;00m(\n\u001b[0;32m    222\u001b[0m     \u001b[38;5;124mf\u001b[39m\u001b[38;5;124m\"\u001b[39m\u001b[38;5;124mUnable to serialize \u001b[39m\u001b[38;5;132;01m{\u001b[39;00mobj\u001b[38;5;132;01m}\u001b[39;00m\u001b[38;5;124m to JSON. Unrecognized type \u001b[39m\u001b[38;5;132;01m{\u001b[39;00m\u001b[38;5;28mtype\u001b[39m(obj)\u001b[38;5;132;01m}\u001b[39;00m\u001b[38;5;124m.\u001b[39m\u001b[38;5;124m\"\u001b[39m\n\u001b[0;32m    223\u001b[0m )\n",
      "\u001b[1;31mTypeError\u001b[0m: Unable to serialize [2.0896919 2.1128857 2.1081853] to JSON. Unrecognized type <class 'tensorflow.python.framework.ops.EagerTensor'>."
     ]
    }
   ],
   "source": [
    "# efficientNet_ori.save(f\"{file_model_name}.h5\", save_format=\"h5\")\n",
    "\n",
    "import json\n",
    "\n",
    "try:\n",
    "    efficientNet_ori.save(\"my_model.h5\", save_format=\"h5\")\n",
    "except TypeError as e:\n",
    "    print(\"Serialization Error:\", str(e))\n",
    "    # Simpan struktur model untuk investigasi\n",
    "    with open(\"model_structure.json\", \"w\") as f:\n",
    "        f.write(efficientNet_ori.to_json())"
   ]
  },
  {
   "cell_type": "code",
   "execution_count": 11,
   "metadata": {},
   "outputs": [
    {
     "name": "stdout",
     "output_type": "stream",
     "text": [
      "Epoch 1/50\n",
      "16/16 [==============================] - 17s 276ms/step - loss: 0.0142 - mean_px_acc: 0.3501 - auc: 0.6256 - precision: 0.4375 - recall: 0.3765 - val_loss: 0.0167 - val_mean_px_acc: 0.0898 - val_auc: 0.6364 - val_precision: 0.4336 - val_recall: 0.4255\n",
      "Epoch 2/50\n",
      "16/16 [==============================] - 3s 115ms/step - loss: 0.0103 - mean_px_acc: 0.4170 - auc: 0.7206 - precision: 0.5266 - recall: 0.4424 - val_loss: 0.0155 - val_mean_px_acc: 0.0749 - val_auc: 0.6272 - val_precision: 0.4291 - val_recall: 0.4089\n",
      "Epoch 3/50\n",
      "16/16 [==============================] - 3s 110ms/step - loss: 0.0093 - mean_px_acc: 0.4883 - auc: 0.7542 - precision: 0.5749 - recall: 0.4391 - val_loss: 0.0133 - val_mean_px_acc: 0.0674 - val_auc: 0.6301 - val_precision: 0.4331 - val_recall: 0.4012\n",
      "Epoch 4/50\n",
      "16/16 [==============================] - 3s 111ms/step - loss: 0.0087 - mean_px_acc: 0.5809 - auc: 0.7784 - precision: 0.6051 - recall: 0.4393 - val_loss: 0.0096 - val_mean_px_acc: 0.3295 - val_auc: 0.6998 - val_precision: 0.5070 - val_recall: 0.4231\n",
      "Epoch 5/50\n",
      "16/16 [==============================] - 3s 115ms/step - loss: 0.0082 - mean_px_acc: 0.6873 - auc: 0.8091 - precision: 0.6472 - recall: 0.4774 - val_loss: 0.0091 - val_mean_px_acc: 0.8122 - val_auc: 0.8145 - val_precision: 0.9988 - val_recall: 0.1361\n",
      "Epoch 6/50\n",
      "16/16 [==============================] - 3s 113ms/step - loss: 0.0078 - mean_px_acc: 0.7555 - auc: 0.8286 - precision: 0.6624 - recall: 0.5100 - val_loss: 0.0092 - val_mean_px_acc: 0.8767 - val_auc: 0.8004 - val_precision: 0.9960 - val_recall: 0.1567\n",
      "Epoch 7/50\n",
      "16/16 [==============================] - 3s 118ms/step - loss: 0.0074 - mean_px_acc: 0.8107 - auc: 0.8501 - precision: 0.6945 - recall: 0.5540 - val_loss: 0.0103 - val_mean_px_acc: 0.9825 - val_auc: 0.6021 - val_precision: 0.8266 - val_recall: 0.2357\n",
      "Epoch 8/50\n",
      "16/16 [==============================] - 3s 112ms/step - loss: 0.0072 - mean_px_acc: 0.8322 - auc: 0.8577 - precision: 0.7039 - recall: 0.5851 - val_loss: 0.0120 - val_mean_px_acc: 0.9825 - val_auc: 0.5938 - val_precision: 0.2760 - val_recall: 0.2760\n",
      "Epoch 9/50\n",
      "16/16 [==============================] - 3s 108ms/step - loss: 0.0070 - mean_px_acc: 0.8678 - auc: 0.8669 - precision: 0.7078 - recall: 0.5938 - val_loss: 0.0130 - val_mean_px_acc: 0.9825 - val_auc: 0.5800 - val_precision: 0.2760 - val_recall: 0.2760\n",
      "Epoch 10/50\n",
      "16/16 [==============================] - 3s 112ms/step - loss: 0.0067 - mean_px_acc: 0.8813 - auc: 0.8751 - precision: 0.7166 - recall: 0.6236 - val_loss: 0.0120 - val_mean_px_acc: 0.9825 - val_auc: 0.5879 - val_precision: 0.3186 - val_recall: 0.2748\n",
      "Epoch 11/50\n",
      "16/16 [==============================] - 3s 116ms/step - loss: 0.0065 - mean_px_acc: 0.8987 - auc: 0.8833 - precision: 0.7242 - recall: 0.6467 - val_loss: 0.0136 - val_mean_px_acc: 0.9825 - val_auc: 0.5826 - val_precision: 0.2760 - val_recall: 0.2760\n",
      "Epoch 12/50\n",
      "16/16 [==============================] - 3s 108ms/step - loss: 0.0063 - mean_px_acc: 0.9135 - auc: 0.8899 - precision: 0.7303 - recall: 0.6540 - val_loss: 0.0171 - val_mean_px_acc: 0.9825 - val_auc: 0.5517 - val_precision: 0.2760 - val_recall: 0.2760\n",
      "Epoch 13/50\n",
      "16/16 [==============================] - 3s 115ms/step - loss: 0.0061 - mean_px_acc: 0.9218 - auc: 0.8952 - precision: 0.7411 - recall: 0.6702 - val_loss: 0.0196 - val_mean_px_acc: 0.9825 - val_auc: 0.4951 - val_precision: 0.2760 - val_recall: 0.2760\n",
      "Epoch 14/50\n",
      "16/16 [==============================] - 3s 110ms/step - loss: 0.0060 - mean_px_acc: 0.9273 - auc: 0.8994 - precision: 0.7411 - recall: 0.6870 - val_loss: 0.0177 - val_mean_px_acc: 0.9825 - val_auc: 0.5460 - val_precision: 0.2760 - val_recall: 0.2760\n",
      "Epoch 15/50\n",
      "16/16 [==============================] - 3s 112ms/step - loss: 0.0059 - mean_px_acc: 0.9373 - auc: 0.9013 - precision: 0.7429 - recall: 0.6905 - val_loss: 0.0186 - val_mean_px_acc: 0.9825 - val_auc: 0.5377 - val_precision: 0.2760 - val_recall: 0.2760\n",
      "Epoch 16/50\n",
      "16/16 [==============================] - 3s 114ms/step - loss: 0.0058 - mean_px_acc: 0.9360 - auc: 0.9040 - precision: 0.7480 - recall: 0.7051 - val_loss: 0.0170 - val_mean_px_acc: 0.9813 - val_auc: 0.5484 - val_precision: 0.3058 - val_recall: 0.2741\n",
      "Epoch 17/50\n",
      "16/16 [==============================] - 3s 120ms/step - loss: 0.0055 - mean_px_acc: 0.9464 - auc: 0.9111 - precision: 0.7525 - recall: 0.7089 - val_loss: 0.0208 - val_mean_px_acc: 0.9820 - val_auc: 0.5062 - val_precision: 0.2757 - val_recall: 0.2756\n",
      "Epoch 18/50\n",
      "16/16 [==============================] - 3s 112ms/step - loss: 0.0054 - mean_px_acc: 0.9461 - auc: 0.9173 - precision: 0.7642 - recall: 0.7251 - val_loss: 0.0195 - val_mean_px_acc: 0.9815 - val_auc: 0.5618 - val_precision: 0.2874 - val_recall: 0.2752\n",
      "Epoch 19/50\n",
      "16/16 [==============================] - 3s 111ms/step - loss: 0.0052 - mean_px_acc: 0.9536 - auc: 0.9197 - precision: 0.7692 - recall: 0.7372 - val_loss: 0.0226 - val_mean_px_acc: 0.9825 - val_auc: 0.5355 - val_precision: 0.2760 - val_recall: 0.2760\n",
      "Epoch 20/50\n",
      "16/16 [==============================] - 3s 115ms/step - loss: 0.0052 - mean_px_acc: 0.9556 - auc: 0.9228 - precision: 0.7758 - recall: 0.7480 - val_loss: 0.0223 - val_mean_px_acc: 0.9824 - val_auc: 0.5434 - val_precision: 0.2770 - val_recall: 0.2759\n",
      "Epoch 21/50\n",
      "16/16 [==============================] - 3s 115ms/step - loss: 0.0051 - mean_px_acc: 0.9530 - auc: 0.9238 - precision: 0.7744 - recall: 0.7485 - val_loss: 0.0256 - val_mean_px_acc: 0.9825 - val_auc: 0.5018 - val_precision: 0.2760 - val_recall: 0.2760\n",
      "Epoch 22/50\n",
      "16/16 [==============================] - 3s 117ms/step - loss: 0.0051 - mean_px_acc: 0.9545 - auc: 0.9239 - precision: 0.7701 - recall: 0.7428 - val_loss: 0.0280 - val_mean_px_acc: 0.9825 - val_auc: 0.4700 - val_precision: 0.2760 - val_recall: 0.2760\n",
      "Epoch 23/50\n",
      "16/16 [==============================] - 3s 118ms/step - loss: 0.0049 - mean_px_acc: 0.9561 - auc: 0.9282 - precision: 0.7755 - recall: 0.7539 - val_loss: 0.0230 - val_mean_px_acc: 0.9825 - val_auc: 0.5493 - val_precision: 0.2761 - val_recall: 0.2760\n",
      "Epoch 24/50\n",
      "16/16 [==============================] - 3s 113ms/step - loss: 0.0050 - mean_px_acc: 0.9555 - auc: 0.9256 - precision: 0.7751 - recall: 0.7547 - val_loss: 0.0274 - val_mean_px_acc: 0.9825 - val_auc: 0.4595 - val_precision: 0.2760 - val_recall: 0.2760\n",
      "Epoch 25/50\n",
      "16/16 [==============================] - 3s 116ms/step - loss: 0.0048 - mean_px_acc: 0.9607 - auc: 0.9316 - precision: 0.7854 - recall: 0.7669 - val_loss: 0.0285 - val_mean_px_acc: 0.9825 - val_auc: 0.4916 - val_precision: 0.2760 - val_recall: 0.2760\n",
      "Epoch 26/50\n",
      "16/16 [==============================] - 3s 114ms/step - loss: 0.0048 - mean_px_acc: 0.9599 - auc: 0.9302 - precision: 0.7792 - recall: 0.7592 - val_loss: 0.0298 - val_mean_px_acc: 0.9825 - val_auc: 0.4705 - val_precision: 0.2760 - val_recall: 0.2760\n",
      "Epoch 27/50\n",
      "16/16 [==============================] - 3s 110ms/step - loss: 0.0047 - mean_px_acc: 0.9577 - auc: 0.9345 - precision: 0.7922 - recall: 0.7758 - val_loss: 0.0315 - val_mean_px_acc: 0.9825 - val_auc: 0.3987 - val_precision: 0.2760 - val_recall: 0.2760\n",
      "Epoch 28/50\n",
      "16/16 [==============================] - 3s 113ms/step - loss: 0.0046 - mean_px_acc: 0.9597 - auc: 0.9382 - precision: 0.7965 - recall: 0.7819 - val_loss: 0.0305 - val_mean_px_acc: 0.9825 - val_auc: 0.4749 - val_precision: 0.2760 - val_recall: 0.2760\n",
      "Epoch 29/50\n",
      "16/16 [==============================] - 3s 109ms/step - loss: 0.0046 - mean_px_acc: 0.9631 - auc: 0.9373 - precision: 0.7974 - recall: 0.7826 - val_loss: 0.0309 - val_mean_px_acc: 0.9825 - val_auc: 0.4916 - val_precision: 0.2760 - val_recall: 0.2760\n",
      "Epoch 30/50\n",
      "16/16 [==============================] - 3s 114ms/step - loss: 0.0046 - mean_px_acc: 0.9609 - auc: 0.9383 - precision: 0.7963 - recall: 0.7845 - val_loss: 0.0308 - val_mean_px_acc: 0.9825 - val_auc: 0.4905 - val_precision: 0.2760 - val_recall: 0.2760\n",
      "Epoch 31/50\n",
      "16/16 [==============================] - 3s 119ms/step - loss: 0.0045 - mean_px_acc: 0.9617 - auc: 0.9410 - precision: 0.8040 - recall: 0.7927 - val_loss: 0.0328 - val_mean_px_acc: 0.9825 - val_auc: 0.4385 - val_precision: 0.2760 - val_recall: 0.2760\n",
      "Epoch 32/50\n",
      "16/16 [==============================] - 3s 111ms/step - loss: 0.0043 - mean_px_acc: 0.9651 - auc: 0.9469 - precision: 0.8177 - recall: 0.8058 - val_loss: 0.0161 - val_mean_px_acc: 0.9804 - val_auc: 0.6365 - val_precision: 0.3881 - val_recall: 0.3187\n",
      "Epoch 33/50\n",
      "16/16 [==============================] - 3s 120ms/step - loss: 0.0044 - mean_px_acc: 0.9660 - auc: 0.9428 - precision: 0.8081 - recall: 0.7993 - val_loss: 0.0336 - val_mean_px_acc: 0.9825 - val_auc: 0.4600 - val_precision: 0.2760 - val_recall: 0.2760\n",
      "Epoch 34/50\n",
      "16/16 [==============================] - 3s 110ms/step - loss: 0.0043 - mean_px_acc: 0.9603 - auc: 0.9476 - precision: 0.8169 - recall: 0.8094 - val_loss: 0.0327 - val_mean_px_acc: 0.9825 - val_auc: 0.4371 - val_precision: 0.2760 - val_recall: 0.2760\n",
      "Epoch 35/50\n",
      "16/16 [==============================] - 3s 116ms/step - loss: 0.0041 - mean_px_acc: 0.9683 - auc: 0.9496 - precision: 0.8244 - recall: 0.8140 - val_loss: 0.0331 - val_mean_px_acc: 0.9825 - val_auc: 0.5053 - val_precision: 0.2766 - val_recall: 0.2760\n",
      "Epoch 36/50\n",
      "16/16 [==============================] - 3s 115ms/step - loss: 0.0043 - mean_px_acc: 0.9651 - auc: 0.9453 - precision: 0.8118 - recall: 0.8012 - val_loss: 0.0340 - val_mean_px_acc: 0.9825 - val_auc: 0.4546 - val_precision: 0.2760 - val_recall: 0.2760\n",
      "Epoch 37/50\n",
      "16/16 [==============================] - 3s 113ms/step - loss: 0.0041 - mean_px_acc: 0.9667 - auc: 0.9517 - precision: 0.8283 - recall: 0.8212 - val_loss: 0.0146 - val_mean_px_acc: 0.9822 - val_auc: 0.6992 - val_precision: 0.4826 - val_recall: 0.4396\n",
      "Epoch 38/50\n",
      "16/16 [==============================] - 3s 116ms/step - loss: 0.0040 - mean_px_acc: 0.9668 - auc: 0.9538 - precision: 0.8332 - recall: 0.8252 - val_loss: 0.0308 - val_mean_px_acc: 0.9825 - val_auc: 0.5107 - val_precision: 0.2760 - val_recall: 0.2760\n",
      "Epoch 39/50\n",
      "16/16 [==============================] - 3s 117ms/step - loss: 0.0040 - mean_px_acc: 0.9683 - auc: 0.9523 - precision: 0.8300 - recall: 0.8230 - val_loss: 0.0064 - val_mean_px_acc: 0.9736 - val_auc: 0.8987 - val_precision: 0.7353 - val_recall: 0.7234\n",
      "Epoch 40/50\n",
      "16/16 [==============================] - 3s 120ms/step - loss: 0.0041 - mean_px_acc: 0.9643 - auc: 0.9492 - precision: 0.8197 - recall: 0.8132 - val_loss: 0.0371 - val_mean_px_acc: 0.9826 - val_auc: 0.4530 - val_precision: 0.2760 - val_recall: 0.2760\n",
      "Epoch 41/50\n",
      "16/16 [==============================] - 3s 114ms/step - loss: 0.0039 - mean_px_acc: 0.9679 - auc: 0.9547 - precision: 0.8291 - recall: 0.8242 - val_loss: 0.0379 - val_mean_px_acc: 0.9825 - val_auc: 0.4505 - val_precision: 0.2760 - val_recall: 0.2760\n",
      "Epoch 42/50\n",
      "16/16 [==============================] - 3s 114ms/step - loss: 0.0037 - mean_px_acc: 0.9702 - auc: 0.9591 - precision: 0.8429 - recall: 0.8362 - val_loss: 0.0385 - val_mean_px_acc: 0.9825 - val_auc: 0.4537 - val_precision: 0.2760 - val_recall: 0.2760\n",
      "Epoch 43/50\n",
      "16/16 [==============================] - 3s 117ms/step - loss: 0.0038 - mean_px_acc: 0.9691 - auc: 0.9569 - precision: 0.8370 - recall: 0.8326 - val_loss: 0.0381 - val_mean_px_acc: 0.9825 - val_auc: 0.4009 - val_precision: 0.2760 - val_recall: 0.2760\n",
      "Epoch 44/50\n",
      "16/16 [==============================] - 3s 118ms/step - loss: 0.0038 - mean_px_acc: 0.9689 - auc: 0.9577 - precision: 0.8405 - recall: 0.8343 - val_loss: 0.0367 - val_mean_px_acc: 0.9825 - val_auc: 0.4507 - val_precision: 0.2760 - val_recall: 0.2760\n",
      "Epoch 45/50\n",
      "16/16 [==============================] - 3s 118ms/step - loss: 0.0037 - mean_px_acc: 0.9684 - auc: 0.9592 - precision: 0.8446 - recall: 0.8386 - val_loss: 0.0352 - val_mean_px_acc: 0.9823 - val_auc: 0.4919 - val_precision: 0.2775 - val_recall: 0.2762\n",
      "Epoch 46/50\n",
      "16/16 [==============================] - 3s 113ms/step - loss: 0.0037 - mean_px_acc: 0.9683 - auc: 0.9589 - precision: 0.8383 - recall: 0.8342 - val_loss: 0.0309 - val_mean_px_acc: 0.9824 - val_auc: 0.5288 - val_precision: 0.3004 - val_recall: 0.2943\n",
      "Epoch 47/50\n",
      "16/16 [==============================] - 3s 115ms/step - loss: 0.0037 - mean_px_acc: 0.9700 - auc: 0.9604 - precision: 0.8431 - recall: 0.8375 - val_loss: 0.0360 - val_mean_px_acc: 0.9824 - val_auc: 0.4898 - val_precision: 0.2760 - val_recall: 0.2760\n",
      "Epoch 48/50\n",
      "16/16 [==============================] - 3s 112ms/step - loss: 0.0037 - mean_px_acc: 0.9686 - auc: 0.9605 - precision: 0.8440 - recall: 0.8396 - val_loss: 0.0366 - val_mean_px_acc: 0.9825 - val_auc: 0.4489 - val_precision: 0.2760 - val_recall: 0.2760\n",
      "Epoch 49/50\n",
      "16/16 [==============================] - 3s 114ms/step - loss: 0.0038 - mean_px_acc: 0.9705 - auc: 0.9566 - precision: 0.8363 - recall: 0.8299 - val_loss: 0.0416 - val_mean_px_acc: 0.9825 - val_auc: 0.4471 - val_precision: 0.2760 - val_recall: 0.2760\n",
      "Epoch 50/50\n",
      "16/16 [==============================] - 3s 112ms/step - loss: 0.0037 - mean_px_acc: 0.9688 - auc: 0.9589 - precision: 0.8408 - recall: 0.8352 - val_loss: 0.0287 - val_mean_px_acc: 0.9826 - val_auc: 0.5718 - val_precision: 0.3220 - val_recall: 0.3102\n",
      "test loss: 0.08251313865184784\n",
      "test mean_px_acc: 0.983067512512207\n",
      "test auc: 0.995085597038269\n",
      "test precision: 0.983247697353363\n",
      "test recall: 0.9827743172645569\n"
     ]
    }
   ],
   "source": [
    "# create the unet model\n",
    "efficientNet_aug = utils.efficientNet_model()\n",
    "file_model_name = \"efficientNet_model_aug\"\n",
    "# train the model using original dataset\n",
    "efficientNet_aug, history, ev_result = utils.train_model(efficientNet_aug,\n",
    "                                                trainset_aug, valset_aug, testset_aug,\n",
    "                                                path_model, file_model_name,\n",
    "                                                hyperparam[\"epochs\"])\n",
    "# show the evaluation result\n",
    "print(f\"test loss: {ev_result[0]}\", f\"test mean_px_acc: {ev_result[1]}\",\n",
    "        f\"test auc: {ev_result[2]}\", f\"test precision: {ev_result[3]}\",\n",
    "        f\"test recall: {ev_result[4]}\", sep=\"\\n\")"
   ]
  },
  {
   "cell_type": "code",
   "execution_count": 12,
   "metadata": {},
   "outputs": [
    {
     "ename": "TypeError",
     "evalue": "Unable to serialize [2.0896919 2.1128857 2.1081853] to JSON. Unrecognized type <class 'tensorflow.python.framework.ops.EagerTensor'>.",
     "output_type": "error",
     "traceback": [
      "\u001b[1;31m---------------------------------------------------------------------------\u001b[0m",
      "\u001b[1;31mTypeError\u001b[0m                                 Traceback (most recent call last)",
      "Cell \u001b[1;32mIn[12], line 1\u001b[0m\n\u001b[1;32m----> 1\u001b[0m \u001b[43mefficientNet_aug\u001b[49m\u001b[38;5;241;43m.\u001b[39;49m\u001b[43msave\u001b[49m\u001b[43m(\u001b[49m\u001b[38;5;124;43mf\u001b[39;49m\u001b[38;5;124;43m\"\u001b[39;49m\u001b[38;5;132;43;01m{\u001b[39;49;00m\u001b[43mfile_model_name\u001b[49m\u001b[38;5;132;43;01m}\u001b[39;49;00m\u001b[38;5;124;43m.h5\u001b[39;49m\u001b[38;5;124;43m\"\u001b[39;49m\u001b[43m)\u001b[49m\n",
      "File \u001b[1;32mc:\\Users\\Acer\\miniconda3\\envs\\tf-gpu\\lib\\site-packages\\keras\\utils\\traceback_utils.py:70\u001b[0m, in \u001b[0;36mfilter_traceback.<locals>.error_handler\u001b[1;34m(*args, **kwargs)\u001b[0m\n\u001b[0;32m     67\u001b[0m     filtered_tb \u001b[38;5;241m=\u001b[39m _process_traceback_frames(e\u001b[38;5;241m.\u001b[39m__traceback__)\n\u001b[0;32m     68\u001b[0m     \u001b[38;5;66;03m# To get the full stack trace, call:\u001b[39;00m\n\u001b[0;32m     69\u001b[0m     \u001b[38;5;66;03m# `tf.debugging.disable_traceback_filtering()`\u001b[39;00m\n\u001b[1;32m---> 70\u001b[0m     \u001b[38;5;28;01mraise\u001b[39;00m e\u001b[38;5;241m.\u001b[39mwith_traceback(filtered_tb) \u001b[38;5;28;01mfrom\u001b[39;00m \u001b[38;5;28;01mNone\u001b[39;00m\n\u001b[0;32m     71\u001b[0m \u001b[38;5;28;01mfinally\u001b[39;00m:\n\u001b[0;32m     72\u001b[0m     \u001b[38;5;28;01mdel\u001b[39;00m filtered_tb\n",
      "File \u001b[1;32mc:\\Users\\Acer\\miniconda3\\envs\\tf-gpu\\lib\\json\\__init__.py:234\u001b[0m, in \u001b[0;36mdumps\u001b[1;34m(obj, skipkeys, ensure_ascii, check_circular, allow_nan, cls, indent, separators, default, sort_keys, **kw)\u001b[0m\n\u001b[0;32m    232\u001b[0m \u001b[38;5;28;01mif\u001b[39;00m \u001b[38;5;28mcls\u001b[39m \u001b[38;5;129;01mis\u001b[39;00m \u001b[38;5;28;01mNone\u001b[39;00m:\n\u001b[0;32m    233\u001b[0m     \u001b[38;5;28mcls\u001b[39m \u001b[38;5;241m=\u001b[39m JSONEncoder\n\u001b[1;32m--> 234\u001b[0m \u001b[38;5;28;01mreturn\u001b[39;00m \u001b[38;5;28;43mcls\u001b[39;49m\u001b[43m(\u001b[49m\n\u001b[0;32m    235\u001b[0m \u001b[43m    \u001b[49m\u001b[43mskipkeys\u001b[49m\u001b[38;5;241;43m=\u001b[39;49m\u001b[43mskipkeys\u001b[49m\u001b[43m,\u001b[49m\u001b[43m \u001b[49m\u001b[43mensure_ascii\u001b[49m\u001b[38;5;241;43m=\u001b[39;49m\u001b[43mensure_ascii\u001b[49m\u001b[43m,\u001b[49m\n\u001b[0;32m    236\u001b[0m \u001b[43m    \u001b[49m\u001b[43mcheck_circular\u001b[49m\u001b[38;5;241;43m=\u001b[39;49m\u001b[43mcheck_circular\u001b[49m\u001b[43m,\u001b[49m\u001b[43m \u001b[49m\u001b[43mallow_nan\u001b[49m\u001b[38;5;241;43m=\u001b[39;49m\u001b[43mallow_nan\u001b[49m\u001b[43m,\u001b[49m\u001b[43m \u001b[49m\u001b[43mindent\u001b[49m\u001b[38;5;241;43m=\u001b[39;49m\u001b[43mindent\u001b[49m\u001b[43m,\u001b[49m\n\u001b[0;32m    237\u001b[0m \u001b[43m    \u001b[49m\u001b[43mseparators\u001b[49m\u001b[38;5;241;43m=\u001b[39;49m\u001b[43mseparators\u001b[49m\u001b[43m,\u001b[49m\u001b[43m \u001b[49m\u001b[43mdefault\u001b[49m\u001b[38;5;241;43m=\u001b[39;49m\u001b[43mdefault\u001b[49m\u001b[43m,\u001b[49m\u001b[43m \u001b[49m\u001b[43msort_keys\u001b[49m\u001b[38;5;241;43m=\u001b[39;49m\u001b[43msort_keys\u001b[49m\u001b[43m,\u001b[49m\n\u001b[0;32m    238\u001b[0m \u001b[43m    \u001b[49m\u001b[38;5;241;43m*\u001b[39;49m\u001b[38;5;241;43m*\u001b[39;49m\u001b[43mkw\u001b[49m\u001b[43m)\u001b[49m\u001b[38;5;241;43m.\u001b[39;49m\u001b[43mencode\u001b[49m\u001b[43m(\u001b[49m\u001b[43mobj\u001b[49m\u001b[43m)\u001b[49m\n",
      "File \u001b[1;32mc:\\Users\\Acer\\miniconda3\\envs\\tf-gpu\\lib\\json\\encoder.py:199\u001b[0m, in \u001b[0;36mJSONEncoder.encode\u001b[1;34m(self, o)\u001b[0m\n\u001b[0;32m    195\u001b[0m         \u001b[38;5;28;01mreturn\u001b[39;00m encode_basestring(o)\n\u001b[0;32m    196\u001b[0m \u001b[38;5;66;03m# This doesn't pass the iterator directly to ''.join() because the\u001b[39;00m\n\u001b[0;32m    197\u001b[0m \u001b[38;5;66;03m# exceptions aren't as detailed.  The list call should be roughly\u001b[39;00m\n\u001b[0;32m    198\u001b[0m \u001b[38;5;66;03m# equivalent to the PySequence_Fast that ''.join() would do.\u001b[39;00m\n\u001b[1;32m--> 199\u001b[0m chunks \u001b[38;5;241m=\u001b[39m \u001b[38;5;28;43mself\u001b[39;49m\u001b[38;5;241;43m.\u001b[39;49m\u001b[43miterencode\u001b[49m\u001b[43m(\u001b[49m\u001b[43mo\u001b[49m\u001b[43m,\u001b[49m\u001b[43m \u001b[49m\u001b[43m_one_shot\u001b[49m\u001b[38;5;241;43m=\u001b[39;49m\u001b[38;5;28;43;01mTrue\u001b[39;49;00m\u001b[43m)\u001b[49m\n\u001b[0;32m    200\u001b[0m \u001b[38;5;28;01mif\u001b[39;00m \u001b[38;5;129;01mnot\u001b[39;00m \u001b[38;5;28misinstance\u001b[39m(chunks, (\u001b[38;5;28mlist\u001b[39m, \u001b[38;5;28mtuple\u001b[39m)):\n\u001b[0;32m    201\u001b[0m     chunks \u001b[38;5;241m=\u001b[39m \u001b[38;5;28mlist\u001b[39m(chunks)\n",
      "File \u001b[1;32mc:\\Users\\Acer\\miniconda3\\envs\\tf-gpu\\lib\\json\\encoder.py:257\u001b[0m, in \u001b[0;36mJSONEncoder.iterencode\u001b[1;34m(self, o, _one_shot)\u001b[0m\n\u001b[0;32m    252\u001b[0m \u001b[38;5;28;01melse\u001b[39;00m:\n\u001b[0;32m    253\u001b[0m     _iterencode \u001b[38;5;241m=\u001b[39m _make_iterencode(\n\u001b[0;32m    254\u001b[0m         markers, \u001b[38;5;28mself\u001b[39m\u001b[38;5;241m.\u001b[39mdefault, _encoder, \u001b[38;5;28mself\u001b[39m\u001b[38;5;241m.\u001b[39mindent, floatstr,\n\u001b[0;32m    255\u001b[0m         \u001b[38;5;28mself\u001b[39m\u001b[38;5;241m.\u001b[39mkey_separator, \u001b[38;5;28mself\u001b[39m\u001b[38;5;241m.\u001b[39mitem_separator, \u001b[38;5;28mself\u001b[39m\u001b[38;5;241m.\u001b[39msort_keys,\n\u001b[0;32m    256\u001b[0m         \u001b[38;5;28mself\u001b[39m\u001b[38;5;241m.\u001b[39mskipkeys, _one_shot)\n\u001b[1;32m--> 257\u001b[0m \u001b[38;5;28;01mreturn\u001b[39;00m \u001b[43m_iterencode\u001b[49m\u001b[43m(\u001b[49m\u001b[43mo\u001b[49m\u001b[43m,\u001b[49m\u001b[43m \u001b[49m\u001b[38;5;241;43m0\u001b[39;49m\u001b[43m)\u001b[49m\n",
      "\u001b[1;31mTypeError\u001b[0m: Unable to serialize [2.0896919 2.1128857 2.1081853] to JSON. Unrecognized type <class 'tensorflow.python.framework.ops.EagerTensor'>."
     ]
    }
   ],
   "source": [
    "efficientNet_aug.save(f\"{file_model_name}.h5\")"
   ]
  },
  {
   "cell_type": "code",
   "execution_count": null,
   "metadata": {},
   "outputs": [],
   "source": []
  }
 ],
 "metadata": {
  "kernelspec": {
   "display_name": "tf-gpu",
   "language": "python",
   "name": "python3"
  },
  "language_info": {
   "codemirror_mode": {
    "name": "ipython",
    "version": 3
   },
   "file_extension": ".py",
   "mimetype": "text/x-python",
   "name": "python",
   "nbconvert_exporter": "python",
   "pygments_lexer": "ipython3",
   "version": "3.9.20"
  }
 },
 "nbformat": 4,
 "nbformat_minor": 2
}
