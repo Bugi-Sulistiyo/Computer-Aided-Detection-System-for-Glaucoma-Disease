{
 "cells": [
  {
   "cell_type": "markdown",
   "metadata": {},
   "source": [
    "### Import the needed packages"
   ]
  },
  {
   "cell_type": "code",
   "execution_count": null,
   "metadata": {},
   "outputs": [],
   "source": [
    "# package for using the the custom scripts \n",
    "import sys\n",
    "sys.path.insert(0, \"./../\")\n",
    "# package for handling files and directories\n",
    "import os\n",
    "# package for handling the training hyperparameter tracking\n",
    "import wandb\n",
    "# a custom package for handling the data\n",
    "import utilities as utils\n",
    "# package for handling the versioning of the models\n",
    "from huggingface_hub import HfApi\n",
    "# package for handling the environment variables\n",
    "from dotenv import load_dotenv\n",
    "# get the environment variables\n",
    "load_dotenv()\n",
    "# set the wandb api to silent\n",
    "os.environ[\"WANDB_SILENT\"] = \"true\""
   ]
  },
  {
   "cell_type": "markdown",
   "metadata": {},
   "source": [
    "### Global variable"
   ]
  },
  {
   "cell_type": "code",
   "execution_count": null,
   "metadata": {},
   "outputs": [],
   "source": [
    "# store the path\n",
    "path_full = os.environ.get(\"ORI_PATH\")\n",
    "path_dataset_ori = os.path.join(path_full, \"datasets\", \"splitted\", \"original\")\n",
    "path_dataset_aug = os.path.join(path_full, \"datasets\", \"splitted\", \"augmented\")\n",
    "path_model = os.path.join(path_full, \"data\", \"model\")\n",
    "ori_path = {\n",
    "    \"train\": os.path.join(path_dataset_ori, \"train\"),\n",
    "    \"val\": os.path.join(path_dataset_ori, \"val\"),\n",
    "    \"test\": os.path.join(path_dataset_ori, \"test\"),\n",
    "}\n",
    "aug_path = {\n",
    "    \"train\": os.path.join(path_dataset_aug, \"train\"),\n",
    "    \"val\": os.path.join(path_dataset_aug, \"val\"),\n",
    "    \"test\": os.path.join(path_dataset_aug, \"test\"),\n",
    "}\n",
    "# the commit message\n",
    "wandb_init_name = \"retrain the model\"\n",
    "hf_commit_message = \"retrain the model\"\n",
    "# the hyperparameter for the training\n",
    "hyperparam = {\n",
    "    \"batch_size\": 16,\n",
    "    \"epochs\": 50,\n",
    "    \"img_size\": 128,\n",
    "    \"shuffle\": True,\n",
    "    \"model_type\": \"U-net\",\n",
    "    \"metrics\": [\"accuracy\", \"MeanIoU\", \"Precision\", \"Recall\"],\n",
    "    \"split_ratio\": [7,1,2],\n",
    "    \"dataset_balance\": True,\n",
    "    \"weighted_training\": True,\n",
    "}"
   ]
  },
  {
   "cell_type": "markdown",
   "metadata": {},
   "source": [
    "### Import the images and mask"
   ]
  },
  {
   "cell_type": "code",
   "execution_count": 18,
   "metadata": {},
   "outputs": [],
   "source": [
    "# get the original dataset\n",
    "train_ori_img, train_ori_mask = utils.load_img_mask(ori_path[\"train\"])\n",
    "val_ori_img, val_ori_mask = utils.load_img_mask(ori_path[\"val\"])\n",
    "test_ori_img, test_ori_mask = utils.load_img_mask(ori_path[\"test\"])\n",
    "\n",
    "# get the augmented dataset\n",
    "train_aug_img, train_aug_mask = utils.load_img_mask(aug_path[\"train\"])\n",
    "val_aug_img, val_aug_mask = utils.load_img_mask(aug_path[\"val\"])\n",
    "test_aug_img, test_aug_mask = utils.load_img_mask(aug_path[\"test\"])"
   ]
  },
  {
   "cell_type": "markdown",
   "metadata": {},
   "source": [
    "### Create the batched dataset"
   ]
  },
  {
   "cell_type": "code",
   "execution_count": 19,
   "metadata": {},
   "outputs": [],
   "source": [
    "# create the tensor dataset for original dataset\n",
    "trainset_ori = utils.create_dataset(train_ori_img, train_ori_mask, hyperparam[\"img_size\"], hyperparam[\"batch_size\"])\n",
    "valset_ori = utils.create_dataset(val_ori_img, val_ori_mask, hyperparam[\"img_size\"], hyperparam[\"batch_size\"])\n",
    "testset_ori = utils.create_dataset(test_ori_img, test_ori_mask, hyperparam[\"img_size\"], hyperparam[\"batch_size\"])\n",
    "\n",
    "# create the tensor dataset for augmented dataset\n",
    "trainset_aug = utils.create_dataset(train_aug_img, train_aug_mask, hyperparam[\"img_size\"], hyperparam[\"batch_size\"])\n",
    "valset_aug = utils.create_dataset(val_aug_img, val_aug_mask, hyperparam[\"img_size\"], hyperparam[\"batch_size\"])\n",
    "testset_aug = utils.create_dataset(test_aug_img, test_aug_mask, hyperparam[\"img_size\"], hyperparam[\"batch_size\"])"
   ]
  },
  {
   "cell_type": "markdown",
   "metadata": {},
   "source": [
    "### Train model"
   ]
  },
  {
   "cell_type": "code",
   "execution_count": null,
   "metadata": {},
   "outputs": [
    {
     "name": "stdout",
     "output_type": "stream",
     "text": [
      "Epoch 1/50\n",
      "16/16 [==============================] - 39s 396ms/step - loss: 0.0095 - mean_px_acc: 0.4849 - auc: 0.7566 - precision: 0.5795 - recall: 0.4886 - val_loss: 0.0106 - val_mean_px_acc: 0.9842 - val_auc: 0.6782 - val_precision: 0.0000e+00 - val_recall: 0.0000e+00\n",
      "Epoch 2/50\n",
      "16/16 [==============================] - 16s 221ms/step - loss: 0.0063 - mean_px_acc: 0.5654 - auc: 0.8882 - precision: 0.7562 - recall: 0.6227 - val_loss: 0.0109 - val_mean_px_acc: 0.9826 - val_auc: 0.5062 - val_precision: 0.0000e+00 - val_recall: 0.0000e+00\n",
      "Epoch 3/50\n",
      "16/16 [==============================] - 13s 194ms/step - loss: 0.0052 - mean_px_acc: 0.6916 - auc: 0.9268 - precision: 0.8255 - recall: 0.6678 - val_loss: 0.0111 - val_mean_px_acc: 0.9825 - val_auc: 0.5057 - val_precision: 0.0000e+00 - val_recall: 0.0000e+00\n",
      "Epoch 4/50\n",
      "16/16 [==============================] - 13s 199ms/step - loss: 0.0048 - mean_px_acc: 0.8163 - auc: 0.9399 - precision: 0.8503 - recall: 0.7269 - val_loss: 0.0116 - val_mean_px_acc: 0.9825 - val_auc: 0.4853 - val_precision: 1.0000 - val_recall: 0.0059\n",
      "Epoch 5/50\n",
      "16/16 [==============================] - 12s 211ms/step - loss: 0.0044 - mean_px_acc: 0.8922 - auc: 0.9494 - precision: 0.8712 - recall: 0.7843 - val_loss: 0.0116 - val_mean_px_acc: 0.9825 - val_auc: 0.5071 - val_precision: 0.6322 - val_recall: 0.2638\n",
      "Epoch 6/50\n",
      "16/16 [==============================] - 12s 188ms/step - loss: 0.0041 - mean_px_acc: 0.9352 - auc: 0.9563 - precision: 0.8862 - recall: 0.8460 - val_loss: 0.0125 - val_mean_px_acc: 0.9825 - val_auc: 0.4656 - val_precision: 0.2766 - val_recall: 0.2738\n",
      "Epoch 7/50\n",
      "16/16 [==============================] - 12s 198ms/step - loss: 0.0039 - mean_px_acc: 0.9566 - auc: 0.9601 - precision: 0.8919 - recall: 0.8707 - val_loss: 0.0131 - val_mean_px_acc: 0.9825 - val_auc: 0.4574 - val_precision: 0.2776 - val_recall: 0.2760\n",
      "Epoch 8/50\n",
      "16/16 [==============================] - 12s 251ms/step - loss: 0.0037 - mean_px_acc: 0.9648 - auc: 0.9638 - precision: 0.8964 - recall: 0.8849 - val_loss: 0.0135 - val_mean_px_acc: 0.9824 - val_auc: 0.4799 - val_precision: 0.2767 - val_recall: 0.2760\n",
      "Epoch 9/50\n",
      "16/16 [==============================] - 9s 123ms/step - loss: 0.0035 - mean_px_acc: 0.9668 - auc: 0.9669 - precision: 0.8970 - recall: 0.8886 - val_loss: 0.0136 - val_mean_px_acc: 0.9824 - val_auc: 0.4974 - val_precision: 0.2820 - val_recall: 0.2760\n",
      "Epoch 10/50\n",
      "16/16 [==============================] - 10s 369ms/step - loss: 0.0034 - mean_px_acc: 0.9714 - auc: 0.9673 - precision: 0.8967 - recall: 0.8915 - val_loss: 0.0145 - val_mean_px_acc: 0.9825 - val_auc: 0.4773 - val_precision: 0.2818 - val_recall: 0.2760\n",
      "Epoch 11/50\n",
      "16/16 [==============================] - 14s 420ms/step - loss: 0.0032 - mean_px_acc: 0.9777 - auc: 0.9712 - precision: 0.9001 - recall: 0.8968 - val_loss: 0.0145 - val_mean_px_acc: 0.9827 - val_auc: 0.5440 - val_precision: 0.2888 - val_recall: 0.2762\n",
      "Epoch 12/50\n",
      "16/16 [==============================] - 16s 320ms/step - loss: 0.0029 - mean_px_acc: 0.9780 - auc: 0.9748 - precision: 0.9093 - recall: 0.9060 - val_loss: 0.0160 - val_mean_px_acc: 0.9826 - val_auc: 0.4853 - val_precision: 0.2835 - val_recall: 0.2760\n",
      "Epoch 13/50\n",
      "16/16 [==============================] - 15s 220ms/step - loss: 0.0030 - mean_px_acc: 0.9794 - auc: 0.9731 - precision: 0.8987 - recall: 0.8964 - val_loss: 0.0160 - val_mean_px_acc: 0.9827 - val_auc: 0.4833 - val_precision: 0.2880 - val_recall: 0.2780\n",
      "Epoch 14/50\n",
      "16/16 [==============================] - 16s 299ms/step - loss: 0.0028 - mean_px_acc: 0.9828 - auc: 0.9788 - precision: 0.9084 - recall: 0.9062 - val_loss: 0.0153 - val_mean_px_acc: 0.9830 - val_auc: 0.5463 - val_precision: 0.3051 - val_recall: 0.2891\n",
      "Epoch 15/50\n",
      "16/16 [==============================] - 7s 154ms/step - loss: 0.0025 - mean_px_acc: 0.9835 - auc: 0.9812 - precision: 0.9175 - recall: 0.9158 - val_loss: 0.0156 - val_mean_px_acc: 0.9831 - val_auc: 0.5648 - val_precision: 0.3122 - val_recall: 0.2942\n",
      "Epoch 16/50\n",
      "16/16 [==============================] - 9s 230ms/step - loss: 0.0024 - mean_px_acc: 0.9827 - auc: 0.9832 - precision: 0.9177 - recall: 0.9157 - val_loss: 0.0157 - val_mean_px_acc: 0.9831 - val_auc: 0.5671 - val_precision: 0.3196 - val_recall: 0.3006\n",
      "Epoch 17/50\n",
      "16/16 [==============================] - 8s 201ms/step - loss: 0.0024 - mean_px_acc: 0.9853 - auc: 0.9830 - precision: 0.9184 - recall: 0.9172 - val_loss: 0.0147 - val_mean_px_acc: 0.9839 - val_auc: 0.6119 - val_precision: 0.3604 - val_recall: 0.3317\n",
      "Epoch 18/50\n",
      "16/16 [==============================] - 13s 225ms/step - loss: 0.0023 - mean_px_acc: 0.9836 - auc: 0.9838 - precision: 0.9168 - recall: 0.9153 - val_loss: 0.0150 - val_mean_px_acc: 0.9842 - val_auc: 0.6033 - val_precision: 0.3784 - val_recall: 0.3478\n",
      "Epoch 19/50\n",
      "16/16 [==============================] - 14s 236ms/step - loss: 0.0022 - mean_px_acc: 0.9873 - auc: 0.9863 - precision: 0.9238 - recall: 0.9228 - val_loss: 0.0138 - val_mean_px_acc: 0.9847 - val_auc: 0.6295 - val_precision: 0.4034 - val_recall: 0.3597\n",
      "Epoch 20/50\n",
      "16/16 [==============================] - 17s 282ms/step - loss: 0.0025 - mean_px_acc: 0.9776 - auc: 0.9814 - precision: 0.9092 - recall: 0.9070 - val_loss: 0.0165 - val_mean_px_acc: 0.9838 - val_auc: 0.5519 - val_precision: 0.3603 - val_recall: 0.3349\n",
      "Epoch 21/50\n",
      "16/16 [==============================] - 9s 129ms/step - loss: 0.0022 - mean_px_acc: 0.9877 - auc: 0.9863 - precision: 0.9223 - recall: 0.9212 - val_loss: 0.0134 - val_mean_px_acc: 0.9854 - val_auc: 0.6605 - val_precision: 0.4203 - val_recall: 0.3860\n",
      "Epoch 22/50\n",
      "16/16 [==============================] - 7s 129ms/step - loss: 0.0020 - mean_px_acc: 0.9861 - auc: 0.9876 - precision: 0.9291 - recall: 0.9279 - val_loss: 0.0141 - val_mean_px_acc: 0.9851 - val_auc: 0.6641 - val_precision: 0.4355 - val_recall: 0.4026\n",
      "Epoch 23/50\n",
      "16/16 [==============================] - 7s 128ms/step - loss: 0.0020 - mean_px_acc: 0.9854 - auc: 0.9874 - precision: 0.9264 - recall: 0.9254 - val_loss: 0.0116 - val_mean_px_acc: 0.9870 - val_auc: 0.7239 - val_precision: 0.5244 - val_recall: 0.4792\n",
      "Epoch 24/50\n",
      "16/16 [==============================] - 6s 129ms/step - loss: 0.0019 - mean_px_acc: 0.9887 - auc: 0.9895 - precision: 0.9306 - recall: 0.9300 - val_loss: 0.0108 - val_mean_px_acc: 0.9877 - val_auc: 0.7437 - val_precision: 0.5498 - val_recall: 0.4966\n",
      "Epoch 25/50\n",
      "16/16 [==============================] - 6s 130ms/step - loss: 0.0019 - mean_px_acc: 0.9851 - auc: 0.9885 - precision: 0.9294 - recall: 0.9283 - val_loss: 0.0053 - val_mean_px_acc: 0.9913 - val_auc: 0.9216 - val_precision: 0.8040 - val_recall: 0.7748\n",
      "Epoch 26/50\n",
      "16/16 [==============================] - 11s 291ms/step - loss: 0.0018 - mean_px_acc: 0.9877 - auc: 0.9902 - precision: 0.9329 - recall: 0.9322 - val_loss: 0.0047 - val_mean_px_acc: 0.9898 - val_auc: 0.9369 - val_precision: 0.8223 - val_recall: 0.7878\n",
      "Epoch 27/50\n",
      "16/16 [==============================] - 9s 139ms/step - loss: 0.0018 - mean_px_acc: 0.9876 - auc: 0.9903 - precision: 0.9347 - recall: 0.9338 - val_loss: 0.0061 - val_mean_px_acc: 0.9918 - val_auc: 0.9004 - val_precision: 0.7698 - val_recall: 0.7333\n",
      "Epoch 28/50\n",
      "16/16 [==============================] - 13s 320ms/step - loss: 0.0017 - mean_px_acc: 0.9891 - auc: 0.9909 - precision: 0.9361 - recall: 0.9354 - val_loss: 0.0050 - val_mean_px_acc: 0.9934 - val_auc: 0.9295 - val_precision: 0.8272 - val_recall: 0.8047\n",
      "Epoch 29/50\n",
      "16/16 [==============================] - 12s 227ms/step - loss: 0.0016 - mean_px_acc: 0.9879 - auc: 0.9919 - precision: 0.9412 - recall: 0.9406 - val_loss: 0.0048 - val_mean_px_acc: 0.9931 - val_auc: 0.9348 - val_precision: 0.8180 - val_recall: 0.7961\n",
      "Epoch 30/50\n",
      "16/16 [==============================] - 16s 305ms/step - loss: 0.0015 - mean_px_acc: 0.9905 - auc: 0.9926 - precision: 0.9433 - recall: 0.9429 - val_loss: 0.0053 - val_mean_px_acc: 0.9912 - val_auc: 0.9263 - val_precision: 0.7939 - val_recall: 0.7701\n",
      "Epoch 31/50\n",
      "16/16 [==============================] - 15s 212ms/step - loss: 0.0014 - mean_px_acc: 0.9901 - auc: 0.9935 - precision: 0.9481 - recall: 0.9477 - val_loss: 0.0045 - val_mean_px_acc: 0.9912 - val_auc: 0.9453 - val_precision: 0.8205 - val_recall: 0.7999\n",
      "Epoch 32/50\n",
      "16/16 [==============================] - 11s 194ms/step - loss: 0.0015 - mean_px_acc: 0.9894 - auc: 0.9919 - precision: 0.9421 - recall: 0.9416 - val_loss: 0.0035 - val_mean_px_acc: 0.9895 - val_auc: 0.9673 - val_precision: 0.8599 - val_recall: 0.8485\n",
      "Epoch 33/50\n",
      "16/16 [==============================] - 13s 224ms/step - loss: 0.0015 - mean_px_acc: 0.9895 - auc: 0.9926 - precision: 0.9446 - recall: 0.9442 - val_loss: 0.0039 - val_mean_px_acc: 0.9917 - val_auc: 0.9579 - val_precision: 0.8435 - val_recall: 0.8281\n",
      "Epoch 34/50\n",
      "16/16 [==============================] - 13s 203ms/step - loss: 0.0014 - mean_px_acc: 0.9896 - auc: 0.9932 - precision: 0.9467 - recall: 0.9463 - val_loss: 0.0034 - val_mean_px_acc: 0.9931 - val_auc: 0.9680 - val_precision: 0.8703 - val_recall: 0.8593\n",
      "Epoch 35/50\n",
      "16/16 [==============================] - 13s 194ms/step - loss: 0.0014 - mean_px_acc: 0.9902 - auc: 0.9938 - precision: 0.9482 - recall: 0.9478 - val_loss: 0.0038 - val_mean_px_acc: 0.9926 - val_auc: 0.9608 - val_precision: 0.8550 - val_recall: 0.8447\n",
      "Epoch 36/50\n",
      "15/16 [===========================>..] - ETA: 0s - loss: 0.0013 - mean_px_acc: 0.9907 - auc: 0.9942 - precision: 0.9508 - recall: 0.9503\n",
      "Reached 0.98 AUC value. Stopping the training\n",
      "16/16 [==============================] - 12s 199ms/step - loss: 0.0013 - mean_px_acc: 0.9907 - auc: 0.9943 - precision: 0.9509 - recall: 0.9504 - val_loss: 0.0024 - val_mean_px_acc: 0.9914 - val_auc: 0.9824 - val_precision: 0.9025 - val_recall: 0.8945\n",
      "test loss: 0.07173603773117065\n",
      "test mean_px_acc: 0.9897882342338562\n",
      "test auc: 0.9971445798873901\n",
      "test precision: 0.9902536273002625\n",
      "test recall: 0.9895913600921631\n"
     ]
    }
   ],
   "source": [
    "# create the unet model\n",
    "unet_custom = utils.custom_unet()\n",
    "file_model_name = \"unet_model_ori\"\n",
    "# train the model using original dataset\n",
    "unet_custom, history, ev_result = utils.train_model(unet_custom,\n",
    "                                                trainset_ori, valset_ori, testset_ori,\n",
    "                                                path_model, file_model_name,\n",
    "                                                hyperparam[\"epochs\"])\n",
    "# show the evaluation result\n",
    "print(f\"test loss: {ev_result[0]}\", f\"test mean_px_acc: {ev_result[1]}\",\n",
    "        f\"test auc: {ev_result[2]}\", f\"test precision: {ev_result[3]}\",\n",
    "        f\"test recall: {ev_result[4]}\", sep=\"\\n\")"
   ]
  },
  {
   "cell_type": "code",
   "execution_count": null,
   "metadata": {},
   "outputs": [],
   "source": [
    "# initiate the huggingface api \n",
    "api = HfApi()\n",
    "repo = api.create_repo(\"CAD-Glaucoma_Segmentation\", repo_type=\"model\", exist_ok=True)"
   ]
  },
  {
   "cell_type": "code",
   "execution_count": null,
   "metadata": {},
   "outputs": [],
   "source": [
    "# push the model artifact and hyperparameter to wandb\n",
    "## set the hyperparameter for the wandb\n",
    "hyperparam[\"aug\"] = False\n",
    "## initiate the project\n",
    "wandb.init(project=\"CAD - Glaucoma Segmentation\",\n",
    "            name=f\"ori - {wandb_init_name}\",\n",
    "            config=hyperparam)\n",
    "## write the training history and validation result to wandb log\n",
    "for epoch in range(len(history.history[\"loss\"])):\n",
    "    wandb.log({\n",
    "        \"train_loss\": history.history[\"loss\"][epoch],\n",
    "        \"train_accuracy\": history.history[\"mean_px_acc\"][epoch],\n",
    "        \"train_auc\": history.history[\"auc\"][epoch],\n",
    "        \"train_precision\": history.history[\"precision\"][epoch],\n",
    "        \"train_recall\": history.history[\"recall\"][epoch],\n",
    "        \"train_f1\": 2 * (history.history[\"precision\"][epoch] * history.history[\"recall\"][epoch]) / (history.history[\"precision\"][epoch] + history.history[\"recall\"][epoch] + 1e-7),\n",
    "        \"val_loss\": history.history[\"val_loss\"][epoch],\n",
    "        \"val_accuracy\": history.history[\"val_mean_px_acc\"][epoch],\n",
    "        \"val_auc\": history.history[\"val_auc\"][epoch],\n",
    "        \"val_precision\": history.history[\"val_precision\"][epoch],\n",
    "        \"val_recall\": history.history[\"val_recall\"][epoch],\n",
    "        \"val_f1\": 2 * (history.history[\"val_precision\"][epoch] * history.history[\"val_recall\"][epoch]) / (history.history[\"val_precision\"][epoch] + history.history[\"val_recall\"][epoch] + 1e-7),\n",
    "    })\n",
    "## store the model artifact\n",
    "wandb.log_artifact(os.path.join(path_model, f\"{file_model_name}.h5\"))\n",
    "wandb.finish()"
   ]
  },
  {
   "cell_type": "code",
   "execution_count": null,
   "metadata": {},
   "outputs": [
    {
     "name": "stderr",
     "output_type": "stream",
     "text": [
      "unet_model_ori.h5: 100%|██████████| 1.57M/1.57M [00:01<00:00, 812kB/s] \n"
     ]
    },
    {
     "data": {
      "text/plain": [
       "CommitInfo(commit_url='https://huggingface.co/bugi-sulistiyo/CAD-Glaucoma_Segmentation/commit/4020b4609c97767c477c2a02c924e4796d1f4707', commit_message='retrain the model', commit_description='', oid='4020b4609c97767c477c2a02c924e4796d1f4707', pr_url=None, repo_url=RepoUrl('https://huggingface.co/bugi-sulistiyo/CAD-Glaucoma_Segmentation', endpoint='https://huggingface.co', repo_type='model', repo_id='bugi-sulistiyo/CAD-Glaucoma_Segmentation'), pr_revision=None, pr_num=None)"
      ]
     },
     "execution_count": 23,
     "metadata": {},
     "output_type": "execute_result"
    }
   ],
   "source": [
    "# push the model to the huggingface hub\n",
    "api.upload_file(\n",
    "    repo_id=repo.repo_id,\n",
    "    path_or_fileobj=os.path.join(path_model, f\"{file_model_name}.h5\"),\n",
    "    path_in_repo=f\"model/{file_model_name}.h5\",\n",
    "    repo_type=repo.repo_type,\n",
    "    commit_message=hf_commit_message,\n",
    ")"
   ]
  },
  {
   "cell_type": "code",
   "execution_count": null,
   "metadata": {},
   "outputs": [
    {
     "name": "stdout",
     "output_type": "stream",
     "text": [
      "Epoch 1/50\n",
      "16/16 [==============================] - 16s 236ms/step - loss: 0.0085 - mean_px_acc: 0.4246 - auc: 0.8003 - precision: 0.6547 - recall: 0.5531 - val_loss: 0.0101 - val_mean_px_acc: 0.8626 - val_auc: 0.8837 - val_precision: 0.0000e+00 - val_recall: 0.0000e+00\n",
      "Epoch 2/50\n",
      "16/16 [==============================] - 3s 110ms/step - loss: 0.0061 - mean_px_acc: 0.5818 - auc: 0.8943 - precision: 0.7801 - recall: 0.6652 - val_loss: 0.0103 - val_mean_px_acc: 0.9779 - val_auc: 0.6684 - val_precision: 0.0000e+00 - val_recall: 0.0000e+00\n",
      "Epoch 3/50\n",
      "16/16 [==============================] - 4s 112ms/step - loss: 0.0056 - mean_px_acc: 0.7158 - auc: 0.9159 - precision: 0.8096 - recall: 0.6867 - val_loss: 0.0109 - val_mean_px_acc: 0.9722 - val_auc: 0.5379 - val_precision: 1.0000 - val_recall: 0.0021\n",
      "Epoch 4/50\n",
      "16/16 [==============================] - 4s 106ms/step - loss: 0.0053 - mean_px_acc: 0.7848 - auc: 0.9224 - precision: 0.8213 - recall: 0.7232 - val_loss: 0.0117 - val_mean_px_acc: 0.9746 - val_auc: 0.4687 - val_precision: 0.1611 - val_recall: 0.0880\n",
      "Epoch 5/50\n",
      "16/16 [==============================] - 5s 117ms/step - loss: 0.0047 - mean_px_acc: 0.8351 - auc: 0.9414 - precision: 0.8585 - recall: 0.7895 - val_loss: 0.0125 - val_mean_px_acc: 0.9821 - val_auc: 0.4033 - val_precision: 0.2695 - val_recall: 0.2671\n",
      "Epoch 6/50\n",
      "16/16 [==============================] - 4s 104ms/step - loss: 0.0047 - mean_px_acc: 0.8755 - auc: 0.9392 - precision: 0.8532 - recall: 0.8048 - val_loss: 0.0134 - val_mean_px_acc: 0.9824 - val_auc: 0.3816 - val_precision: 0.2702 - val_recall: 0.2680\n",
      "Epoch 7/50\n",
      "16/16 [==============================] - 4s 107ms/step - loss: 0.0042 - mean_px_acc: 0.9122 - auc: 0.9521 - precision: 0.8757 - recall: 0.8367 - val_loss: 0.0138 - val_mean_px_acc: 0.9824 - val_auc: 0.4093 - val_precision: 0.2728 - val_recall: 0.2716\n",
      "Epoch 8/50\n",
      "16/16 [==============================] - 4s 135ms/step - loss: 0.0040 - mean_px_acc: 0.9430 - auc: 0.9572 - precision: 0.8829 - recall: 0.8655 - val_loss: 0.0149 - val_mean_px_acc: 0.9824 - val_auc: 0.3956 - val_precision: 0.2744 - val_recall: 0.2738\n",
      "Epoch 9/50\n",
      "16/16 [==============================] - 5s 161ms/step - loss: 0.0039 - mean_px_acc: 0.9473 - auc: 0.9568 - precision: 0.8818 - recall: 0.8733 - val_loss: 0.0160 - val_mean_px_acc: 0.9824 - val_auc: 0.4066 - val_precision: 0.2748 - val_recall: 0.2743\n",
      "Epoch 10/50\n",
      "16/16 [==============================] - 7s 143ms/step - loss: 0.0037 - mean_px_acc: 0.9519 - auc: 0.9613 - precision: 0.8906 - recall: 0.8840 - val_loss: 0.0190 - val_mean_px_acc: 0.9825 - val_auc: 0.3750 - val_precision: 0.2760 - val_recall: 0.2759\n",
      "Epoch 11/50\n",
      "16/16 [==============================] - 5s 121ms/step - loss: 0.0033 - mean_px_acc: 0.9547 - auc: 0.9695 - precision: 0.9000 - recall: 0.8960 - val_loss: 0.0179 - val_mean_px_acc: 0.9825 - val_auc: 0.3591 - val_precision: 0.2760 - val_recall: 0.2759\n",
      "Epoch 12/50\n",
      "16/16 [==============================] - 6s 145ms/step - loss: 0.0031 - mean_px_acc: 0.9724 - auc: 0.9732 - precision: 0.9034 - recall: 0.9011 - val_loss: 0.0187 - val_mean_px_acc: 0.9825 - val_auc: 0.3451 - val_precision: 0.2760 - val_recall: 0.2759\n",
      "Epoch 13/50\n",
      "16/16 [==============================] - 8s 207ms/step - loss: 0.0028 - mean_px_acc: 0.9783 - auc: 0.9784 - precision: 0.9131 - recall: 0.9112 - val_loss: 0.0201 - val_mean_px_acc: 0.9825 - val_auc: 0.3570 - val_precision: 0.2760 - val_recall: 0.2760\n",
      "Epoch 14/50\n",
      "16/16 [==============================] - 6s 133ms/step - loss: 0.0028 - mean_px_acc: 0.9758 - auc: 0.9761 - precision: 0.9060 - recall: 0.9045 - val_loss: 0.0203 - val_mean_px_acc: 0.9825 - val_auc: 0.3638 - val_precision: 0.2760 - val_recall: 0.2760\n",
      "Epoch 15/50\n",
      "16/16 [==============================] - 5s 125ms/step - loss: 0.0025 - mean_px_acc: 0.9801 - auc: 0.9818 - precision: 0.9163 - recall: 0.9150 - val_loss: 0.0205 - val_mean_px_acc: 0.9825 - val_auc: 0.3955 - val_precision: 0.2760 - val_recall: 0.2760\n",
      "Epoch 16/50\n",
      "16/16 [==============================] - 4s 105ms/step - loss: 0.0024 - mean_px_acc: 0.9813 - auc: 0.9833 - precision: 0.9210 - recall: 0.9199 - val_loss: 0.0212 - val_mean_px_acc: 0.9825 - val_auc: 0.3647 - val_precision: 0.2760 - val_recall: 0.2760\n",
      "Epoch 17/50\n",
      "16/16 [==============================] - 7s 332ms/step - loss: 0.0023 - mean_px_acc: 0.9823 - auc: 0.9847 - precision: 0.9211 - recall: 0.9201 - val_loss: 0.0204 - val_mean_px_acc: 0.9825 - val_auc: 0.4587 - val_precision: 0.2760 - val_recall: 0.2760\n",
      "Epoch 18/50\n",
      "16/16 [==============================] - 13s 422ms/step - loss: 0.0022 - mean_px_acc: 0.9813 - auc: 0.9841 - precision: 0.9209 - recall: 0.9200 - val_loss: 0.0194 - val_mean_px_acc: 0.9825 - val_auc: 0.5400 - val_precision: 0.2760 - val_recall: 0.2760\n",
      "Epoch 19/50\n",
      "16/16 [==============================] - 9s 360ms/step - loss: 0.0020 - mean_px_acc: 0.9851 - auc: 0.9878 - precision: 0.9296 - recall: 0.9288 - val_loss: 0.0192 - val_mean_px_acc: 0.9825 - val_auc: 0.5867 - val_precision: 0.2760 - val_recall: 0.2760\n",
      "Epoch 20/50\n",
      "16/16 [==============================] - 7s 207ms/step - loss: 0.0020 - mean_px_acc: 0.9827 - auc: 0.9875 - precision: 0.9283 - recall: 0.9276 - val_loss: 0.0203 - val_mean_px_acc: 0.9825 - val_auc: 0.5747 - val_precision: 0.2760 - val_recall: 0.2760\n",
      "Epoch 21/50\n",
      "16/16 [==============================] - 9s 345ms/step - loss: 0.0019 - mean_px_acc: 0.9855 - auc: 0.9882 - precision: 0.9298 - recall: 0.9290 - val_loss: 0.0185 - val_mean_px_acc: 0.9826 - val_auc: 0.6099 - val_precision: 0.2788 - val_recall: 0.2776\n",
      "Epoch 22/50\n",
      "16/16 [==============================] - 10s 296ms/step - loss: 0.0018 - mean_px_acc: 0.9851 - auc: 0.9900 - precision: 0.9355 - recall: 0.9349 - val_loss: 0.0187 - val_mean_px_acc: 0.9825 - val_auc: 0.6227 - val_precision: 0.2774 - val_recall: 0.2760\n",
      "Epoch 23/50\n",
      "16/16 [==============================] - 13s 436ms/step - loss: 0.0019 - mean_px_acc: 0.9851 - auc: 0.9891 - precision: 0.9322 - recall: 0.9317 - val_loss: 0.0205 - val_mean_px_acc: 0.9824 - val_auc: 0.6088 - val_precision: 0.2763 - val_recall: 0.2761\n",
      "Epoch 24/50\n",
      "16/16 [==============================] - 8s 287ms/step - loss: 0.0017 - mean_px_acc: 0.9858 - auc: 0.9904 - precision: 0.9353 - recall: 0.9347 - val_loss: 0.0158 - val_mean_px_acc: 0.9836 - val_auc: 0.6584 - val_precision: 0.3135 - val_recall: 0.3009\n",
      "Epoch 25/50\n",
      "16/16 [==============================] - 13s 352ms/step - loss: 0.0015 - mean_px_acc: 0.9878 - auc: 0.9926 - precision: 0.9444 - recall: 0.9441 - val_loss: 0.0098 - val_mean_px_acc: 0.9880 - val_auc: 0.7755 - val_precision: 0.5540 - val_recall: 0.4952\n",
      "Epoch 26/50\n",
      "16/16 [==============================] - 10s 250ms/step - loss: 0.0016 - mean_px_acc: 0.9870 - auc: 0.9919 - precision: 0.9398 - recall: 0.9394 - val_loss: 0.0133 - val_mean_px_acc: 0.9850 - val_auc: 0.6945 - val_precision: 0.3933 - val_recall: 0.3662\n",
      "Epoch 27/50\n",
      "16/16 [==============================] - 6s 117ms/step - loss: 0.0015 - mean_px_acc: 0.9862 - auc: 0.9929 - precision: 0.9436 - recall: 0.9432 - val_loss: 0.0069 - val_mean_px_acc: 0.9901 - val_auc: 0.8699 - val_precision: 0.7127 - val_recall: 0.6436\n",
      "Epoch 28/50\n",
      "16/16 [==============================] - 5s 108ms/step - loss: 0.0015 - mean_px_acc: 0.9885 - auc: 0.9931 - precision: 0.9453 - recall: 0.9450 - val_loss: 0.0064 - val_mean_px_acc: 0.9907 - val_auc: 0.8882 - val_precision: 0.7256 - val_recall: 0.6705\n",
      "Epoch 29/50\n",
      "16/16 [==============================] - 5s 105ms/step - loss: 0.0013 - mean_px_acc: 0.9890 - auc: 0.9944 - precision: 0.9540 - recall: 0.9536 - val_loss: 0.0047 - val_mean_px_acc: 0.9917 - val_auc: 0.9389 - val_precision: 0.8145 - val_recall: 0.7622\n",
      "Epoch 30/50\n",
      "16/16 [==============================] - 5s 110ms/step - loss: 0.0013 - mean_px_acc: 0.9884 - auc: 0.9948 - precision: 0.9537 - recall: 0.9535 - val_loss: 0.0091 - val_mean_px_acc: 0.9891 - val_auc: 0.8132 - val_precision: 0.5969 - val_recall: 0.5539\n",
      "Epoch 31/50\n",
      "16/16 [==============================] - 5s 117ms/step - loss: 0.0013 - mean_px_acc: 0.9885 - auc: 0.9947 - precision: 0.9531 - recall: 0.9528 - val_loss: 0.0081 - val_mean_px_acc: 0.9903 - val_auc: 0.8417 - val_precision: 0.6522 - val_recall: 0.6043\n",
      "Epoch 32/50\n",
      "16/16 [==============================] - 5s 100ms/step - loss: 0.0012 - mean_px_acc: 0.9897 - auc: 0.9953 - precision: 0.9563 - recall: 0.9560 - val_loss: 0.0042 - val_mean_px_acc: 0.9904 - val_auc: 0.9515 - val_precision: 0.8299 - val_recall: 0.8075\n",
      "Epoch 33/50\n",
      "16/16 [==============================] - 5s 105ms/step - loss: 0.0013 - mean_px_acc: 0.9884 - auc: 0.9941 - precision: 0.9501 - recall: 0.9498 - val_loss: 0.0044 - val_mean_px_acc: 0.9924 - val_auc: 0.9461 - val_precision: 0.8100 - val_recall: 0.7764\n",
      "Epoch 34/50\n",
      "15/16 [===========================>..] - ETA: 0s - loss: 0.0011 - mean_px_acc: 0.9901 - auc: 0.9956 - precision: 0.9567 - recall: 0.9565\n",
      "Reached 0.98 AUC value. Stopping the training\n",
      "16/16 [==============================] - 4s 102ms/step - loss: 0.0011 - mean_px_acc: 0.9900 - auc: 0.9957 - precision: 0.9570 - recall: 0.9568 - val_loss: 0.0022 - val_mean_px_acc: 0.9918 - val_auc: 0.9853 - val_precision: 0.9177 - val_recall: 0.9105\n",
      "test loss: 0.05730704963207245\n",
      "test mean_px_acc: 0.9904502630233765\n",
      "test auc: 0.9984787106513977\n",
      "test precision: 0.9909936189651489\n",
      "test recall: 0.9902567267417908\n"
     ]
    }
   ],
   "source": [
    "# create the unet model\n",
    "unet_custom = utils.custom_unet()\n",
    "file_model_name = \"unet_model_aug\"\n",
    "# train the model using augmented dataset\n",
    "unet_custom, history, ev_result = utils.train_model(unet_custom,\n",
    "                                                trainset_aug, valset_aug, testset_aug,\n",
    "                                                path_model, file_model_name,\n",
    "                                                hyperparam[\"epochs\"])\n",
    "# show the evaluation result\n",
    "print(f\"test loss: {ev_result[0]}\", f\"test mean_px_acc: {ev_result[1]}\",\n",
    "        f\"test auc: {ev_result[2]}\", f\"test precision: {ev_result[3]}\",\n",
    "        f\"test recall: {ev_result[4]}\", sep=\"\\n\")"
   ]
  },
  {
   "cell_type": "code",
   "execution_count": null,
   "metadata": {},
   "outputs": [],
   "source": [
    "# push the model artifact and hyperparameter to wandb\n",
    "## set the hyperparameter for the wandb\n",
    "hyperparam[\"aug\"] = True\n",
    "## initiate the project\n",
    "wandb.init(project=\"CAD - Glaucoma Segmentation\",\n",
    "            name=f\"aug - {wandb_init_name}\",\n",
    "            config=hyperparam)\n",
    "## write the training history and validation result to wandb log\n",
    "for epoch in range(len(history.history[\"loss\"])):\n",
    "    wandb.log({\n",
    "        \"train_loss\": history.history[\"loss\"][epoch],\n",
    "        \"train_accuracy\": history.history[\"mean_px_acc\"][epoch],\n",
    "        \"train_auc\": history.history[\"auc\"][epoch],\n",
    "        \"train_precision\": history.history[\"precision\"][epoch],\n",
    "        \"train_recall\": history.history[\"recall\"][epoch],\n",
    "        \"train_f1\": 2 * (history.history[\"precision\"][epoch] * history.history[\"recall\"][epoch]) / (history.history[\"precision\"][epoch] + history.history[\"recall\"][epoch] + 1e-7),\n",
    "        \"val_loss\": history.history[\"val_loss\"][epoch],\n",
    "        \"val_accuracy\": history.history[\"val_mean_px_acc\"][epoch],\n",
    "        \"val_auc\": history.history[\"val_auc\"][epoch],\n",
    "        \"val_precision\": history.history[\"val_precision\"][epoch],\n",
    "        \"val_recall\": history.history[\"val_recall\"][epoch],\n",
    "        \"val_f1\": 2 * (history.history[\"val_precision\"][epoch] * history.history[\"val_recall\"][epoch]) / (history.history[\"val_precision\"][epoch] + history.history[\"val_recall\"][epoch] + 1e-7),\n",
    "    })\n",
    "## store the model artifact\n",
    "wandb.log_artifact(os.path.join(path_model, f\"{file_model_name}.h5\"))\n",
    "wandb.finish()"
   ]
  },
  {
   "cell_type": "code",
   "execution_count": null,
   "metadata": {},
   "outputs": [
    {
     "name": "stderr",
     "output_type": "stream",
     "text": [
      "unet_model_aug.h5: 100%|██████████| 1.57M/1.57M [00:02<00:00, 575kB/s] \n"
     ]
    },
    {
     "data": {
      "text/plain": [
       "CommitInfo(commit_url='https://huggingface.co/bugi-sulistiyo/CAD-Glaucoma_Segmentation/commit/a9e6320f4c837eb81b76adb33774960afbf63957', commit_message='aug - retrain the model', commit_description='', oid='a9e6320f4c837eb81b76adb33774960afbf63957', pr_url=None, repo_url=RepoUrl('https://huggingface.co/bugi-sulistiyo/CAD-Glaucoma_Segmentation', endpoint='https://huggingface.co', repo_type='model', repo_id='bugi-sulistiyo/CAD-Glaucoma_Segmentation'), pr_revision=None, pr_num=None)"
      ]
     },
     "execution_count": 26,
     "metadata": {},
     "output_type": "execute_result"
    }
   ],
   "source": [
    "## push the model to the huggingface hub\n",
    "api.upload_file(\n",
    "    repo_id=repo.repo_id,\n",
    "    path_or_fileobj=os.path.join(path_model, f\"{file_model_name}.h5\"),\n",
    "    path_in_repo=f\"model/{file_model_name}.h5\",\n",
    "    repo_type=repo.repo_type,\n",
    "    commit_message=f\"aug - {hf_commit_message}\",\n",
    ")"
   ]
  }
 ],
 "metadata": {
  "kernelspec": {
   "display_name": "modeling",
   "language": "python",
   "name": "python3"
  },
  "language_info": {
   "codemirror_mode": {
    "name": "ipython",
    "version": 3
   },
   "file_extension": ".py",
   "mimetype": "text/x-python",
   "name": "python",
   "nbconvert_exporter": "python",
   "pygments_lexer": "ipython3",
   "version": "3.9.20"
  }
 },
 "nbformat": 4,
 "nbformat_minor": 2
}
