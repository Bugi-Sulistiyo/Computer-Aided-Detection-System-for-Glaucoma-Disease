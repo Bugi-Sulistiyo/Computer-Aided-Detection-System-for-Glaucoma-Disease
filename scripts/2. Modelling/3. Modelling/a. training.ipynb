{
 "cells": [
  {
   "cell_type": "code",
   "execution_count": 1,
   "metadata": {},
   "outputs": [],
   "source": [
    "import sys\n",
    "sys.path.insert(0, \"./../\")\n",
    "\n",
    "import os\n",
    "import utils_modelling as utils"
   ]
  },
  {
   "cell_type": "code",
   "execution_count": 2,
   "metadata": {},
   "outputs": [],
   "source": [
    "path_dataset = \"./../../../dataset_used_split\"\n",
    "path_train = os.path.join(path_dataset, \"train\")\n",
    "path_val = os.path.join(path_dataset, \"val\")\n",
    "path_test = os.path.join(path_dataset, \"test\")"
   ]
  },
  {
   "cell_type": "code",
   "execution_count": 3,
   "metadata": {},
   "outputs": [],
   "source": [
    "train_img, train_mask = utils.load_img_mask(path_train)\n",
    "val_img, val_mask = utils.load_img_mask(path_val)\n",
    "test_img, test_mask = utils.load_img_mask(path_test)"
   ]
  },
  {
   "cell_type": "code",
   "execution_count": 4,
   "metadata": {},
   "outputs": [],
   "source": [
    "trainset = utils.create_dataset(train_img, train_mask)\n",
    "valset = utils.create_dataset(val_img, val_mask)\n",
    "testset = utils.create_dataset(test_img, test_mask)"
   ]
  },
  {
   "cell_type": "code",
   "execution_count": 5,
   "metadata": {},
   "outputs": [
    {
     "name": "stdout",
     "output_type": "stream",
     "text": [
      "Epoch 1/10\n",
      "16/16 [==============================] - 30s 717ms/step - loss: 0.7098 - sparse_categorical_accuracy: 0.8820 - val_loss: 0.2834 - val_sparse_categorical_accuracy: 0.9825\n",
      "Epoch 2/10\n",
      "16/16 [==============================] - 7s 443ms/step - loss: 0.1452 - sparse_categorical_accuracy: 0.9826 - val_loss: 0.0763 - val_sparse_categorical_accuracy: 0.9825\n",
      "Epoch 3/10\n",
      "16/16 [==============================] - 8s 447ms/step - loss: 0.0740 - sparse_categorical_accuracy: 0.9826 - val_loss: 0.0644 - val_sparse_categorical_accuracy: 0.9825\n",
      "Epoch 4/10\n",
      "16/16 [==============================] - 6s 339ms/step - loss: 0.0667 - sparse_categorical_accuracy: 0.9826 - val_loss: 0.0683 - val_sparse_categorical_accuracy: 0.9825\n",
      "Epoch 5/10\n",
      "16/16 [==============================] - 5s 292ms/step - loss: 0.0729 - sparse_categorical_accuracy: 0.9826 - val_loss: 0.0596 - val_sparse_categorical_accuracy: 0.9825\n",
      "Epoch 6/10\n",
      "16/16 [==============================] - 5s 285ms/step - loss: 0.0673 - sparse_categorical_accuracy: 0.9826 - val_loss: 0.0715 - val_sparse_categorical_accuracy: 0.9825\n",
      "Epoch 7/10\n",
      "16/16 [==============================] - 6s 402ms/step - loss: 0.0573 - sparse_categorical_accuracy: 0.9826 - val_loss: 0.0544 - val_sparse_categorical_accuracy: 0.9825\n",
      "Epoch 8/10\n",
      "16/16 [==============================] - 10s 603ms/step - loss: 0.0561 - sparse_categorical_accuracy: 0.9826 - val_loss: 0.0522 - val_sparse_categorical_accuracy: 0.9825\n",
      "Epoch 9/10\n",
      "16/16 [==============================] - 7s 401ms/step - loss: 0.0506 - sparse_categorical_accuracy: 0.9826 - val_loss: 0.0469 - val_sparse_categorical_accuracy: 0.9825\n",
      "Epoch 10/10\n",
      "16/16 [==============================] - 9s 567ms/step - loss: 0.0452 - sparse_categorical_accuracy: 0.9826 - val_loss: 0.0400 - val_sparse_categorical_accuracy: 0.9825\n",
      "test loss: 0.03846689686179161\n",
      "test accuracy: 0.9829634428024292\n"
     ]
    }
   ],
   "source": [
    "unet_custom = utils.custom_unet()\n",
    "unet_custom, ev_loss, ev_acc = utils.train_model(unet_custom, trainset, valset, testset, \"unet_model\")\n",
    "print(f\"test loss: {ev_loss}\", f\"test accuracy: {ev_acc}\", sep=\"\\n\")"
   ]
  }
 ],
 "metadata": {
  "kernelspec": {
   "display_name": "modeling",
   "language": "python",
   "name": "python3"
  },
  "language_info": {
   "codemirror_mode": {
    "name": "ipython",
    "version": 3
   },
   "file_extension": ".py",
   "mimetype": "text/x-python",
   "name": "python",
   "nbconvert_exporter": "python",
   "pygments_lexer": "ipython3",
   "version": "3.10.14"
  }
 },
 "nbformat": 4,
 "nbformat_minor": 2
}
