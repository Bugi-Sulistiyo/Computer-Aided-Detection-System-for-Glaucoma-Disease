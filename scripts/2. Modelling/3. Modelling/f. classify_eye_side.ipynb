{
 "cells": [
  {
   "cell_type": "markdown",
   "id": "152c3b05",
   "metadata": {},
   "source": [
    "## Import the needed package"
   ]
  },
  {
   "cell_type": "code",
   "execution_count": null,
   "id": "cf62b5df",
   "metadata": {},
   "outputs": [],
   "source": [
    "# package to get the custom modules\n",
    "import sys\n",
    "# package to handle the "
   ]
  }
 ],
 "metadata": {
  "kernelspec": {
   "display_name": "modeling",
   "language": "python",
   "name": "python3"
  },
  "language_info": {
   "name": "python",
   "version": "3.9.20"
  }
 },
 "nbformat": 4,
 "nbformat_minor": 5
}
