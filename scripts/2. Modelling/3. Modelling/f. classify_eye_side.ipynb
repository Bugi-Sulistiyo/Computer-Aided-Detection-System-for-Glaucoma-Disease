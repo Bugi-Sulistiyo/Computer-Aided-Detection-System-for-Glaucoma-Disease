{
 "cells": [
  {
   "cell_type": "markdown",
   "id": "152c3b05",
   "metadata": {},
   "source": [
    "## Import the needed package"
   ]
  },
  {
   "cell_type": "code",
   "execution_count": 1,
   "id": "cf62b5df",
   "metadata": {},
   "outputs": [
    {
     "name": "stderr",
     "output_type": "stream",
     "text": [
      "c:\\Users\\Bugi\\miniconda3\\envs\\modeling\\lib\\site-packages\\tensorflow_addons\\utils\\tfa_eol_msg.py:23: UserWarning: \n",
      "\n",
      "TensorFlow Addons (TFA) has ended development and introduction of new features.\n",
      "TFA has entered a minimal maintenance and release mode until a planned end of life in May 2024.\n",
      "Please modify downstream libraries to take dependencies from other repositories in our TensorFlow community (e.g. Keras, Keras-CV, and Keras-NLP). \n",
      "\n",
      "For more information see: https://github.com/tensorflow/addons/issues/2807 \n",
      "\n",
      "  warnings.warn(\n",
      "c:\\Users\\Bugi\\miniconda3\\envs\\modeling\\lib\\site-packages\\tensorflow_addons\\utils\\ensure_tf_install.py:53: UserWarning: Tensorflow Addons supports using Python ops for all Tensorflow versions above or equal to 2.12.0 and strictly below 2.15.0 (nightly versions are not supported). \n",
      " The versions of TensorFlow you are currently using is 2.10.1 and is not supported. \n",
      "Some things might work, some things might not.\n",
      "If you were to encounter a bug, do not file an issue.\n",
      "If you want to make sure you're using a tested and supported configuration, either change the TensorFlow version or the TensorFlow Addons's version. \n",
      "You can find the compatibility matrix in TensorFlow Addon's readme:\n",
      "https://github.com/tensorflow/addons\n",
      "  warnings.warn(\n"
     ]
    }
   ],
   "source": [
    "# package to get the custom modules\n",
    "import sys\n",
    "# get the custom modules\n",
    "sys.path.insert(0, './../../utilities')\n",
    "# package for handling files\n",
    "import os\n",
    "# the custom modules\n",
    "import utilities as util\n",
    "# package for handling path\n",
    "import paths\n",
    "# package to handle random numbers\n",
    "from random import randint"
   ]
  },
  {
   "cell_type": "markdown",
   "id": "14e47d55",
   "metadata": {},
   "source": [
    "## Global Variable"
   ]
  },
  {
   "cell_type": "code",
   "execution_count": 2,
   "id": "c706620a",
   "metadata": {},
   "outputs": [],
   "source": [
    "# paths where dataset is stored\n",
    "path_test_ori = os.path.join(paths.path_split_origin, 'test')\n",
    "path_test_aug = os.path.join(paths.path_split_augment, 'test')"
   ]
  },
  {
   "cell_type": "markdown",
   "id": "1b0f47ff",
   "metadata": {},
   "source": [
    "## Get Dataset"
   ]
  },
  {
   "cell_type": "code",
   "execution_count": 3,
   "id": "30496ac7",
   "metadata": {},
   "outputs": [],
   "source": [
    "# get the image and mask files\n",
    "test_ori_img, test_ori_mask = util.load_img_mask(path_test_ori)\n",
    "test_aug_img, test_aug_mask = util.load_img_mask(path_test_aug)\n",
    "# create the tensorflow dataset\n",
    "testset_ori = util.create_dataset(test_ori_img, test_ori_mask)\n",
    "testset_aug = util.create_dataset(test_aug_img, test_aug_mask)"
   ]
  },
  {
   "cell_type": "markdown",
   "id": "37d54f15",
   "metadata": {},
   "source": [
    "## Create Predicted Result"
   ]
  },
  {
   "cell_type": "code",
   "execution_count": 4,
   "id": "2db40770",
   "metadata": {},
   "outputs": [
    {
     "name": "stdout",
     "output_type": "stream",
     "text": [
      "1/1 [==============================] - 26s 26s/step\n",
      "Unet model ori done\n",
      "1/1 [==============================] - 1s 588ms/step\n",
      "Unet model aug done\n",
      "1/1 [==============================] - 3s 3s/step\n",
      "Mnet model ori done\n",
      "1/1 [==============================] - 2s 2s/step\n",
      "Mnet model aug done\n",
      "WARNING:tensorflow:5 out of the last 5 calls to <function Model.make_predict_function.<locals>.predict_function at 0x000001DB946001F0> triggered tf.function retracing. Tracing is expensive and the excessive number of tracings could be due to (1) creating @tf.function repeatedly in a loop, (2) passing tensors with different shapes, (3) passing Python objects instead of tensors. For (1), please define your @tf.function outside of the loop. For (2), @tf.function has reduce_retracing=True option that can avoid unnecessary retracing. For (3), please refer to https://www.tensorflow.org/guide/function#controlling_retracing and https://www.tensorflow.org/api_docs/python/tf/function for  more details.\n",
      "1/1 [==============================] - 6s 6s/step\n",
      "Efnet model ori done\n",
      "WARNING:tensorflow:6 out of the last 6 calls to <function Model.make_predict_function.<locals>.predict_function at 0x000001DC9F326280> triggered tf.function retracing. Tracing is expensive and the excessive number of tracings could be due to (1) creating @tf.function repeatedly in a loop, (2) passing tensors with different shapes, (3) passing Python objects instead of tensors. For (1), please define your @tf.function outside of the loop. For (2), @tf.function has reduce_retracing=True option that can avoid unnecessary retracing. For (3), please refer to https://www.tensorflow.org/guide/function#controlling_retracing and https://www.tensorflow.org/api_docs/python/tf/function for  more details.\n",
      "1/1 [==============================] - 5s 5s/step\n",
      "Efnet model aug done\n"
     ]
    }
   ],
   "source": [
    "# model unet\n",
    "pred_unet_mask_ori, _ = util.predict_model(testset_ori, paths.path_model, \"unet_model_ori\")\n",
    "print(\"Unet model ori done\")\n",
    "pred_unet_mask_aug, _ = util.predict_model(testset_aug, paths.path_model, \"unet_model_aug\")\n",
    "print(\"Unet model aug done\")\n",
    "# model mobilenet\n",
    "pred_mnet_mask_ori, _ = util.predict_model(testset_ori, paths.path_model, \"mnet_model_ori\")\n",
    "print(\"Mnet model ori done\")\n",
    "pred_mnet_mask_aug, _ = util.predict_model(testset_aug, paths.path_model, \"mnet_model_aug\")\n",
    "print(\"Mnet model aug done\")\n",
    "# model efficientnet\n",
    "pred_efnet_mask_ori, _ = util.predict_model(testset_ori, paths.path_model, \"efnet_model_ori\")\n",
    "print(\"Efnet model ori done\")\n",
    "pred_efnet_mask_aug, _ = util.predict_model(testset_aug, paths.path_model, \"efnet_model_aug\")\n",
    "print(\"Efnet model aug done\")\n",
    "\n",
    "del _"
   ]
  },
  {
   "cell_type": "markdown",
   "id": "5341eedc",
   "metadata": {},
   "source": [
    "## Split The Mask Image"
   ]
  },
  {
   "cell_type": "code",
   "execution_count": 5,
   "id": "e8532c4e",
   "metadata": {},
   "outputs": [],
   "source": [
    "# set the threshold value\n",
    "threshold = .5"
   ]
  },
  {
   "cell_type": "code",
   "execution_count": 6,
   "id": "c065cfda",
   "metadata": {},
   "outputs": [
    {
     "name": "stdout",
     "output_type": "stream",
     "text": [
      "Unet model ori predicted mask\n",
      "Unet model aug predicted mask\n",
      "Mnet model ori predicted mask\n",
      "Mnet model aug predicted mask\n",
      "Efnet model ori predicted mask\n",
      "Efnet model aug predicted mask\n"
     ]
    }
   ],
   "source": [
    "# show the predicted disc and cup area for the unet model in the original dataset\n",
    "print(\"Unet model ori predicted mask\")\n",
    "unet_cup_mask_ori, unet_disc_mask_ori, unet_bcup_mask_ori, unet_bdisc_mask_ori = util.split_disc_cup_mask(pred_unet_mask_ori,\n",
    "                                                                                                            threshold,\n",
    "                                                                                                            visualize=False)\n",
    "# show the predicted disc and cup area for the unet model in the augmented dataset\n",
    "print(\"Unet model aug predicted mask\")\n",
    "unet_cup_mask_aug, unet_disc_mask_aug, unet_bcup_mask_aug, unet_bdisc_mask_aug = util.split_disc_cup_mask(pred_unet_mask_aug,\n",
    "                                                                                                            threshold,\n",
    "                                                                                                            visualize=False)\n",
    "\n",
    "# show the predicted disc and cup area for the efficientnet model in the original dataset\n",
    "print(\"Mnet model ori predicted mask\")\n",
    "mnet_cup_mask_ori, mnet_disc_mask_ori, mnet_bcup_mask_ori, mnet_bdisc_mask_ori = util.split_disc_cup_mask(pred_mnet_mask_ori,\n",
    "                                                                                                            threshold,\n",
    "                                                                                                            visualize=False)\n",
    "# show the predicted disc and cup area for the efficientnet model in the augmented dataset\n",
    "print(\"Mnet model aug predicted mask\")\n",
    "mnet_cup_mask_aug, mnet_disc_mask_aug, mnet_bcup_mask_aug, mnet_bdisc_mask_aug = util.split_disc_cup_mask(pred_mnet_mask_aug,\n",
    "                                                                                                            threshold,\n",
    "                                                                                                            visualize=False)\n",
    "\n",
    "# show the predicted disc and cup area for the efficientnet model in the original dataset\n",
    "print(\"Efnet model ori predicted mask\")\n",
    "efnet_cup_mask_ori, efnet_disc_mask_ori, efnet_bcup_mask_ori, efnet_bdisc_mask_ori = util.split_disc_cup_mask(pred_efnet_mask_ori,\n",
    "                                                                                                                threshold,\n",
    "                                                                                                                visualize=False)\n",
    "# show the predicted disc and cup area for the efficientnet model in the augmented dataset\n",
    "print(\"Efnet model aug predicted mask\")\n",
    "efnet_cup_mask_aug, efnet_disc_mask_aug, efnet_bcup_mask_aug, efnet_bdisc_mask_aug = util.split_disc_cup_mask(pred_efnet_mask_aug,\n",
    "                                                                                                                threshold,\n",
    "                                                                                                                visualize=False)"
   ]
  },
  {
   "cell_type": "markdown",
   "id": "a3749120",
   "metadata": {},
   "source": [
    "## Clasify The Eye Side\n",
    "\n",
    "Still on experiment"
   ]
  },
  {
   "cell_type": "code",
   "execution_count": 7,
   "id": "620147ef",
   "metadata": {},
   "outputs": [],
   "source": [
    "import matplotlib.pyplot as plt\n",
    "import numpy as np\n",
    "from skimage.measure import label, regionprops"
   ]
  },
  {
   "cell_type": "code",
   "execution_count": 13,
   "id": "6dee4270",
   "metadata": {},
   "outputs": [],
   "source": [
    "idx = randint(0, len(pred_unet_mask_ori)-1)"
   ]
  },
  {
   "cell_type": "code",
   "execution_count": 15,
   "id": "25d261cb",
   "metadata": {},
   "outputs": [],
   "source": [
    "d_ymin, d_ymax, d_xmin, d_xmax, d_height, d_width = util.get_bounding_box(mnet_bdisc_mask_ori[idx])"
   ]
  },
  {
   "cell_type": "code",
   "execution_count": 17,
   "id": "015c3c28",
   "metadata": {},
   "outputs": [
    {
     "data": {
      "image/png": "[encoded data removed]",
      "text/plain": [
       "<Figure size 640x480 with 2 Axes>"
      ]
     },
     "metadata": {},
     "output_type": "display_data"
    }
   ],
   "source": [
    "util.visualize_bounding_box(\"disc\", mnet_disc_mask_ori[idx], mnet_bdisc_mask_ori[idx],\n",
    "                            d_ymin, d_ymax, d_xmin, d_xmax)"
   ]
  },
  {
   "cell_type": "code",
   "execution_count": null,
   "id": "3d90b3a9",
   "metadata": {},
   "outputs": [
    {
     "data": {
      "text/plain": [
       "<PrefetchDataset element_spec=(TensorSpec(shape=(None, 128, 128, 3), dtype=tf.float32, name=None), TensorSpec(shape=(None, 128, 128, 3), dtype=tf.int32, name=None))>"
      ]
     },
     "execution_count": 19,
     "metadata": {},
     "output_type": "execute_result"
    }
   ],
   "source": [
    "for images, labels in testset_ori.take(1):\n",
    "    "
   ]
  }
 ],
 "metadata": {
  "kernelspec": {
   "display_name": "modeling",
   "language": "python",
   "name": "python3"
  },
  "language_info": {
   "codemirror_mode": {
    "name": "ipython",
    "version": 3
   },
   "file_extension": ".py",
   "mimetype": "text/x-python",
   "name": "python",
   "nbconvert_exporter": "python",
   "pygments_lexer": "ipython3",
   "version": "3.9.20"
  }
 },
 "nbformat": 4,
 "nbformat_minor": 5
}
