{
 "cells": [
  {
   "cell_type": "code",
   "execution_count": 2,
   "metadata": {},
   "outputs": [
    {
     "data": {
      "text/plain": [
       "True"
      ]
     },
     "execution_count": 2,
     "metadata": {},
     "output_type": "execute_result"
    }
   ],
   "source": [
    "# package for handling files and directories\n",
    "import os\n",
    "# package for handling the logs history\n",
    "import wandb\n",
    "# package for handling logs tabular data\n",
    "import pandas as pd\n",
    "# package for handling the environment variables\n",
    "from dotenv import load_dotenv\n",
    "# get the environment variables\n",
    "load_dotenv()"
   ]
  },
  {
   "cell_type": "code",
   "execution_count": 3,
   "metadata": {},
   "outputs": [],
   "source": [
    "path_full = os.environ.get(\"ORI_PATH\")\n",
    "path_model_log = os.path.join(path_full, \"data\", \"log_train\")\n",
    "wandb_repo = \"bugi-sulistiyo-universitas-mulawarman/CAD - Glaucoma Segmentation/\"\n",
    "run_id = os.environ.get(\"RUN_ID\")"
   ]
  },
  {
   "cell_type": "code",
   "execution_count": 4,
   "metadata": {},
   "outputs": [],
   "source": [
    "runs_id = {}\n",
    "for element in run_id.split(\",\"):\n",
    "    key, value = element.split(\":\")\n",
    "    runs_id[key] = value\n",
    "del run_id"
   ]
  },
  {
   "cell_type": "code",
   "execution_count": 5,
   "metadata": {},
   "outputs": [],
   "source": [
    "os.makedirs(path_model_log, exist_ok=True)"
   ]
  },
  {
   "cell_type": "code",
   "execution_count": 6,
   "metadata": {},
   "outputs": [],
   "source": [
    "api = wandb.Api()"
   ]
  },
  {
   "cell_type": "code",
   "execution_count": 22,
   "metadata": {},
   "outputs": [],
   "source": [
    "merge_df = pd.DataFrame()\n",
    "for model, log_id in runs_id.items():\n",
    "    run = api.run(f\"{wandb_repo}{log_id}\")\n",
    "    log_df = run.history()\n",
    "    log_df.sort_values(by=\"_step\", inplace=True)\n",
    "    log_df.drop(columns=[\"_timestamp\"], inplace=True)\n",
    "    log_df.rename(columns={\"_step\": \"epoch\"}, inplace=True)\n",
    "    log_df = log_df[[\"epoch\",\n",
    "                    \"train_loss\", \"train_auc\", \"train_f1\", \"train_accuracy\", \"train_precision\", \"train_recall\",\n",
    "                    \"val_loss\", \"val_auc\", \"val_f1\", \"val_accuracy\", \"val_precision\", \"val_recall\"]]\n",
    "    log_df.to_csv(os.path.join(path_model_log, f\"{model}.csv\"), index=False)\n",
    "    log_df[\"model\"] = model\n",
    "    merge_df = pd.concat([merge_df, log_df])\n",
    "\n",
    "merge_df.reset_index(drop=True, inplace=True)\n",
    "merge_df.to_csv(os.path.join(path_model_log, \"merged_log.csv\"), index=False)"
   ]
  }
 ],
 "metadata": {
  "kernelspec": {
   "display_name": "modeling",
   "language": "python",
   "name": "python3"
  },
  "language_info": {
   "codemirror_mode": {
    "name": "ipython",
    "version": 3
   },
   "file_extension": ".py",
   "mimetype": "text/x-python",
   "name": "python",
   "nbconvert_exporter": "python",
   "pygments_lexer": "ipython3",
   "version": "3.9.20"
  }
 },
 "nbformat": 4,
 "nbformat_minor": 2
}
