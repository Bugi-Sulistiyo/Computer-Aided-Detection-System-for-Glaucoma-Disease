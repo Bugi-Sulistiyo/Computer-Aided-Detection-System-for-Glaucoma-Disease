{
 "cells": [
  {
   "cell_type": "code",
   "execution_count": 21,
   "metadata": {},
   "outputs": [],
   "source": [
    "import os\n",
    "import numpy as np\n",
    "import cv2\n",
    "from PIL import Image\n",
    "import json"
   ]
  },
  {
   "cell_type": "code",
   "execution_count": 22,
   "metadata": {},
   "outputs": [],
   "source": [
    "path_main = \"./../../../dataset_processed\"\n",
    "path_img = os.path.join(path_main, \"fundus_image\")\n",
    "path_anot = os.path.join(path_main, \"annotations\")\n",
    "path_mask = \"./../../../dataset_used/mask_image\"\n",
    "classes = [\"glaucoma\", \"non_glaucoma\"]"
   ]
  },
  {
   "cell_type": "code",
   "execution_count": 23,
   "metadata": {},
   "outputs": [],
   "source": [
    "annots = {}\n",
    "for class_type in classes:\n",
    "    annots[class_type] = json.load(open([os.path.join(path_anot,\n",
    "                                                        class_type,\n",
    "                                                        file)\n",
    "                                            for file in os.listdir(os.path.join(path_anot,\n",
    "                                                                                class_type))\n",
    "                                            if file.endswith(\".json\")][0]))"
   ]
  },
  {
   "cell_type": "code",
   "execution_count": 31,
   "metadata": {},
   "outputs": [],
   "source": [
    "for class_type, annotations in annots.items():\n",
    "    for annotation in annotations:\n",
    "        if len(annotation[\"annotation\"]) < 2:\n",
    "            continue\n",
    "        b_mask = np.zeros((int(annotation[\"metadata\"][\"img_height\"]),\n",
    "                            int(annotation[\"metadata\"][\"img_width\"])), dtype=np.uint8)\n",
    "        \n",
    "        for polygon in sorted(annotation[\"annotation\"], key=lambda x: x[\"label\"], reverse=True):\n",
    "            label = 255 if polygon[\"label\"] == \"disc\" else 64\n",
    "            points = [list(map(np.float32, point.split(\",\"))) for point in polygon[\"points\"].split(\";\")]\n",
    "            cv2.fillPoly(b_mask, [np.array(points, dtype=np.int32)], color=label)\n",
    "        try:\n",
    "            os.remove(os.path.join(path_mask, f\"{annotation['metadata']['img_name'].split('.')[0]}.png\"))\n",
    "        except FileNotFoundError:\n",
    "            pass\n",
    "        Image.fromarray(b_mask).save(os.path.join(path_mask, f\"{annotation['metadata']['img_name'].split('.')[0]}_mask.png\"))"
   ]
  }
 ],
 "metadata": {
  "kernelspec": {
   "display_name": "research_prof_anin",
   "language": "python",
   "name": "python3"
  },
  "language_info": {
   "codemirror_mode": {
    "name": "ipython",
    "version": 3
   },
   "file_extension": ".py",
   "mimetype": "text/x-python",
   "name": "python",
   "nbconvert_exporter": "python",
   "pygments_lexer": "ipython3",
   "version": "3.10.11"
  }
 },
 "nbformat": 4,
 "nbformat_minor": 2
}
