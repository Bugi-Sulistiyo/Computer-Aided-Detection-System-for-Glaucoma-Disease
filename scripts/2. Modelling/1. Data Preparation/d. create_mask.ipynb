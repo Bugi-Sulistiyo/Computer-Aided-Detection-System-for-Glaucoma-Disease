{
 "cells": [
  {
   "cell_type": "markdown",
   "metadata": {},
   "source": [
    "### Import the needed package"
   ]
  },
  {
   "cell_type": "code",
   "execution_count": 21,
   "metadata": {},
   "outputs": [],
   "source": [
    "# package for handing files\n",
    "import os\n",
    "# package for handling images\n",
    "import numpy as np\n",
    "import cv2\n",
    "from PIL import Image\n",
    "# package for handling json files\n",
    "import json"
   ]
  },
  {
   "cell_type": "markdown",
   "metadata": {},
   "source": [
    "### Global variable"
   ]
  },
  {
   "cell_type": "code",
   "execution_count": 22,
   "metadata": {},
   "outputs": [],
   "source": [
    "path_main = \"./../../../dataset_processed\"\n",
    "path_img = os.path.join(path_main, \"fundus_image\")\n",
    "path_anot = os.path.join(path_main, \"annotations\")\n",
    "path_mask = \"./../../../dataset_used/mask_image\"\n",
    "classes = [\"glaucoma\", \"non_glaucoma\"]"
   ]
  },
  {
   "cell_type": "markdown",
   "metadata": {},
   "source": [
    "### Get the annotation information"
   ]
  },
  {
   "cell_type": "code",
   "execution_count": 23,
   "metadata": {},
   "outputs": [],
   "source": [
    "annots = {}\n",
    "for class_type in classes:\n",
    "    annots[class_type] = json.load(open([os.path.join(path_anot,\n",
    "                                                        class_type,\n",
    "                                                        file)\n",
    "                                            for file in os.listdir(os.path.join(path_anot,\n",
    "                                                                                class_type))\n",
    "                                            if file.endswith(\".json\")][0]))"
   ]
  },
  {
   "cell_type": "markdown",
   "metadata": {},
   "source": [
    "### Create the mask image"
   ]
  },
  {
   "cell_type": "code",
   "execution_count": 31,
   "metadata": {},
   "outputs": [],
   "source": [
    "# loop for each classes (glaucoma, non_glaucoma)\n",
    "for class_type, annotations in annots.items():\n",
    "    # loop for every image in the class\n",
    "    for annotation in annotations:\n",
    "        # make sure the image have disc and cup annotation\n",
    "        if len(annotation[\"annotation\"]) < 2:\n",
    "            continue\n",
    "        # create a black image with the same size as the image\n",
    "        b_mask = np.zeros((int(annotation[\"metadata\"][\"img_height\"]),\n",
    "                            int(annotation[\"metadata\"][\"img_width\"])), dtype=np.uint8)\n",
    "        \n",
    "        # draw the white space (mask area)\n",
    "        for polygon in sorted(annotation[\"annotation\"], key=lambda x: x[\"label\"], reverse=True):\n",
    "            # define the color of the mask\n",
    "            label = 255 if polygon[\"label\"] == \"disc\" else 64\n",
    "            # get points of the polygon\n",
    "            points = [list(map(np.float32, point.split(\",\"))) for point in polygon[\"points\"].split(\";\")]\n",
    "            # fill the polygon with the color\n",
    "            cv2.fillPoly(b_mask, [np.array(points, dtype=np.int32)], color=label)\n",
    "        # check the image already exist or not\n",
    "        try:\n",
    "            os.remove(os.path.join(path_mask, f\"{annotation['metadata']['img_name'].split('.')[0]}.png\"))\n",
    "        except FileNotFoundError:\n",
    "            pass\n",
    "        # save the mask image\n",
    "        Image.fromarray(b_mask).save(os.path.join(path_mask, f\"{annotation['metadata']['img_name'].split('.')[0]}_mask.png\"))"
   ]
  }
 ],
 "metadata": {
  "kernelspec": {
   "display_name": "research_prof_anin",
   "language": "python",
   "name": "python3"
  },
  "language_info": {
   "codemirror_mode": {
    "name": "ipython",
    "version": 3
   },
   "file_extension": ".py",
   "mimetype": "text/x-python",
   "name": "python",
   "nbconvert_exporter": "python",
   "pygments_lexer": "ipython3",
   "version": "3.10.11"
  }
 },
 "nbformat": 4,
 "nbformat_minor": 2
}
