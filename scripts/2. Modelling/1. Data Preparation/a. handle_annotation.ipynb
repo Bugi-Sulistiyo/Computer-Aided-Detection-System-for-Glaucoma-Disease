{
 "cells": [
  {
   "cell_type": "markdown",
   "metadata": {},
   "source": [
    "### Importing the necessary packages"
   ]
  },
  {
   "cell_type": "code",
   "execution_count": 1,
   "metadata": {},
   "outputs": [],
   "source": [
    "# handling the file system\n",
    "import os\n",
    "# handling metadata in the zip file\n",
    "import zipfile as zf\n",
    "import xml.etree.ElementTree as ET\n",
    "# documenting the annotation\n",
    "import pandas as pd\n",
    "# handling json file\n",
    "import json"
   ]
  },
  {
   "cell_type": "markdown",
   "metadata": {},
   "source": [
    "### Initialize the global variable"
   ]
  },
  {
   "cell_type": "code",
   "execution_count": 2,
   "metadata": {},
   "outputs": [],
   "source": [
    "# path to variable\n",
    "path_dataset = \"./../../../dataset_used/\"\n",
    "path_docs = \"./../../../data\"\n",
    "path_zip_files = os.path.join(path_dataset, \"zipped_files_annotation\")\n",
    "path_annotation = os.path.join(path_dataset, \"annotations\")\n",
    "# list variable\n",
    "labels  = ['glaucoma', 'non_glaucoma']"
   ]
  },
  {
   "cell_type": "markdown",
   "metadata": {},
   "source": [
    "### Create the directory to store the annotation file"
   ]
  },
  {
   "cell_type": "code",
   "execution_count": 3,
   "metadata": {},
   "outputs": [
    {
     "name": "stdout",
     "output_type": "stream",
     "text": [
      "./../../../dataset_used/annotations\\glaucoma directory already exists\n",
      "./../../../dataset_used/annotations\\non_glaucoma directory already exists\n"
     ]
    }
   ],
   "source": [
    "for label in labels:\n",
    "    labelled_dir = os.path.join(path_annotation, label)\n",
    "    if not os.path.exists(labelled_dir):\n",
    "        os.makedirs(labelled_dir)\n",
    "    else:\n",
    "        print(f\"{labelled_dir} directory already exists\")\n",
    "del labelled_dir"
   ]
  },
  {
   "cell_type": "markdown",
   "metadata": {},
   "source": [
    "### Handle the zipped files"
   ]
  },
  {
   "cell_type": "code",
   "execution_count": 4,
   "metadata": {},
   "outputs": [],
   "source": [
    "zip_files = [file for file in os.listdir(path_zip_files) if file.endswith(\".zip\")]  # List of all zip files\n",
    "\n",
    "for zip_file in zip_files:\n",
    "    with zf.ZipFile(os.path.join(path_zip_files, zip_file), 'r') as zip_ref:\n",
    "        if zip_file.startswith(labels[0]):\n",
    "            zip_ref.extractall(os.path.join(path_annotation, labels[0]))\n",
    "        elif zip_file.startswith(labels[1]):\n",
    "            zip_ref.extractall(os.path.join(path_annotation, labels[1]))"
   ]
  },
  {
   "cell_type": "markdown",
   "metadata": {},
   "source": [
    "### Handle the annotation files"
   ]
  },
  {
   "cell_type": "code",
   "execution_count": 5,
   "metadata": {},
   "outputs": [],
   "source": [
    "def get_annotation(xml_file:str, counter_id:int=1):\n",
    "    \"\"\"get the annotation from the xml file and document it in a dataframe\n",
    "\n",
    "    Args:\n",
    "        xml_file (str): the path to the xml file\n",
    "        counter_id (int, optional): the starting id for the annotation. Defaults to 0.\n",
    "\n",
    "    Returns:\n",
    "        list, pd.DataFrame: a list of dictionary containing the annotation and a dataframe documenting the annotation\n",
    "    \"\"\"\n",
    "    # Parse the xml file\n",
    "    tree = ET.parse(xml_file)\n",
    "    root = tree.getroot()\n",
    "    # Create a dataframe to document the annotation\n",
    "    documentation = pd.DataFrame(columns=['img_name', 'disc annotated', 'cup annotated'])\n",
    "    annotasi = []\n",
    "\n",
    "    # Loop through the xml file\n",
    "    for child in root:\n",
    "        if child.tag == \"image\":\n",
    "            metadata = {}\n",
    "            annot_content = []\n",
    "            metadata[\"id_count\"] = counter_id\n",
    "            metadata[\"img_name\"] = child.attrib[\"name\"]\n",
    "            metadata[\"img_width\"] = child.attrib[\"width\"]\n",
    "            metadata[\"img_height\"] = child.attrib[\"height\"]\n",
    "            for counter, subchild in enumerate(child):\n",
    "                content = {}\n",
    "                content[\"label\"] = subchild.attrib[\"label\"]\n",
    "                content[\"points\"] = subchild.attrib[\"points\"]\n",
    "                annot_content.append(content)\n",
    "            annotasi.append({\"metadata\": metadata,\n",
    "                            \"annotation\": annot_content})\n",
    "            documentation.loc[len(documentation)] = [metadata[\"img_name\"], True, True if counter == 1 else False]\n",
    "            counter_id += 1\n",
    "    \n",
    "    return annotasi, documentation, counter_id"
   ]
  },
  {
   "cell_type": "code",
   "execution_count": 6,
   "metadata": {},
   "outputs": [],
   "source": [
    "gcm_annot, gcm_documentation, gcm_lastid = get_annotation(os.path.join(path_annotation, labels[0], \"annotations1.xml\"))\n",
    "gcm_err_annot, gcm_err_documentation, _ = get_annotation(os.path.join(path_annotation, labels[0], \"annotations.xml\"), gcm_lastid)\n",
    "ngcm_annot, ngcm_documentation, _ = get_annotation(os.path.join(path_annotation, labels[1], \"annotations.xml\"))\n",
    "for annot in gcm_err_annot:\n",
    "    gcm_annot.append(annot)"
   ]
  },
  {
   "cell_type": "code",
   "execution_count": 7,
   "metadata": {},
   "outputs": [],
   "source": [
    "# merge the two documentations\n",
    "annotation_doc = pd.concat([gcm_err_documentation, gcm_documentation, ngcm_documentation], ignore_index=True)\n",
    "\n",
    "# add the label column\n",
    "annotation_doc[\"label\"] = annotation_doc[\"img_name\"].apply(lambda x: x.split(\"_\")[1])\n",
    "# add the status column\n",
    "annotation_doc.loc[annotation_doc[\"disc annotated\"] == annotation_doc[\"cup annotated\"], \"status\"] = \"keep\"\n",
    "annotation_doc.loc[annotation_doc[\"disc annotated\"] != annotation_doc[\"cup annotated\"], \"status\"] = \"discard\"\n",
    "# change the label to the actual label\n",
    "annotation_doc[\"label\"] = annotation_doc[\"label\"].apply(lambda x: labels[0] if x == \"1\" else labels[1])"
   ]
  },
  {
   "cell_type": "code",
   "execution_count": 8,
   "metadata": {},
   "outputs": [],
   "source": [
    "ngcm = annotation_doc.loc[annotation_doc.label == labels[1]]\n",
    "gcm = annotation_doc.loc[annotation_doc.label == labels[0]]"
   ]
  },
  {
   "cell_type": "code",
   "execution_count": 9,
   "metadata": {},
   "outputs": [],
   "source": [
    "gcm_view = pd.DataFrame(gcm.status.value_counts())\n",
    "ngcm_view = pd.DataFrame(ngcm.status.value_counts())\n",
    "\n",
    "gcm_view[\"glaucoma percentage\"] = round(gcm.status.value_counts(normalize=True) * 100, 2)\n",
    "ngcm_view[\"non-glaucoma percentage\"] = round(ngcm.status.value_counts(normalize=True) * 100, 2)\n",
    "\n",
    "gcm_view.reset_index(inplace=True)\n",
    "ngcm_view.reset_index(inplace=True)\n",
    "\n",
    "gcm_view.rename(columns={\"count\":\"glaucoma cnt\"}, inplace=True)\n",
    "ngcm_view.rename(columns={\"count\":\"non-glaucoma cnt\"}, inplace=True)"
   ]
  },
  {
   "cell_type": "code",
   "execution_count": 10,
   "metadata": {},
   "outputs": [
    {
     "data": {
      "text/html": [
       "<div>\n",
       "<style scoped>\n",
       "    .dataframe tbody tr th:only-of-type {\n",
       "        vertical-align: middle;\n",
       "    }\n",
       "\n",
       "    .dataframe tbody tr th {\n",
       "        vertical-align: top;\n",
       "    }\n",
       "\n",
       "    .dataframe thead th {\n",
       "        text-align: right;\n",
       "    }\n",
       "</style>\n",
       "<table border=\"1\" class=\"dataframe\">\n",
       "  <thead>\n",
       "    <tr style=\"text-align: right;\">\n",
       "      <th></th>\n",
       "      <th>status</th>\n",
       "      <th>non-glaucoma cnt</th>\n",
       "      <th>non-glaucoma percentage</th>\n",
       "      <th>glaucoma cnt</th>\n",
       "      <th>glaucoma percentage</th>\n",
       "    </tr>\n",
       "  </thead>\n",
       "  <tbody>\n",
       "    <tr>\n",
       "      <th>0</th>\n",
       "      <td>discard</td>\n",
       "      <td>29</td>\n",
       "      <td>14.72</td>\n",
       "      <td>36</td>\n",
       "      <td>16.22</td>\n",
       "    </tr>\n",
       "    <tr>\n",
       "      <th>1</th>\n",
       "      <td>keep</td>\n",
       "      <td>168</td>\n",
       "      <td>85.28</td>\n",
       "      <td>186</td>\n",
       "      <td>83.78</td>\n",
       "    </tr>\n",
       "  </tbody>\n",
       "</table>\n",
       "</div>"
      ],
      "text/plain": [
       "    status  non-glaucoma cnt  non-glaucoma percentage  glaucoma cnt  \\\n",
       "0  discard                29                    14.72            36   \n",
       "1     keep               168                    85.28           186   \n",
       "\n",
       "   glaucoma percentage  \n",
       "0                16.22  \n",
       "1                83.78  "
      ]
     },
     "execution_count": 10,
     "metadata": {},
     "output_type": "execute_result"
    }
   ],
   "source": [
    "sum_view = ngcm_view.merge(gcm_view, on=\"status\", how=\"outer\")\n",
    "sum_view"
   ]
  },
  {
   "cell_type": "markdown",
   "metadata": {},
   "source": [
    "### Save annotation and documentation"
   ]
  },
  {
   "cell_type": "code",
   "execution_count": 11,
   "metadata": {},
   "outputs": [],
   "source": [
    "# documentation of the annotation\n",
    "sum_view.to_excel(os.path.join(path_docs, \"summary_annotation_documentation.xlsx\"), index=False)\n",
    "annotation_doc.to_csv(os.path.join(path_docs, \"annotation_documentation.csv\"), index=False)"
   ]
  },
  {
   "cell_type": "code",
   "execution_count": 12,
   "metadata": {},
   "outputs": [],
   "source": [
    "# the annotation\n",
    "with open(os.path.join(path_annotation, labels[0], \"annotations.json\"), \"w\") as file:\n",
    "    json.dump(gcm_annot, file)\n",
    "with open(os.path.join(path_annotation, labels[1], \"annotations.json\"), \"w\") as file:\n",
    "    json.dump(ngcm_annot, file)"
   ]
  }
 ],
 "metadata": {
  "kernelspec": {
   "display_name": "research_prof_anin",
   "language": "python",
   "name": "python3"
  },
  "language_info": {
   "codemirror_mode": {
    "name": "ipython",
    "version": 3
   },
   "file_extension": ".py",
   "mimetype": "text/x-python",
   "name": "python",
   "nbconvert_exporter": "python",
   "pygments_lexer": "ipython3",
   "version": "3.10.11"
  }
 },
 "nbformat": 4,
 "nbformat_minor": 2
}
