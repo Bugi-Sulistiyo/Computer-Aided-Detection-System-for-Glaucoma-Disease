{
 "cells": [
  {
   "cell_type": "markdown",
   "metadata": {},
   "source": [
    "### Importing the necessary packages"
   ]
  },
  {
   "cell_type": "code",
   "execution_count": 54,
   "metadata": {},
   "outputs": [],
   "source": [
    "# handling the file system\n",
    "import os\n",
    "# handling metadata in the zip file\n",
    "import zipfile as zf\n",
    "import xml.etree.ElementTree as ET\n",
    "# documenting the annotation\n",
    "import pandas as pd"
   ]
  },
  {
   "cell_type": "markdown",
   "metadata": {},
   "source": [
    "### Initialize the global variable"
   ]
  },
  {
   "cell_type": "code",
   "execution_count": 14,
   "metadata": {},
   "outputs": [],
   "source": [
    "# path to variable\n",
    "path_dataset = \"./../../../dataset_used/\"\n",
    "path_zip_files = os.path.join(path_dataset, \"zipped_files\")\n",
    "path_annotation = os.path.join(path_dataset, \"annotations\")\n",
    "# list variable\n",
    "labels  = ['glaucoma', 'non_glaucoma']"
   ]
  },
  {
   "cell_type": "markdown",
   "metadata": {},
   "source": [
    "### Create the directory to store the annotation file"
   ]
  },
  {
   "cell_type": "code",
   "execution_count": 16,
   "metadata": {},
   "outputs": [
    {
     "name": "stdout",
     "output_type": "stream",
     "text": [
      "./../../../dataset_used/annotations\\glaucoma directory already exists\n",
      "./../../../dataset_used/annotations\\non_glaucoma directory already exists\n"
     ]
    }
   ],
   "source": [
    "for label in labels:\n",
    "    labelled_dir = os.path.join(path_annotation, label)\n",
    "    if not os.path.exists(labelled_dir):\n",
    "        os.makedirs(labelled_dir)\n",
    "    else:\n",
    "        print(f\"{labelled_dir} directory already exists\")\n",
    "del labelled_dir"
   ]
  },
  {
   "cell_type": "markdown",
   "metadata": {},
   "source": [
    "### Handle the zipped files"
   ]
  },
  {
   "cell_type": "code",
   "execution_count": 22,
   "metadata": {},
   "outputs": [],
   "source": [
    "zip_files = [file for file in os.listdir(path_zip_files) if file.endswith(\".zip\")]  # List of all zip files\n",
    "\n",
    "for zip_file in zip_files:\n",
    "    with zf.ZipFile(os.path.join(path_zip_files, zip_file), 'r') as zip_ref:\n",
    "        if zip_file.startswith(labels[0]):\n",
    "            zip_ref.extractall(os.path.join(path_annotation, labels[0]))\n",
    "        elif zip_file.startswith(labels[1]):\n",
    "            zip_ref.extractall(os.path.join(path_annotation, labels[1]))"
   ]
  },
  {
   "cell_type": "markdown",
   "metadata": {},
   "source": [
    "### Handle the annotation files"
   ]
  },
  {
   "cell_type": "code",
   "execution_count": 57,
   "metadata": {},
   "outputs": [],
   "source": [
    "def get_annotation(xml_file:str):\n",
    "    \"\"\"get the annotation from the xml file and document it in a dataframe\n",
    "\n",
    "    Args:\n",
    "        xml_file (str): the path to the xml file\n",
    "\n",
    "    Returns:\n",
    "        list, pd.DataFrame: a list of dictionary containing the annotation and a dataframe documenting the annotation\n",
    "    \"\"\"\n",
    "    # Parse the xml file\n",
    "    tree = ET.parse(xml_file)\n",
    "    root = tree.getroot()\n",
    "    # Create a dataframe to document the annotation\n",
    "    documentation = pd.DataFrame(columns=['img_name', 'disc annotated', 'cup annotated'])\n",
    "    annotasi = []\n",
    "\n",
    "    # Loop through the xml file\n",
    "    for child in root:\n",
    "        if child.tag == \"image\":\n",
    "            metadata = {}\n",
    "            annot_content = []\n",
    "            metadata[\"img_name\"] = child.attrib[\"name\"]\n",
    "            metadata[\"img_width\"] = child.attrib[\"width\"]\n",
    "            metadata[\"img_height\"] = child.attrib[\"height\"]\n",
    "            for counter, subchild in enumerate(child):\n",
    "                content = {}\n",
    "                content[\"label\"] = subchild.attrib[\"label\"]\n",
    "                content[\"points\"] = subchild.attrib[\"points\"]\n",
    "                annot_content.append(content)\n",
    "            annotasi.append({\"metadata\": metadata,\n",
    "                            \"annotation\": annot_content})\n",
    "            documentation.loc[len(documentation)] = [metadata[\"img_name\"], True, True if counter == 1 else False]\n",
    "    \n",
    "    return annotasi, documentation"
   ]
  },
  {
   "cell_type": "code",
   "execution_count": 58,
   "metadata": {},
   "outputs": [
    {
     "data": {
      "text/html": [
       "<div>\n",
       "<style scoped>\n",
       "    .dataframe tbody tr th:only-of-type {\n",
       "        vertical-align: middle;\n",
       "    }\n",
       "\n",
       "    .dataframe tbody tr th {\n",
       "        vertical-align: top;\n",
       "    }\n",
       "\n",
       "    .dataframe thead th {\n",
       "        text-align: right;\n",
       "    }\n",
       "</style>\n",
       "<table border=\"1\" class=\"dataframe\">\n",
       "  <thead>\n",
       "    <tr style=\"text-align: right;\">\n",
       "      <th></th>\n",
       "      <th>img_name</th>\n",
       "      <th>disc annotated</th>\n",
       "      <th>cup annotated</th>\n",
       "    </tr>\n",
       "  </thead>\n",
       "  <tbody>\n",
       "    <tr>\n",
       "      <th>0</th>\n",
       "      <td>fff_1_120793_l_2.jpg</td>\n",
       "      <td>True</td>\n",
       "      <td>True</td>\n",
       "    </tr>\n",
       "    <tr>\n",
       "      <th>1</th>\n",
       "      <td>fff_1_120793_l_4.jpg</td>\n",
       "      <td>True</td>\n",
       "      <td>True</td>\n",
       "    </tr>\n",
       "    <tr>\n",
       "      <th>2</th>\n",
       "      <td>fff_1_120793_r_1.jpg</td>\n",
       "      <td>True</td>\n",
       "      <td>False</td>\n",
       "    </tr>\n",
       "    <tr>\n",
       "      <th>3</th>\n",
       "      <td>fff_1_120793_r_2.jpg</td>\n",
       "      <td>True</td>\n",
       "      <td>False</td>\n",
       "    </tr>\n",
       "    <tr>\n",
       "      <th>4</th>\n",
       "      <td>fff_1_120793_r_3.jpg</td>\n",
       "      <td>True</td>\n",
       "      <td>False</td>\n",
       "    </tr>\n",
       "    <tr>\n",
       "      <th>5</th>\n",
       "      <td>fff_1_120793_r_4.jpg</td>\n",
       "      <td>True</td>\n",
       "      <td>False</td>\n",
       "    </tr>\n",
       "    <tr>\n",
       "      <th>6</th>\n",
       "      <td>fff_1_120793_r_5.jpg</td>\n",
       "      <td>True</td>\n",
       "      <td>False</td>\n",
       "    </tr>\n",
       "  </tbody>\n",
       "</table>\n",
       "</div>"
      ],
      "text/plain": [
       "               img_name  disc annotated  cup annotated\n",
       "0  fff_1_120793_l_2.jpg            True           True\n",
       "1  fff_1_120793_l_4.jpg            True           True\n",
       "2  fff_1_120793_r_1.jpg            True          False\n",
       "3  fff_1_120793_r_2.jpg            True          False\n",
       "4  fff_1_120793_r_3.jpg            True          False\n",
       "5  fff_1_120793_r_4.jpg            True          False\n",
       "6  fff_1_120793_r_5.jpg            True          False"
      ]
     },
     "execution_count": 58,
     "metadata": {},
     "output_type": "execute_result"
    }
   ],
   "source": [
    "documentation"
   ]
  }
 ],
 "metadata": {
  "kernelspec": {
   "display_name": "research_prof_anin",
   "language": "python",
   "name": "python3"
  },
  "language_info": {
   "codemirror_mode": {
    "name": "ipython",
    "version": 3
   },
   "file_extension": ".py",
   "mimetype": "text/x-python",
   "name": "python",
   "nbconvert_exporter": "python",
   "pygments_lexer": "ipython3",
   "version": "3.10.11"
  }
 },
 "nbformat": 4,
 "nbformat_minor": 2
}
