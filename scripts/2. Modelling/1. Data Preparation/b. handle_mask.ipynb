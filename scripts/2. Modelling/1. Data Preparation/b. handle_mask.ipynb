{
 "cells": [
  {
   "cell_type": "markdown",
   "metadata": {},
   "source": [
    "### Importing the necessary packages"
   ]
  },
  {
   "cell_type": "code",
   "execution_count": 25,
   "metadata": {},
   "outputs": [],
   "source": [
    "import os\n",
    "import shutil\n",
    "import zipfile as zf"
   ]
  },
  {
   "cell_type": "markdown",
   "metadata": {},
   "source": [
    "### Initialize the global variable"
   ]
  },
  {
   "cell_type": "code",
   "execution_count": 30,
   "metadata": {},
   "outputs": [],
   "source": [
    "path_dataset = \"./../../../dataset_processed/\"\n",
    "path_zip_files = os.path.join(path_dataset, \"zipped_files_mask\")\n",
    "classes = [\"glaucoma\", \"non_glaucoma\"]\n",
    "zip_files = [file for file in os.listdir(path_zip_files) if file.endswith(\".zip\")]"
   ]
  },
  {
   "cell_type": "markdown",
   "metadata": {},
   "source": [
    "### Create the directory to store the mask images"
   ]
  },
  {
   "cell_type": "code",
   "execution_count": 31,
   "metadata": {},
   "outputs": [],
   "source": [
    "for directory in [\"temp_mask_unzip\", \"mask_image\"]:\n",
    "    if directory == \"temp_mask_unzip\":\n",
    "        for file in zip_files:\n",
    "            new_dir = os.path.join(path_dataset, directory, file.split(\".\")[0])\n",
    "            if not os.path.exists(new_dir):\n",
    "                os.makedirs(new_dir)\n",
    "            else:\n",
    "                print(f\"Directory {new_dir} already exists\")\n",
    "    elif directory == \"mask_image\":\n",
    "        for class_name in classes:\n",
    "            new_dir = os.path.join(path_dataset, directory, class_name)\n",
    "            if not os.path.exists(new_dir):\n",
    "                os.makedirs(new_dir)\n",
    "            else:\n",
    "                print(f\"Directory {new_dir} already exists\")\n",
    "del directory, file, new_dir, class_name"
   ]
  },
  {
   "cell_type": "markdown",
   "metadata": {},
   "source": [
    "### Extract the zipped file"
   ]
  },
  {
   "cell_type": "code",
   "execution_count": 32,
   "metadata": {},
   "outputs": [],
   "source": [
    "for zip_file in zip_files:\n",
    "    with zf.ZipFile(os.path.join(path_zip_files, zip_file), \"r\") as zip_ref:\n",
    "        zip_ref.extractall(os.path.join(path_dataset, \"temp_mask_unzip\", zip_file.split(\".\")[0]))\n",
    "del zip_file, zip_ref"
   ]
  },
  {
   "cell_type": "markdown",
   "metadata": {},
   "source": [
    "### Merge the mask images"
   ]
  },
  {
   "cell_type": "code",
   "execution_count": 42,
   "metadata": {},
   "outputs": [],
   "source": [
    "for directory in zip_files:\n",
    "    directory = directory.split(\".\")[0]\n",
    "    for class_name in classes:\n",
    "        src_directory = os.path.join(path_dataset, \"temp_mask_unzip\", directory, \"SegmentationClass\")\n",
    "        dst_directory = os.path.join(path_dataset, \"mask_image\", class_name)\n",
    "        if class_name.split(\"_\")[0] in directory.split(\"_\")[1]:\n",
    "            for file in os.listdir(src_directory):\n",
    "                if file.endswith(\".png\"):\n",
    "                    shutil.copy(os.path.join(src_directory, file), dst_directory)\n",
    "del directory, src_directory, dst_directory, file, class_name"
   ]
  },
  {
   "cell_type": "markdown",
   "metadata": {},
   "source": [
    "### Remove the temporary directory"
   ]
  },
  {
   "cell_type": "code",
   "execution_count": 43,
   "metadata": {},
   "outputs": [],
   "source": [
    "shutil.rmtree(os.path.join(path_dataset, \"temp_mask_unzip\"))"
   ]
  }
 ],
 "metadata": {
  "kernelspec": {
   "display_name": "research_prof_anin",
   "language": "python",
   "name": "python3"
  },
  "language_info": {
   "codemirror_mode": {
    "name": "ipython",
    "version": 3
   },
   "file_extension": ".py",
   "mimetype": "text/x-python",
   "name": "python",
   "nbconvert_exporter": "python",
   "pygments_lexer": "ipython3",
   "version": "3.10.11"
  }
 },
 "nbformat": 4,
 "nbformat_minor": 2
}
