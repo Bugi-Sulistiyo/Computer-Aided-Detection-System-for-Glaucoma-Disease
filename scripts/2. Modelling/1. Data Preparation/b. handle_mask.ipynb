{
 "cells": [
  {
   "cell_type": "code",
   "execution_count": 1,
   "metadata": {},
   "outputs": [],
   "source": [
    "import os\n",
    "import zipfile as zf"
   ]
  },
  {
   "cell_type": "code",
   "execution_count": null,
   "metadata": {},
   "outputs": [],
   "source": [
    "path_dataset = \"./../../../dataset_used/\"\n",
    "path_zip_files = os.path.join(path_dataset, \"zipped_files_mask\")\n",
    "classes = [\"gluacoma\", \"non_glaucoma\"]"
   ]
  }
 ],
 "metadata": {
  "kernelspec": {
   "display_name": "research_prof_anin",
   "language": "python",
   "name": "python3"
  },
  "language_info": {
   "codemirror_mode": {
    "name": "ipython",
    "version": 3
   },
   "file_extension": ".py",
   "mimetype": "text/x-python",
   "name": "python",
   "nbconvert_exporter": "python",
   "pygments_lexer": "ipython3",
   "version": "3.10.11"
  }
 },
 "nbformat": 4,
 "nbformat_minor": 2
}
