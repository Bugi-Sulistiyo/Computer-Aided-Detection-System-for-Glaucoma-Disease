{
 "cells": [
  {
   "cell_type": "markdown",
   "metadata": {},
   "source": [
    "### Import the needed package"
   ]
  },
  {
   "cell_type": "code",
   "execution_count": 27,
   "metadata": {},
   "outputs": [],
   "source": [
    "# package for handling files and directories\n",
    "import os\n",
    "import shutil\n",
    "# package for handling data\n",
    "import json\n",
    "import pandas as pd"
   ]
  },
  {
   "cell_type": "markdown",
   "metadata": {},
   "source": [
    "### Global variable"
   ]
  },
  {
   "cell_type": "code",
   "execution_count": 37,
   "metadata": {},
   "outputs": [],
   "source": [
    "path_src_main = './../../../dataset_processed/'\n",
    "path_src_fundus = os.path.join(path_src_main, 'fundus_image')\n",
    "path_src_mask = os.path.join(path_src_main, 'mask_image')\n",
    "path_dst_main = './../../../dataset_used/'\n",
    "path_dst_fundus = os.path.join(path_dst_main, 'fundus_image')\n",
    "path_dst_mask = os.path.join(path_dst_main, 'mask_image')\n",
    "path_annot = os.path.join(path_src_main, 'annotations')\n",
    "path_data = './../../../data/'\n",
    "classes = os.listdir(path_src_fundus)"
   ]
  },
  {
   "cell_type": "markdown",
   "metadata": {},
   "source": [
    "### Filter the used image"
   ]
  },
  {
   "cell_type": "code",
   "execution_count": 12,
   "metadata": {},
   "outputs": [],
   "source": [
    "# import the metadata for each classes\n",
    "gcm_meta = json.load(open(os.path.join(path_annot, classes[0], 'annotations.json')))\n",
    "ngcm_meta = json.load(open(os.path.join(path_annot, classes[1], 'annotations.json')))"
   ]
  },
  {
   "cell_type": "code",
   "execution_count": 24,
   "metadata": {},
   "outputs": [],
   "source": [
    "used_img_gcm = []\n",
    "used_img_ngcm = []\n",
    "# get the list of images that have 2 annotations\n",
    "for image_meta in gcm_meta:\n",
    "    if len(image_meta['annotation']) == 2:\n",
    "        used_img_gcm.append(image_meta['metadata']['img_name'])\n",
    "for image_meta in ngcm_meta:\n",
    "    if len(image_meta['annotation']) == 2:\n",
    "        used_img_ngcm.append(image_meta['metadata']['img_name'])"
   ]
  },
  {
   "cell_type": "markdown",
   "metadata": {},
   "source": [
    "### Store the filtering summary result"
   ]
  },
  {
   "cell_type": "code",
   "execution_count": 41,
   "metadata": {},
   "outputs": [],
   "source": [
    "# define the dataframe structure\n",
    "filter_result = pd.DataFrame(columns=['class', 'used', 'deprecated', 'total', 'used_percentage', 'deprecated_percentage'])\n",
    "# fill the dataframe\n",
    "filter_result.loc[len(filter_result)] = ['glaucoma',\n",
    "                                        len(used_img_gcm),\n",
    "                                        len(gcm_meta) - len(used_img_gcm),\n",
    "                                        len(gcm_meta),\n",
    "                                        round(len(used_img_gcm) / len(gcm_meta) * 100, 2),\n",
    "                                        round((len(gcm_meta) - len(used_img_gcm)) / len(gcm_meta) * 100, 2)]\n",
    "filter_result.loc[len(filter_result)] = ['non_glaucoma',\n",
    "                                        len(used_img_ngcm),\n",
    "                                        len(ngcm_meta) - len(used_img_ngcm),\n",
    "                                        len(ngcm_meta),\n",
    "                                        round(len(used_img_ngcm) / len(ngcm_meta) * 100, 2),\n",
    "                                        round((len(ngcm_meta) - len(used_img_ngcm)) / len(ngcm_meta) * 100, 2)]\n",
    "filter_result.loc[len(filter_result)] = ['total',\n",
    "                                        len(used_img_gcm) + len(used_img_ngcm),\n",
    "                                        len(gcm_meta) + len(ngcm_meta) - len(used_img_gcm) - len(used_img_ngcm),\n",
    "                                        len(gcm_meta) + len(ngcm_meta),\n",
    "                                        round((len(used_img_gcm) + len(used_img_ngcm)) / (len(gcm_meta) + len(ngcm_meta)) * 100, 2),\n",
    "                                        round((len(gcm_meta) + len(ngcm_meta) - len(used_img_gcm) - len(used_img_ngcm)) / (len(gcm_meta) + len(ngcm_meta)) * 100, 2)]\n",
    "# save the dataframe\n",
    "filter_result.to_csv(os.path.join(path_data, 'filter_result.csv'), index=False)"
   ]
  },
  {
   "cell_type": "markdown",
   "metadata": {},
   "source": [
    "### Create the destination directory"
   ]
  },
  {
   "cell_type": "code",
   "execution_count": 7,
   "metadata": {},
   "outputs": [],
   "source": [
    "for new_dir in [path_dst_fundus, path_dst_mask]:\n",
    "    if not os.path.exists(new_dir):\n",
    "        os.makedirs(new_dir)\n",
    "    else:\n",
    "        print(f'{new_dir} already exists')"
   ]
  },
  {
   "cell_type": "markdown",
   "metadata": {},
   "source": [
    "### Copy the image"
   ]
  },
  {
   "cell_type": "code",
   "execution_count": 56,
   "metadata": {},
   "outputs": [],
   "source": [
    "for class_name, merged_img in {classes[0]:used_img_gcm, classes[1]:used_img_ngcm}.items():\n",
    "    for img in merged_img:\n",
    "        # copy the fundus images\n",
    "        src_fundus_path = os.path.join(path_src_fundus, class_name, img)\n",
    "        dst_fundus_path = os.path.join(path_dst_fundus, img)\n",
    "        try:\n",
    "            shutil.copy(src_fundus_path, dst_fundus_path)\n",
    "        except FileNotFoundError:\n",
    "            print(f'{src_fundus_path} not found')\n",
    "        except shutil.Error:\n",
    "            print(f'{dst_fundus_path} already exists')\n",
    "        # copy the mask images\n",
    "        src_mask_path = os.path.join(path_src_mask, class_name, img.replace('.jpg', '.png'))\n",
    "        dst_mask_path = os.path.join(path_dst_mask, img.replace('.jpg', '.png'))\n",
    "        try:\n",
    "            shutil.copy(src_mask_path, dst_mask_path)\n",
    "        except FileNotFoundError:\n",
    "            print(f'{src_mask_path} not found')\n",
    "        except shutil.Error:\n",
    "            print(f'{dst_fundus_path} already exists')"
   ]
  }
 ],
 "metadata": {
  "kernelspec": {
   "display_name": "research_prof_anin",
   "language": "python",
   "name": "python3"
  },
  "language_info": {
   "codemirror_mode": {
    "name": "ipython",
    "version": 3
   },
   "file_extension": ".py",
   "mimetype": "text/x-python",
   "name": "python",
   "nbconvert_exporter": "python",
   "pygments_lexer": "ipython3",
   "version": "3.10.11"
  }
 },
 "nbformat": 4,
 "nbformat_minor": 2
}
