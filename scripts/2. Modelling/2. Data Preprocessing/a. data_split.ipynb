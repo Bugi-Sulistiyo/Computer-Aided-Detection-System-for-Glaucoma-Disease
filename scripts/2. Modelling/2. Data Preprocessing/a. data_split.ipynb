{
 "cells": [
  {
   "cell_type": "markdown",
   "metadata": {},
   "source": [
    "### Import the needed packages"
   ]
  },
  {
   "cell_type": "code",
   "execution_count": 1,
   "metadata": {},
   "outputs": [],
   "source": [
    "# packages fro handling file and directory\n",
    "import os\n",
    "import sys\n",
    "\n",
    "sys.path.insert(0, \"./../\")\n",
    "import utils_preprocess as utils\n",
    "\n",
    "# packages for handling data\n",
    "import pandas as pd\n",
    "# packages for handling the spliting of data\n",
    "from sklearn.model_selection import StratifiedShuffleSplit"
   ]
  },
  {
   "cell_type": "markdown",
   "metadata": {},
   "source": [
    "### Global variable"
   ]
  },
  {
   "cell_type": "code",
   "execution_count": 2,
   "metadata": {},
   "outputs": [],
   "source": [
    "path_dataset = './../../../dataset_used/'\n",
    "split_ratio = {'direct': {'train': 0.7, 'val': 0.1, 'test': 0.2}, # split data directly into 3 subsets\n",
    "            'indirect': {'train': 0.875, 'val': 0.125, 'test': 0.2}} # split data into 2 subsets and then split the first subset into 2 subsets\n",
    "images = {}"
   ]
  },
  {
   "cell_type": "markdown",
   "metadata": {},
   "source": [
    "### Get the fundus and mask images list"
   ]
  },
  {
   "cell_type": "code",
   "execution_count": 3,
   "metadata": {},
   "outputs": [],
   "source": [
    "# get a list of used fundus and mask images\n",
    "for directory in os.listdir(path_dataset):\n",
    "    images[directory] = []\n",
    "    for file in os.listdir(os.path.join(path_dataset, directory)):\n",
    "        images[directory].append(file)"
   ]
  },
  {
   "cell_type": "code",
   "execution_count": 4,
   "metadata": {},
   "outputs": [
    {
     "data": {
      "text/html": [
       "<div>\n",
       "<style scoped>\n",
       "    .dataframe tbody tr th:only-of-type {\n",
       "        vertical-align: middle;\n",
       "    }\n",
       "\n",
       "    .dataframe tbody tr th {\n",
       "        vertical-align: top;\n",
       "    }\n",
       "\n",
       "    .dataframe thead th {\n",
       "        text-align: right;\n",
       "    }\n",
       "</style>\n",
       "<table border=\"1\" class=\"dataframe\">\n",
       "  <thead>\n",
       "    <tr style=\"text-align: right;\">\n",
       "      <th></th>\n",
       "      <th>fundus_image</th>\n",
       "      <th>mask_image</th>\n",
       "      <th>sts_validate</th>\n",
       "      <th>classes</th>\n",
       "    </tr>\n",
       "  </thead>\n",
       "  <tbody>\n",
       "    <tr>\n",
       "      <th>0</th>\n",
       "      <td>fff_0_111784_l_y.jpg</td>\n",
       "      <td>fff_0_111784_l_y_mask.png</td>\n",
       "      <td>True</td>\n",
       "      <td>non_glaucoma</td>\n",
       "    </tr>\n",
       "    <tr>\n",
       "      <th>1</th>\n",
       "      <td>fff_0_111784_r_y.jpg</td>\n",
       "      <td>fff_0_111784_r_y_mask.png</td>\n",
       "      <td>True</td>\n",
       "      <td>non_glaucoma</td>\n",
       "    </tr>\n",
       "  </tbody>\n",
       "</table>\n",
       "</div>"
      ],
      "text/plain": [
       "           fundus_image                 mask_image  sts_validate       classes\n",
       "0  fff_0_111784_l_y.jpg  fff_0_111784_l_y_mask.png          True  non_glaucoma\n",
       "1  fff_0_111784_r_y.jpg  fff_0_111784_r_y_mask.png          True  non_glaucoma"
      ]
     },
     "execution_count": 4,
     "metadata": {},
     "output_type": "execute_result"
    }
   ],
   "source": [
    "# store the data in a dataframe\n",
    "images = pd.DataFrame(images)\n",
    "\n",
    "images['sts_validate'] = images.fundus_image.apply(lambda x: x.split(\".\")[0]) == images.mask_image.apply(lambda x: x.split(\"_mask.\")[0])\n",
    "images['classes'] = images.fundus_image.apply(lambda x: x.split(\"_\")[1]).map({'0': 'non_glaucoma', '1': 'glaucoma'})\n",
    "\n",
    "images.head(2)"
   ]
  },
  {
   "cell_type": "markdown",
   "metadata": {},
   "source": [
    "### Split the data using stratified method"
   ]
  },
  {
   "cell_type": "code",
   "execution_count": 5,
   "metadata": {},
   "outputs": [],
   "source": [
    "# prepare the splitting tools\n",
    "sss_temp_test = StratifiedShuffleSplit(n_splits=1, test_size=split_ratio['indirect']['test'], random_state=191502)\n",
    "sss_train_val = StratifiedShuffleSplit(n_splits=1, test_size=split_ratio['indirect']['val'], random_state=191502)"
   ]
  },
  {
   "cell_type": "code",
   "execution_count": 6,
   "metadata": {},
   "outputs": [],
   "source": [
    "# split the data\n",
    "temp_index, test_index = next(sss_temp_test.split(images.fundus_image, images.classes))\n",
    "train_index, val_index = next(sss_train_val.split(images.iloc[temp_index].fundus_image, images.iloc[temp_index].classes))"
   ]
  },
  {
   "cell_type": "code",
   "execution_count": 7,
   "metadata": {},
   "outputs": [
    {
     "name": "stdout",
     "output_type": "stream",
     "text": [
      "temp data size\t: 282 -> 80%\n",
      "test data size\t: 71 -> 20%\n",
      "train data size\t: 246 -> 70%\n",
      "val data size\t: 36 -> 10%\n"
     ]
    }
   ],
   "source": [
    "# check the distribution of the data in each subset using percentage\n",
    "print(f'temp data size\\t: {len(temp_index)} -> {round(len(temp_index)/len(images)*100)}%',\n",
    "        f'test data size\\t: {len(test_index)} -> {round(len(test_index)/len(images)*100)}%',\n",
    "        f'train data size\\t: {len(train_index)} -> {round(len(train_index)/len(images)*100)}%',\n",
    "        f'val data size\\t: {len(val_index)} -> {round(len(val_index)/len(images)*100)}%',\n",
    "        sep='\\n')       "
   ]
  },
  {
   "cell_type": "code",
   "execution_count": 8,
   "metadata": {},
   "outputs": [],
   "source": [
    "# store the splitted data into different dataframes\n",
    "train_set = images.iloc[train_index]\n",
    "val_set = images.iloc[val_index]\n",
    "test_set = images.iloc[test_index]"
   ]
  },
  {
   "cell_type": "markdown",
   "metadata": {},
   "source": [
    "### Create directory to store the splitted dataset"
   ]
  },
  {
   "cell_type": "code",
   "execution_count": 9,
   "metadata": {},
   "outputs": [],
   "source": [
    "new_dir = './../../../dataset_used_split/'\n",
    "for subset in ['train', 'val', 'test']:\n",
    "    try:\n",
    "        os.makedirs(os.path.join(new_dir, subset))\n",
    "    except FileExistsError:\n",
    "        print(f'{subset} directory already exists')"
   ]
  },
  {
   "cell_type": "markdown",
   "metadata": {},
   "source": [
    "### Copy the splited image"
   ]
  },
  {
   "cell_type": "code",
   "execution_count": 10,
   "metadata": {},
   "outputs": [
    {
     "name": "stdout",
     "output_type": "stream",
     "text": [
      "copying fundus_image images\n"
     ]
    },
    {
     "name": "stdout",
     "output_type": "stream",
     "text": [
      "train done\n",
      "val done\n",
      "test done\n",
      "copying mask_image images\n",
      "train done\n",
      "val done\n",
      "test done\n"
     ]
    }
   ],
   "source": [
    "for img_type in ['fundus_image', 'mask_image']:\n",
    "    print(f'copying {img_type} images')\n",
    "    for subset, df in {'train': train_set, 'val': val_set, 'test': test_set}.items():\n",
    "        print(utils.copy_images(list(df[img_type]), subset,\n",
    "                            os.path.join(path_dataset, img_type),\n",
    "                            new_dir))"
   ]
  }
 ],
 "metadata": {
  "kernelspec": {
   "display_name": "research_prof_anin",
   "language": "python",
   "name": "python3"
  },
  "language_info": {
   "codemirror_mode": {
    "name": "ipython",
    "version": 3
   },
   "file_extension": ".py",
   "mimetype": "text/x-python",
   "name": "python",
   "nbconvert_exporter": "python",
   "pygments_lexer": "ipython3",
   "version": "3.10.11"
  }
 },
 "nbformat": 4,
 "nbformat_minor": 2
}
