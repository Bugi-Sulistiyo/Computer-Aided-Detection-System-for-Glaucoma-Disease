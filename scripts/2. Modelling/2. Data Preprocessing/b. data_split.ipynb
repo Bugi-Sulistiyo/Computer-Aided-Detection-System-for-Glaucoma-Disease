{
 "cells": [
  {
   "cell_type": "markdown",
   "metadata": {},
   "source": [
    "### Import the needed packages"
   ]
  },
  {
   "cell_type": "code",
   "execution_count": 23,
   "metadata": {},
   "outputs": [],
   "source": [
    "# packages fro handling file and directory\n",
    "import os\n",
    "import sys\n",
    "\n",
    "sys.path.insert(0, \"./../\")\n",
    "import utils_preprocess as utils\n",
    "\n",
    "# packages for handling data\n",
    "import pandas as pd\n",
    "# packages for handling the spliting of data\n",
    "from sklearn.model_selection import StratifiedShuffleSplit"
   ]
  },
  {
   "cell_type": "markdown",
   "metadata": {},
   "source": [
    "### Global variable"
   ]
  },
  {
   "cell_type": "code",
   "execution_count": 24,
   "metadata": {},
   "outputs": [],
   "source": [
    "path_dataset = './../../../dataset_used/'\n",
    "split_ratio = {'direct': {'train': 0.7, 'val': 0.1, 'test': 0.2}, # split data directly into 3 subsets\n",
    "            'indirect': {'train': 0.875, 'val': 0.125, 'test': 0.2}} # split data into 2 subsets and then split the first subset into 2 subsets\n",
    "images = {}"
   ]
  },
  {
   "cell_type": "markdown",
   "metadata": {},
   "source": [
    "### Get the fundus and mask images list"
   ]
  },
  {
   "cell_type": "code",
   "execution_count": 25,
   "metadata": {},
   "outputs": [],
   "source": [
    "# get a list of used fundus and mask images\n",
    "for directory in os.listdir(path_dataset):\n",
    "    images[directory] = []\n",
    "    for file in os.listdir(os.path.join(path_dataset, directory)):\n",
    "        images[directory].append(file)"
   ]
  },
  {
   "cell_type": "code",
   "execution_count": 26,
   "metadata": {},
   "outputs": [
    {
     "data": {
      "text/html": [
       "<div>\n",
       "<style scoped>\n",
       "    .dataframe tbody tr th:only-of-type {\n",
       "        vertical-align: middle;\n",
       "    }\n",
       "\n",
       "    .dataframe tbody tr th {\n",
       "        vertical-align: top;\n",
       "    }\n",
       "\n",
       "    .dataframe thead th {\n",
       "        text-align: right;\n",
       "    }\n",
       "</style>\n",
       "<table border=\"1\" class=\"dataframe\">\n",
       "  <thead>\n",
       "    <tr style=\"text-align: right;\">\n",
       "      <th></th>\n",
       "      <th>aug_image</th>\n",
       "      <th>fundus_image</th>\n",
       "      <th>mask_image</th>\n",
       "      <th>sts_validate</th>\n",
       "      <th>classes</th>\n",
       "    </tr>\n",
       "  </thead>\n",
       "  <tbody>\n",
       "    <tr>\n",
       "      <th>0</th>\n",
       "      <td>fff_0_111784_l_y_aug.jpg</td>\n",
       "      <td>fff_0_111784_l_y.jpg</td>\n",
       "      <td>fff_0_111784_l_y_mask.png</td>\n",
       "      <td>True</td>\n",
       "      <td>non_glaucoma</td>\n",
       "    </tr>\n",
       "    <tr>\n",
       "      <th>1</th>\n",
       "      <td>fff_0_111784_r_y_aug.jpg</td>\n",
       "      <td>fff_0_111784_r_y.jpg</td>\n",
       "      <td>fff_0_111784_r_y_mask.png</td>\n",
       "      <td>True</td>\n",
       "      <td>non_glaucoma</td>\n",
       "    </tr>\n",
       "  </tbody>\n",
       "</table>\n",
       "</div>"
      ],
      "text/plain": [
       "                  aug_image          fundus_image                 mask_image  \\\n",
       "0  fff_0_111784_l_y_aug.jpg  fff_0_111784_l_y.jpg  fff_0_111784_l_y_mask.png   \n",
       "1  fff_0_111784_r_y_aug.jpg  fff_0_111784_r_y.jpg  fff_0_111784_r_y_mask.png   \n",
       "\n",
       "   sts_validate       classes  \n",
       "0          True  non_glaucoma  \n",
       "1          True  non_glaucoma  "
      ]
     },
     "execution_count": 26,
     "metadata": {},
     "output_type": "execute_result"
    }
   ],
   "source": [
    "# store the data in a dataframe\n",
    "images = pd.DataFrame(images)\n",
    "\n",
    "# add more columns to the dataframe\n",
    "images['sts_validate'] = images.fundus_image.apply(lambda x: x.split(\".\")[0]) == images.mask_image.apply(lambda x: x.split(\"_mask.\")[0])\n",
    "images['classes'] = images.fundus_image.apply(lambda x: x.split(\"_\")[1]).map({'0': 'non_glaucoma', '1': 'glaucoma'})\n",
    "\n",
    "images.head(2)"
   ]
  },
  {
   "cell_type": "markdown",
   "metadata": {},
   "source": [
    "### Split the data using stratified method"
   ]
  },
  {
   "cell_type": "code",
   "execution_count": 27,
   "metadata": {},
   "outputs": [],
   "source": [
    "# prepare the splitting tools\n",
    "sss_temp_test = StratifiedShuffleSplit(n_splits=1, test_size=split_ratio['indirect']['test'], random_state=191502)\n",
    "sss_train_val = StratifiedShuffleSplit(n_splits=1, test_size=split_ratio['indirect']['val'], random_state=191502)"
   ]
  },
  {
   "cell_type": "code",
   "execution_count": 28,
   "metadata": {},
   "outputs": [],
   "source": [
    "# split the original images\n",
    "temp_ori_index, test_ori_index = next(sss_temp_test.split(images.fundus_image, images.classes))\n",
    "train_ori_index, val_ori_index = next(sss_train_val.split(images.iloc[temp_ori_index].fundus_image, images.iloc[temp_ori_index].classes))\n",
    "# split the augmented images\n",
    "temp_aug_index, test_aug_index = next(sss_temp_test.split(images.aug_image, images.classes))\n",
    "train_aug_index, val_aug_index = next(sss_train_val.split(images.iloc[temp_aug_index].aug_image, images.iloc[temp_aug_index].classes))"
   ]
  },
  {
   "cell_type": "code",
   "execution_count": 29,
   "metadata": {},
   "outputs": [
    {
     "name": "stdout",
     "output_type": "stream",
     "text": [
      "Original Images\n",
      "temp data size\t: 282 -> 80%\n",
      "test data size\t: 71 -> 20%\n",
      "train data size\t: 246 -> 70%\n",
      "val data size\t: 36 -> 10%\n",
      "\n",
      "Augmented Images\n",
      "temp data size\t: 282 -> 80%\n",
      "test data size\t: 71 -> 20%\n",
      "train data size\t: 246 -> 70%\n",
      "val data size\t: 36 -> 10%\n",
      "\n"
     ]
    }
   ],
   "source": [
    "# check the distribution of the data in each subset using percentage\n",
    "print(\"Original Images\",\n",
    "        f'temp data size\\t: {len(temp_ori_index)} -> {round(len(temp_ori_index)/len(images)*100)}%',\n",
    "        f'test data size\\t: {len(test_ori_index)} -> {round(len(test_ori_index)/len(images)*100)}%',\n",
    "        f'train data size\\t: {len(train_ori_index)} -> {round(len(train_ori_index)/len(images)*100)}%',\n",
    "        f'val data size\\t: {len(val_ori_index)} -> {round(len(val_ori_index)/len(images)*100)}%',\n",
    "        sep='\\n', end='\\n\\n')\n",
    "print(\"Augmented Images\",\n",
    "        f'temp data size\\t: {len(temp_aug_index)} -> {round(len(temp_aug_index)/len(images)*100)}%',\n",
    "        f'test data size\\t: {len(test_aug_index)} -> {round(len(test_aug_index)/len(images)*100)}%',\n",
    "        f'train data size\\t: {len(train_aug_index)} -> {round(len(train_aug_index)/len(images)*100)}%',\n",
    "        f'val data size\\t: {len(val_aug_index)} -> {round(len(val_aug_index)/len(images)*100)}%',\n",
    "        sep='\\n', end='\\n\\n')       "
   ]
  },
  {
   "cell_type": "code",
   "execution_count": 30,
   "metadata": {},
   "outputs": [],
   "source": [
    "# store the splitted data into different dataframes\n",
    "# original images\n",
    "train_ori_set = images.iloc[train_ori_index]\n",
    "val_ori_set = images.iloc[val_ori_index]\n",
    "test_ori_set = images.iloc[test_ori_index]\n",
    "# augmented images\n",
    "train_aug_set = images.iloc[train_aug_index]\n",
    "val_aug_set = images.iloc[val_aug_index]\n",
    "test_aug_set = images.iloc[test_aug_index]"
   ]
  },
  {
   "cell_type": "markdown",
   "metadata": {},
   "source": [
    "### Create directory to store the splitted dataset"
   ]
  },
  {
   "cell_type": "code",
   "execution_count": 31,
   "metadata": {},
   "outputs": [],
   "source": [
    "new_ori_dir = './../../../dataset_used_split_ori/'\n",
    "new_aug_dir = './../../../dataset_used_split_aug/'\n",
    "for subset in ['train', 'val', 'test']:\n",
    "    try:\n",
    "        os.makedirs(os.path.join(new_ori_dir, subset)) # create the directory for the original images\n",
    "        os.makedirs(os.path.join(new_aug_dir, subset)) # create the directory for the augmented images\n",
    "    except FileExistsError:\n",
    "        print(f'{subset} directory already exists')"
   ]
  },
  {
   "cell_type": "markdown",
   "metadata": {},
   "source": [
    "### Copy the splited image"
   ]
  },
  {
   "cell_type": "code",
   "execution_count": 32,
   "metadata": {},
   "outputs": [
    {
     "name": "stdout",
     "output_type": "stream",
     "text": [
      "copying fundus_image original images\n"
     ]
    },
    {
     "name": "stdout",
     "output_type": "stream",
     "text": [
      "train done\n",
      "val done\n",
      "test done\n",
      "copying mask_image original images\n",
      "train done\n",
      "val done\n",
      "test done\n",
      "copying aug_image augmented images\n",
      "train done\n",
      "val done\n",
      "test done\n",
      "copying mask_image augmented images\n",
      "train done\n",
      "val done\n",
      "test done\n"
     ]
    }
   ],
   "source": [
    "for img_type in ['fundus_image', 'mask_image']:\n",
    "    print(f'copying {img_type} original images') # copy the original images\n",
    "    for subset, df in {'train': train_ori_set, 'val': val_ori_set, 'test': test_ori_set}.items():\n",
    "        print(utils.copy_images(list(df[img_type]), subset,\n",
    "                            os.path.join(path_dataset, img_type),\n",
    "                            new_ori_dir))\n",
    "for img_type in ['aug_image', 'mask_image']:\n",
    "    print(f'copying {img_type} augmented images') # copy the augmented images\n",
    "    for subset, df in {'train': train_aug_set, 'val': val_aug_set, 'test': test_aug_set}.items():\n",
    "        print(utils.copy_images(list(df[img_type]), subset,\n",
    "                            os.path.join(path_dataset, img_type),\n",
    "                            new_aug_dir))"
   ]
  }
 ],
 "metadata": {
  "kernelspec": {
   "display_name": "modeling",
   "language": "python",
   "name": "python3"
  },
  "language_info": {
   "codemirror_mode": {
    "name": "ipython",
    "version": 3
   },
   "file_extension": ".py",
   "mimetype": "text/x-python",
   "name": "python",
   "nbconvert_exporter": "python",
   "pygments_lexer": "ipython3",
   "version": "3.10.14"
  }
 },
 "nbformat": 4,
 "nbformat_minor": 2
}
