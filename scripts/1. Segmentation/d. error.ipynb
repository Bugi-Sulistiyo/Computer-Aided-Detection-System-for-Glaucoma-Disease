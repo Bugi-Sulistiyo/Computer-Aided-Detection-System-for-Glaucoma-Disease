{
 "cells": [
  {
   "cell_type": "markdown",
   "metadata": {},
   "source": [
    "# Tackling the error\n",
    "**Problems:**\n",
    "- There are 7 missing images\n",
    "- There are a corrupt images"
   ]
  },
  {
   "cell_type": "markdown",
   "metadata": {},
   "source": [
    "### Import the needed packages"
   ]
  },
  {
   "cell_type": "code",
   "execution_count": 1,
   "metadata": {},
   "outputs": [
    {
     "data": {
      "text/plain": [
       "True"
      ]
     },
     "execution_count": 1,
     "metadata": {},
     "output_type": "execute_result"
    }
   ],
   "source": [
    "# handling files\n",
    "import os\n",
    "# handling metadata\n",
    "import pandas as pd\n",
    "# handling images\n",
    "from PIL import Image\n",
    "# handling the environment variables\n",
    "from dotenv import load_dotenv\n",
    "# handling the python run\n",
    "import subprocess as sp\n",
    "# handling the pandas warnings\n",
    "pd.options.mode.copy_on_write = True\n",
    "# loading the environment variables\n",
    "load_dotenv()"
   ]
  },
  {
   "cell_type": "markdown",
   "metadata": {},
   "source": [
    "### Global variable"
   ]
  },
  {
   "cell_type": "code",
   "execution_count": 2,
   "metadata": {},
   "outputs": [],
   "source": [
    "path_full = os.environ.get(\"ORI_PATH\")\n",
    "dataset_path = os.path.join(path_full, 'datasets/preprocessed')\n",
    "metadata = pd.read_csv(os.path.join(path_full, \"data/refactored_metadata.csv\"))\n",
    "src_metadata = pd.read_csv(os.path.join(path_full, \"data/raw_metadata.csv\"))"
   ]
  },
  {
   "cell_type": "markdown",
   "metadata": {},
   "source": [
    "### Analyse the data"
   ]
  },
  {
   "cell_type": "code",
   "execution_count": 3,
   "metadata": {},
   "outputs": [
    {
     "data": {
      "text/html": [
       "<div>\n",
       "<style scoped>\n",
       "    .dataframe tbody tr th:only-of-type {\n",
       "        vertical-align: middle;\n",
       "    }\n",
       "\n",
       "    .dataframe tbody tr th {\n",
       "        vertical-align: top;\n",
       "    }\n",
       "\n",
       "    .dataframe thead th {\n",
       "        text-align: right;\n",
       "    }\n",
       "</style>\n",
       "<table border=\"1\" class=\"dataframe\">\n",
       "  <thead>\n",
       "    <tr style=\"text-align: right;\">\n",
       "      <th></th>\n",
       "      <th>id</th>\n",
       "      <th>file_name</th>\n",
       "    </tr>\n",
       "  </thead>\n",
       "  <tbody>\n",
       "    <tr>\n",
       "      <th>0</th>\n",
       "      <td>64992</td>\n",
       "      <td>fff_1_64992_r_n.jpg</td>\n",
       "    </tr>\n",
       "    <tr>\n",
       "      <th>1</th>\n",
       "      <td>64992</td>\n",
       "      <td>fff_1_64992_l_n.jpg</td>\n",
       "    </tr>\n",
       "    <tr>\n",
       "      <th>2</th>\n",
       "      <td>63298</td>\n",
       "      <td>fff_1_63298_r_1.jpg</td>\n",
       "    </tr>\n",
       "    <tr>\n",
       "      <th>3</th>\n",
       "      <td>63298</td>\n",
       "      <td>fff_1_63298_r_3.jpg</td>\n",
       "    </tr>\n",
       "    <tr>\n",
       "      <th>4</th>\n",
       "      <td>63298</td>\n",
       "      <td>fff_1_63298_r_2.jpg</td>\n",
       "    </tr>\n",
       "    <tr>\n",
       "      <th>...</th>\n",
       "      <td>...</td>\n",
       "      <td>...</td>\n",
       "    </tr>\n",
       "    <tr>\n",
       "      <th>560</th>\n",
       "      <td>121355</td>\n",
       "      <td>oct_0_121355_l_).jpg</td>\n",
       "    </tr>\n",
       "    <tr>\n",
       "      <th>561</th>\n",
       "      <td>121355</td>\n",
       "      <td>oct_0_121355_l_).jpg</td>\n",
       "    </tr>\n",
       "    <tr>\n",
       "      <th>562</th>\n",
       "      <td>121856</td>\n",
       "      <td>oct_0_121856_u_y.jpg</td>\n",
       "    </tr>\n",
       "    <tr>\n",
       "      <th>563</th>\n",
       "      <td>48763</td>\n",
       "      <td>oct_0_48763_r_d.jpg</td>\n",
       "    </tr>\n",
       "    <tr>\n",
       "      <th>564</th>\n",
       "      <td>48763</td>\n",
       "      <td>oct_0_48763_l_s.jpg</td>\n",
       "    </tr>\n",
       "  </tbody>\n",
       "</table>\n",
       "<p>565 rows × 2 columns</p>\n",
       "</div>"
      ],
      "text/plain": [
       "         id             file_name\n",
       "0     64992   fff_1_64992_r_n.jpg\n",
       "1     64992   fff_1_64992_l_n.jpg\n",
       "2     63298   fff_1_63298_r_1.jpg\n",
       "3     63298   fff_1_63298_r_3.jpg\n",
       "4     63298   fff_1_63298_r_2.jpg\n",
       "..      ...                   ...\n",
       "560  121355  oct_0_121355_l_).jpg\n",
       "561  121355  oct_0_121355_l_).jpg\n",
       "562  121856  oct_0_121856_u_y.jpg\n",
       "563   48763   oct_0_48763_r_d.jpg\n",
       "564   48763   oct_0_48763_l_s.jpg\n",
       "\n",
       "[565 rows x 2 columns]"
      ]
     },
     "execution_count": 3,
     "metadata": {},
     "output_type": "execute_result"
    }
   ],
   "source": [
    "metadata.drop(columns=[\"new_path\"])"
   ]
  },
  {
   "cell_type": "code",
   "execution_count": 4,
   "metadata": {},
   "outputs": [],
   "source": [
    "# isolate the real data by its file name\n",
    "real_data = pd.DataFrame(columns=['file_name'])"
   ]
  },
  {
   "cell_type": "code",
   "execution_count": 5,
   "metadata": {},
   "outputs": [
    {
     "data": {
      "text/html": [
       "<div>\n",
       "<style scoped>\n",
       "    .dataframe tbody tr th:only-of-type {\n",
       "        vertical-align: middle;\n",
       "    }\n",
       "\n",
       "    .dataframe tbody tr th {\n",
       "        vertical-align: top;\n",
       "    }\n",
       "\n",
       "    .dataframe thead th {\n",
       "        text-align: right;\n",
       "    }\n",
       "</style>\n",
       "<table border=\"1\" class=\"dataframe\">\n",
       "  <thead>\n",
       "    <tr style=\"text-align: right;\">\n",
       "      <th></th>\n",
       "      <th>index</th>\n",
       "      <th>file_name</th>\n",
       "      <th>id</th>\n",
       "    </tr>\n",
       "  </thead>\n",
       "  <tbody>\n",
       "    <tr>\n",
       "      <th>0</th>\n",
       "      <td>0</td>\n",
       "      <td>fff_1_100287_l_).jpg</td>\n",
       "      <td>100287</td>\n",
       "    </tr>\n",
       "    <tr>\n",
       "      <th>1</th>\n",
       "      <td>1</td>\n",
       "      <td>fff_1_100287_r_).jpg</td>\n",
       "      <td>100287</td>\n",
       "    </tr>\n",
       "    <tr>\n",
       "      <th>2</th>\n",
       "      <td>2</td>\n",
       "      <td>fff_1_10207_l_1.jpg</td>\n",
       "      <td>10207</td>\n",
       "    </tr>\n",
       "    <tr>\n",
       "      <th>3</th>\n",
       "      <td>3</td>\n",
       "      <td>fff_1_10207_l_2.jpg</td>\n",
       "      <td>10207</td>\n",
       "    </tr>\n",
       "    <tr>\n",
       "      <th>4</th>\n",
       "      <td>4</td>\n",
       "      <td>fff_1_10207_r_1.jpg</td>\n",
       "      <td>10207</td>\n",
       "    </tr>\n",
       "    <tr>\n",
       "      <th>...</th>\n",
       "      <td>...</td>\n",
       "      <td>...</td>\n",
       "      <td>...</td>\n",
       "    </tr>\n",
       "    <tr>\n",
       "      <th>553</th>\n",
       "      <td>553</td>\n",
       "      <td>oct_0_83528_r_l.jpg</td>\n",
       "      <td>83528</td>\n",
       "    </tr>\n",
       "    <tr>\n",
       "      <th>554</th>\n",
       "      <td>554</td>\n",
       "      <td>oct_0_84739_r_s.jpg</td>\n",
       "      <td>84739</td>\n",
       "    </tr>\n",
       "    <tr>\n",
       "      <th>555</th>\n",
       "      <td>555</td>\n",
       "      <td>oct_0_87588_r_s.jpg</td>\n",
       "      <td>87588</td>\n",
       "    </tr>\n",
       "    <tr>\n",
       "      <th>556</th>\n",
       "      <td>556</td>\n",
       "      <td>oct_0_89703_r_a.jpg</td>\n",
       "      <td>89703</td>\n",
       "    </tr>\n",
       "    <tr>\n",
       "      <th>557</th>\n",
       "      <td>557</td>\n",
       "      <td>oct_0_94825_r_a.jpg</td>\n",
       "      <td>94825</td>\n",
       "    </tr>\n",
       "  </tbody>\n",
       "</table>\n",
       "<p>558 rows × 3 columns</p>\n",
       "</div>"
      ],
      "text/plain": [
       "     index             file_name      id\n",
       "0        0  fff_1_100287_l_).jpg  100287\n",
       "1        1  fff_1_100287_r_).jpg  100287\n",
       "2        2   fff_1_10207_l_1.jpg   10207\n",
       "3        3   fff_1_10207_l_2.jpg   10207\n",
       "4        4   fff_1_10207_r_1.jpg   10207\n",
       "..     ...                   ...     ...\n",
       "553    553   oct_0_83528_r_l.jpg   83528\n",
       "554    554   oct_0_84739_r_s.jpg   84739\n",
       "555    555   oct_0_87588_r_s.jpg   87588\n",
       "556    556   oct_0_89703_r_a.jpg   89703\n",
       "557    557   oct_0_94825_r_a.jpg   94825\n",
       "\n",
       "[558 rows x 3 columns]"
      ]
     },
     "execution_count": 5,
     "metadata": {},
     "output_type": "execute_result"
    }
   ],
   "source": [
    "# iterate through the dataset and add the file names founded to the real_data dataframe\n",
    "for img_type in ['fundus_image', 'oct_image']:\n",
    "    for label in ['glaucoma', 'non_glaucoma']:\n",
    "        for filename in os.listdir(os.path.join(dataset_path, img_type, label)):\n",
    "            real_data.loc[len(real_data)] = [filename]\n",
    "\n",
    "real_data['id'] = real_data['file_name'].apply(lambda x: x.split('_')[2])\n",
    "real_data.reset_index(names='index', inplace=True)\n",
    "real_data"
   ]
  },
  {
   "cell_type": "markdown",
   "metadata": {},
   "source": [
    "#### Search a corrupt image"
   ]
  },
  {
   "cell_type": "code",
   "execution_count": 6,
   "metadata": {},
   "outputs": [
    {
     "name": "stdout",
     "output_type": "stream",
     "text": [
      "image not complete error : fff_0_122451_l_1.jpg\n"
     ]
    }
   ],
   "source": [
    "corrupt_files = []\n",
    "for index, row in metadata.iterrows():\n",
    "    try:\n",
    "        # check if the file is exist and is an image\n",
    "        with Image.open(os.path.join(path_full, row.new_path)) as img:\n",
    "            img.verify()\n",
    "        # check if the image is complete\n",
    "        with open(os.path.join(path_full, row.new_path), 'rb') as img:\n",
    "            if img.read()[-2:] != b'\\xff\\xd9':\n",
    "                print(f\"image not complete error : {row.file_name}\")\n",
    "                corrupt_files.append(row.file_name)\n",
    "    except Exception as e:\n",
    "        print(f\"Raised an exception: {e}\",\n",
    "                f\"file_name: {row.file_name}\",\n",
    "                sep=\"\\n\")\n",
    "        corrupt_files.append(row.file_name)"
   ]
  },
  {
   "cell_type": "markdown",
   "metadata": {},
   "source": [
    "### Comparing information from metadata and real image file"
   ]
  },
  {
   "cell_type": "code",
   "execution_count": 7,
   "metadata": {},
   "outputs": [
    {
     "data": {
      "text/html": [
       "<div>\n",
       "<style scoped>\n",
       "    .dataframe tbody tr th:only-of-type {\n",
       "        vertical-align: middle;\n",
       "    }\n",
       "\n",
       "    .dataframe tbody tr th {\n",
       "        vertical-align: top;\n",
       "    }\n",
       "\n",
       "    .dataframe thead th {\n",
       "        text-align: right;\n",
       "    }\n",
       "</style>\n",
       "<table border=\"1\" class=\"dataframe\">\n",
       "  <thead>\n",
       "    <tr style=\"text-align: right;\">\n",
       "      <th></th>\n",
       "      <th>id_x</th>\n",
       "      <th>file_name</th>\n",
       "      <th>index</th>\n",
       "      <th>id_y</th>\n",
       "    </tr>\n",
       "  </thead>\n",
       "  <tbody>\n",
       "    <tr>\n",
       "      <th>0</th>\n",
       "      <td>64992</td>\n",
       "      <td>fff_1_64992_r_n.jpg</td>\n",
       "      <td>141</td>\n",
       "      <td>64992</td>\n",
       "    </tr>\n",
       "    <tr>\n",
       "      <th>1</th>\n",
       "      <td>64992</td>\n",
       "      <td>fff_1_64992_l_n.jpg</td>\n",
       "      <td>140</td>\n",
       "      <td>64992</td>\n",
       "    </tr>\n",
       "    <tr>\n",
       "      <th>2</th>\n",
       "      <td>63298</td>\n",
       "      <td>fff_1_63298_r_1.jpg</td>\n",
       "      <td>137</td>\n",
       "      <td>63298</td>\n",
       "    </tr>\n",
       "    <tr>\n",
       "      <th>3</th>\n",
       "      <td>63298</td>\n",
       "      <td>fff_1_63298_r_3.jpg</td>\n",
       "      <td>139</td>\n",
       "      <td>63298</td>\n",
       "    </tr>\n",
       "    <tr>\n",
       "      <th>4</th>\n",
       "      <td>63298</td>\n",
       "      <td>fff_1_63298_r_2.jpg</td>\n",
       "      <td>138</td>\n",
       "      <td>63298</td>\n",
       "    </tr>\n",
       "    <tr>\n",
       "      <th>...</th>\n",
       "      <td>...</td>\n",
       "      <td>...</td>\n",
       "      <td>...</td>\n",
       "      <td>...</td>\n",
       "    </tr>\n",
       "    <tr>\n",
       "      <th>560</th>\n",
       "      <td>121355</td>\n",
       "      <td>oct_0_121355_l_).jpg</td>\n",
       "      <td>506</td>\n",
       "      <td>121355</td>\n",
       "    </tr>\n",
       "    <tr>\n",
       "      <th>561</th>\n",
       "      <td>121355</td>\n",
       "      <td>oct_0_121355_l_).jpg</td>\n",
       "      <td>506</td>\n",
       "      <td>121355</td>\n",
       "    </tr>\n",
       "    <tr>\n",
       "      <th>562</th>\n",
       "      <td>121856</td>\n",
       "      <td>oct_0_121856_u_y.jpg</td>\n",
       "      <td>532</td>\n",
       "      <td>121856</td>\n",
       "    </tr>\n",
       "    <tr>\n",
       "      <th>563</th>\n",
       "      <td>48763</td>\n",
       "      <td>oct_0_48763_r_d.jpg</td>\n",
       "      <td>545</td>\n",
       "      <td>48763</td>\n",
       "    </tr>\n",
       "    <tr>\n",
       "      <th>564</th>\n",
       "      <td>48763</td>\n",
       "      <td>oct_0_48763_l_s.jpg</td>\n",
       "      <td>544</td>\n",
       "      <td>48763</td>\n",
       "    </tr>\n",
       "  </tbody>\n",
       "</table>\n",
       "<p>565 rows × 4 columns</p>\n",
       "</div>"
      ],
      "text/plain": [
       "       id_x             file_name  index    id_y\n",
       "0     64992   fff_1_64992_r_n.jpg    141   64992\n",
       "1     64992   fff_1_64992_l_n.jpg    140   64992\n",
       "2     63298   fff_1_63298_r_1.jpg    137   63298\n",
       "3     63298   fff_1_63298_r_3.jpg    139   63298\n",
       "4     63298   fff_1_63298_r_2.jpg    138   63298\n",
       "..      ...                   ...    ...     ...\n",
       "560  121355  oct_0_121355_l_).jpg    506  121355\n",
       "561  121355  oct_0_121355_l_).jpg    506  121355\n",
       "562  121856  oct_0_121856_u_y.jpg    532  121856\n",
       "563   48763   oct_0_48763_r_d.jpg    545   48763\n",
       "564   48763   oct_0_48763_l_s.jpg    544   48763\n",
       "\n",
       "[565 rows x 4 columns]"
      ]
     },
     "execution_count": 7,
     "metadata": {},
     "output_type": "execute_result"
    }
   ],
   "source": [
    "validated_data = metadata.merge(real_data, on='file_name', how='left')\n",
    "validated_data.drop(columns=[\"new_path\"])"
   ]
  },
  {
   "cell_type": "markdown",
   "metadata": {},
   "source": [
    "### Identify the problem"
   ]
  },
  {
   "cell_type": "code",
   "execution_count": 8,
   "metadata": {},
   "outputs": [
    {
     "data": {
      "text/html": [
       "<div>\n",
       "<style scoped>\n",
       "    .dataframe tbody tr th:only-of-type {\n",
       "        vertical-align: middle;\n",
       "    }\n",
       "\n",
       "    .dataframe tbody tr th {\n",
       "        vertical-align: top;\n",
       "    }\n",
       "\n",
       "    .dataframe thead th {\n",
       "        text-align: right;\n",
       "    }\n",
       "</style>\n",
       "<table border=\"1\" class=\"dataframe\">\n",
       "  <thead>\n",
       "    <tr style=\"text-align: right;\">\n",
       "      <th></th>\n",
       "      <th>error_id</th>\n",
       "      <th>id</th>\n",
       "      <th>file_name</th>\n",
       "    </tr>\n",
       "  </thead>\n",
       "  <tbody>\n",
       "    <tr>\n",
       "      <th>0</th>\n",
       "      <td>28_fff_1</td>\n",
       "      <td>120793</td>\n",
       "      <td>fff_1_120793_r_).jpg</td>\n",
       "    </tr>\n",
       "    <tr>\n",
       "      <th>1</th>\n",
       "      <td>29_fff_1</td>\n",
       "      <td>120793</td>\n",
       "      <td>fff_1_120793_r_).jpg</td>\n",
       "    </tr>\n",
       "    <tr>\n",
       "      <th>2</th>\n",
       "      <td>30_fff_1</td>\n",
       "      <td>120793</td>\n",
       "      <td>fff_1_120793_r_).jpg</td>\n",
       "    </tr>\n",
       "    <tr>\n",
       "      <th>3</th>\n",
       "      <td>31_fff_1</td>\n",
       "      <td>120793</td>\n",
       "      <td>fff_1_120793_r_).jpg</td>\n",
       "    </tr>\n",
       "    <tr>\n",
       "      <th>4</th>\n",
       "      <td>33_fff_1</td>\n",
       "      <td>120793</td>\n",
       "      <td>fff_1_120793_l_).jpg</td>\n",
       "    </tr>\n",
       "    <tr>\n",
       "      <th>5</th>\n",
       "      <td>34_fff_1</td>\n",
       "      <td>120793</td>\n",
       "      <td>fff_1_120793_l_).jpg</td>\n",
       "    </tr>\n",
       "    <tr>\n",
       "      <th>6</th>\n",
       "      <td>561_oct_0</td>\n",
       "      <td>121355</td>\n",
       "      <td>oct_0_121355_l_).jpg</td>\n",
       "    </tr>\n",
       "  </tbody>\n",
       "</table>\n",
       "</div>"
      ],
      "text/plain": [
       "    error_id      id             file_name\n",
       "0   28_fff_1  120793  fff_1_120793_r_).jpg\n",
       "1   29_fff_1  120793  fff_1_120793_r_).jpg\n",
       "2   30_fff_1  120793  fff_1_120793_r_).jpg\n",
       "3   31_fff_1  120793  fff_1_120793_r_).jpg\n",
       "4   33_fff_1  120793  fff_1_120793_l_).jpg\n",
       "5   34_fff_1  120793  fff_1_120793_l_).jpg\n",
       "6  561_oct_0  121355  oct_0_121355_l_).jpg"
      ]
     },
     "execution_count": 8,
     "metadata": {},
     "output_type": "execute_result"
    }
   ],
   "source": [
    "miss_data = validated_data.loc[validated_data.duplicated()]\n",
    "miss_data.drop(columns=['index', 'id_y'], inplace=True)\n",
    "miss_data.rename(columns={'id_x': 'id', 'new_path':'path'}, inplace=True)\n",
    "miss_data.reset_index(names='error_id', inplace=True)\n",
    "miss_data['error_id'] = (miss_data['error_id'].astype('str') + '_'\n",
    "                        + miss_data['file_name'].apply(lambda x: x.split('_')[0]) + '_'\n",
    "                        + miss_data['file_name'].apply(lambda x: x.split('_')[1]))\n",
    "miss_data['path'] = miss_data['path'].apply(lambda x: os.path.join('./../../', x))\n",
    "miss_data.drop(columns=[\"path\"])"
   ]
  },
  {
   "cell_type": "markdown",
   "metadata": {},
   "source": [
    "**Found the reason why there are 7 image missing:**\n",
    "There are 7 duplicated data\n",
    "\n",
    "### Start Solving The Problem"
   ]
  },
  {
   "cell_type": "markdown",
   "metadata": {},
   "source": [
    "#### Solve 553_oct_0"
   ]
  },
  {
   "cell_type": "code",
   "execution_count": 9,
   "metadata": {},
   "outputs": [],
   "source": [
    "miss_553_oct_0 = src_metadata.loc[(src_metadata.id == 121355)\n",
    "                                    & (src_metadata.img_type == 'oct')]\n",
    "miss_553_oct_0 = list(miss_553_oct_0.path)\n",
    "miss_553_oct_0 = [os.path.join(path_full, value) for value in miss_553_oct_0]"
   ]
  },
  {
   "cell_type": "code",
   "execution_count": 10,
   "metadata": {},
   "outputs": [],
   "source": [
    "try:\n",
    "    os.rename(miss_553_oct_0[0], miss_553_oct_0[0].replace('OS (121356)', 'OD (121355)'))\n",
    "except FileNotFoundError:\n",
    "    print('File not found or already renamed')"
   ]
  },
  {
   "cell_type": "markdown",
   "metadata": {},
   "source": [
    "#### Solve 28_fff_1, 29_fff_1, 30_fff_1, 31_fff_1, 33_fff_1, 34_fff_1"
   ]
  },
  {
   "cell_type": "code",
   "execution_count": 11,
   "metadata": {},
   "outputs": [],
   "source": [
    "miss_rest = {'src':list(src_metadata.loc[(src_metadata.id == 120793) & (src_metadata.img_type == 'fundus'), 'path'])}\n",
    "\n",
    "miss_rest['new'] = [x.replace('3 (', '3 ') for x in miss_rest['src']]\n",
    "miss_rest['new'] = [x.replace('3    (', '3    ') for x in miss_rest['new']]\n",
    "miss_rest['new'] = [x.replace(').', '.') for x in miss_rest['new']]\n",
    "miss_rest['new'] = [os.path.join(path_full, x) for x in miss_rest['new']]\n",
    "miss_rest['src'] = [os.path.join(path_full, x) for x in miss_rest['src']]"
   ]
  },
  {
   "cell_type": "code",
   "execution_count": 12,
   "metadata": {},
   "outputs": [],
   "source": [
    "for srcfile, newfile in zip(miss_rest['src'], miss_rest['new']):\n",
    "    try:\n",
    "        os.rename(srcfile, newfile)\n",
    "    except FileNotFoundError:\n",
    "        print(f'{srcfile} not found or already renamed')"
   ]
  },
  {
   "cell_type": "markdown",
   "metadata": {},
   "source": [
    "### Rerun The Scripts\n",
    "* a. create_metadata.py\n",
    "* c. refactor_dataset.py"
   ]
  },
  {
   "cell_type": "code",
   "execution_count": 13,
   "metadata": {},
   "outputs": [
    {
     "data": {
      "text/plain": [
       "CompletedProcess(args=['python', 'b. create_metadata.py'], returncode=0, stdout=b'completed create metadata.\\r\\n', stderr=b'Corrupt JPEG data: premature end of data segment\\r\\n')"
      ]
     },
     "execution_count": 13,
     "metadata": {},
     "output_type": "execute_result"
    }
   ],
   "source": [
    "sp.run([\"python\", \"b. create_metadata.py\"], shell=True, capture_output=True)"
   ]
  },
  {
   "cell_type": "code",
   "execution_count": 14,
   "metadata": {},
   "outputs": [
    {
     "data": {
      "text/plain": [
       "CompletedProcess(args=['python', 'c. refactor_dataset.py'], returncode=0, stdout=b'completed refactoring dataset.\\r\\n', stderr=b'')"
      ]
     },
     "execution_count": 14,
     "metadata": {},
     "output_type": "execute_result"
    }
   ],
   "source": [
    "sp.run([\"python\", \"c. refactor_dataset.py\"], shell=True, capture_output=True)"
   ]
  },
  {
   "cell_type": "markdown",
   "metadata": {},
   "source": [
    "#### Solve the corrupt image"
   ]
  },
  {
   "cell_type": "code",
   "execution_count": 15,
   "metadata": {},
   "outputs": [
    {
     "name": "stdout",
     "output_type": "stream",
     "text": [
      "Deleted fff_0_122451_l_1.jpg\n"
     ]
    }
   ],
   "source": [
    "corrupt_file = corrupt_files[0].split(\".\")[0]\n",
    "for dir_img_type in os.listdir(dataset_path):\n",
    "    for dir_label in os.listdir(os.path.join(dataset_path, dir_img_type)):\n",
    "        for file in os.listdir(os.path.join(dataset_path, dir_img_type, dir_label)):\n",
    "            if file.split(\".\")[0] == corrupt_file or file.split('.')[0] == f\"{corrupt_file}_mask\":\n",
    "                try:\n",
    "                    os.remove(os.path.join(dataset_path, dir_img_type, dir_label, file))\n",
    "                    print(f\"Deleted {file}\")\n",
    "                except Exception as e:\n",
    "                    print(f\"Error: {e}\")"
   ]
  },
  {
   "cell_type": "code",
   "execution_count": null,
   "metadata": {},
   "outputs": [],
   "source": []
  },
  {
   "cell_type": "code",
   "execution_count": null,
   "metadata": {},
   "outputs": [],
   "source": []
  },
  {
   "cell_type": "code",
   "execution_count": null,
   "metadata": {},
   "outputs": [],
   "source": []
  },
  {
   "cell_type": "code",
   "execution_count": null,
   "metadata": {},
   "outputs": [],
   "source": []
  },
  {
   "cell_type": "code",
   "execution_count": null,
   "metadata": {},
   "outputs": [],
   "source": []
  }
 ],
 "metadata": {
  "kernelspec": {
   "display_name": "tf-gpu",
   "language": "python",
   "name": "python3"
  },
  "language_info": {
   "codemirror_mode": {
    "name": "ipython",
    "version": 3
   },
   "file_extension": ".py",
   "mimetype": "text/x-python",
   "name": "python",
   "nbconvert_exporter": "python",
   "pygments_lexer": "ipython3",
   "version": "3.9.20"
  }
 },
 "nbformat": 4,
 "nbformat_minor": 2
}
