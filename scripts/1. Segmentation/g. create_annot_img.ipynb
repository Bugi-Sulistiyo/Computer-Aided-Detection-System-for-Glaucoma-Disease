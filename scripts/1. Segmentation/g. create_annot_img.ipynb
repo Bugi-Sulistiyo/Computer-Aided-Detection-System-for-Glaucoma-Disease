{
 "cells": [
  {
   "cell_type": "markdown",
   "metadata": {},
   "source": [
    "### Import the used package"
   ]
  },
  {
   "cell_type": "code",
   "execution_count": 77,
   "metadata": {},
   "outputs": [],
   "source": [
    "# package for handling files and directories\n",
    "import os\n",
    "# package for handling json files\n",
    "import json\n",
    "# package for handling images\n",
    "import matplotlib.pyplot as plt\n",
    "from matplotlib.patches import Polygon"
   ]
  },
  {
   "cell_type": "markdown",
   "metadata": {},
   "source": [
    "### Global Variable"
   ]
  },
  {
   "cell_type": "code",
   "execution_count": 78,
   "metadata": {},
   "outputs": [],
   "source": [
    "# main path to the dataset\n",
    "path_dataset = './../../dataset_processed'\n",
    "# path to the annotations\n",
    "path_annotations_glaucoma = os.path.join(path_dataset, 'annotations', 'glaucoma', 'annotations.json')\n",
    "path_annotations_non_glaucoma = os.path.join(path_dataset, 'annotations', 'non_glaucoma', 'annotations.json')\n",
    "# path to the images\n",
    "path_images_glaucoma = os.path.join(path_dataset, 'fundus_image', 'glaucoma')\n",
    "path_images_non_glaucoma = os.path.join(path_dataset, 'fundus_image', 'non_glaucoma')"
   ]
  },
  {
   "cell_type": "markdown",
   "metadata": {},
   "source": [
    "### Import the metadata"
   ]
  },
  {
   "cell_type": "code",
   "execution_count": 79,
   "metadata": {},
   "outputs": [],
   "source": [
    "annot_glaucoma = json.load(open(path_annotations_glaucoma))\n",
    "annot_non_glaucoma = json.load(open(path_annotations_non_glaucoma))"
   ]
  },
  {
   "cell_type": "markdown",
   "metadata": {},
   "source": [
    "### Prepare the used directory"
   ]
  },
  {
   "cell_type": "code",
   "execution_count": 80,
   "metadata": {},
   "outputs": [],
   "source": [
    "for classes in ['glaucoma', 'non_glaucoma']:\n",
    "    os.makedirs(os.path.join(path_dataset, 'annotated_image', classes), exist_ok=True)"
   ]
  },
  {
   "cell_type": "markdown",
   "metadata": {},
   "source": [
    "### Create the image that shown the annotation"
   ]
  },
  {
   "cell_type": "code",
   "execution_count": 89,
   "metadata": {},
   "outputs": [],
   "source": [
    "def save_annotated_image(annotation_data, path_img, classes):\n",
    "    \"\"\"save annotated image using information of the annotation data in form of json file\n",
    "\n",
    "    Args:\n",
    "        annotation_data (list): the annotation data in form of json file\n",
    "        path_img (str): the path to directory where image is stored\n",
    "        classes (str): the class of the image\n",
    "    \"\"\"\n",
    "    for annot in annotation_data:\n",
    "        # check if the annotated image is exist\n",
    "        file_name = annot['metadata']['img_name']\n",
    "        image_path = os.path.join(path_dataset, 'annotated_image', classes, f'{file_name.split(\".\")[0]}.png')\n",
    "        if os.path.exists(image_path) or file_name == \"fff_0_122451_l_1.jpg\":\n",
    "            continue\n",
    "        # read the image\n",
    "        image = plt.imread(os.path.join(path_img, file_name))\n",
    "        # make sure the image is show on the plot that will be saved\n",
    "        plt.imshow(image)\n",
    "        # create the annotation on the image\n",
    "        for index, label in enumerate(annot['annotation']):\n",
    "            # color for the annotation\n",
    "            color = {0: '#00DB3B', 1: '#0028DB'}\n",
    "            # get the points of the annotation\n",
    "            points = [list(map(float, item.split(','))) for item in label['points'].split(';')]\n",
    "            # draw the annotation\n",
    "            poly = Polygon(points, edgecolor=color[index], facecolor='none', label=label['label'], linewidth=.5)\n",
    "            # add the annotation to the plot\n",
    "            plt.gca().add_patch(poly)\n",
    "        # save the image\n",
    "        plt.legend(loc='best')\n",
    "        plt.savefig(os.path.join(path_dataset, 'annotated_image', classes, f'{file_name.split(\".\")[0]}.png'),\n",
    "                    bbox_inches='tight', dpi=300)\n",
    "        plt.close()"
   ]
  },
  {
   "cell_type": "markdown",
   "metadata": {},
   "source": [
    "### Save the annotated image"
   ]
  },
  {
   "cell_type": "code",
   "execution_count": 90,
   "metadata": {},
   "outputs": [],
   "source": [
    "for classes, annot, path_img in zip(['glaucoma', 'non_glaucoma'],\n",
    "                                    [annot_glaucoma, annot_non_glaucoma],\n",
    "                                    [path_images_glaucoma, path_images_non_glaucoma]):\n",
    "    save_annotated_image(annot, path_img, classes)"
   ]
  }
 ],
 "metadata": {
  "kernelspec": {
   "display_name": "research_prof_anin",
   "language": "python",
   "name": "python3"
  },
  "language_info": {
   "codemirror_mode": {
    "name": "ipython",
    "version": 3
   },
   "file_extension": ".py",
   "mimetype": "text/x-python",
   "name": "python",
   "nbconvert_exporter": "python",
   "pygments_lexer": "ipython3",
   "version": "3.10.11"
  }
 },
 "nbformat": 4,
 "nbformat_minor": 2
}
