{
 "cells": [
  {
   "cell_type": "markdown",
   "metadata": {},
   "source": [
    "### Import the needed packages"
   ]
  },
  {
   "cell_type": "code",
   "execution_count": 1,
   "metadata": {},
   "outputs": [],
   "source": [
    "# packages for handling file\n",
    "import os\n",
    "import shutil\n",
    "# packages for handling data\n",
    "import pandas as pd"
   ]
  },
  {
   "cell_type": "markdown",
   "metadata": {},
   "source": [
    "### Global variable"
   ]
  },
  {
   "cell_type": "code",
   "execution_count": 2,
   "metadata": {},
   "outputs": [],
   "source": [
    "path_metadata = 'data/metadata.csv'\n",
    "metadata = pd.read_csv(os.path.join('./../', path_metadata))"
   ]
  },
  {
   "cell_type": "markdown",
   "metadata": {},
   "source": [
    "### Validate the id as a unique key"
   ]
  },
  {
   "cell_type": "code",
   "execution_count": 3,
   "metadata": {},
   "outputs": [
    {
     "name": "stdout",
     "output_type": "stream",
     "text": [
      "name unique: 91\n",
      "id unique: 91\n"
     ]
    }
   ],
   "source": [
    "# check id uniqueness\n",
    "print(f'name unique: {metadata[\"patient\"].nunique()}',\n",
    "        f'id unique: {metadata[\"id\"].nunique()}',\n",
    "        sep='\\n')"
   ]
  },
  {
   "cell_type": "markdown",
   "metadata": {},
   "source": [
    "### Split the fundus image and oct image using raw metadata"
   ]
  },
  {
   "cell_type": "code",
   "execution_count": 4,
   "metadata": {},
   "outputs": [],
   "source": [
    "# devide the data into fundus and oct images\n",
    "fundus_images = metadata.loc[metadata.img_type == 'fundus', ['id', 'label', 'eye_side', 'path']]\n",
    "oct_images = metadata.loc[metadata.img_type == 'oct', ['id', 'label', 'eye_side', 'path']]\n",
    "labels = list(metadata.label.unique())"
   ]
  },
  {
   "cell_type": "code",
   "execution_count": 5,
   "metadata": {},
   "outputs": [],
   "source": [
    "# create directories for the restructured dataset\n",
    "if not os.path.exists(\"./../dataset_processed/\"):\n",
    "    for label in labels:\n",
    "        os.makedirs(f\"./../dataset_processed/fundus_image/{label}\")\n",
    "        os.makedirs(f\"./../dataset_processed/oct_image/{label}\")"
   ]
  },
  {
   "cell_type": "code",
   "execution_count": 6,
   "metadata": {},
   "outputs": [],
   "source": [
    "# temporary dataframe for storing the new file name rules\n",
    "new_file_name = pd.DataFrame(columns=['id', 'file_name', 'new_path'])"
   ]
  },
  {
   "cell_type": "code",
   "execution_count": 7,
   "metadata": {},
   "outputs": [],
   "source": [
    "# restructuring the dataset\n",
    "for label in labels:\n",
    "    # get the data for each label\n",
    "    fundus_images_label = fundus_images.loc[fundus_images.label == label]\n",
    "    oct_images_label = oct_images.loc[oct_images.label == label]\n",
    "    \n",
    "    # mapping the value\n",
    "    if label == labels[0]: # glaucoma == 1\n",
    "        label_int = 1\n",
    "    elif label == labels[1]: # non_glaucoma == 0\n",
    "        label_int = 0\n",
    "\n",
    "    # copy the files to the new directories\n",
    "    ## handle the fundus images\n",
    "    for _, row in fundus_images_label.iterrows():\n",
    "        file_name = f\"fff_{label_int}_{row.id}_{row.eye_side}_{row.path[-5].lower()}.jpg\"\n",
    "        new_path = os.path.join(\"./../dataset_used/fundus_image/\",\n",
    "                                label, file_name)\n",
    "        try:\n",
    "            shutil.copy(os.path.join(\"./../\", row.path),\n",
    "                        new_path)\n",
    "            new_file_name.loc[len(new_file_name)] = [row.id, file_name, new_path]\n",
    "        except FileExistsError:\n",
    "            print(f\"File {file_name} already exists\")\n",
    "\n",
    "    ## handle the oct images\n",
    "    for _, row in oct_images_label.iterrows():\n",
    "        file_name = f\"oct_{label_int}_{row.id}_{row.eye_side}_{row.path[-5].lower()}.jpg\"\n",
    "        new_path = os.path.join(\"./../dataset_used/oct_image/\",\n",
    "                                label, file_name)\n",
    "        try:\n",
    "            shutil.copy(os.path.join(\"./../\", row.path),\n",
    "                        new_path)\n",
    "            new_file_name.loc[len(new_file_name)] = [row.id, file_name, new_path]\n",
    "        except FileExistsError:\n",
    "            print(f\"File {file_name} already exists\")"
   ]
  },
  {
   "cell_type": "code",
   "execution_count": 8,
   "metadata": {},
   "outputs": [],
   "source": [
    "new_file_name.to_csv(\"./../data/resructured_metadata.csv\", index=False)"
   ]
  }
 ],
 "metadata": {
  "kernelspec": {
   "display_name": "research_prof_anin",
   "language": "python",
   "name": "python3"
  },
  "language_info": {
   "codemirror_mode": {
    "name": "ipython",
    "version": 3
   },
   "file_extension": ".py",
   "mimetype": "text/x-python",
   "name": "python",
   "nbconvert_exporter": "python",
   "pygments_lexer": "ipython3",
   "version": "3.10.11"
  }
 },
 "nbformat": 4,
 "nbformat_minor": 2
}
