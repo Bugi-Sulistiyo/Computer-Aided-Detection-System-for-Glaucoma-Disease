{
 "cells": [
  {
   "cell_type": "code",
   "execution_count": 36,
   "metadata": {},
   "outputs": [],
   "source": [
    "import os\n",
    "import re\n",
    "import pandas as pd"
   ]
  },
  {
   "cell_type": "code",
   "execution_count": 28,
   "metadata": {},
   "outputs": [],
   "source": [
    "metadata = pd.DataFrame(columns=[\"label\", \"patient\", \"id\", \"gender\",\n",
    "                                \"img_type\", \"eye_side\", \"path\"])\n",
    "labels = [\"glaucoma\", \"non_glaucoma\"]"
   ]
  },
  {
   "cell_type": "code",
   "execution_count": 29,
   "metadata": {},
   "outputs": [
    {
     "data": {
      "text/html": [
       "<div>\n",
       "<style scoped>\n",
       "    .dataframe tbody tr th:only-of-type {\n",
       "        vertical-align: middle;\n",
       "    }\n",
       "\n",
       "    .dataframe tbody tr th {\n",
       "        vertical-align: top;\n",
       "    }\n",
       "\n",
       "    .dataframe thead th {\n",
       "        text-align: right;\n",
       "    }\n",
       "</style>\n",
       "<table border=\"1\" class=\"dataframe\">\n",
       "  <thead>\n",
       "    <tr style=\"text-align: right;\">\n",
       "      <th></th>\n",
       "      <th>label</th>\n",
       "      <th>patient</th>\n",
       "      <th>id</th>\n",
       "      <th>gender</th>\n",
       "      <th>img_type</th>\n",
       "      <th>eye_side</th>\n",
       "      <th>path</th>\n",
       "    </tr>\n",
       "  </thead>\n",
       "  <tbody>\n",
       "  </tbody>\n",
       "</table>\n",
       "</div>"
      ],
      "text/plain": [
       "Empty DataFrame\n",
       "Columns: [label, patient, id, gender, img_type, eye_side, path]\n",
       "Index: []"
      ]
     },
     "execution_count": 29,
     "metadata": {},
     "output_type": "execute_result"
    }
   ],
   "source": [
    "metadata"
   ]
  },
  {
   "cell_type": "code",
   "execution_count": 54,
   "metadata": {},
   "outputs": [],
   "source": [
    "data_path = \"./../data/\"\n",
    "for index, label in enumerate(os.listdir(data_path)):\n",
    "    path_label = os.path.join(data_path, label)\n",
    "\n",
    "    # rename label folder\n",
    "    os.rename(path_label,\n",
    "            os.path.join(data_path, labels[index]))\n",
    "    \n",
    "    for patient in os.listdir(os.path.join(data_path, labels[index])):\n",
    "        path_patient = os.path.join(data_path, labels[index], patient)\n",
    "\n",
    "        patient_clean = patient.replace(\"(\", \"\").replace(\")\", \"\")\n",
    "        # get patient id\n",
    "        id = re.findall(r'\\d+', patient_clean)[0]\n",
    "        # get patient gender\n",
    "        if (re.search(\"nn\", patient_clean.lower()) != None) or (re.search(\"ny\", patient_clean.lower()) != None):\n",
    "            gender = \"woman\"\n",
    "        elif re.search(\"tn\", patient_clean.lower()) != None:\n",
    "            gender = \"man\"\n",
    "        else:\n",
    "            gender = \"unknown\"\n",
    "        \n",
    "        for file_name in os.listdir(path_patient):\n",
    "            final_path = os.path.join(path_patient, file_name)\n",
    "            # print(final_path)\n",
    "            # get patient eye side\n",
    "            break"
   ]
  }
 ],
 "metadata": {
  "kernelspec": {
   "display_name": "research_prof_anin",
   "language": "python",
   "name": "python3"
  },
  "language_info": {
   "codemirror_mode": {
    "name": "ipython",
    "version": 3
   },
   "file_extension": ".py",
   "mimetype": "text/x-python",
   "name": "python",
   "nbconvert_exporter": "python",
   "pygments_lexer": "ipython3",
   "version": "3.10.11"
  }
 },
 "nbformat": 4,
 "nbformat_minor": 2
}
