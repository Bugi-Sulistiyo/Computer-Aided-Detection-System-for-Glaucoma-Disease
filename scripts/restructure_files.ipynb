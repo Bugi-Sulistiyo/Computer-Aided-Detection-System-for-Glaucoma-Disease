{
 "cells": [
  {
   "cell_type": "code",
   "execution_count": 75,
   "metadata": {},
   "outputs": [],
   "source": [
    "import os\n",
    "import shutil\n",
    "\n",
    "import pandas as pd"
   ]
  },
  {
   "cell_type": "code",
   "execution_count": 76,
   "metadata": {},
   "outputs": [],
   "source": [
    "path_metadata = 'data/metadata.csv'\n",
    "metadata = pd.read_csv(os.path.join('./../', path_metadata))"
   ]
  },
  {
   "cell_type": "code",
   "execution_count": 77,
   "metadata": {},
   "outputs": [
    {
     "name": "stdout",
     "output_type": "stream",
     "text": [
      "name unique: 91\n",
      "id unique: 91\n"
     ]
    }
   ],
   "source": [
    "# check id uniqueness\n",
    "print(f'name unique: {metadata[\"patient\"].nunique()}',\n",
    "        f'id unique: {metadata[\"id\"].nunique()}',\n",
    "        sep='\\n')"
   ]
  },
  {
   "cell_type": "code",
   "execution_count": 78,
   "metadata": {},
   "outputs": [],
   "source": [
    "# devide the data into fundus and oct images\n",
    "fundus_images = metadata.loc[metadata.img_type == 'fundus', ['id', 'label', 'eye_side', 'path']]\n",
    "oct_images = metadata.loc[metadata.img_type == 'oct', ['id', 'label', 'eye_side', 'path']]\n",
    "labels = list(metadata.label.unique())"
   ]
  },
  {
   "cell_type": "code",
   "execution_count": 79,
   "metadata": {},
   "outputs": [],
   "source": [
    "# create directories for the restructured dataset\n",
    "if not os.path.exists(\"./../dataset_used/\"):\n",
    "    for label in labels:\n",
    "        os.makedirs(f\"./../dataset_used/fundus_image/{label}\")\n",
    "        os.makedirs(f\"./../dataset_used/oct_image/{label}\")"
   ]
  },
  {
   "cell_type": "code",
   "execution_count": 80,
   "metadata": {},
   "outputs": [],
   "source": [
    "# temporary dataframe for storing the new file names\n",
    "new_file_name = pd.DataFrame(columns=['id', 'file_name', 'new_path'])"
   ]
  },
  {
   "cell_type": "code",
   "execution_count": 81,
   "metadata": {},
   "outputs": [],
   "source": [
    "# restructuring the dataset\n",
    "for label in labels:\n",
    "    # get the data for each label\n",
    "    fundus_images_label = fundus_images.loc[fundus_images.label == label]\n",
    "    oct_images_label = oct_images.loc[oct_images.label == label]\n",
    "    \n",
    "    # mapping the value\n",
    "    if label == labels[0]: # glaucoma == 1\n",
    "        label_int = 1\n",
    "    elif label == labels[1]: # non_glaucoma == 0\n",
    "        label_int = 0\n",
    "\n",
    "    # copy the files to the new directories\n",
    "    for _, row in fundus_images_label.iterrows():\n",
    "        file_name = f\"fff_{label_int}_{row.id}_{row.eye_side}_{row.path[-5].lower()}.jpg\"\n",
    "        new_path = os.path.join(\"./../dataset_used/fundus_image/\",\n",
    "                                label, file_name)\n",
    "        try:\n",
    "            shutil.copy(os.path.join(\"./../\", row.path),\n",
    "                        new_path)\n",
    "            new_file_name.loc[len(new_file_name)] = [row.id, file_name, new_path]\n",
    "        except FileExistsError:\n",
    "            print(f\"File {file_name} already exists\")\n",
    "\n",
    "    for _, row in oct_images_label.iterrows():\n",
    "        file_name = f\"oct_{label_int}_{row.id}_{row.eye_side}_{row.path[-5].lower()}.jpg\"\n",
    "        new_path = os.path.join(\"./../dataset_used/oct_image/\",\n",
    "                                label, file_name)\n",
    "        try:\n",
    "            shutil.copy(os.path.join(\"./../\", row.path),\n",
    "                        new_path)\n",
    "            new_file_name.loc[len(new_file_name)] = [row.id, file_name, new_path]\n",
    "        except FileExistsError:\n",
    "            print(f\"File {file_name} already exists\")"
   ]
  },
  {
   "cell_type": "code",
   "execution_count": 83,
   "metadata": {},
   "outputs": [],
   "source": [
    "new_file_name.to_csv(\"./../data/resructured_metadata.csv\", index=False)"
   ]
  }
 ],
 "metadata": {
  "kernelspec": {
   "display_name": "research_prof_anin",
   "language": "python",
   "name": "python3"
  },
  "language_info": {
   "codemirror_mode": {
    "name": "ipython",
    "version": 3
   },
   "file_extension": ".py",
   "mimetype": "text/x-python",
   "name": "python",
   "nbconvert_exporter": "python",
   "pygments_lexer": "ipython3",
   "version": "3.10.11"
  }
 },
 "nbformat": 4,
 "nbformat_minor": 2
}
